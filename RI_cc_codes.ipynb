{
 "cells": [
  {
   "cell_type": "markdown",
   "metadata": {},
   "source": [
    "### Loading json data"
   ]
  },
  {
   "cell_type": "code",
   "execution_count": 1,
   "metadata": {
    "collapsed": false
   },
   "outputs": [
    {
     "data": {
      "text/html": [
       "\n",
       "    <div class=\"bk-root\">\n",
       "        <a href=\"http://bokeh.pydata.org\" target=\"_blank\" class=\"bk-logo bk-logo-small bk-logo-notebook\"></a>\n",
       "        <span id=\"3d985ac8-0ab6-4751-beb3-abc43558a5af\">Loading BokehJS ...</span>\n",
       "    </div>"
      ]
     },
     "metadata": {},
     "output_type": "display_data"
    },
    {
     "data": {
      "application/javascript": [
       "\n",
       "(function(global) {\n",
       "  function now() {\n",
       "    return new Date();\n",
       "  }\n",
       "\n",
       "  var force = true;\n",
       "\n",
       "  if (typeof (window._bokeh_onload_callbacks) === \"undefined\" || force === true) {\n",
       "    window._bokeh_onload_callbacks = [];\n",
       "    window._bokeh_is_loading = undefined;\n",
       "  }\n",
       "\n",
       "\n",
       "  \n",
       "  if (typeof (window._bokeh_timeout) === \"undefined\" || force === true) {\n",
       "    window._bokeh_timeout = Date.now() + 5000;\n",
       "    window._bokeh_failed_load = false;\n",
       "  }\n",
       "\n",
       "  var NB_LOAD_WARNING = {'data': {'text/html':\n",
       "     \"<div style='background-color: #fdd'>\\n\"+\n",
       "     \"<p>\\n\"+\n",
       "     \"BokehJS does not appear to have successfully loaded. If loading BokehJS from CDN, this \\n\"+\n",
       "     \"may be due to a slow or bad network connection. Possible fixes:\\n\"+\n",
       "     \"</p>\\n\"+\n",
       "     \"<ul>\\n\"+\n",
       "     \"<li>re-rerun `output_notebook()` to attempt to load from CDN again, or</li>\\n\"+\n",
       "     \"<li>use INLINE resources instead, as so:</li>\\n\"+\n",
       "     \"</ul>\\n\"+\n",
       "     \"<code>\\n\"+\n",
       "     \"from bokeh.resources import INLINE\\n\"+\n",
       "     \"output_notebook(resources=INLINE)\\n\"+\n",
       "     \"</code>\\n\"+\n",
       "     \"</div>\"}};\n",
       "\n",
       "  function display_loaded() {\n",
       "    if (window.Bokeh !== undefined) {\n",
       "      document.getElementById(\"3d985ac8-0ab6-4751-beb3-abc43558a5af\").textContent = \"BokehJS successfully loaded.\";\n",
       "    } else if (Date.now() < window._bokeh_timeout) {\n",
       "      setTimeout(display_loaded, 100)\n",
       "    }\n",
       "  }\n",
       "\n",
       "  function run_callbacks() {\n",
       "    window._bokeh_onload_callbacks.forEach(function(callback) { callback() });\n",
       "    delete window._bokeh_onload_callbacks\n",
       "    console.info(\"Bokeh: all callbacks have finished\");\n",
       "  }\n",
       "\n",
       "  function load_libs(js_urls, callback) {\n",
       "    window._bokeh_onload_callbacks.push(callback);\n",
       "    if (window._bokeh_is_loading > 0) {\n",
       "      console.log(\"Bokeh: BokehJS is being loaded, scheduling callback at\", now());\n",
       "      return null;\n",
       "    }\n",
       "    if (js_urls == null || js_urls.length === 0) {\n",
       "      run_callbacks();\n",
       "      return null;\n",
       "    }\n",
       "    console.log(\"Bokeh: BokehJS not loaded, scheduling load and callback at\", now());\n",
       "    window._bokeh_is_loading = js_urls.length;\n",
       "    for (var i = 0; i < js_urls.length; i++) {\n",
       "      var url = js_urls[i];\n",
       "      var s = document.createElement('script');\n",
       "      s.src = url;\n",
       "      s.async = false;\n",
       "      s.onreadystatechange = s.onload = function() {\n",
       "        window._bokeh_is_loading--;\n",
       "        if (window._bokeh_is_loading === 0) {\n",
       "          console.log(\"Bokeh: all BokehJS libraries loaded\");\n",
       "          run_callbacks()\n",
       "        }\n",
       "      };\n",
       "      s.onerror = function() {\n",
       "        console.warn(\"failed to load library \" + url);\n",
       "      };\n",
       "      console.log(\"Bokeh: injecting script tag for BokehJS library: \", url);\n",
       "      document.getElementsByTagName(\"head\")[0].appendChild(s);\n",
       "    }\n",
       "  };var element = document.getElementById(\"3d985ac8-0ab6-4751-beb3-abc43558a5af\");\n",
       "  if (element == null) {\n",
       "    console.log(\"Bokeh: ERROR: autoload.js configured with elementid '3d985ac8-0ab6-4751-beb3-abc43558a5af' but no matching script tag was found. \")\n",
       "    return false;\n",
       "  }\n",
       "\n",
       "  var js_urls = [\"https://cdn.pydata.org/bokeh/release/bokeh-0.12.4.min.js\", \"https://cdn.pydata.org/bokeh/release/bokeh-widgets-0.12.4.min.js\"];\n",
       "\n",
       "  var inline_js = [\n",
       "    function(Bokeh) {\n",
       "      Bokeh.set_log_level(\"info\");\n",
       "    },\n",
       "    \n",
       "    function(Bokeh) {\n",
       "      \n",
       "      document.getElementById(\"3d985ac8-0ab6-4751-beb3-abc43558a5af\").textContent = \"BokehJS is loading...\";\n",
       "    },\n",
       "    function(Bokeh) {\n",
       "      console.log(\"Bokeh: injecting CSS: https://cdn.pydata.org/bokeh/release/bokeh-0.12.4.min.css\");\n",
       "      Bokeh.embed.inject_css(\"https://cdn.pydata.org/bokeh/release/bokeh-0.12.4.min.css\");\n",
       "      console.log(\"Bokeh: injecting CSS: https://cdn.pydata.org/bokeh/release/bokeh-widgets-0.12.4.min.css\");\n",
       "      Bokeh.embed.inject_css(\"https://cdn.pydata.org/bokeh/release/bokeh-widgets-0.12.4.min.css\");\n",
       "    }\n",
       "  ];\n",
       "\n",
       "  function run_inline_js() {\n",
       "    \n",
       "    if ((window.Bokeh !== undefined) || (force === true)) {\n",
       "      for (var i = 0; i < inline_js.length; i++) {\n",
       "        inline_js[i](window.Bokeh);\n",
       "      }if (force === true) {\n",
       "        display_loaded();\n",
       "      }} else if (Date.now() < window._bokeh_timeout) {\n",
       "      setTimeout(run_inline_js, 100);\n",
       "    } else if (!window._bokeh_failed_load) {\n",
       "      console.log(\"Bokeh: BokehJS failed to load within specified timeout.\");\n",
       "      window._bokeh_failed_load = true;\n",
       "    } else if (force !== true) {\n",
       "      var cell = $(document.getElementById(\"3d985ac8-0ab6-4751-beb3-abc43558a5af\")).parents('.cell').data().cell;\n",
       "      cell.output_area.append_execute_result(NB_LOAD_WARNING)\n",
       "    }\n",
       "\n",
       "  }\n",
       "\n",
       "  if (window._bokeh_is_loading === 0) {\n",
       "    console.log(\"Bokeh: BokehJS loaded, going straight to plotting\");\n",
       "    run_inline_js();\n",
       "  } else {\n",
       "    load_libs(js_urls, function() {\n",
       "      console.log(\"Bokeh: BokehJS plotting callback run at\", now());\n",
       "      run_inline_js();\n",
       "    });\n",
       "  }\n",
       "}(this));"
      ]
     },
     "metadata": {},
     "output_type": "display_data"
    }
   ],
   "source": [
    "from bokeh.io import push_notebook, output_notebook, output_file, show\n",
    "from bokeh.charts import Bar, output_file, show\n",
    "from bokeh.charts.attributes import CatAttr\n",
    "from bokeh.plotting import figure\n",
    "output_notebook()"
   ]
  },
  {
   "cell_type": "code",
   "execution_count": 2,
   "metadata": {
    "collapsed": false
   },
   "outputs": [],
   "source": [
    "import pandas as pd\n",
    "import json\n",
    "with open('data_analysis.json') as f:\n",
    "    data = json.load(f) "
   ]
  },
  {
   "cell_type": "code",
   "execution_count": 3,
   "metadata": {
    "collapsed": false
   },
   "outputs": [
    {
     "name": "stdout",
     "output_type": "stream",
     "text": [
      "city TOWSON <type 'unicode'>\n",
      "name Modern Prestige Real Estate <type 'unicode'>\n",
      "zip 21204 <type 'unicode'>\n",
      "revenue $2.5 to 5 Million <type 'unicode'>\n",
      "category_code 44400000 <type 'unicode'>\n",
      "phone None <type 'NoneType'>\n",
      "state MD <type 'unicode'>\n",
      "address 7601 YORK RD <type 'unicode'>\n",
      "headcount 20 to 49 <type 'unicode'>\n",
      "time_in_business 10+ years <type 'unicode'>\n"
     ]
    }
   ],
   "source": [
    "for k, v in data[100].items():\n",
    "    print k, v, type(v)"
   ]
  },
  {
   "cell_type": "code",
   "execution_count": 5,
   "metadata": {
    "collapsed": true
   },
   "outputs": [],
   "source": [
    "size = len(data)"
   ]
  },
  {
   "cell_type": "code",
   "execution_count": 6,
   "metadata": {
    "collapsed": false
   },
   "outputs": [
    {
     "name": "stdout",
     "output_type": "stream",
     "text": [
      "10 [u'city', u'name', u'zip', u'revenue', u'category_code', u'phone', u'state', u'address', u'headcount', u'time_in_business']\n"
     ]
    }
   ],
   "source": [
    "fields = data[0].keys()\n",
    "print len(fields), fields"
   ]
  },
  {
   "cell_type": "markdown",
   "metadata": {},
   "source": [
    "## I. Fill rate"
   ]
  },
  {
   "cell_type": "code",
   "execution_count": 7,
   "metadata": {
    "collapsed": false
   },
   "outputs": [],
   "source": [
    "from collections import Counter"
   ]
  },
  {
   "cell_type": "code",
   "execution_count": 8,
   "metadata": {
    "collapsed": false
   },
   "outputs": [],
   "source": [
    "def fill_rate(field):\n",
    "    no_str_vals = []\n",
    "    for row in data:\n",
    "        if type(row[field]) != unicode:\n",
    "            no_str_vals.append(row[field])\n",
    "    return no_str_vals"
   ]
  },
  {
   "cell_type": "code",
   "execution_count": 9,
   "metadata": {
    "collapsed": false
   },
   "outputs": [
    {
     "name": "stdout",
     "output_type": "stream",
     "text": [
      "city Counter({0: 17, None: 14})\n",
      "name Counter({None: 14, 0: 11})\n",
      "zip Counter({0: 14, None: 12})\n",
      "revenue Counter({None: 56908, 0: 15})\n",
      "category_code Counter({None: 14, 0: 13})\n",
      "phone Counter({None: 409111, 0: 18})\n",
      "state Counter({None: 14, 0: 11})\n",
      "address Counter({None: 14, 0: 13})\n",
      "headcount Counter({None: 37648, 0: 10})\n",
      "time_in_business Counter({None: 83875, 0: 7})\n",
      "\n",
      "Fill rate: {u'city': 999969, u'name': 999975, u'zip': 999974, u'category_code': 999973, u'revenue': 943077, u'phone': 590871, u'state': 999975, u'address': 999973, u'headcount': 962342, u'time_in_business': 916118}\n"
     ]
    }
   ],
   "source": [
    "fill_rate_dict = {}\n",
    "\n",
    "for field in fields:\n",
    "    print field, Counter( fill_rate(field))\n",
    "    fill_rate_dict[field] = size - len(fill_rate(field))\n",
    "\n",
    "print '\\nFill rate:', fill_rate_dict"
   ]
  },
  {
   "cell_type": "markdown",
   "metadata": {},
   "source": [
    "## II. Analysis of Each Field"
   ]
  },
  {
   "cell_type": "code",
   "execution_count": 10,
   "metadata": {
    "collapsed": false
   },
   "outputs": [],
   "source": [
    "def true_fill_rate(field, black_list):\n",
    "    invalid_vals = []\n",
    "    valid_vals = []\n",
    "    \n",
    "    for row in data:\n",
    "        if type(row[field]) != unicode or row[field] in black_list:\n",
    "            invalid_vals.append(row[field])\n",
    "        else:\n",
    "            valid_vals.append(row[field])\n",
    "            \n",
    "    return invalid_vals, valid_vals"
   ]
  },
  {
   "cell_type": "markdown",
   "metadata": {},
   "source": [
    "### II.1. Analysis of Revenue"
   ]
  },
  {
   "cell_type": "code",
   "execution_count": 11,
   "metadata": {
    "collapsed": false
   },
   "outputs": [
    {
     "data": {
      "text/plain": [
       "Counter({None: 56908,\n",
       "         0: 15,\n",
       "         u'': 11,\n",
       "         u' ': 16,\n",
       "         u'$1 to 2.5 Million': 169540,\n",
       "         u'$10 to 20 Million': 48454,\n",
       "         u'$100 to 500 Million': 10130,\n",
       "         u'$2.5 to 5 Million': 99245,\n",
       "         u'$20 to 50 Million': 32797,\n",
       "         u'$5 to 10 Million': 83924,\n",
       "         u'$50 to 100 Million': 12765,\n",
       "         u'$500,000 to $1 Million': 153163,\n",
       "         u'0': 15,\n",
       "         u'Less Than $500,000': 329635,\n",
       "         u'Over $1 Billion': 1769,\n",
       "         u'Over $500 Million': 1579,\n",
       "         u'none': 15,\n",
       "         u'null': 19})"
      ]
     },
     "execution_count": 11,
     "metadata": {},
     "output_type": "execute_result"
    }
   ],
   "source": [
    "Counter ( [row['revenue'] for row in data] )"
   ]
  },
  {
   "cell_type": "code",
   "execution_count": 12,
   "metadata": {
    "collapsed": true
   },
   "outputs": [],
   "source": [
    "revenue_black_list = [None, 0, '', ' ', '0', 'none', 'null']"
   ]
  },
  {
   "cell_type": "code",
   "execution_count": 13,
   "metadata": {
    "collapsed": true
   },
   "outputs": [],
   "source": [
    "rev_invalid_vals, rev_valid_vals = true_fill_rate('revenue', revenue_black_list)"
   ]
  },
  {
   "cell_type": "code",
   "execution_count": 14,
   "metadata": {
    "collapsed": true
   },
   "outputs": [],
   "source": [
    "true_fill_rate_dict = {}\n",
    "unique_vals = {}"
   ]
  },
  {
   "cell_type": "code",
   "execution_count": 15,
   "metadata": {
    "collapsed": false
   },
   "outputs": [
    {
     "name": "stdout",
     "output_type": "stream",
     "text": [
      "\n",
      "True-valued fill rate for the Revenue field is 943001 (over 1000000 data point, which is 94.3001%), compared to the fill rate of 943077\n"
     ]
    }
   ],
   "source": [
    "true_fill_rate_dict['revenue'] = len(rev_valid_vals)\n",
    "\n",
    "print '\\nTrue-valued fill rate for the Revenue field is {} (over {} data point, which is {}%), \\\n",
    "compared to the fill rate of {}'.\\\n",
    "format(len(rev_valid_vals), size, len(rev_valid_vals)*100.0/size, fill_rate_dict['revenue'])"
   ]
  },
  {
   "cell_type": "code",
   "execution_count": 16,
   "metadata": {
    "collapsed": false
   },
   "outputs": [
    {
     "name": "stdout",
     "output_type": "stream",
     "text": [
      "The total number of unique values in Revenue field is 11\n"
     ]
    }
   ],
   "source": [
    "unique_vals['revenue'] = len(set(rev_valid_vals))\n",
    "print 'The total number of unique values in Revenue field is', unique_vals['revenue']"
   ]
  },
  {
   "cell_type": "code",
   "execution_count": 17,
   "metadata": {
    "collapsed": false
   },
   "outputs": [],
   "source": [
    "rev = pd.DataFrame.from_dict(Counter(rev_valid_vals), orient='index').reset_index()\n",
    "rev.columns = ['revenue', 'counts']\n",
    "rev = rev.sort_values('counts', ascending = False)"
   ]
  },
  {
   "cell_type": "code",
   "execution_count": 18,
   "metadata": {
    "collapsed": false
   },
   "outputs": [],
   "source": [
    "rev.index = [0, 2, 1, 3, 4, 5, 6, 7, 8, 10, 9]\n",
    "rev.sort_index(inplace= True)"
   ]
  },
  {
   "cell_type": "code",
   "execution_count": 273,
   "metadata": {
    "collapsed": false
   },
   "outputs": [
    {
     "data": {
      "text/html": [
       "<div>\n",
       "<table border=\"1\" class=\"dataframe\">\n",
       "  <thead>\n",
       "    <tr style=\"text-align: right;\">\n",
       "      <th></th>\n",
       "      <th>0</th>\n",
       "      <th>1</th>\n",
       "      <th>2</th>\n",
       "      <th>3</th>\n",
       "      <th>4</th>\n",
       "      <th>5</th>\n",
       "      <th>6</th>\n",
       "      <th>7</th>\n",
       "      <th>8</th>\n",
       "      <th>9</th>\n",
       "      <th>10</th>\n",
       "    </tr>\n",
       "  </thead>\n",
       "  <tbody>\n",
       "    <tr>\n",
       "      <th>revenue</th>\n",
       "      <td>Less Than $500,000</td>\n",
       "      <td>$500,000 to $1 Million</td>\n",
       "      <td>$1 to 2.5 Million</td>\n",
       "      <td>$2.5 to 5 Million</td>\n",
       "      <td>$5 to 10 Million</td>\n",
       "      <td>$10 to 20 Million</td>\n",
       "      <td>$20 to 50 Million</td>\n",
       "      <td>$50 to 100 Million</td>\n",
       "      <td>$100 to 500 Million</td>\n",
       "      <td>Over $500 Million</td>\n",
       "      <td>Over $1 Billion</td>\n",
       "    </tr>\n",
       "    <tr>\n",
       "      <th>counts</th>\n",
       "      <td>329635</td>\n",
       "      <td>153163</td>\n",
       "      <td>169540</td>\n",
       "      <td>99245</td>\n",
       "      <td>83924</td>\n",
       "      <td>48454</td>\n",
       "      <td>32797</td>\n",
       "      <td>12765</td>\n",
       "      <td>10130</td>\n",
       "      <td>1579</td>\n",
       "      <td>1769</td>\n",
       "    </tr>\n",
       "  </tbody>\n",
       "</table>\n",
       "</div>"
      ],
      "text/plain": [
       "                         0                       1                  2   \\\n",
       "revenue  Less Than $500,000  $500,000 to $1 Million  $1 to 2.5 Million   \n",
       "counts               329635                  153163             169540   \n",
       "\n",
       "                        3                 4                  5   \\\n",
       "revenue  $2.5 to 5 Million  $5 to 10 Million  $10 to 20 Million   \n",
       "counts               99245             83924              48454   \n",
       "\n",
       "                        6                   7                    8   \\\n",
       "revenue  $20 to 50 Million  $50 to 100 Million  $100 to 500 Million   \n",
       "counts               32797               12765                10130   \n",
       "\n",
       "                        9                10  \n",
       "revenue  Over $500 Million  Over $1 Billion  \n",
       "counts                1579             1769  "
      ]
     },
     "execution_count": 273,
     "metadata": {},
     "output_type": "execute_result"
    }
   ],
   "source": [
    "rev.T"
   ]
  },
  {
   "cell_type": "code",
   "execution_count": 172,
   "metadata": {
    "collapsed": false
   },
   "outputs": [
    {
     "name": "stdout",
     "output_type": "stream",
     "text": [
      "Percent of business counts with less than 1 million $: 51.198 %\n"
     ]
    }
   ],
   "source": [
    "print 'Percent of business counts with less than 1 million $:', \\\n",
    "round((rev.counts[0]+rev.counts[1])*100.0/rev.counts.sum(),3), '%'"
   ]
  },
  {
   "cell_type": "code",
   "execution_count": 271,
   "metadata": {
    "collapsed": false,
    "scrolled": false
   },
   "outputs": [
    {
     "data": {
      "text/html": [
       "\n",
       "\n",
       "    <div class=\"bk-root\">\n",
       "        <div class=\"bk-plotdiv\" id=\"c1308766-6772-4433-b01d-d9ac14cc074d\"></div>\n",
       "    </div>\n",
       "<script type=\"text/javascript\">\n",
       "  \n",
       "  (function(global) {\n",
       "    function now() {\n",
       "      return new Date();\n",
       "    }\n",
       "  \n",
       "    var force = false;\n",
       "  \n",
       "    if (typeof (window._bokeh_onload_callbacks) === \"undefined\" || force === true) {\n",
       "      window._bokeh_onload_callbacks = [];\n",
       "      window._bokeh_is_loading = undefined;\n",
       "    }\n",
       "  \n",
       "  \n",
       "    \n",
       "    if (typeof (window._bokeh_timeout) === \"undefined\" || force === true) {\n",
       "      window._bokeh_timeout = Date.now() + 0;\n",
       "      window._bokeh_failed_load = false;\n",
       "    }\n",
       "  \n",
       "    var NB_LOAD_WARNING = {'data': {'text/html':\n",
       "       \"<div style='background-color: #fdd'>\\n\"+\n",
       "       \"<p>\\n\"+\n",
       "       \"BokehJS does not appear to have successfully loaded. If loading BokehJS from CDN, this \\n\"+\n",
       "       \"may be due to a slow or bad network connection. Possible fixes:\\n\"+\n",
       "       \"</p>\\n\"+\n",
       "       \"<ul>\\n\"+\n",
       "       \"<li>re-rerun `output_notebook()` to attempt to load from CDN again, or</li>\\n\"+\n",
       "       \"<li>use INLINE resources instead, as so:</li>\\n\"+\n",
       "       \"</ul>\\n\"+\n",
       "       \"<code>\\n\"+\n",
       "       \"from bokeh.resources import INLINE\\n\"+\n",
       "       \"output_notebook(resources=INLINE)\\n\"+\n",
       "       \"</code>\\n\"+\n",
       "       \"</div>\"}};\n",
       "  \n",
       "    function display_loaded() {\n",
       "      if (window.Bokeh !== undefined) {\n",
       "        document.getElementById(\"c1308766-6772-4433-b01d-d9ac14cc074d\").textContent = \"BokehJS successfully loaded.\";\n",
       "      } else if (Date.now() < window._bokeh_timeout) {\n",
       "        setTimeout(display_loaded, 100)\n",
       "      }\n",
       "    }\n",
       "  \n",
       "    function run_callbacks() {\n",
       "      window._bokeh_onload_callbacks.forEach(function(callback) { callback() });\n",
       "      delete window._bokeh_onload_callbacks\n",
       "      console.info(\"Bokeh: all callbacks have finished\");\n",
       "    }\n",
       "  \n",
       "    function load_libs(js_urls, callback) {\n",
       "      window._bokeh_onload_callbacks.push(callback);\n",
       "      if (window._bokeh_is_loading > 0) {\n",
       "        console.log(\"Bokeh: BokehJS is being loaded, scheduling callback at\", now());\n",
       "        return null;\n",
       "      }\n",
       "      if (js_urls == null || js_urls.length === 0) {\n",
       "        run_callbacks();\n",
       "        return null;\n",
       "      }\n",
       "      console.log(\"Bokeh: BokehJS not loaded, scheduling load and callback at\", now());\n",
       "      window._bokeh_is_loading = js_urls.length;\n",
       "      for (var i = 0; i < js_urls.length; i++) {\n",
       "        var url = js_urls[i];\n",
       "        var s = document.createElement('script');\n",
       "        s.src = url;\n",
       "        s.async = false;\n",
       "        s.onreadystatechange = s.onload = function() {\n",
       "          window._bokeh_is_loading--;\n",
       "          if (window._bokeh_is_loading === 0) {\n",
       "            console.log(\"Bokeh: all BokehJS libraries loaded\");\n",
       "            run_callbacks()\n",
       "          }\n",
       "        };\n",
       "        s.onerror = function() {\n",
       "          console.warn(\"failed to load library \" + url);\n",
       "        };\n",
       "        console.log(\"Bokeh: injecting script tag for BokehJS library: \", url);\n",
       "        document.getElementsByTagName(\"head\")[0].appendChild(s);\n",
       "      }\n",
       "    };var element = document.getElementById(\"c1308766-6772-4433-b01d-d9ac14cc074d\");\n",
       "    if (element == null) {\n",
       "      console.log(\"Bokeh: ERROR: autoload.js configured with elementid 'c1308766-6772-4433-b01d-d9ac14cc074d' but no matching script tag was found. \")\n",
       "      return false;\n",
       "    }\n",
       "  \n",
       "    var js_urls = [];\n",
       "  \n",
       "    var inline_js = [\n",
       "      function(Bokeh) {\n",
       "        (function() {\n",
       "          var fn = function() {\n",
       "            var docs_json = {\"f30a14fd-b768-4285-940d-956f020efb26\":{\"roots\":{\"references\":[{\"attributes\":{\"below\":[{\"id\":\"6a3cecc9-0864-4998-ad16-c91121063c93\",\"type\":\"CategoricalAxis\"}],\"css_classes\":null,\"left\":[{\"id\":\"39600b70-608a-4e78-932f-5bc0558136d4\",\"type\":\"LinearAxis\"}],\"plot_height\":360,\"renderers\":[{\"id\":\"a23eb809-38a0-45a4-ad97-787537d0abed\",\"type\":\"BoxAnnotation\"},{\"id\":\"dd01a11a-895e-4123-92be-dfcdff6cf427\",\"type\":\"GlyphRenderer\"},{\"id\":\"9d009551-e4e0-4200-a21d-e9af7a2a736e\",\"type\":\"GlyphRenderer\"},{\"id\":\"49d026aa-9524-48bc-bfe7-64bd0499966c\",\"type\":\"GlyphRenderer\"},{\"id\":\"a045a2ac-550c-4453-a229-6453c31c728f\",\"type\":\"GlyphRenderer\"},{\"id\":\"a7f282d8-6f8a-442d-933f-9911beec2854\",\"type\":\"GlyphRenderer\"},{\"id\":\"bad3aae6-1506-4ca6-b817-3f2ccb00e3bf\",\"type\":\"GlyphRenderer\"},{\"id\":\"a14067e4-99fa-4e45-8196-1c05d36060b9\",\"type\":\"GlyphRenderer\"},{\"id\":\"eef7eb26-c2c9-4b03-a917-e28497103347\",\"type\":\"GlyphRenderer\"},{\"id\":\"cfa05c05-fd8a-48dc-b851-6ee3317f4e5e\",\"type\":\"GlyphRenderer\"},{\"id\":\"18bc1128-3b6e-4df2-bdfe-8c58bc689c4f\",\"type\":\"GlyphRenderer\"},{\"id\":\"6867f3b9-8543-438e-af7f-47c2ef4eb1dc\",\"type\":\"GlyphRenderer\"},{\"id\":\"4f27f1ca-309e-4869-b7f5-d03a09bd6e99\",\"type\":\"Legend\"},{\"id\":\"6a3cecc9-0864-4998-ad16-c91121063c93\",\"type\":\"CategoricalAxis\"},{\"id\":\"39600b70-608a-4e78-932f-5bc0558136d4\",\"type\":\"LinearAxis\"},{\"id\":\"49f56eb3-2d01-4f02-aac6-639cce43cceb\",\"type\":\"Grid\"}],\"title\":{\"id\":\"4b126642-6284-47d4-bc21-53e0f63dbc8a\",\"type\":\"Title\"},\"tool_events\":{\"id\":\"6b544973-5682-48a4-b95d-74f15c69b3b8\",\"type\":\"ToolEvents\"},\"toolbar\":{\"id\":\"69c41798-2c43-4942-bfe6-04496e51aca3\",\"type\":\"Toolbar\"},\"x_mapper_type\":\"auto\",\"x_range\":{\"id\":\"07f1633d-b06d-488a-a913-aaec93b0f582\",\"type\":\"FactorRange\"},\"y_mapper_type\":\"auto\",\"y_range\":{\"id\":\"48e99462-516d-48ac-b4de-65f15d2ecfbd\",\"type\":\"Range1d\"}},\"id\":\"b42052f9-1da3-4fc5-be2c-d0921be92f41\",\"subtype\":\"Chart\",\"type\":\"Plot\"},{\"attributes\":{\"data_source\":{\"id\":\"ceb5a2c3-fb6e-4bff-9feb-e6c6c711202c\",\"type\":\"ColumnDataSource\"},\"glyph\":{\"id\":\"9ed86d16-c635-4033-b8a1-8c39570a716d\",\"type\":\"Rect\"},\"hover_glyph\":null,\"nonselection_glyph\":null,\"selection_glyph\":null},\"id\":\"eef7eb26-c2c9-4b03-a917-e28497103347\",\"type\":\"GlyphRenderer\"},{\"attributes\":{\"callback\":null,\"column_names\":[\"line_color\",\"line_alpha\",\"color\",\"fill_alpha\",\"height\",\"width\",\"y\",\"x\",\"label\"],\"data\":{\"chart_index\":[{\"revenue\":\"$20 to 50 Million\"}],\"color\":[\"#ff7f0e\"],\"fill_alpha\":[0.8],\"height\":[32797.0],\"label\":[{\"revenue\":\"$20 to 50 Million\"}],\"line_alpha\":[1.0],\"line_color\":[\"white\"],\"revenue\":[\"$20 to 50 Million\"],\"width\":[0.8],\"x\":[\"$20 to 50 Million\"],\"y\":[16398.5]}},\"id\":\"22976ed8-f66e-4792-92d2-13758d1bc683\",\"type\":\"ColumnDataSource\"},{\"attributes\":{\"label\":{\"value\":\"Over $1 Billion\"},\"renderers\":[{\"id\":\"6867f3b9-8543-438e-af7f-47c2ef4eb1dc\",\"type\":\"GlyphRenderer\"}]},\"id\":\"98691bc1-e008-4b2e-9692-59e6036ec291\",\"type\":\"LegendItem\"},{\"attributes\":{\"data_source\":{\"id\":\"dca66ff9-2ba7-46ab-b8be-4f1a9cb23305\",\"type\":\"ColumnDataSource\"},\"glyph\":{\"id\":\"02e3c983-d8a4-4a5d-b5d6-623742bfad1d\",\"type\":\"Rect\"},\"hover_glyph\":null,\"nonselection_glyph\":null,\"selection_glyph\":null},\"id\":\"18bc1128-3b6e-4df2-bdfe-8c58bc689c4f\",\"type\":\"GlyphRenderer\"},{\"attributes\":{},\"id\":\"0b36d1e2-97f8-4483-8d96-5906f6ff5394\",\"type\":\"CategoricalTickFormatter\"},{\"attributes\":{\"label\":{\"value\":\"$10 to 20 Million\"},\"renderers\":[{\"id\":\"bad3aae6-1506-4ca6-b817-3f2ccb00e3bf\",\"type\":\"GlyphRenderer\"}]},\"id\":\"3c4a093d-6ada-4546-986b-28f616b59b4e\",\"type\":\"LegendItem\"},{\"attributes\":{\"data_source\":{\"id\":\"340611dc-3d54-471e-b9ba-1d960138f59c\",\"type\":\"ColumnDataSource\"},\"glyph\":{\"id\":\"21283bca-a098-48f4-b0fa-d496107b3eb1\",\"type\":\"Rect\"},\"hover_glyph\":null,\"nonselection_glyph\":null,\"selection_glyph\":null},\"id\":\"cfa05c05-fd8a-48dc-b851-6ee3317f4e5e\",\"type\":\"GlyphRenderer\"},{\"attributes\":{},\"id\":\"d78a7182-bda9-47c1-9b5f-9e0d0466bad9\",\"type\":\"BasicTickFormatter\"},{\"attributes\":{\"fill_alpha\":{\"field\":\"fill_alpha\"},\"fill_color\":{\"field\":\"color\"},\"height\":{\"field\":\"height\",\"units\":\"data\"},\"line_color\":{\"field\":\"line_color\"},\"width\":{\"field\":\"width\",\"units\":\"data\"},\"x\":{\"field\":\"x\"},\"y\":{\"field\":\"y\"}},\"id\":\"9ed86d16-c635-4033-b8a1-8c39570a716d\",\"type\":\"Rect\"},{\"attributes\":{\"data_source\":{\"id\":\"0f1af8b5-0f5a-4e30-a0ce-d8130d520f95\",\"type\":\"ColumnDataSource\"},\"glyph\":{\"id\":\"9fd39617-8852-46c3-a32e-4fdb47450b20\",\"type\":\"Rect\"},\"hover_glyph\":null,\"nonselection_glyph\":null,\"selection_glyph\":null},\"id\":\"49d026aa-9524-48bc-bfe7-64bd0499966c\",\"type\":\"GlyphRenderer\"},{\"attributes\":{\"overlay\":{\"id\":\"a23eb809-38a0-45a4-ad97-787537d0abed\",\"type\":\"BoxAnnotation\"},\"plot\":{\"id\":\"b42052f9-1da3-4fc5-be2c-d0921be92f41\",\"subtype\":\"Chart\",\"type\":\"Plot\"}},\"id\":\"79c4d080-714c-4c14-9817-c9f58a39afda\",\"type\":\"BoxZoomTool\"},{\"attributes\":{\"fill_alpha\":{\"field\":\"fill_alpha\"},\"fill_color\":{\"field\":\"color\"},\"height\":{\"field\":\"height\",\"units\":\"data\"},\"line_color\":{\"field\":\"line_color\"},\"width\":{\"field\":\"width\",\"units\":\"data\"},\"x\":{\"field\":\"x\"},\"y\":{\"field\":\"y\"}},\"id\":\"59efda95-99c1-4af0-a494-dcf093598f95\",\"type\":\"Rect\"},{\"attributes\":{\"label\":{\"value\":\"$5 to 10 Million\"},\"renderers\":[{\"id\":\"a7f282d8-6f8a-442d-933f-9911beec2854\",\"type\":\"GlyphRenderer\"}]},\"id\":\"573f9c4a-d40d-4f2c-a7c3-a56cf70a60ce\",\"type\":\"LegendItem\"},{\"attributes\":{\"callback\":null,\"column_names\":[\"line_color\",\"line_alpha\",\"color\",\"fill_alpha\",\"height\",\"width\",\"y\",\"x\",\"label\"],\"data\":{\"chart_index\":[{\"revenue\":\"$100 to 500 Million\"}],\"color\":[\"#ff7f0e\"],\"fill_alpha\":[0.8],\"height\":[10130.0],\"label\":[{\"revenue\":\"$100 to 500 Million\"}],\"line_alpha\":[1.0],\"line_color\":[\"white\"],\"revenue\":[\"$100 to 500 Million\"],\"width\":[0.8],\"x\":[\"$100 to 500 Million\"],\"y\":[5065.0]}},\"id\":\"340611dc-3d54-471e-b9ba-1d960138f59c\",\"type\":\"ColumnDataSource\"},{\"attributes\":{\"label\":{\"value\":\"$50 to 100 Million\"},\"renderers\":[{\"id\":\"eef7eb26-c2c9-4b03-a917-e28497103347\",\"type\":\"GlyphRenderer\"}]},\"id\":\"cb92aaf8-314e-4da5-9c60-4246654d5e28\",\"type\":\"LegendItem\"},{\"attributes\":{\"callback\":null,\"column_names\":[\"line_color\",\"line_alpha\",\"color\",\"fill_alpha\",\"height\",\"width\",\"y\",\"x\",\"label\"],\"data\":{\"chart_index\":[{\"revenue\":\"$500,000 to $1 Million\"}],\"color\":[\"#ff7f0e\"],\"fill_alpha\":[0.8],\"height\":[153163.0],\"label\":[{\"revenue\":\"$500,000 to $1 Million\"}],\"line_alpha\":[1.0],\"line_color\":[\"white\"],\"revenue\":[\"$500,000 to $1 Million\"],\"width\":[0.8],\"x\":[\"$500,000 to $1 Million\"],\"y\":[76581.5]}},\"id\":\"c665ea14-5246-462e-8aa6-826a121483e6\",\"type\":\"ColumnDataSource\"},{\"attributes\":{\"fill_alpha\":{\"field\":\"fill_alpha\"},\"fill_color\":{\"field\":\"color\"},\"height\":{\"field\":\"height\",\"units\":\"data\"},\"line_color\":{\"field\":\"line_color\"},\"width\":{\"field\":\"width\",\"units\":\"data\"},\"x\":{\"field\":\"x\"},\"y\":{\"field\":\"y\"}},\"id\":\"02e3c983-d8a4-4a5d-b5d6-623742bfad1d\",\"type\":\"Rect\"},{\"attributes\":{\"data_source\":{\"id\":\"22976ed8-f66e-4792-92d2-13758d1bc683\",\"type\":\"ColumnDataSource\"},\"glyph\":{\"id\":\"d0427f9a-0e81-445b-8315-20c415f6163e\",\"type\":\"Rect\"},\"hover_glyph\":null,\"nonselection_glyph\":null,\"selection_glyph\":null},\"id\":\"a14067e4-99fa-4e45-8196-1c05d36060b9\",\"type\":\"GlyphRenderer\"},{\"attributes\":{},\"id\":\"68ca8ae6-13df-492f-ac5f-0b3f1c6dd862\",\"type\":\"BasicTicker\"},{\"attributes\":{\"plot\":null,\"text\":\"Counts of Businesses by Revenue Range\"},\"id\":\"4b126642-6284-47d4-bc21-53e0f63dbc8a\",\"type\":\"Title\"},{\"attributes\":{},\"id\":\"6b544973-5682-48a4-b95d-74f15c69b3b8\",\"type\":\"ToolEvents\"},{\"attributes\":{\"callback\":null,\"column_names\":[\"line_color\",\"line_alpha\",\"color\",\"fill_alpha\",\"height\",\"width\",\"y\",\"x\",\"label\"],\"data\":{\"chart_index\":[{\"revenue\":\"$50 to 100 Million\"}],\"color\":[\"#ff7f0e\"],\"fill_alpha\":[0.8],\"height\":[12765.0],\"label\":[{\"revenue\":\"$50 to 100 Million\"}],\"line_alpha\":[1.0],\"line_color\":[\"white\"],\"revenue\":[\"$50 to 100 Million\"],\"width\":[0.8],\"x\":[\"$50 to 100 Million\"],\"y\":[6382.5]}},\"id\":\"ceb5a2c3-fb6e-4bff-9feb-e6c6c711202c\",\"type\":\"ColumnDataSource\"},{\"attributes\":{\"fill_alpha\":{\"field\":\"fill_alpha\"},\"fill_color\":{\"field\":\"color\"},\"height\":{\"field\":\"height\",\"units\":\"data\"},\"line_color\":{\"field\":\"line_color\"},\"width\":{\"field\":\"width\",\"units\":\"data\"},\"x\":{\"field\":\"x\"},\"y\":{\"field\":\"y\"}},\"id\":\"588f0ef9-6069-4cd0-9b43-1942171e8f2a\",\"type\":\"Rect\"},{\"attributes\":{\"callback\":null,\"end\":346116.75},\"id\":\"48e99462-516d-48ac-b4de-65f15d2ecfbd\",\"type\":\"Range1d\"},{\"attributes\":{\"label\":{\"value\":\"Less Than $500,000\"},\"renderers\":[{\"id\":\"dd01a11a-895e-4123-92be-dfcdff6cf427\",\"type\":\"GlyphRenderer\"}]},\"id\":\"75acf8e5-e944-4343-a5fa-5425a36f561a\",\"type\":\"LegendItem\"},{\"attributes\":{\"plot\":{\"id\":\"b42052f9-1da3-4fc5-be2c-d0921be92f41\",\"subtype\":\"Chart\",\"type\":\"Plot\"}},\"id\":\"bcf49919-8ce0-4838-8800-79f1bf185c7d\",\"type\":\"ResetTool\"},{\"attributes\":{\"fill_alpha\":{\"field\":\"fill_alpha\"},\"fill_color\":{\"field\":\"color\"},\"height\":{\"field\":\"height\",\"units\":\"data\"},\"line_color\":{\"field\":\"line_color\"},\"width\":{\"field\":\"width\",\"units\":\"data\"},\"x\":{\"field\":\"x\"},\"y\":{\"field\":\"y\"}},\"id\":\"d0427f9a-0e81-445b-8315-20c415f6163e\",\"type\":\"Rect\"},{\"attributes\":{\"callback\":null,\"column_names\":[\"line_color\",\"line_alpha\",\"color\",\"fill_alpha\",\"height\",\"width\",\"y\",\"x\",\"label\"],\"data\":{\"chart_index\":[{\"revenue\":\"$2.5 to 5 Million\"}],\"color\":[\"#ff7f0e\"],\"fill_alpha\":[0.8],\"height\":[99245.0],\"label\":[{\"revenue\":\"$2.5 to 5 Million\"}],\"line_alpha\":[1.0],\"line_color\":[\"white\"],\"revenue\":[\"$2.5 to 5 Million\"],\"width\":[0.8],\"x\":[\"$2.5 to 5 Million\"],\"y\":[49622.5]}},\"id\":\"6a882411-968e-433a-81f7-606f37aac4eb\",\"type\":\"ColumnDataSource\"},{\"attributes\":{\"fill_alpha\":{\"field\":\"fill_alpha\"},\"fill_color\":{\"field\":\"color\"},\"height\":{\"field\":\"height\",\"units\":\"data\"},\"line_color\":{\"field\":\"line_color\"},\"width\":{\"field\":\"width\",\"units\":\"data\"},\"x\":{\"field\":\"x\"},\"y\":{\"field\":\"y\"}},\"id\":\"b193a6dd-7321-4d59-b343-f453e0d3d22d\",\"type\":\"Rect\"},{\"attributes\":{\"label\":{\"value\":\"$1 to 2.5 Million\"},\"renderers\":[{\"id\":\"49d026aa-9524-48bc-bfe7-64bd0499966c\",\"type\":\"GlyphRenderer\"}]},\"id\":\"b25005fa-7cc1-4f55-a36a-535f6f5a37b9\",\"type\":\"LegendItem\"},{\"attributes\":{\"dimension\":1,\"grid_line_color\":{\"value\":null},\"plot\":{\"id\":\"b42052f9-1da3-4fc5-be2c-d0921be92f41\",\"subtype\":\"Chart\",\"type\":\"Plot\"},\"ticker\":{\"id\":\"68ca8ae6-13df-492f-ac5f-0b3f1c6dd862\",\"type\":\"BasicTicker\"}},\"id\":\"49f56eb3-2d01-4f02-aac6-639cce43cceb\",\"type\":\"Grid\"},{\"attributes\":{\"callback\":null,\"column_names\":[\"line_color\",\"line_alpha\",\"color\",\"fill_alpha\",\"height\",\"width\",\"y\",\"x\",\"label\"],\"data\":{\"chart_index\":[{\"revenue\":\"$5 to 10 Million\"}],\"color\":[\"#ff7f0e\"],\"fill_alpha\":[0.8],\"height\":[83924.0],\"label\":[{\"revenue\":\"$5 to 10 Million\"}],\"line_alpha\":[1.0],\"line_color\":[\"white\"],\"revenue\":[\"$5 to 10 Million\"],\"width\":[0.8],\"x\":[\"$5 to 10 Million\"],\"y\":[41962.0]}},\"id\":\"3e2efb99-a2db-4330-9b2d-15099b221db5\",\"type\":\"ColumnDataSource\"},{\"attributes\":{\"callback\":null,\"column_names\":[\"line_color\",\"line_alpha\",\"color\",\"fill_alpha\",\"height\",\"width\",\"y\",\"x\",\"label\"],\"data\":{\"chart_index\":[{\"revenue\":\"Over $1 Billion\"}],\"color\":[\"#ff7f0e\"],\"fill_alpha\":[0.8],\"height\":[1769.0],\"label\":[{\"revenue\":\"Over $1 Billion\"}],\"line_alpha\":[1.0],\"line_color\":[\"white\"],\"revenue\":[\"Over $1 Billion\"],\"width\":[0.8],\"x\":[\"Over $1 Billion\"],\"y\":[884.5]}},\"id\":\"41018866-5813-4ad8-8347-9939413a2933\",\"type\":\"ColumnDataSource\"},{\"attributes\":{\"data_source\":{\"id\":\"3e2efb99-a2db-4330-9b2d-15099b221db5\",\"type\":\"ColumnDataSource\"},\"glyph\":{\"id\":\"6c83841f-96c7-4849-965f-95f7c28fc1f6\",\"type\":\"Rect\"},\"hover_glyph\":null,\"nonselection_glyph\":null,\"selection_glyph\":null},\"id\":\"a7f282d8-6f8a-442d-933f-9911beec2854\",\"type\":\"GlyphRenderer\"},{\"attributes\":{\"label\":{\"value\":\"$500,000 to $1 Million\"},\"renderers\":[{\"id\":\"9d009551-e4e0-4200-a21d-e9af7a2a736e\",\"type\":\"GlyphRenderer\"}]},\"id\":\"559d0a9f-f249-4c5b-a66f-86ed1dd12436\",\"type\":\"LegendItem\"},{\"attributes\":{\"callback\":null,\"column_names\":[\"line_color\",\"line_alpha\",\"color\",\"fill_alpha\",\"height\",\"width\",\"y\",\"x\",\"label\"],\"data\":{\"chart_index\":[{\"revenue\":\"Over $500 Million\"}],\"color\":[\"#ff7f0e\"],\"fill_alpha\":[0.8],\"height\":[1579.0],\"label\":[{\"revenue\":\"Over $500 Million\"}],\"line_alpha\":[1.0],\"line_color\":[\"white\"],\"revenue\":[\"Over $500 Million\"],\"width\":[0.8],\"x\":[\"Over $500 Million\"],\"y\":[789.5]}},\"id\":\"dca66ff9-2ba7-46ab-b8be-4f1a9cb23305\",\"type\":\"ColumnDataSource\"},{\"attributes\":{\"active_drag\":\"auto\",\"active_scroll\":\"auto\",\"active_tap\":\"auto\",\"tools\":[{\"id\":\"84061b60-2498-4e1c-a08d-11803b3a9c17\",\"type\":\"PanTool\"},{\"id\":\"2872f6d8-d9b8-475f-8057-2eaa952d9861\",\"type\":\"WheelZoomTool\"},{\"id\":\"79c4d080-714c-4c14-9817-c9f58a39afda\",\"type\":\"BoxZoomTool\"},{\"id\":\"0496bf36-aee5-4466-ae7e-688bebd75e95\",\"type\":\"SaveTool\"},{\"id\":\"bcf49919-8ce0-4838-8800-79f1bf185c7d\",\"type\":\"ResetTool\"},{\"id\":\"86d519ce-6a20-4492-9b92-7b3b86195bf0\",\"type\":\"HelpTool\"}]},\"id\":\"69c41798-2c43-4942-bfe6-04496e51aca3\",\"type\":\"Toolbar\"},{\"attributes\":{\"axis_label\":\"Counts\",\"formatter\":{\"id\":\"d78a7182-bda9-47c1-9b5f-9e0d0466bad9\",\"type\":\"BasicTickFormatter\"},\"minor_tick_line_color\":{\"value\":null},\"plot\":{\"id\":\"b42052f9-1da3-4fc5-be2c-d0921be92f41\",\"subtype\":\"Chart\",\"type\":\"Plot\"},\"ticker\":{\"id\":\"68ca8ae6-13df-492f-ac5f-0b3f1c6dd862\",\"type\":\"BasicTicker\"}},\"id\":\"39600b70-608a-4e78-932f-5bc0558136d4\",\"type\":\"LinearAxis\"},{\"attributes\":{\"data_source\":{\"id\":\"33f617d1-3098-4db5-8d9c-ed708f5cb887\",\"type\":\"ColumnDataSource\"},\"glyph\":{\"id\":\"59efda95-99c1-4af0-a494-dcf093598f95\",\"type\":\"Rect\"},\"hover_glyph\":null,\"nonselection_glyph\":null,\"selection_glyph\":null},\"id\":\"dd01a11a-895e-4123-92be-dfcdff6cf427\",\"type\":\"GlyphRenderer\"},{\"attributes\":{\"fill_alpha\":{\"field\":\"fill_alpha\"},\"fill_color\":{\"field\":\"color\"},\"height\":{\"field\":\"height\",\"units\":\"data\"},\"line_color\":{\"field\":\"line_color\"},\"width\":{\"field\":\"width\",\"units\":\"data\"},\"x\":{\"field\":\"x\"},\"y\":{\"field\":\"y\"}},\"id\":\"1a63d130-285b-4f26-831a-981345952988\",\"type\":\"Rect\"},{\"attributes\":{\"callback\":null,\"factors\":[\"Less Than $500,000\",\"$500,000 to $1 Million\",\"$1 to 2.5 Million\",\"$2.5 to 5 Million\",\"$5 to 10 Million\",\"$10 to 20 Million\",\"$20 to 50 Million\",\"$50 to 100 Million\",\"$100 to 500 Million\",\"Over $500 Million\",\"Over $1 Billion\"]},\"id\":\"07f1633d-b06d-488a-a913-aaec93b0f582\",\"type\":\"FactorRange\"},{\"attributes\":{\"axis_label\":null,\"formatter\":{\"id\":\"0b36d1e2-97f8-4483-8d96-5906f6ff5394\",\"type\":\"CategoricalTickFormatter\"},\"major_label_orientation\":0.7853981633974483,\"plot\":{\"id\":\"b42052f9-1da3-4fc5-be2c-d0921be92f41\",\"subtype\":\"Chart\",\"type\":\"Plot\"},\"ticker\":{\"id\":\"b416c58c-bfcc-4e1b-ab02-a2f727e46c92\",\"type\":\"CategoricalTicker\"}},\"id\":\"6a3cecc9-0864-4998-ad16-c91121063c93\",\"type\":\"CategoricalAxis\"},{\"attributes\":{\"label\":{\"value\":\"$20 to 50 Million\"},\"renderers\":[{\"id\":\"a14067e4-99fa-4e45-8196-1c05d36060b9\",\"type\":\"GlyphRenderer\"}]},\"id\":\"2c5a18b0-e39f-43c3-b8d9-976c84091cff\",\"type\":\"LegendItem\"},{\"attributes\":{\"data_source\":{\"id\":\"41018866-5813-4ad8-8347-9939413a2933\",\"type\":\"ColumnDataSource\"},\"glyph\":{\"id\":\"588f0ef9-6069-4cd0-9b43-1942171e8f2a\",\"type\":\"Rect\"},\"hover_glyph\":null,\"nonselection_glyph\":null,\"selection_glyph\":null},\"id\":\"6867f3b9-8543-438e-af7f-47c2ef4eb1dc\",\"type\":\"GlyphRenderer\"},{\"attributes\":{\"plot\":{\"id\":\"b42052f9-1da3-4fc5-be2c-d0921be92f41\",\"subtype\":\"Chart\",\"type\":\"Plot\"}},\"id\":\"86d519ce-6a20-4492-9b92-7b3b86195bf0\",\"type\":\"HelpTool\"},{\"attributes\":{\"callback\":null,\"column_names\":[\"line_color\",\"line_alpha\",\"color\",\"fill_alpha\",\"height\",\"width\",\"y\",\"x\",\"label\"],\"data\":{\"chart_index\":[{\"revenue\":\"$1 to 2.5 Million\"}],\"color\":[\"#ff7f0e\"],\"fill_alpha\":[0.8],\"height\":[169540.0],\"label\":[{\"revenue\":\"$1 to 2.5 Million\"}],\"line_alpha\":[1.0],\"line_color\":[\"white\"],\"revenue\":[\"$1 to 2.5 Million\"],\"width\":[0.8],\"x\":[\"$1 to 2.5 Million\"],\"y\":[84770.0]}},\"id\":\"0f1af8b5-0f5a-4e30-a0ce-d8130d520f95\",\"type\":\"ColumnDataSource\"},{\"attributes\":{\"bottom_units\":\"screen\",\"fill_alpha\":{\"value\":0.5},\"fill_color\":{\"value\":\"lightgrey\"},\"left_units\":\"screen\",\"level\":\"overlay\",\"line_alpha\":{\"value\":1.0},\"line_color\":{\"value\":\"black\"},\"line_dash\":[4,4],\"line_width\":{\"value\":2},\"plot\":null,\"render_mode\":\"css\",\"right_units\":\"screen\",\"top_units\":\"screen\"},\"id\":\"a23eb809-38a0-45a4-ad97-787537d0abed\",\"type\":\"BoxAnnotation\"},{\"attributes\":{\"fill_alpha\":{\"field\":\"fill_alpha\"},\"fill_color\":{\"field\":\"color\"},\"height\":{\"field\":\"height\",\"units\":\"data\"},\"line_color\":{\"field\":\"line_color\"},\"width\":{\"field\":\"width\",\"units\":\"data\"},\"x\":{\"field\":\"x\"},\"y\":{\"field\":\"y\"}},\"id\":\"9fd39617-8852-46c3-a32e-4fdb47450b20\",\"type\":\"Rect\"},{\"attributes\":{\"data_source\":{\"id\":\"4bc9d14d-f5b7-4303-9f65-0c673ee2970b\",\"type\":\"ColumnDataSource\"},\"glyph\":{\"id\":\"b193a6dd-7321-4d59-b343-f453e0d3d22d\",\"type\":\"Rect\"},\"hover_glyph\":null,\"nonselection_glyph\":null,\"selection_glyph\":null},\"id\":\"bad3aae6-1506-4ca6-b817-3f2ccb00e3bf\",\"type\":\"GlyphRenderer\"},{\"attributes\":{\"data_source\":{\"id\":\"c665ea14-5246-462e-8aa6-826a121483e6\",\"type\":\"ColumnDataSource\"},\"glyph\":{\"id\":\"2d3ead7c-e123-4a77-90fd-b7729db26355\",\"type\":\"Rect\"},\"hover_glyph\":null,\"nonselection_glyph\":null,\"selection_glyph\":null},\"id\":\"9d009551-e4e0-4200-a21d-e9af7a2a736e\",\"type\":\"GlyphRenderer\"},{\"attributes\":{\"data_source\":{\"id\":\"6a882411-968e-433a-81f7-606f37aac4eb\",\"type\":\"ColumnDataSource\"},\"glyph\":{\"id\":\"1a63d130-285b-4f26-831a-981345952988\",\"type\":\"Rect\"},\"hover_glyph\":null,\"nonselection_glyph\":null,\"selection_glyph\":null},\"id\":\"a045a2ac-550c-4453-a229-6453c31c728f\",\"type\":\"GlyphRenderer\"},{\"attributes\":{\"plot\":{\"id\":\"b42052f9-1da3-4fc5-be2c-d0921be92f41\",\"subtype\":\"Chart\",\"type\":\"Plot\"}},\"id\":\"0496bf36-aee5-4466-ae7e-688bebd75e95\",\"type\":\"SaveTool\"},{\"attributes\":{\"plot\":{\"id\":\"b42052f9-1da3-4fc5-be2c-d0921be92f41\",\"subtype\":\"Chart\",\"type\":\"Plot\"}},\"id\":\"2872f6d8-d9b8-475f-8057-2eaa952d9861\",\"type\":\"WheelZoomTool\"},{\"attributes\":{\"fill_alpha\":{\"field\":\"fill_alpha\"},\"fill_color\":{\"field\":\"color\"},\"height\":{\"field\":\"height\",\"units\":\"data\"},\"line_color\":{\"field\":\"line_color\"},\"width\":{\"field\":\"width\",\"units\":\"data\"},\"x\":{\"field\":\"x\"},\"y\":{\"field\":\"y\"}},\"id\":\"2d3ead7c-e123-4a77-90fd-b7729db26355\",\"type\":\"Rect\"},{\"attributes\":{\"callback\":null,\"column_names\":[\"line_color\",\"line_alpha\",\"color\",\"fill_alpha\",\"height\",\"width\",\"y\",\"x\",\"label\"],\"data\":{\"chart_index\":[{\"revenue\":\"Less Than $500,000\"}],\"color\":[\"#ff7f0e\"],\"fill_alpha\":[0.8],\"height\":[329635.0],\"label\":[{\"revenue\":\"Less Than $500,000\"}],\"line_alpha\":[1.0],\"line_color\":[\"white\"],\"revenue\":[\"Less Than $500,000\"],\"width\":[0.8],\"x\":[\"Less Than $500,000\"],\"y\":[164817.5]}},\"id\":\"33f617d1-3098-4db5-8d9c-ed708f5cb887\",\"type\":\"ColumnDataSource\"},{\"attributes\":{\"label\":{\"value\":\"Over $500 Million\"},\"renderers\":[{\"id\":\"18bc1128-3b6e-4df2-bdfe-8c58bc689c4f\",\"type\":\"GlyphRenderer\"}]},\"id\":\"55fce4aa-7e33-4401-9838-f24a5574685b\",\"type\":\"LegendItem\"},{\"attributes\":{\"fill_alpha\":{\"field\":\"fill_alpha\"},\"fill_color\":{\"field\":\"color\"},\"height\":{\"field\":\"height\",\"units\":\"data\"},\"line_color\":{\"field\":\"line_color\"},\"width\":{\"field\":\"width\",\"units\":\"data\"},\"x\":{\"field\":\"x\"},\"y\":{\"field\":\"y\"}},\"id\":\"6c83841f-96c7-4849-965f-95f7c28fc1f6\",\"type\":\"Rect\"},{\"attributes\":{\"items\":[{\"id\":\"75acf8e5-e944-4343-a5fa-5425a36f561a\",\"type\":\"LegendItem\"},{\"id\":\"559d0a9f-f249-4c5b-a66f-86ed1dd12436\",\"type\":\"LegendItem\"},{\"id\":\"b25005fa-7cc1-4f55-a36a-535f6f5a37b9\",\"type\":\"LegendItem\"},{\"id\":\"5a14da51-f11e-47f5-9186-f4d2551d07ea\",\"type\":\"LegendItem\"},{\"id\":\"573f9c4a-d40d-4f2c-a7c3-a56cf70a60ce\",\"type\":\"LegendItem\"},{\"id\":\"3c4a093d-6ada-4546-986b-28f616b59b4e\",\"type\":\"LegendItem\"},{\"id\":\"2c5a18b0-e39f-43c3-b8d9-976c84091cff\",\"type\":\"LegendItem\"},{\"id\":\"cb92aaf8-314e-4da5-9c60-4246654d5e28\",\"type\":\"LegendItem\"},{\"id\":\"507966e3-7f17-43fc-9b84-c48cfd392ee2\",\"type\":\"LegendItem\"},{\"id\":\"55fce4aa-7e33-4401-9838-f24a5574685b\",\"type\":\"LegendItem\"},{\"id\":\"98691bc1-e008-4b2e-9692-59e6036ec291\",\"type\":\"LegendItem\"}],\"location\":null,\"plot\":{\"id\":\"b42052f9-1da3-4fc5-be2c-d0921be92f41\",\"subtype\":\"Chart\",\"type\":\"Plot\"}},\"id\":\"4f27f1ca-309e-4869-b7f5-d03a09bd6e99\",\"type\":\"Legend\"},{\"attributes\":{\"label\":{\"value\":\"$2.5 to 5 Million\"},\"renderers\":[{\"id\":\"a045a2ac-550c-4453-a229-6453c31c728f\",\"type\":\"GlyphRenderer\"}]},\"id\":\"5a14da51-f11e-47f5-9186-f4d2551d07ea\",\"type\":\"LegendItem\"},{\"attributes\":{\"callback\":null,\"column_names\":[\"line_color\",\"line_alpha\",\"color\",\"fill_alpha\",\"height\",\"width\",\"y\",\"x\",\"label\"],\"data\":{\"chart_index\":[{\"revenue\":\"$10 to 20 Million\"}],\"color\":[\"#ff7f0e\"],\"fill_alpha\":[0.8],\"height\":[48454.0],\"label\":[{\"revenue\":\"$10 to 20 Million\"}],\"line_alpha\":[1.0],\"line_color\":[\"white\"],\"revenue\":[\"$10 to 20 Million\"],\"width\":[0.8],\"x\":[\"$10 to 20 Million\"],\"y\":[24227.0]}},\"id\":\"4bc9d14d-f5b7-4303-9f65-0c673ee2970b\",\"type\":\"ColumnDataSource\"},{\"attributes\":{\"label\":{\"value\":\"$100 to 500 Million\"},\"renderers\":[{\"id\":\"cfa05c05-fd8a-48dc-b851-6ee3317f4e5e\",\"type\":\"GlyphRenderer\"}]},\"id\":\"507966e3-7f17-43fc-9b84-c48cfd392ee2\",\"type\":\"LegendItem\"},{\"attributes\":{\"plot\":{\"id\":\"b42052f9-1da3-4fc5-be2c-d0921be92f41\",\"subtype\":\"Chart\",\"type\":\"Plot\"}},\"id\":\"84061b60-2498-4e1c-a08d-11803b3a9c17\",\"type\":\"PanTool\"},{\"attributes\":{},\"id\":\"b416c58c-bfcc-4e1b-ab02-a2f727e46c92\",\"type\":\"CategoricalTicker\"},{\"attributes\":{\"fill_alpha\":{\"field\":\"fill_alpha\"},\"fill_color\":{\"field\":\"color\"},\"height\":{\"field\":\"height\",\"units\":\"data\"},\"line_color\":{\"field\":\"line_color\"},\"width\":{\"field\":\"width\",\"units\":\"data\"},\"x\":{\"field\":\"x\"},\"y\":{\"field\":\"y\"}},\"id\":\"21283bca-a098-48f4-b0fa-d496107b3eb1\",\"type\":\"Rect\"}],\"root_ids\":[\"b42052f9-1da3-4fc5-be2c-d0921be92f41\"]},\"title\":\"Bokeh Application\",\"version\":\"0.12.4\"}};\n",
       "            var render_items = [{\"docid\":\"f30a14fd-b768-4285-940d-956f020efb26\",\"elementid\":\"c1308766-6772-4433-b01d-d9ac14cc074d\",\"modelid\":\"b42052f9-1da3-4fc5-be2c-d0921be92f41\"}];\n",
       "            \n",
       "            Bokeh.embed.embed_items(docs_json, render_items);\n",
       "          };\n",
       "          if (document.readyState != \"loading\") fn();\n",
       "          else document.addEventListener(\"DOMContentLoaded\", fn);\n",
       "        })();\n",
       "      },\n",
       "      function(Bokeh) {\n",
       "      }\n",
       "    ];\n",
       "  \n",
       "    function run_inline_js() {\n",
       "      \n",
       "      if ((window.Bokeh !== undefined) || (force === true)) {\n",
       "        for (var i = 0; i < inline_js.length; i++) {\n",
       "          inline_js[i](window.Bokeh);\n",
       "        }if (force === true) {\n",
       "          display_loaded();\n",
       "        }} else if (Date.now() < window._bokeh_timeout) {\n",
       "        setTimeout(run_inline_js, 100);\n",
       "      } else if (!window._bokeh_failed_load) {\n",
       "        console.log(\"Bokeh: BokehJS failed to load within specified timeout.\");\n",
       "        window._bokeh_failed_load = true;\n",
       "      } else if (force !== true) {\n",
       "        var cell = $(document.getElementById(\"c1308766-6772-4433-b01d-d9ac14cc074d\")).parents('.cell').data().cell;\n",
       "        cell.output_area.append_execute_result(NB_LOAD_WARNING)\n",
       "      }\n",
       "  \n",
       "    }\n",
       "  \n",
       "    if (window._bokeh_is_loading === 0) {\n",
       "      console.log(\"Bokeh: BokehJS loaded, going straight to plotting\");\n",
       "      run_inline_js();\n",
       "    } else {\n",
       "      load_libs(js_urls, function() {\n",
       "        console.log(\"Bokeh: BokehJS plotting callback run at\", now());\n",
       "        run_inline_js();\n",
       "      });\n",
       "    }\n",
       "  }(this));\n",
       "</script>"
      ]
     },
     "metadata": {},
     "output_type": "display_data"
    }
   ],
   "source": [
    "p = Bar(rev,  values ='counts', \n",
    "        label=CatAttr(columns=['revenue'], sort=False),\n",
    "        title=\"Counts of Businesses by Revenue Range\", \n",
    "        plot_width=600, plot_height=360, color='#ff7f0e')\n",
    "p.ygrid.grid_line_color = None\n",
    "p.yaxis.minor_tick_line_color = None\n",
    "p.xaxis.axis_label = None\n",
    "p.yaxis.axis_label = \"Counts\"\n",
    "p.legend.location = None\n",
    "show(p)"
   ]
  },
  {
   "cell_type": "markdown",
   "metadata": {},
   "source": [
    "### II.2. Analysis of Headcount"
   ]
  },
  {
   "cell_type": "code",
   "execution_count": 21,
   "metadata": {
    "collapsed": false
   },
   "outputs": [],
   "source": [
    "#Counter ( [row['headcount'] for row in data] )"
   ]
  },
  {
   "cell_type": "code",
   "execution_count": 22,
   "metadata": {
    "collapsed": true
   },
   "outputs": [],
   "source": [
    "headcount_check = [None, 0, '', ' ', '0', 'none', 'null']"
   ]
  },
  {
   "cell_type": "code",
   "execution_count": 23,
   "metadata": {
    "collapsed": true
   },
   "outputs": [],
   "source": [
    "head_invalid_vals, head_valid_vals = true_fill_rate('headcount', headcount_check)"
   ]
  },
  {
   "cell_type": "code",
   "execution_count": 24,
   "metadata": {
    "collapsed": false
   },
   "outputs": [
    {
     "name": "stdout",
     "output_type": "stream",
     "text": [
      "\n",
      "True fill rate for the Headcount field is 962273 (over 1000000 data point, which is 96.2273%), compared to the fill rate of 962342\n"
     ]
    }
   ],
   "source": [
    "true_fill_rate_dict['headcount'] = len(head_valid_vals)\n",
    "\n",
    "print '\\nTrue fill rate for the Headcount field is {} (over {} data point, which is {}%), \\\n",
    "compared to the fill rate of {}'.\\\n",
    "format(len(head_valid_vals), size, len(head_valid_vals)*100.0/size, fill_rate_dict['headcount'])"
   ]
  },
  {
   "cell_type": "code",
   "execution_count": 25,
   "metadata": {
    "collapsed": false
   },
   "outputs": [
    {
     "name": "stdout",
     "output_type": "stream",
     "text": [
      "The total number of unique values in Headcount field is 9\n"
     ]
    }
   ],
   "source": [
    "unique_vals['headcount'] = len(set(head_valid_vals))\n",
    "print 'The total number of unique values in Headcount field is', unique_vals['headcount']"
   ]
  },
  {
   "cell_type": "code",
   "execution_count": 26,
   "metadata": {
    "collapsed": false
   },
   "outputs": [],
   "source": [
    "head = pd.DataFrame.from_dict(Counter(head_valid_vals), orient='index').reset_index()\n",
    "head.columns = ['headcount', 'counts']\n",
    "head = head.sort_values('counts', ascending = False)"
   ]
  },
  {
   "cell_type": "code",
   "execution_count": 27,
   "metadata": {
    "collapsed": false
   },
   "outputs": [],
   "source": [
    "head.index = [0, 1, 2, 3, 4, 5, 6, 8,7]\n",
    "head.sort_index(inplace= True)"
   ]
  },
  {
   "cell_type": "code",
   "execution_count": 176,
   "metadata": {
    "collapsed": false
   },
   "outputs": [
    {
     "data": {
      "text/html": [
       "<div>\n",
       "<table border=\"1\" class=\"dataframe\">\n",
       "  <thead>\n",
       "    <tr style=\"text-align: right;\">\n",
       "      <th></th>\n",
       "      <th>0</th>\n",
       "      <th>1</th>\n",
       "      <th>2</th>\n",
       "      <th>3</th>\n",
       "      <th>4</th>\n",
       "      <th>5</th>\n",
       "      <th>6</th>\n",
       "      <th>7</th>\n",
       "      <th>8</th>\n",
       "    </tr>\n",
       "  </thead>\n",
       "  <tbody>\n",
       "    <tr>\n",
       "      <th>headcount</th>\n",
       "      <td>1 to 4</td>\n",
       "      <td>5 to 9</td>\n",
       "      <td>10 to 19</td>\n",
       "      <td>20 to 49</td>\n",
       "      <td>50 to 99</td>\n",
       "      <td>100 to 249</td>\n",
       "      <td>250 to 499</td>\n",
       "      <td>500 to 999</td>\n",
       "      <td>Over 1,000</td>\n",
       "    </tr>\n",
       "    <tr>\n",
       "      <th>counts</th>\n",
       "      <td>358207</td>\n",
       "      <td>212401</td>\n",
       "      <td>151412</td>\n",
       "      <td>121264</td>\n",
       "      <td>60526</td>\n",
       "      <td>36475</td>\n",
       "      <td>11138</td>\n",
       "      <td>5250</td>\n",
       "      <td>5600</td>\n",
       "    </tr>\n",
       "  </tbody>\n",
       "</table>\n",
       "</div>"
      ],
      "text/plain": [
       "                0       1         2         3         4           5  \\\n",
       "headcount  1 to 4  5 to 9  10 to 19  20 to 49  50 to 99  100 to 249   \n",
       "counts     358207  212401    151412    121264     60526       36475   \n",
       "\n",
       "                    6           7           8  \n",
       "headcount  250 to 499  500 to 999  Over 1,000  \n",
       "counts          11138        5250        5600  "
      ]
     },
     "execution_count": 176,
     "metadata": {},
     "output_type": "execute_result"
    }
   ],
   "source": [
    "head.T"
   ]
  },
  {
   "cell_type": "code",
   "execution_count": 181,
   "metadata": {
    "collapsed": false
   },
   "outputs": [
    {
     "data": {
      "text/plain": [
       "59.297933122928733"
      ]
     },
     "execution_count": 181,
     "metadata": {},
     "output_type": "execute_result"
    }
   ],
   "source": [
    "(head.counts[0]+head.counts[1])*100.0/head.counts.sum()"
   ]
  },
  {
   "cell_type": "code",
   "execution_count": 274,
   "metadata": {
    "collapsed": false
   },
   "outputs": [
    {
     "data": {
      "text/html": [
       "\n",
       "\n",
       "    <div class=\"bk-root\">\n",
       "        <div class=\"bk-plotdiv\" id=\"04dbd711-bde9-4ff1-9ed6-ab125240faf2\"></div>\n",
       "    </div>\n",
       "<script type=\"text/javascript\">\n",
       "  \n",
       "  (function(global) {\n",
       "    function now() {\n",
       "      return new Date();\n",
       "    }\n",
       "  \n",
       "    var force = false;\n",
       "  \n",
       "    if (typeof (window._bokeh_onload_callbacks) === \"undefined\" || force === true) {\n",
       "      window._bokeh_onload_callbacks = [];\n",
       "      window._bokeh_is_loading = undefined;\n",
       "    }\n",
       "  \n",
       "  \n",
       "    \n",
       "    if (typeof (window._bokeh_timeout) === \"undefined\" || force === true) {\n",
       "      window._bokeh_timeout = Date.now() + 0;\n",
       "      window._bokeh_failed_load = false;\n",
       "    }\n",
       "  \n",
       "    var NB_LOAD_WARNING = {'data': {'text/html':\n",
       "       \"<div style='background-color: #fdd'>\\n\"+\n",
       "       \"<p>\\n\"+\n",
       "       \"BokehJS does not appear to have successfully loaded. If loading BokehJS from CDN, this \\n\"+\n",
       "       \"may be due to a slow or bad network connection. Possible fixes:\\n\"+\n",
       "       \"</p>\\n\"+\n",
       "       \"<ul>\\n\"+\n",
       "       \"<li>re-rerun `output_notebook()` to attempt to load from CDN again, or</li>\\n\"+\n",
       "       \"<li>use INLINE resources instead, as so:</li>\\n\"+\n",
       "       \"</ul>\\n\"+\n",
       "       \"<code>\\n\"+\n",
       "       \"from bokeh.resources import INLINE\\n\"+\n",
       "       \"output_notebook(resources=INLINE)\\n\"+\n",
       "       \"</code>\\n\"+\n",
       "       \"</div>\"}};\n",
       "  \n",
       "    function display_loaded() {\n",
       "      if (window.Bokeh !== undefined) {\n",
       "        document.getElementById(\"04dbd711-bde9-4ff1-9ed6-ab125240faf2\").textContent = \"BokehJS successfully loaded.\";\n",
       "      } else if (Date.now() < window._bokeh_timeout) {\n",
       "        setTimeout(display_loaded, 100)\n",
       "      }\n",
       "    }\n",
       "  \n",
       "    function run_callbacks() {\n",
       "      window._bokeh_onload_callbacks.forEach(function(callback) { callback() });\n",
       "      delete window._bokeh_onload_callbacks\n",
       "      console.info(\"Bokeh: all callbacks have finished\");\n",
       "    }\n",
       "  \n",
       "    function load_libs(js_urls, callback) {\n",
       "      window._bokeh_onload_callbacks.push(callback);\n",
       "      if (window._bokeh_is_loading > 0) {\n",
       "        console.log(\"Bokeh: BokehJS is being loaded, scheduling callback at\", now());\n",
       "        return null;\n",
       "      }\n",
       "      if (js_urls == null || js_urls.length === 0) {\n",
       "        run_callbacks();\n",
       "        return null;\n",
       "      }\n",
       "      console.log(\"Bokeh: BokehJS not loaded, scheduling load and callback at\", now());\n",
       "      window._bokeh_is_loading = js_urls.length;\n",
       "      for (var i = 0; i < js_urls.length; i++) {\n",
       "        var url = js_urls[i];\n",
       "        var s = document.createElement('script');\n",
       "        s.src = url;\n",
       "        s.async = false;\n",
       "        s.onreadystatechange = s.onload = function() {\n",
       "          window._bokeh_is_loading--;\n",
       "          if (window._bokeh_is_loading === 0) {\n",
       "            console.log(\"Bokeh: all BokehJS libraries loaded\");\n",
       "            run_callbacks()\n",
       "          }\n",
       "        };\n",
       "        s.onerror = function() {\n",
       "          console.warn(\"failed to load library \" + url);\n",
       "        };\n",
       "        console.log(\"Bokeh: injecting script tag for BokehJS library: \", url);\n",
       "        document.getElementsByTagName(\"head\")[0].appendChild(s);\n",
       "      }\n",
       "    };var element = document.getElementById(\"04dbd711-bde9-4ff1-9ed6-ab125240faf2\");\n",
       "    if (element == null) {\n",
       "      console.log(\"Bokeh: ERROR: autoload.js configured with elementid '04dbd711-bde9-4ff1-9ed6-ab125240faf2' but no matching script tag was found. \")\n",
       "      return false;\n",
       "    }\n",
       "  \n",
       "    var js_urls = [];\n",
       "  \n",
       "    var inline_js = [\n",
       "      function(Bokeh) {\n",
       "        (function() {\n",
       "          var fn = function() {\n",
       "            var docs_json = {\"72d078f6-a9b9-4541-8f55-57f3909f1972\":{\"roots\":{\"references\":[{\"attributes\":{\"label\":{\"value\":\"20 to 49\"},\"renderers\":[{\"id\":\"d1b22583-5b81-4016-8a55-c91d23d62fc8\",\"type\":\"GlyphRenderer\"}]},\"id\":\"cf1fdb95-4015-4171-9e1f-dff8aaedf6c5\",\"type\":\"LegendItem\"},{\"attributes\":{\"callback\":null,\"column_names\":[\"line_color\",\"line_alpha\",\"color\",\"fill_alpha\",\"height\",\"width\",\"y\",\"x\",\"label\"],\"data\":{\"chart_index\":[{\"headcount\":\"50 to 99\"}],\"color\":[\"#2ca02c\"],\"fill_alpha\":[0.8],\"headcount\":[\"50 to 99\"],\"height\":[60526.0],\"label\":[{\"headcount\":\"50 to 99\"}],\"line_alpha\":[1.0],\"line_color\":[\"white\"],\"width\":[0.8],\"x\":[\"50 to 99\"],\"y\":[30263.0]}},\"id\":\"27f5a209-6f12-4bce-a4c7-c5fefccb715a\",\"type\":\"ColumnDataSource\"},{\"attributes\":{\"data_source\":{\"id\":\"d90a28cc-3330-45db-9f3a-a88acf2c6bdf\",\"type\":\"ColumnDataSource\"},\"glyph\":{\"id\":\"21f68549-927e-463f-a0ff-b9edbd98c6ae\",\"type\":\"Rect\"},\"hover_glyph\":null,\"nonselection_glyph\":null,\"selection_glyph\":null},\"id\":\"d0f325dc-4d77-4bb2-8d03-e5db9892d226\",\"type\":\"GlyphRenderer\"},{\"attributes\":{\"callback\":null,\"column_names\":[\"line_color\",\"line_alpha\",\"color\",\"fill_alpha\",\"height\",\"width\",\"y\",\"x\",\"label\"],\"data\":{\"chart_index\":[{\"headcount\":\"500 to 999\"}],\"color\":[\"#2ca02c\"],\"fill_alpha\":[0.8],\"headcount\":[\"500 to 999\"],\"height\":[5250.0],\"label\":[{\"headcount\":\"500 to 999\"}],\"line_alpha\":[1.0],\"line_color\":[\"white\"],\"width\":[0.8],\"x\":[\"500 to 999\"],\"y\":[2625.0]}},\"id\":\"f444cc8b-eee6-41fd-bfda-1fdc7e6c0f9b\",\"type\":\"ColumnDataSource\"},{\"attributes\":{\"overlay\":{\"id\":\"991a4b2d-2eff-40cb-a789-d6b3252a9536\",\"type\":\"BoxAnnotation\"},\"plot\":{\"id\":\"979723ec-c3a3-4043-ab48-b0292df157f7\",\"subtype\":\"Chart\",\"type\":\"Plot\"}},\"id\":\"d43f19e8-52e8-408e-a178-56419a21fe1b\",\"type\":\"BoxZoomTool\"},{\"attributes\":{\"plot\":{\"id\":\"979723ec-c3a3-4043-ab48-b0292df157f7\",\"subtype\":\"Chart\",\"type\":\"Plot\"}},\"id\":\"83fcc324-a9ff-446c-a55b-b77409a1233e\",\"type\":\"SaveTool\"},{\"attributes\":{},\"id\":\"f742a9d0-aef8-4cf2-8e4d-7c767179f79f\",\"type\":\"CategoricalTickFormatter\"},{\"attributes\":{\"dimension\":1,\"grid_line_color\":{\"value\":null},\"plot\":{\"id\":\"979723ec-c3a3-4043-ab48-b0292df157f7\",\"subtype\":\"Chart\",\"type\":\"Plot\"},\"ticker\":{\"id\":\"08515207-b9a9-4830-ac40-1dd1136277cc\",\"type\":\"BasicTicker\"}},\"id\":\"8e7aaaa7-d2be-4072-963e-07e3c0d19304\",\"type\":\"Grid\"},{\"attributes\":{\"label\":{\"value\":\"1 to 4\"},\"renderers\":[{\"id\":\"18ff2582-a817-4632-8617-8e584c897f41\",\"type\":\"GlyphRenderer\"}]},\"id\":\"f72dcb2a-ed40-4ccd-800a-7938bcd21bcc\",\"type\":\"LegendItem\"},{\"attributes\":{\"fill_alpha\":{\"field\":\"fill_alpha\"},\"fill_color\":{\"field\":\"color\"},\"height\":{\"field\":\"height\",\"units\":\"data\"},\"line_color\":{\"field\":\"line_color\"},\"width\":{\"field\":\"width\",\"units\":\"data\"},\"x\":{\"field\":\"x\"},\"y\":{\"field\":\"y\"}},\"id\":\"e97bc871-4f9a-4908-9c45-bbf4667756aa\",\"type\":\"Rect\"},{\"attributes\":{\"below\":[{\"id\":\"17422343-77a9-4eab-b280-2439d1c6ebd4\",\"type\":\"CategoricalAxis\"}],\"css_classes\":null,\"left\":[{\"id\":\"8a288412-6a3a-45cb-b477-facb5dea7edd\",\"type\":\"LinearAxis\"}],\"plot_height\":330,\"renderers\":[{\"id\":\"991a4b2d-2eff-40cb-a789-d6b3252a9536\",\"type\":\"BoxAnnotation\"},{\"id\":\"18ff2582-a817-4632-8617-8e584c897f41\",\"type\":\"GlyphRenderer\"},{\"id\":\"d0f325dc-4d77-4bb2-8d03-e5db9892d226\",\"type\":\"GlyphRenderer\"},{\"id\":\"b83cd03f-6db0-4d6c-92e2-f85f8cbc5616\",\"type\":\"GlyphRenderer\"},{\"id\":\"d1b22583-5b81-4016-8a55-c91d23d62fc8\",\"type\":\"GlyphRenderer\"},{\"id\":\"018e2351-0335-40f4-8ce5-fc604a192398\",\"type\":\"GlyphRenderer\"},{\"id\":\"3de61b46-67fc-44d8-ac24-18acb8a87de3\",\"type\":\"GlyphRenderer\"},{\"id\":\"bc552283-cc04-4d52-af23-3f216d3db097\",\"type\":\"GlyphRenderer\"},{\"id\":\"a7298f28-55b9-48f0-b5f7-00d4b4600339\",\"type\":\"GlyphRenderer\"},{\"id\":\"2c453250-fce9-4875-9cac-a04358de6a3f\",\"type\":\"GlyphRenderer\"},{\"id\":\"5b7954f3-cc68-4ca3-8992-f0aa396fe7d6\",\"type\":\"Legend\"},{\"id\":\"17422343-77a9-4eab-b280-2439d1c6ebd4\",\"type\":\"CategoricalAxis\"},{\"id\":\"8a288412-6a3a-45cb-b477-facb5dea7edd\",\"type\":\"LinearAxis\"},{\"id\":\"8e7aaaa7-d2be-4072-963e-07e3c0d19304\",\"type\":\"Grid\"}],\"title\":{\"id\":\"d27e6eb9-3d89-46df-aa15-6e6b285f92f6\",\"type\":\"Title\"},\"tool_events\":{\"id\":\"d5d076bd-4bd4-4ee0-8a78-3c45d608588f\",\"type\":\"ToolEvents\"},\"toolbar\":{\"id\":\"1032b0f0-5845-4e4b-a1eb-79c2bd32e028\",\"type\":\"Toolbar\"},\"x_mapper_type\":\"auto\",\"x_range\":{\"id\":\"892d3372-18fb-4133-96c6-c636a2b453b1\",\"type\":\"FactorRange\"},\"y_mapper_type\":\"auto\",\"y_range\":{\"id\":\"5cc09e13-70ea-4fd2-bf6e-57f2bbc75220\",\"type\":\"Range1d\"}},\"id\":\"979723ec-c3a3-4043-ab48-b0292df157f7\",\"subtype\":\"Chart\",\"type\":\"Plot\"},{\"attributes\":{},\"id\":\"75bc0150-289e-4b95-920c-915d2d5542cc\",\"type\":\"BasicTickFormatter\"},{\"attributes\":{\"label\":{\"value\":\"Over 1,000\"},\"renderers\":[{\"id\":\"2c453250-fce9-4875-9cac-a04358de6a3f\",\"type\":\"GlyphRenderer\"}]},\"id\":\"0f8a8df5-3a3d-4d0c-a0a7-9ab75dddc807\",\"type\":\"LegendItem\"},{\"attributes\":{\"fill_alpha\":{\"field\":\"fill_alpha\"},\"fill_color\":{\"field\":\"color\"},\"height\":{\"field\":\"height\",\"units\":\"data\"},\"line_color\":{\"field\":\"line_color\"},\"width\":{\"field\":\"width\",\"units\":\"data\"},\"x\":{\"field\":\"x\"},\"y\":{\"field\":\"y\"}},\"id\":\"fe8700c4-a2fa-4b54-a275-f7ae9930c5e6\",\"type\":\"Rect\"},{\"attributes\":{\"items\":[{\"id\":\"f72dcb2a-ed40-4ccd-800a-7938bcd21bcc\",\"type\":\"LegendItem\"},{\"id\":\"032772d5-2398-44f6-a6eb-3b9178dea853\",\"type\":\"LegendItem\"},{\"id\":\"f33fd27d-3793-400d-9a4d-db66447a4944\",\"type\":\"LegendItem\"},{\"id\":\"cf1fdb95-4015-4171-9e1f-dff8aaedf6c5\",\"type\":\"LegendItem\"},{\"id\":\"702a60bd-9260-46b6-822c-75a9dcdc2ea7\",\"type\":\"LegendItem\"},{\"id\":\"adcaf5b1-9d46-453e-a733-9b807c6fb60b\",\"type\":\"LegendItem\"},{\"id\":\"7fd01797-a5ae-4fc6-9eed-c7c84d4a3959\",\"type\":\"LegendItem\"},{\"id\":\"19d69abf-c5b5-4f3f-bd90-13f9ccddaa1b\",\"type\":\"LegendItem\"},{\"id\":\"0f8a8df5-3a3d-4d0c-a0a7-9ab75dddc807\",\"type\":\"LegendItem\"}],\"location\":null,\"plot\":{\"id\":\"979723ec-c3a3-4043-ab48-b0292df157f7\",\"subtype\":\"Chart\",\"type\":\"Plot\"}},\"id\":\"5b7954f3-cc68-4ca3-8992-f0aa396fe7d6\",\"type\":\"Legend\"},{\"attributes\":{\"active_drag\":\"auto\",\"active_scroll\":\"auto\",\"active_tap\":\"auto\",\"tools\":[{\"id\":\"3c6979c5-17d7-4e3e-bde9-d316f8841b66\",\"type\":\"PanTool\"},{\"id\":\"bc9dab38-889c-48a4-aeaf-77b3242fe806\",\"type\":\"WheelZoomTool\"},{\"id\":\"d43f19e8-52e8-408e-a178-56419a21fe1b\",\"type\":\"BoxZoomTool\"},{\"id\":\"83fcc324-a9ff-446c-a55b-b77409a1233e\",\"type\":\"SaveTool\"},{\"id\":\"984c8966-325b-4e88-9736-5673e2f842fd\",\"type\":\"ResetTool\"},{\"id\":\"959272d8-d180-4a98-a8ac-2e112a0a8677\",\"type\":\"HelpTool\"}]},\"id\":\"1032b0f0-5845-4e4b-a1eb-79c2bd32e028\",\"type\":\"Toolbar\"},{\"attributes\":{\"label\":{\"value\":\"5 to 9\"},\"renderers\":[{\"id\":\"d0f325dc-4d77-4bb2-8d03-e5db9892d226\",\"type\":\"GlyphRenderer\"}]},\"id\":\"032772d5-2398-44f6-a6eb-3b9178dea853\",\"type\":\"LegendItem\"},{\"attributes\":{\"fill_alpha\":{\"field\":\"fill_alpha\"},\"fill_color\":{\"field\":\"color\"},\"height\":{\"field\":\"height\",\"units\":\"data\"},\"line_color\":{\"field\":\"line_color\"},\"width\":{\"field\":\"width\",\"units\":\"data\"},\"x\":{\"field\":\"x\"},\"y\":{\"field\":\"y\"}},\"id\":\"a632efb1-4ece-45d6-b15c-be69aca7a60f\",\"type\":\"Rect\"},{\"attributes\":{},\"id\":\"5c55c47c-414f-4cd4-bca2-5bba37eeaf03\",\"type\":\"CategoricalTicker\"},{\"attributes\":{\"fill_alpha\":{\"field\":\"fill_alpha\"},\"fill_color\":{\"field\":\"color\"},\"height\":{\"field\":\"height\",\"units\":\"data\"},\"line_color\":{\"field\":\"line_color\"},\"width\":{\"field\":\"width\",\"units\":\"data\"},\"x\":{\"field\":\"x\"},\"y\":{\"field\":\"y\"}},\"id\":\"2a64f704-fdf2-4d3b-b921-2dbf22ea5be6\",\"type\":\"Rect\"},{\"attributes\":{\"plot\":{\"id\":\"979723ec-c3a3-4043-ab48-b0292df157f7\",\"subtype\":\"Chart\",\"type\":\"Plot\"}},\"id\":\"984c8966-325b-4e88-9736-5673e2f842fd\",\"type\":\"ResetTool\"},{\"attributes\":{\"callback\":null,\"column_names\":[\"line_color\",\"line_alpha\",\"color\",\"fill_alpha\",\"height\",\"width\",\"y\",\"x\",\"label\"],\"data\":{\"chart_index\":[{\"headcount\":\"Over 1,000\"}],\"color\":[\"#2ca02c\"],\"fill_alpha\":[0.8],\"headcount\":[\"Over 1,000\"],\"height\":[5600.0],\"label\":[{\"headcount\":\"Over 1,000\"}],\"line_alpha\":[1.0],\"line_color\":[\"white\"],\"width\":[0.8],\"x\":[\"Over 1,000\"],\"y\":[2800.0]}},\"id\":\"19455570-dd56-438b-ae1d-347db8134eb5\",\"type\":\"ColumnDataSource\"},{\"attributes\":{\"callback\":null,\"factors\":[\"1 to 4\",\"5 to 9\",\"10 to 19\",\"20 to 49\",\"50 to 99\",\"100 to 249\",\"250 to 499\",\"500 to 999\",\"Over 1,000\"]},\"id\":\"892d3372-18fb-4133-96c6-c636a2b453b1\",\"type\":\"FactorRange\"},{\"attributes\":{\"axis_label\":\"Counts\",\"formatter\":{\"id\":\"75bc0150-289e-4b95-920c-915d2d5542cc\",\"type\":\"BasicTickFormatter\"},\"minor_tick_line_color\":{\"value\":null},\"plot\":{\"id\":\"979723ec-c3a3-4043-ab48-b0292df157f7\",\"subtype\":\"Chart\",\"type\":\"Plot\"},\"ticker\":{\"id\":\"08515207-b9a9-4830-ac40-1dd1136277cc\",\"type\":\"BasicTicker\"}},\"id\":\"8a288412-6a3a-45cb-b477-facb5dea7edd\",\"type\":\"LinearAxis\"},{\"attributes\":{\"label\":{\"value\":\"100 to 249\"},\"renderers\":[{\"id\":\"3de61b46-67fc-44d8-ac24-18acb8a87de3\",\"type\":\"GlyphRenderer\"}]},\"id\":\"adcaf5b1-9d46-453e-a733-9b807c6fb60b\",\"type\":\"LegendItem\"},{\"attributes\":{},\"id\":\"08515207-b9a9-4830-ac40-1dd1136277cc\",\"type\":\"BasicTicker\"},{\"attributes\":{\"data_source\":{\"id\":\"207cab13-b63a-4f34-844f-677a329875f7\",\"type\":\"ColumnDataSource\"},\"glyph\":{\"id\":\"e97bc871-4f9a-4908-9c45-bbf4667756aa\",\"type\":\"Rect\"},\"hover_glyph\":null,\"nonselection_glyph\":null,\"selection_glyph\":null},\"id\":\"bc552283-cc04-4d52-af23-3f216d3db097\",\"type\":\"GlyphRenderer\"},{\"attributes\":{\"callback\":null,\"column_names\":[\"line_color\",\"line_alpha\",\"color\",\"fill_alpha\",\"height\",\"width\",\"y\",\"x\",\"label\"],\"data\":{\"chart_index\":[{\"headcount\":\"10 to 19\"}],\"color\":[\"#2ca02c\"],\"fill_alpha\":[0.8],\"headcount\":[\"10 to 19\"],\"height\":[151412.0],\"label\":[{\"headcount\":\"10 to 19\"}],\"line_alpha\":[1.0],\"line_color\":[\"white\"],\"width\":[0.8],\"x\":[\"10 to 19\"],\"y\":[75706.0]}},\"id\":\"f8ec7e1d-e779-42aa-a0e3-f4445de51117\",\"type\":\"ColumnDataSource\"},{\"attributes\":{\"label\":{\"value\":\"250 to 499\"},\"renderers\":[{\"id\":\"bc552283-cc04-4d52-af23-3f216d3db097\",\"type\":\"GlyphRenderer\"}]},\"id\":\"7fd01797-a5ae-4fc6-9eed-c7c84d4a3959\",\"type\":\"LegendItem\"},{\"attributes\":{\"plot\":{\"id\":\"979723ec-c3a3-4043-ab48-b0292df157f7\",\"subtype\":\"Chart\",\"type\":\"Plot\"}},\"id\":\"959272d8-d180-4a98-a8ac-2e112a0a8677\",\"type\":\"HelpTool\"},{\"attributes\":{\"data_source\":{\"id\":\"94a62c01-b8e7-4ee4-8c5b-44773e019ffe\",\"type\":\"ColumnDataSource\"},\"glyph\":{\"id\":\"fe8700c4-a2fa-4b54-a275-f7ae9930c5e6\",\"type\":\"Rect\"},\"hover_glyph\":null,\"nonselection_glyph\":null,\"selection_glyph\":null},\"id\":\"18ff2582-a817-4632-8617-8e584c897f41\",\"type\":\"GlyphRenderer\"},{\"attributes\":{\"label\":{\"value\":\"500 to 999\"},\"renderers\":[{\"id\":\"a7298f28-55b9-48f0-b5f7-00d4b4600339\",\"type\":\"GlyphRenderer\"}]},\"id\":\"19d69abf-c5b5-4f3f-bd90-13f9ccddaa1b\",\"type\":\"LegendItem\"},{\"attributes\":{\"fill_alpha\":{\"field\":\"fill_alpha\"},\"fill_color\":{\"field\":\"color\"},\"height\":{\"field\":\"height\",\"units\":\"data\"},\"line_color\":{\"field\":\"line_color\"},\"width\":{\"field\":\"width\",\"units\":\"data\"},\"x\":{\"field\":\"x\"},\"y\":{\"field\":\"y\"}},\"id\":\"df15683b-10a4-4873-9a03-0900ca0abef9\",\"type\":\"Rect\"},{\"attributes\":{\"data_source\":{\"id\":\"27f5a209-6f12-4bce-a4c7-c5fefccb715a\",\"type\":\"ColumnDataSource\"},\"glyph\":{\"id\":\"3850f3f2-e5c4-41d5-888c-8bdcc7e69d5a\",\"type\":\"Rect\"},\"hover_glyph\":null,\"nonselection_glyph\":null,\"selection_glyph\":null},\"id\":\"018e2351-0335-40f4-8ce5-fc604a192398\",\"type\":\"GlyphRenderer\"},{\"attributes\":{\"callback\":null,\"column_names\":[\"line_color\",\"line_alpha\",\"color\",\"fill_alpha\",\"height\",\"width\",\"y\",\"x\",\"label\"],\"data\":{\"chart_index\":[{\"headcount\":\"100 to 249\"}],\"color\":[\"#2ca02c\"],\"fill_alpha\":[0.8],\"headcount\":[\"100 to 249\"],\"height\":[36475.0],\"label\":[{\"headcount\":\"100 to 249\"}],\"line_alpha\":[1.0],\"line_color\":[\"white\"],\"width\":[0.8],\"x\":[\"100 to 249\"],\"y\":[18237.5]}},\"id\":\"ed6e3c66-f050-46c8-aab9-8683c411eaf0\",\"type\":\"ColumnDataSource\"},{\"attributes\":{\"plot\":{\"id\":\"979723ec-c3a3-4043-ab48-b0292df157f7\",\"subtype\":\"Chart\",\"type\":\"Plot\"}},\"id\":\"3c6979c5-17d7-4e3e-bde9-d316f8841b66\",\"type\":\"PanTool\"},{\"attributes\":{\"bottom_units\":\"screen\",\"fill_alpha\":{\"value\":0.5},\"fill_color\":{\"value\":\"lightgrey\"},\"left_units\":\"screen\",\"level\":\"overlay\",\"line_alpha\":{\"value\":1.0},\"line_color\":{\"value\":\"black\"},\"line_dash\":[4,4],\"line_width\":{\"value\":2},\"plot\":null,\"render_mode\":\"css\",\"right_units\":\"screen\",\"top_units\":\"screen\"},\"id\":\"991a4b2d-2eff-40cb-a789-d6b3252a9536\",\"type\":\"BoxAnnotation\"},{\"attributes\":{\"fill_alpha\":{\"field\":\"fill_alpha\"},\"fill_color\":{\"field\":\"color\"},\"height\":{\"field\":\"height\",\"units\":\"data\"},\"line_color\":{\"field\":\"line_color\"},\"width\":{\"field\":\"width\",\"units\":\"data\"},\"x\":{\"field\":\"x\"},\"y\":{\"field\":\"y\"}},\"id\":\"ab03ccd3-12e5-4d1d-adb3-525bf5ac11ed\",\"type\":\"Rect\"},{\"attributes\":{\"data_source\":{\"id\":\"4e0e2908-3691-4904-8d11-9835c36c28ae\",\"type\":\"ColumnDataSource\"},\"glyph\":{\"id\":\"2a64f704-fdf2-4d3b-b921-2dbf22ea5be6\",\"type\":\"Rect\"},\"hover_glyph\":null,\"nonselection_glyph\":null,\"selection_glyph\":null},\"id\":\"d1b22583-5b81-4016-8a55-c91d23d62fc8\",\"type\":\"GlyphRenderer\"},{\"attributes\":{\"plot\":{\"id\":\"979723ec-c3a3-4043-ab48-b0292df157f7\",\"subtype\":\"Chart\",\"type\":\"Plot\"}},\"id\":\"bc9dab38-889c-48a4-aeaf-77b3242fe806\",\"type\":\"WheelZoomTool\"},{\"attributes\":{\"callback\":null,\"column_names\":[\"line_color\",\"line_alpha\",\"color\",\"fill_alpha\",\"height\",\"width\",\"y\",\"x\",\"label\"],\"data\":{\"chart_index\":[{\"headcount\":\"5 to 9\"}],\"color\":[\"#2ca02c\"],\"fill_alpha\":[0.8],\"headcount\":[\"5 to 9\"],\"height\":[212401.0],\"label\":[{\"headcount\":\"5 to 9\"}],\"line_alpha\":[1.0],\"line_color\":[\"white\"],\"width\":[0.8],\"x\":[\"5 to 9\"],\"y\":[106200.5]}},\"id\":\"d90a28cc-3330-45db-9f3a-a88acf2c6bdf\",\"type\":\"ColumnDataSource\"},{\"attributes\":{\"fill_alpha\":{\"field\":\"fill_alpha\"},\"fill_color\":{\"field\":\"color\"},\"height\":{\"field\":\"height\",\"units\":\"data\"},\"line_color\":{\"field\":\"line_color\"},\"width\":{\"field\":\"width\",\"units\":\"data\"},\"x\":{\"field\":\"x\"},\"y\":{\"field\":\"y\"}},\"id\":\"3850f3f2-e5c4-41d5-888c-8bdcc7e69d5a\",\"type\":\"Rect\"},{\"attributes\":{},\"id\":\"d5d076bd-4bd4-4ee0-8a78-3c45d608588f\",\"type\":\"ToolEvents\"},{\"attributes\":{\"callback\":null,\"end\":376117.35},\"id\":\"5cc09e13-70ea-4fd2-bf6e-57f2bbc75220\",\"type\":\"Range1d\"},{\"attributes\":{\"fill_alpha\":{\"field\":\"fill_alpha\"},\"fill_color\":{\"field\":\"color\"},\"height\":{\"field\":\"height\",\"units\":\"data\"},\"line_color\":{\"field\":\"line_color\"},\"width\":{\"field\":\"width\",\"units\":\"data\"},\"x\":{\"field\":\"x\"},\"y\":{\"field\":\"y\"}},\"id\":\"2de8de16-d5fd-4e2e-ad4b-efb5110ed804\",\"type\":\"Rect\"},{\"attributes\":{\"callback\":null,\"column_names\":[\"line_color\",\"line_alpha\",\"color\",\"fill_alpha\",\"height\",\"width\",\"y\",\"x\",\"label\"],\"data\":{\"chart_index\":[{\"headcount\":\"20 to 49\"}],\"color\":[\"#2ca02c\"],\"fill_alpha\":[0.8],\"headcount\":[\"20 to 49\"],\"height\":[121264.0],\"label\":[{\"headcount\":\"20 to 49\"}],\"line_alpha\":[1.0],\"line_color\":[\"white\"],\"width\":[0.8],\"x\":[\"20 to 49\"],\"y\":[60632.0]}},\"id\":\"4e0e2908-3691-4904-8d11-9835c36c28ae\",\"type\":\"ColumnDataSource\"},{\"attributes\":{\"callback\":null,\"column_names\":[\"line_color\",\"line_alpha\",\"color\",\"fill_alpha\",\"height\",\"width\",\"y\",\"x\",\"label\"],\"data\":{\"chart_index\":[{\"headcount\":\"250 to 499\"}],\"color\":[\"#2ca02c\"],\"fill_alpha\":[0.8],\"headcount\":[\"250 to 499\"],\"height\":[11138.0],\"label\":[{\"headcount\":\"250 to 499\"}],\"line_alpha\":[1.0],\"line_color\":[\"white\"],\"width\":[0.8],\"x\":[\"250 to 499\"],\"y\":[5569.0]}},\"id\":\"207cab13-b63a-4f34-844f-677a329875f7\",\"type\":\"ColumnDataSource\"},{\"attributes\":{\"callback\":null,\"column_names\":[\"line_color\",\"line_alpha\",\"color\",\"fill_alpha\",\"height\",\"width\",\"y\",\"x\",\"label\"],\"data\":{\"chart_index\":[{\"headcount\":\"1 to 4\"}],\"color\":[\"#2ca02c\"],\"fill_alpha\":[0.8],\"headcount\":[\"1 to 4\"],\"height\":[358207.0],\"label\":[{\"headcount\":\"1 to 4\"}],\"line_alpha\":[1.0],\"line_color\":[\"white\"],\"width\":[0.8],\"x\":[\"1 to 4\"],\"y\":[179103.5]}},\"id\":\"94a62c01-b8e7-4ee4-8c5b-44773e019ffe\",\"type\":\"ColumnDataSource\"},{\"attributes\":{\"data_source\":{\"id\":\"19455570-dd56-438b-ae1d-347db8134eb5\",\"type\":\"ColumnDataSource\"},\"glyph\":{\"id\":\"ab03ccd3-12e5-4d1d-adb3-525bf5ac11ed\",\"type\":\"Rect\"},\"hover_glyph\":null,\"nonselection_glyph\":null,\"selection_glyph\":null},\"id\":\"2c453250-fce9-4875-9cac-a04358de6a3f\",\"type\":\"GlyphRenderer\"},{\"attributes\":{\"label\":{\"value\":\"10 to 19\"},\"renderers\":[{\"id\":\"b83cd03f-6db0-4d6c-92e2-f85f8cbc5616\",\"type\":\"GlyphRenderer\"}]},\"id\":\"f33fd27d-3793-400d-9a4d-db66447a4944\",\"type\":\"LegendItem\"},{\"attributes\":{\"plot\":null,\"text\":\"Counts of Businesses by Employee Numbers (HeadCount)\"},\"id\":\"d27e6eb9-3d89-46df-aa15-6e6b285f92f6\",\"type\":\"Title\"},{\"attributes\":{\"data_source\":{\"id\":\"ed6e3c66-f050-46c8-aab9-8683c411eaf0\",\"type\":\"ColumnDataSource\"},\"glyph\":{\"id\":\"a632efb1-4ece-45d6-b15c-be69aca7a60f\",\"type\":\"Rect\"},\"hover_glyph\":null,\"nonselection_glyph\":null,\"selection_glyph\":null},\"id\":\"3de61b46-67fc-44d8-ac24-18acb8a87de3\",\"type\":\"GlyphRenderer\"},{\"attributes\":{\"data_source\":{\"id\":\"f8ec7e1d-e779-42aa-a0e3-f4445de51117\",\"type\":\"ColumnDataSource\"},\"glyph\":{\"id\":\"2de8de16-d5fd-4e2e-ad4b-efb5110ed804\",\"type\":\"Rect\"},\"hover_glyph\":null,\"nonselection_glyph\":null,\"selection_glyph\":null},\"id\":\"b83cd03f-6db0-4d6c-92e2-f85f8cbc5616\",\"type\":\"GlyphRenderer\"},{\"attributes\":{\"label\":{\"value\":\"50 to 99\"},\"renderers\":[{\"id\":\"018e2351-0335-40f4-8ce5-fc604a192398\",\"type\":\"GlyphRenderer\"}]},\"id\":\"702a60bd-9260-46b6-822c-75a9dcdc2ea7\",\"type\":\"LegendItem\"},{\"attributes\":{\"data_source\":{\"id\":\"f444cc8b-eee6-41fd-bfda-1fdc7e6c0f9b\",\"type\":\"ColumnDataSource\"},\"glyph\":{\"id\":\"df15683b-10a4-4873-9a03-0900ca0abef9\",\"type\":\"Rect\"},\"hover_glyph\":null,\"nonselection_glyph\":null,\"selection_glyph\":null},\"id\":\"a7298f28-55b9-48f0-b5f7-00d4b4600339\",\"type\":\"GlyphRenderer\"},{\"attributes\":{\"fill_alpha\":{\"field\":\"fill_alpha\"},\"fill_color\":{\"field\":\"color\"},\"height\":{\"field\":\"height\",\"units\":\"data\"},\"line_color\":{\"field\":\"line_color\"},\"width\":{\"field\":\"width\",\"units\":\"data\"},\"x\":{\"field\":\"x\"},\"y\":{\"field\":\"y\"}},\"id\":\"21f68549-927e-463f-a0ff-b9edbd98c6ae\",\"type\":\"Rect\"},{\"attributes\":{\"axis_label\":null,\"formatter\":{\"id\":\"f742a9d0-aef8-4cf2-8e4d-7c767179f79f\",\"type\":\"CategoricalTickFormatter\"},\"major_label_orientation\":0.7853981633974483,\"plot\":{\"id\":\"979723ec-c3a3-4043-ab48-b0292df157f7\",\"subtype\":\"Chart\",\"type\":\"Plot\"},\"ticker\":{\"id\":\"5c55c47c-414f-4cd4-bca2-5bba37eeaf03\",\"type\":\"CategoricalTicker\"}},\"id\":\"17422343-77a9-4eab-b280-2439d1c6ebd4\",\"type\":\"CategoricalAxis\"}],\"root_ids\":[\"979723ec-c3a3-4043-ab48-b0292df157f7\"]},\"title\":\"Bokeh Application\",\"version\":\"0.12.4\"}};\n",
       "            var render_items = [{\"docid\":\"72d078f6-a9b9-4541-8f55-57f3909f1972\",\"elementid\":\"04dbd711-bde9-4ff1-9ed6-ab125240faf2\",\"modelid\":\"979723ec-c3a3-4043-ab48-b0292df157f7\"}];\n",
       "            \n",
       "            Bokeh.embed.embed_items(docs_json, render_items);\n",
       "          };\n",
       "          if (document.readyState != \"loading\") fn();\n",
       "          else document.addEventListener(\"DOMContentLoaded\", fn);\n",
       "        })();\n",
       "      },\n",
       "      function(Bokeh) {\n",
       "      }\n",
       "    ];\n",
       "  \n",
       "    function run_inline_js() {\n",
       "      \n",
       "      if ((window.Bokeh !== undefined) || (force === true)) {\n",
       "        for (var i = 0; i < inline_js.length; i++) {\n",
       "          inline_js[i](window.Bokeh);\n",
       "        }if (force === true) {\n",
       "          display_loaded();\n",
       "        }} else if (Date.now() < window._bokeh_timeout) {\n",
       "        setTimeout(run_inline_js, 100);\n",
       "      } else if (!window._bokeh_failed_load) {\n",
       "        console.log(\"Bokeh: BokehJS failed to load within specified timeout.\");\n",
       "        window._bokeh_failed_load = true;\n",
       "      } else if (force !== true) {\n",
       "        var cell = $(document.getElementById(\"04dbd711-bde9-4ff1-9ed6-ab125240faf2\")).parents('.cell').data().cell;\n",
       "        cell.output_area.append_execute_result(NB_LOAD_WARNING)\n",
       "      }\n",
       "  \n",
       "    }\n",
       "  \n",
       "    if (window._bokeh_is_loading === 0) {\n",
       "      console.log(\"Bokeh: BokehJS loaded, going straight to plotting\");\n",
       "      run_inline_js();\n",
       "    } else {\n",
       "      load_libs(js_urls, function() {\n",
       "        console.log(\"Bokeh: BokehJS plotting callback run at\", now());\n",
       "        run_inline_js();\n",
       "      });\n",
       "    }\n",
       "  }(this));\n",
       "</script>"
      ]
     },
     "metadata": {},
     "output_type": "display_data"
    }
   ],
   "source": [
    "p = Bar(head,  values ='counts', \n",
    "        label=CatAttr(columns=['headcount'], sort=False),\n",
    "        title=\"Counts of Businesses by Employee Numbers (HeadCount)\", \n",
    "        plot_width=600, plot_height=330, color = '#2ca02c')\n",
    "p.ygrid.grid_line_color = None\n",
    "p.yaxis.minor_tick_line_color = None\n",
    "p.xaxis.axis_label = None\n",
    "p.yaxis.axis_label = \"Counts\"\n",
    "p.legend.location = None\n",
    "show(p)"
   ]
  },
  {
   "cell_type": "markdown",
   "metadata": {},
   "source": [
    "### II.3. Analysis of Time_in_Business"
   ]
  },
  {
   "cell_type": "code",
   "execution_count": 29,
   "metadata": {
    "collapsed": false
   },
   "outputs": [
    {
     "data": {
      "text/plain": [
       "Counter({None: 83875,\n",
       "         0: 7,\n",
       "         u'': 11,\n",
       "         u' ': 13,\n",
       "         u'0': 15,\n",
       "         u'1-2 years': 12756,\n",
       "         u'10+ years': 758867,\n",
       "         u'3-5 years': 38280,\n",
       "         u'6-10 years': 106144,\n",
       "         u'Less than a year': 1,\n",
       "         u'none': 14,\n",
       "         u'null': 17})"
      ]
     },
     "execution_count": 29,
     "metadata": {},
     "output_type": "execute_result"
    }
   ],
   "source": [
    "Counter ( [row['time_in_business'] for row in data] )"
   ]
  },
  {
   "cell_type": "code",
   "execution_count": 30,
   "metadata": {
    "collapsed": true
   },
   "outputs": [],
   "source": [
    "tib_check = [None, 0, '', ' ', '0', 'none', 'null']"
   ]
  },
  {
   "cell_type": "code",
   "execution_count": 31,
   "metadata": {
    "collapsed": true
   },
   "outputs": [],
   "source": [
    "tib_invalid_vals, tib_valid_vals = true_fill_rate('time_in_business', tib_check)"
   ]
  },
  {
   "cell_type": "code",
   "execution_count": 32,
   "metadata": {
    "collapsed": false
   },
   "outputs": [
    {
     "name": "stdout",
     "output_type": "stream",
     "text": [
      "\n",
      "True-valued fill rate for the Time_in_Business field is 916048 (over 1000000 data point, which is 91.6048%), compared to the fill rate of 916118\n"
     ]
    }
   ],
   "source": [
    "true_fill_rate_dict['time_in_business'] = len( tib_valid_vals )\n",
    "\n",
    "print '\\nTrue-valued fill rate for the Time_in_Business field is {} (over {} data point, which is {}%), \\\n",
    "compared to the fill rate of {}'.\\\n",
    "format(len( tib_valid_vals ), size, len( tib_valid_vals )*100.0/size, fill_rate_dict['time_in_business'])"
   ]
  },
  {
   "cell_type": "code",
   "execution_count": 33,
   "metadata": {
    "collapsed": false
   },
   "outputs": [
    {
     "name": "stdout",
     "output_type": "stream",
     "text": [
      "The total number of unique values in Time_in_Business field is 5\n"
     ]
    }
   ],
   "source": [
    "unique_vals['time_in_business'] = len(set(tib_valid_vals))\n",
    "print 'The total number of unique values in Time_in_Business field is', unique_vals['time_in_business']"
   ]
  },
  {
   "cell_type": "code",
   "execution_count": 34,
   "metadata": {
    "collapsed": false
   },
   "outputs": [],
   "source": [
    "tib = pd.DataFrame.from_dict(Counter(tib_valid_vals), orient='index').reset_index()\n",
    "tib.columns = ['time_in_business', 'counts']\n",
    "tib = tib.sort_values('counts', ascending = True)"
   ]
  },
  {
   "cell_type": "code",
   "execution_count": 178,
   "metadata": {
    "collapsed": false
   },
   "outputs": [
    {
     "data": {
      "text/html": [
       "<div>\n",
       "<table border=\"1\" class=\"dataframe\">\n",
       "  <thead>\n",
       "    <tr style=\"text-align: right;\">\n",
       "      <th></th>\n",
       "      <th>time_in_business</th>\n",
       "      <th>counts</th>\n",
       "    </tr>\n",
       "  </thead>\n",
       "  <tbody>\n",
       "    <tr>\n",
       "      <th>0</th>\n",
       "      <td>Less than a year</td>\n",
       "      <td>1</td>\n",
       "    </tr>\n",
       "    <tr>\n",
       "      <th>2</th>\n",
       "      <td>1-2 years</td>\n",
       "      <td>12756</td>\n",
       "    </tr>\n",
       "    <tr>\n",
       "      <th>1</th>\n",
       "      <td>3-5 years</td>\n",
       "      <td>38280</td>\n",
       "    </tr>\n",
       "    <tr>\n",
       "      <th>3</th>\n",
       "      <td>6-10 years</td>\n",
       "      <td>106144</td>\n",
       "    </tr>\n",
       "    <tr>\n",
       "      <th>4</th>\n",
       "      <td>10+ years</td>\n",
       "      <td>758867</td>\n",
       "    </tr>\n",
       "  </tbody>\n",
       "</table>\n",
       "</div>"
      ],
      "text/plain": [
       "   time_in_business  counts\n",
       "0  Less than a year       1\n",
       "2         1-2 years   12756\n",
       "1         3-5 years   38280\n",
       "3        6-10 years  106144\n",
       "4         10+ years  758867"
      ]
     },
     "execution_count": 178,
     "metadata": {},
     "output_type": "execute_result"
    }
   ],
   "source": [
    "tib"
   ]
  },
  {
   "cell_type": "code",
   "execution_count": 180,
   "metadata": {
    "collapsed": false
   },
   "outputs": [
    {
     "data": {
      "text/plain": [
       "82.841401323948091"
      ]
     },
     "execution_count": 180,
     "metadata": {},
     "output_type": "execute_result"
    }
   ],
   "source": [
    "tib.counts[4]*100.0/tib.counts.sum()"
   ]
  },
  {
   "cell_type": "code",
   "execution_count": 276,
   "metadata": {
    "collapsed": false
   },
   "outputs": [
    {
     "data": {
      "text/html": [
       "\n",
       "\n",
       "    <div class=\"bk-root\">\n",
       "        <div class=\"bk-plotdiv\" id=\"5f436fff-f5a0-4fef-85d1-e8a7053a5e21\"></div>\n",
       "    </div>\n",
       "<script type=\"text/javascript\">\n",
       "  \n",
       "  (function(global) {\n",
       "    function now() {\n",
       "      return new Date();\n",
       "    }\n",
       "  \n",
       "    var force = false;\n",
       "  \n",
       "    if (typeof (window._bokeh_onload_callbacks) === \"undefined\" || force === true) {\n",
       "      window._bokeh_onload_callbacks = [];\n",
       "      window._bokeh_is_loading = undefined;\n",
       "    }\n",
       "  \n",
       "  \n",
       "    \n",
       "    if (typeof (window._bokeh_timeout) === \"undefined\" || force === true) {\n",
       "      window._bokeh_timeout = Date.now() + 0;\n",
       "      window._bokeh_failed_load = false;\n",
       "    }\n",
       "  \n",
       "    var NB_LOAD_WARNING = {'data': {'text/html':\n",
       "       \"<div style='background-color: #fdd'>\\n\"+\n",
       "       \"<p>\\n\"+\n",
       "       \"BokehJS does not appear to have successfully loaded. If loading BokehJS from CDN, this \\n\"+\n",
       "       \"may be due to a slow or bad network connection. Possible fixes:\\n\"+\n",
       "       \"</p>\\n\"+\n",
       "       \"<ul>\\n\"+\n",
       "       \"<li>re-rerun `output_notebook()` to attempt to load from CDN again, or</li>\\n\"+\n",
       "       \"<li>use INLINE resources instead, as so:</li>\\n\"+\n",
       "       \"</ul>\\n\"+\n",
       "       \"<code>\\n\"+\n",
       "       \"from bokeh.resources import INLINE\\n\"+\n",
       "       \"output_notebook(resources=INLINE)\\n\"+\n",
       "       \"</code>\\n\"+\n",
       "       \"</div>\"}};\n",
       "  \n",
       "    function display_loaded() {\n",
       "      if (window.Bokeh !== undefined) {\n",
       "        document.getElementById(\"5f436fff-f5a0-4fef-85d1-e8a7053a5e21\").textContent = \"BokehJS successfully loaded.\";\n",
       "      } else if (Date.now() < window._bokeh_timeout) {\n",
       "        setTimeout(display_loaded, 100)\n",
       "      }\n",
       "    }\n",
       "  \n",
       "    function run_callbacks() {\n",
       "      window._bokeh_onload_callbacks.forEach(function(callback) { callback() });\n",
       "      delete window._bokeh_onload_callbacks\n",
       "      console.info(\"Bokeh: all callbacks have finished\");\n",
       "    }\n",
       "  \n",
       "    function load_libs(js_urls, callback) {\n",
       "      window._bokeh_onload_callbacks.push(callback);\n",
       "      if (window._bokeh_is_loading > 0) {\n",
       "        console.log(\"Bokeh: BokehJS is being loaded, scheduling callback at\", now());\n",
       "        return null;\n",
       "      }\n",
       "      if (js_urls == null || js_urls.length === 0) {\n",
       "        run_callbacks();\n",
       "        return null;\n",
       "      }\n",
       "      console.log(\"Bokeh: BokehJS not loaded, scheduling load and callback at\", now());\n",
       "      window._bokeh_is_loading = js_urls.length;\n",
       "      for (var i = 0; i < js_urls.length; i++) {\n",
       "        var url = js_urls[i];\n",
       "        var s = document.createElement('script');\n",
       "        s.src = url;\n",
       "        s.async = false;\n",
       "        s.onreadystatechange = s.onload = function() {\n",
       "          window._bokeh_is_loading--;\n",
       "          if (window._bokeh_is_loading === 0) {\n",
       "            console.log(\"Bokeh: all BokehJS libraries loaded\");\n",
       "            run_callbacks()\n",
       "          }\n",
       "        };\n",
       "        s.onerror = function() {\n",
       "          console.warn(\"failed to load library \" + url);\n",
       "        };\n",
       "        console.log(\"Bokeh: injecting script tag for BokehJS library: \", url);\n",
       "        document.getElementsByTagName(\"head\")[0].appendChild(s);\n",
       "      }\n",
       "    };var element = document.getElementById(\"5f436fff-f5a0-4fef-85d1-e8a7053a5e21\");\n",
       "    if (element == null) {\n",
       "      console.log(\"Bokeh: ERROR: autoload.js configured with elementid '5f436fff-f5a0-4fef-85d1-e8a7053a5e21' but no matching script tag was found. \")\n",
       "      return false;\n",
       "    }\n",
       "  \n",
       "    var js_urls = [];\n",
       "  \n",
       "    var inline_js = [\n",
       "      function(Bokeh) {\n",
       "        (function() {\n",
       "          var fn = function() {\n",
       "            var docs_json = {\"753d2204-b06e-49ff-baed-aa068fcd6c28\":{\"roots\":{\"references\":[{\"attributes\":{\"callback\":null,\"column_names\":[\"line_color\",\"line_alpha\",\"color\",\"fill_alpha\",\"height\",\"width\",\"y\",\"x\",\"label\"],\"data\":{\"chart_index\":[{\"time_in_business\":\"10+ years\"}],\"color\":[\"red\"],\"fill_alpha\":[0.8],\"height\":[758867.0],\"label\":[{\"time_in_business\":\"10+ years\"}],\"line_alpha\":[1.0],\"line_color\":[\"white\"],\"time_in_business\":[\"10+ years\"],\"width\":[0.8],\"x\":[\"10+ years\"],\"y\":[379433.5]}},\"id\":\"acb6911c-09bd-41f0-98f4-1e04f308b4ea\",\"type\":\"ColumnDataSource\"},{\"attributes\":{\"callback\":null,\"end\":796810.35},\"id\":\"64457c81-824f-4902-93ab-32a5fc95d04c\",\"type\":\"Range1d\"},{\"attributes\":{\"label\":{\"value\":\"3-5 years\"},\"renderers\":[{\"id\":\"ccf4b1bc-74a4-43d2-93dd-5b3de64d4ad5\",\"type\":\"GlyphRenderer\"}]},\"id\":\"a9145841-bb6a-4902-9e74-e84098c8bc32\",\"type\":\"LegendItem\"},{\"attributes\":{\"plot\":{\"id\":\"241259d2-3c7a-4dc4-8776-0ad62522ca37\",\"subtype\":\"Chart\",\"type\":\"Plot\"}},\"id\":\"d3517375-b25b-429b-9e3a-3f4faad8f77b\",\"type\":\"WheelZoomTool\"},{\"attributes\":{\"dimension\":1,\"grid_line_color\":{\"value\":null},\"plot\":{\"id\":\"241259d2-3c7a-4dc4-8776-0ad62522ca37\",\"subtype\":\"Chart\",\"type\":\"Plot\"},\"ticker\":{\"id\":\"5512d53c-543c-4ba2-ba75-763685184d5f\",\"type\":\"BasicTicker\"}},\"id\":\"e015adde-888d-4f72-a263-241ee5c08790\",\"type\":\"Grid\"},{\"attributes\":{\"label\":{\"value\":\"10+ years\"},\"renderers\":[{\"id\":\"d0dc940e-9fc1-49fb-9603-b07f03f6253a\",\"type\":\"GlyphRenderer\"}]},\"id\":\"a5444d85-0143-4128-aa39-fec9f8e3ae2a\",\"type\":\"LegendItem\"},{\"attributes\":{\"below\":[{\"id\":\"7615ace4-df54-44fd-bf95-9d8a5364cd15\",\"type\":\"CategoricalAxis\"}],\"css_classes\":null,\"left\":[{\"id\":\"2332a699-1574-4c3b-9019-4bd2884845a0\",\"type\":\"LinearAxis\"}],\"plot_height\":350,\"renderers\":[{\"id\":\"3fadad4b-ad9c-4af8-ad45-b5b20d3c1167\",\"type\":\"BoxAnnotation\"},{\"id\":\"0150b847-25b0-43b4-9923-95ae44b98fa5\",\"type\":\"GlyphRenderer\"},{\"id\":\"73b10195-6625-45f9-9590-80a3ddd23c1a\",\"type\":\"GlyphRenderer\"},{\"id\":\"ccf4b1bc-74a4-43d2-93dd-5b3de64d4ad5\",\"type\":\"GlyphRenderer\"},{\"id\":\"9e238dce-77f5-48b3-b55a-d5d20701f95d\",\"type\":\"GlyphRenderer\"},{\"id\":\"d0dc940e-9fc1-49fb-9603-b07f03f6253a\",\"type\":\"GlyphRenderer\"},{\"id\":\"c08c1db4-3065-4286-8748-3dd02810e925\",\"type\":\"Legend\"},{\"id\":\"7615ace4-df54-44fd-bf95-9d8a5364cd15\",\"type\":\"CategoricalAxis\"},{\"id\":\"2332a699-1574-4c3b-9019-4bd2884845a0\",\"type\":\"LinearAxis\"},{\"id\":\"e015adde-888d-4f72-a263-241ee5c08790\",\"type\":\"Grid\"}],\"title\":{\"id\":\"64fe2ca1-6ae9-4211-8023-c5f930a619bd\",\"type\":\"Title\"},\"tool_events\":{\"id\":\"d6101e80-78cc-4431-8c3f-9db2490f127b\",\"type\":\"ToolEvents\"},\"toolbar\":{\"id\":\"f92073ff-a64b-4728-b08e-5e7dfc3485aa\",\"type\":\"Toolbar\"},\"x_mapper_type\":\"auto\",\"x_range\":{\"id\":\"938b4f29-75e6-4e86-b18e-c06c10e2c10e\",\"type\":\"FactorRange\"},\"y_mapper_type\":\"auto\",\"y_range\":{\"id\":\"64457c81-824f-4902-93ab-32a5fc95d04c\",\"type\":\"Range1d\"}},\"id\":\"241259d2-3c7a-4dc4-8776-0ad62522ca37\",\"subtype\":\"Chart\",\"type\":\"Plot\"},{\"attributes\":{\"items\":[{\"id\":\"8ed416ea-32d9-4617-b5be-cab76356f4bc\",\"type\":\"LegendItem\"},{\"id\":\"db513604-1fb6-481f-bfbd-cd37c9642001\",\"type\":\"LegendItem\"},{\"id\":\"a9145841-bb6a-4902-9e74-e84098c8bc32\",\"type\":\"LegendItem\"},{\"id\":\"2c54f1e0-bfb1-4e22-aa48-7f4b7a0fc5e9\",\"type\":\"LegendItem\"},{\"id\":\"a5444d85-0143-4128-aa39-fec9f8e3ae2a\",\"type\":\"LegendItem\"}],\"location\":null,\"plot\":{\"id\":\"241259d2-3c7a-4dc4-8776-0ad62522ca37\",\"subtype\":\"Chart\",\"type\":\"Plot\"}},\"id\":\"c08c1db4-3065-4286-8748-3dd02810e925\",\"type\":\"Legend\"},{\"attributes\":{\"label\":{\"value\":\"1-2 years\"},\"renderers\":[{\"id\":\"73b10195-6625-45f9-9590-80a3ddd23c1a\",\"type\":\"GlyphRenderer\"}]},\"id\":\"db513604-1fb6-481f-bfbd-cd37c9642001\",\"type\":\"LegendItem\"},{\"attributes\":{\"data_source\":{\"id\":\"ab052f22-de12-4773-8523-d5293fc2ae2b\",\"type\":\"ColumnDataSource\"},\"glyph\":{\"id\":\"87dc4d1a-20c2-4068-adf9-0601db47c0b4\",\"type\":\"Rect\"},\"hover_glyph\":null,\"nonselection_glyph\":null,\"selection_glyph\":null},\"id\":\"9e238dce-77f5-48b3-b55a-d5d20701f95d\",\"type\":\"GlyphRenderer\"},{\"attributes\":{},\"id\":\"d6101e80-78cc-4431-8c3f-9db2490f127b\",\"type\":\"ToolEvents\"},{\"attributes\":{\"axis_label\":null,\"formatter\":{\"id\":\"e4fab5aa-9ffc-4fa1-b14e-a1278ef5c495\",\"type\":\"CategoricalTickFormatter\"},\"major_label_orientation\":0.7853981633974483,\"plot\":{\"id\":\"241259d2-3c7a-4dc4-8776-0ad62522ca37\",\"subtype\":\"Chart\",\"type\":\"Plot\"},\"ticker\":{\"id\":\"683bc2c0-b0b1-49f2-b64c-f35bedf0fa10\",\"type\":\"CategoricalTicker\"}},\"id\":\"7615ace4-df54-44fd-bf95-9d8a5364cd15\",\"type\":\"CategoricalAxis\"},{\"attributes\":{\"callback\":null,\"column_names\":[\"line_color\",\"line_alpha\",\"color\",\"fill_alpha\",\"height\",\"width\",\"y\",\"x\",\"label\"],\"data\":{\"chart_index\":[{\"time_in_business\":\"3-5 years\"}],\"color\":[\"red\"],\"fill_alpha\":[0.8],\"height\":[38280.0],\"label\":[{\"time_in_business\":\"3-5 years\"}],\"line_alpha\":[1.0],\"line_color\":[\"white\"],\"time_in_business\":[\"3-5 years\"],\"width\":[0.8],\"x\":[\"3-5 years\"],\"y\":[19140.0]}},\"id\":\"1eea7fe3-7b40-4a51-b28c-3935e443a5c3\",\"type\":\"ColumnDataSource\"},{\"attributes\":{\"plot\":{\"id\":\"241259d2-3c7a-4dc4-8776-0ad62522ca37\",\"subtype\":\"Chart\",\"type\":\"Plot\"}},\"id\":\"08665c42-e3f2-4ebd-88ae-1d88beb0b6cf\",\"type\":\"ResetTool\"},{\"attributes\":{\"fill_alpha\":{\"field\":\"fill_alpha\"},\"fill_color\":{\"field\":\"color\"},\"height\":{\"field\":\"height\",\"units\":\"data\"},\"line_color\":{\"field\":\"line_color\"},\"width\":{\"field\":\"width\",\"units\":\"data\"},\"x\":{\"field\":\"x\"},\"y\":{\"field\":\"y\"}},\"id\":\"6806adb3-a7ae-4119-80e7-bf4e4423570f\",\"type\":\"Rect\"},{\"attributes\":{},\"id\":\"e4fab5aa-9ffc-4fa1-b14e-a1278ef5c495\",\"type\":\"CategoricalTickFormatter\"},{\"attributes\":{\"callback\":null,\"factors\":[\"Less than a year\",\"1-2 years\",\"3-5 years\",\"6-10 years\",\"10+ years\"]},\"id\":\"938b4f29-75e6-4e86-b18e-c06c10e2c10e\",\"type\":\"FactorRange\"},{\"attributes\":{\"callback\":null,\"column_names\":[\"line_color\",\"line_alpha\",\"color\",\"fill_alpha\",\"height\",\"width\",\"y\",\"x\",\"label\"],\"data\":{\"chart_index\":[{\"time_in_business\":\"1-2 years\"}],\"color\":[\"red\"],\"fill_alpha\":[0.8],\"height\":[12756.0],\"label\":[{\"time_in_business\":\"1-2 years\"}],\"line_alpha\":[1.0],\"line_color\":[\"white\"],\"time_in_business\":[\"1-2 years\"],\"width\":[0.8],\"x\":[\"1-2 years\"],\"y\":[6378.0]}},\"id\":\"a83efe69-717f-414f-853c-fb75d75f85f2\",\"type\":\"ColumnDataSource\"},{\"attributes\":{\"data_source\":{\"id\":\"a83efe69-717f-414f-853c-fb75d75f85f2\",\"type\":\"ColumnDataSource\"},\"glyph\":{\"id\":\"2b059d10-7624-4fc7-90d9-be66e523944b\",\"type\":\"Rect\"},\"hover_glyph\":null,\"nonselection_glyph\":null,\"selection_glyph\":null},\"id\":\"73b10195-6625-45f9-9590-80a3ddd23c1a\",\"type\":\"GlyphRenderer\"},{\"attributes\":{\"data_source\":{\"id\":\"acb6911c-09bd-41f0-98f4-1e04f308b4ea\",\"type\":\"ColumnDataSource\"},\"glyph\":{\"id\":\"a2e68d17-3bdf-44ad-a1b8-a1c3e3042279\",\"type\":\"Rect\"},\"hover_glyph\":null,\"nonselection_glyph\":null,\"selection_glyph\":null},\"id\":\"d0dc940e-9fc1-49fb-9603-b07f03f6253a\",\"type\":\"GlyphRenderer\"},{\"attributes\":{\"callback\":null,\"column_names\":[\"line_color\",\"line_alpha\",\"color\",\"fill_alpha\",\"height\",\"width\",\"y\",\"x\",\"label\"],\"data\":{\"chart_index\":[{\"time_in_business\":\"Less than a year\"}],\"color\":[\"red\"],\"fill_alpha\":[0.8],\"height\":[1.0],\"label\":[{\"time_in_business\":\"Less than a year\"}],\"line_alpha\":[1.0],\"line_color\":[\"white\"],\"time_in_business\":[\"Less than a year\"],\"width\":[0.8],\"x\":[\"Less than a year\"],\"y\":[0.5]}},\"id\":\"d39d0e09-6914-429d-9560-53d4e9682ed2\",\"type\":\"ColumnDataSource\"},{\"attributes\":{\"axis_label\":\"Counts\",\"formatter\":{\"id\":\"a09b0f44-beb1-4bb1-acc9-626d323d009e\",\"type\":\"BasicTickFormatter\"},\"minor_tick_line_color\":{\"value\":null},\"plot\":{\"id\":\"241259d2-3c7a-4dc4-8776-0ad62522ca37\",\"subtype\":\"Chart\",\"type\":\"Plot\"},\"ticker\":{\"id\":\"5512d53c-543c-4ba2-ba75-763685184d5f\",\"type\":\"BasicTicker\"}},\"id\":\"2332a699-1574-4c3b-9019-4bd2884845a0\",\"type\":\"LinearAxis\"},{\"attributes\":{\"fill_alpha\":{\"field\":\"fill_alpha\"},\"fill_color\":{\"field\":\"color\"},\"height\":{\"field\":\"height\",\"units\":\"data\"},\"line_color\":{\"field\":\"line_color\"},\"width\":{\"field\":\"width\",\"units\":\"data\"},\"x\":{\"field\":\"x\"},\"y\":{\"field\":\"y\"}},\"id\":\"4beacd32-8c32-4558-9556-ef0c9acad5a1\",\"type\":\"Rect\"},{\"attributes\":{\"data_source\":{\"id\":\"d39d0e09-6914-429d-9560-53d4e9682ed2\",\"type\":\"ColumnDataSource\"},\"glyph\":{\"id\":\"6806adb3-a7ae-4119-80e7-bf4e4423570f\",\"type\":\"Rect\"},\"hover_glyph\":null,\"nonselection_glyph\":null,\"selection_glyph\":null},\"id\":\"0150b847-25b0-43b4-9923-95ae44b98fa5\",\"type\":\"GlyphRenderer\"},{\"attributes\":{\"label\":{\"value\":\"Less than a year\"},\"renderers\":[{\"id\":\"0150b847-25b0-43b4-9923-95ae44b98fa5\",\"type\":\"GlyphRenderer\"}]},\"id\":\"8ed416ea-32d9-4617-b5be-cab76356f4bc\",\"type\":\"LegendItem\"},{\"attributes\":{},\"id\":\"a09b0f44-beb1-4bb1-acc9-626d323d009e\",\"type\":\"BasicTickFormatter\"},{\"attributes\":{\"data_source\":{\"id\":\"1eea7fe3-7b40-4a51-b28c-3935e443a5c3\",\"type\":\"ColumnDataSource\"},\"glyph\":{\"id\":\"4beacd32-8c32-4558-9556-ef0c9acad5a1\",\"type\":\"Rect\"},\"hover_glyph\":null,\"nonselection_glyph\":null,\"selection_glyph\":null},\"id\":\"ccf4b1bc-74a4-43d2-93dd-5b3de64d4ad5\",\"type\":\"GlyphRenderer\"},{\"attributes\":{\"plot\":null,\"text\":\"Counts of Businesses by Time_in_Business\"},\"id\":\"64fe2ca1-6ae9-4211-8023-c5f930a619bd\",\"type\":\"Title\"},{\"attributes\":{},\"id\":\"683bc2c0-b0b1-49f2-b64c-f35bedf0fa10\",\"type\":\"CategoricalTicker\"},{\"attributes\":{\"fill_alpha\":{\"field\":\"fill_alpha\"},\"fill_color\":{\"field\":\"color\"},\"height\":{\"field\":\"height\",\"units\":\"data\"},\"line_color\":{\"field\":\"line_color\"},\"width\":{\"field\":\"width\",\"units\":\"data\"},\"x\":{\"field\":\"x\"},\"y\":{\"field\":\"y\"}},\"id\":\"a2e68d17-3bdf-44ad-a1b8-a1c3e3042279\",\"type\":\"Rect\"},{\"attributes\":{\"fill_alpha\":{\"field\":\"fill_alpha\"},\"fill_color\":{\"field\":\"color\"},\"height\":{\"field\":\"height\",\"units\":\"data\"},\"line_color\":{\"field\":\"line_color\"},\"width\":{\"field\":\"width\",\"units\":\"data\"},\"x\":{\"field\":\"x\"},\"y\":{\"field\":\"y\"}},\"id\":\"87dc4d1a-20c2-4068-adf9-0601db47c0b4\",\"type\":\"Rect\"},{\"attributes\":{\"plot\":{\"id\":\"241259d2-3c7a-4dc4-8776-0ad62522ca37\",\"subtype\":\"Chart\",\"type\":\"Plot\"}},\"id\":\"37ccaedc-bfdc-483a-a45a-233079d5f0e4\",\"type\":\"SaveTool\"},{\"attributes\":{\"label\":{\"value\":\"6-10 years\"},\"renderers\":[{\"id\":\"9e238dce-77f5-48b3-b55a-d5d20701f95d\",\"type\":\"GlyphRenderer\"}]},\"id\":\"2c54f1e0-bfb1-4e22-aa48-7f4b7a0fc5e9\",\"type\":\"LegendItem\"},{\"attributes\":{\"active_drag\":\"auto\",\"active_scroll\":\"auto\",\"active_tap\":\"auto\",\"tools\":[{\"id\":\"543ff6a1-4692-4b68-9263-62c29b8cef8c\",\"type\":\"PanTool\"},{\"id\":\"d3517375-b25b-429b-9e3a-3f4faad8f77b\",\"type\":\"WheelZoomTool\"},{\"id\":\"7de9bad8-d35e-48a3-89d1-4468e83903f3\",\"type\":\"BoxZoomTool\"},{\"id\":\"37ccaedc-bfdc-483a-a45a-233079d5f0e4\",\"type\":\"SaveTool\"},{\"id\":\"08665c42-e3f2-4ebd-88ae-1d88beb0b6cf\",\"type\":\"ResetTool\"},{\"id\":\"7f6c748f-ba85-475b-a584-efa3330e12c6\",\"type\":\"HelpTool\"}]},\"id\":\"f92073ff-a64b-4728-b08e-5e7dfc3485aa\",\"type\":\"Toolbar\"},{\"attributes\":{\"plot\":{\"id\":\"241259d2-3c7a-4dc4-8776-0ad62522ca37\",\"subtype\":\"Chart\",\"type\":\"Plot\"}},\"id\":\"7f6c748f-ba85-475b-a584-efa3330e12c6\",\"type\":\"HelpTool\"},{\"attributes\":{\"bottom_units\":\"screen\",\"fill_alpha\":{\"value\":0.5},\"fill_color\":{\"value\":\"lightgrey\"},\"left_units\":\"screen\",\"level\":\"overlay\",\"line_alpha\":{\"value\":1.0},\"line_color\":{\"value\":\"black\"},\"line_dash\":[4,4],\"line_width\":{\"value\":2},\"plot\":null,\"render_mode\":\"css\",\"right_units\":\"screen\",\"top_units\":\"screen\"},\"id\":\"3fadad4b-ad9c-4af8-ad45-b5b20d3c1167\",\"type\":\"BoxAnnotation\"},{\"attributes\":{\"plot\":{\"id\":\"241259d2-3c7a-4dc4-8776-0ad62522ca37\",\"subtype\":\"Chart\",\"type\":\"Plot\"}},\"id\":\"543ff6a1-4692-4b68-9263-62c29b8cef8c\",\"type\":\"PanTool\"},{\"attributes\":{\"overlay\":{\"id\":\"3fadad4b-ad9c-4af8-ad45-b5b20d3c1167\",\"type\":\"BoxAnnotation\"},\"plot\":{\"id\":\"241259d2-3c7a-4dc4-8776-0ad62522ca37\",\"subtype\":\"Chart\",\"type\":\"Plot\"}},\"id\":\"7de9bad8-d35e-48a3-89d1-4468e83903f3\",\"type\":\"BoxZoomTool\"},{\"attributes\":{\"callback\":null,\"column_names\":[\"line_color\",\"line_alpha\",\"color\",\"fill_alpha\",\"height\",\"width\",\"y\",\"x\",\"label\"],\"data\":{\"chart_index\":[{\"time_in_business\":\"6-10 years\"}],\"color\":[\"red\"],\"fill_alpha\":[0.8],\"height\":[106144.0],\"label\":[{\"time_in_business\":\"6-10 years\"}],\"line_alpha\":[1.0],\"line_color\":[\"white\"],\"time_in_business\":[\"6-10 years\"],\"width\":[0.8],\"x\":[\"6-10 years\"],\"y\":[53072.0]}},\"id\":\"ab052f22-de12-4773-8523-d5293fc2ae2b\",\"type\":\"ColumnDataSource\"},{\"attributes\":{\"fill_alpha\":{\"field\":\"fill_alpha\"},\"fill_color\":{\"field\":\"color\"},\"height\":{\"field\":\"height\",\"units\":\"data\"},\"line_color\":{\"field\":\"line_color\"},\"width\":{\"field\":\"width\",\"units\":\"data\"},\"x\":{\"field\":\"x\"},\"y\":{\"field\":\"y\"}},\"id\":\"2b059d10-7624-4fc7-90d9-be66e523944b\",\"type\":\"Rect\"},{\"attributes\":{},\"id\":\"5512d53c-543c-4ba2-ba75-763685184d5f\",\"type\":\"BasicTicker\"}],\"root_ids\":[\"241259d2-3c7a-4dc4-8776-0ad62522ca37\"]},\"title\":\"Bokeh Application\",\"version\":\"0.12.4\"}};\n",
       "            var render_items = [{\"docid\":\"753d2204-b06e-49ff-baed-aa068fcd6c28\",\"elementid\":\"5f436fff-f5a0-4fef-85d1-e8a7053a5e21\",\"modelid\":\"241259d2-3c7a-4dc4-8776-0ad62522ca37\"}];\n",
       "            \n",
       "            Bokeh.embed.embed_items(docs_json, render_items);\n",
       "          };\n",
       "          if (document.readyState != \"loading\") fn();\n",
       "          else document.addEventListener(\"DOMContentLoaded\", fn);\n",
       "        })();\n",
       "      },\n",
       "      function(Bokeh) {\n",
       "      }\n",
       "    ];\n",
       "  \n",
       "    function run_inline_js() {\n",
       "      \n",
       "      if ((window.Bokeh !== undefined) || (force === true)) {\n",
       "        for (var i = 0; i < inline_js.length; i++) {\n",
       "          inline_js[i](window.Bokeh);\n",
       "        }if (force === true) {\n",
       "          display_loaded();\n",
       "        }} else if (Date.now() < window._bokeh_timeout) {\n",
       "        setTimeout(run_inline_js, 100);\n",
       "      } else if (!window._bokeh_failed_load) {\n",
       "        console.log(\"Bokeh: BokehJS failed to load within specified timeout.\");\n",
       "        window._bokeh_failed_load = true;\n",
       "      } else if (force !== true) {\n",
       "        var cell = $(document.getElementById(\"5f436fff-f5a0-4fef-85d1-e8a7053a5e21\")).parents('.cell').data().cell;\n",
       "        cell.output_area.append_execute_result(NB_LOAD_WARNING)\n",
       "      }\n",
       "  \n",
       "    }\n",
       "  \n",
       "    if (window._bokeh_is_loading === 0) {\n",
       "      console.log(\"Bokeh: BokehJS loaded, going straight to plotting\");\n",
       "      run_inline_js();\n",
       "    } else {\n",
       "      load_libs(js_urls, function() {\n",
       "        console.log(\"Bokeh: BokehJS plotting callback run at\", now());\n",
       "        run_inline_js();\n",
       "      });\n",
       "    }\n",
       "  }(this));\n",
       "</script>"
      ]
     },
     "metadata": {},
     "output_type": "display_data"
    }
   ],
   "source": [
    "p = Bar(tib,  values ='counts', \n",
    "        label=CatAttr(columns=['time_in_business'], sort=False),\n",
    "        title=\"Counts of Businesses by Time_in_Business\", \n",
    "        plot_width=600, plot_height=350, color = 'red')\n",
    "p.ygrid.grid_line_color = None\n",
    "p.yaxis.minor_tick_line_color = None\n",
    "p.xaxis.axis_label = None\n",
    "p.yaxis.axis_label = \"Counts\"\n",
    "p.legend.location = None\n",
    "show(p)"
   ]
  },
  {
   "cell_type": "markdown",
   "metadata": {},
   "source": [
    "### II.4. Analysis of Category Code"
   ]
  },
  {
   "cell_type": "code",
   "execution_count": 37,
   "metadata": {
    "collapsed": false
   },
   "outputs": [],
   "source": [
    "#Counter ( [row['category_code'] for row in data] ) "
   ]
  },
  {
   "cell_type": "code",
   "execution_count": 38,
   "metadata": {
    "collapsed": false
   },
   "outputs": [],
   "source": [
    "catcode_check = [None, 0, '', ' ', '0', 'none', 'null']"
   ]
  },
  {
   "cell_type": "code",
   "execution_count": 39,
   "metadata": {
    "collapsed": true
   },
   "outputs": [],
   "source": [
    "catcode_invalid_vals, catcode_valid_vals = true_fill_rate('category_code', catcode_check)"
   ]
  },
  {
   "cell_type": "code",
   "execution_count": 40,
   "metadata": {
    "collapsed": false
   },
   "outputs": [
    {
     "name": "stdout",
     "output_type": "stream",
     "text": [
      "\n",
      "True fill rate for the Category Code field is 999910 (over 1000000 data point, which is 99.991%), compared to the fill rate of 999973\n"
     ]
    }
   ],
   "source": [
    "true_fill_rate_dict['category_code'] = len(catcode_valid_vals)\n",
    "\n",
    "print '\\nTrue fill rate for the Category Code field is {} (over {} data point, which is {}%), \\\n",
    "compared to the fill rate of {}'.\\\n",
    "format(len(catcode_valid_vals), size, len(catcode_valid_vals)*100.0/size, fill_rate_dict['category_code'])"
   ]
  },
  {
   "cell_type": "code",
   "execution_count": 41,
   "metadata": {
    "collapsed": false
   },
   "outputs": [
    {
     "name": "stdout",
     "output_type": "stream",
     "text": [
      "The total number of unique category codes is 1178\n"
     ]
    }
   ],
   "source": [
    "unique_vals['category_code'] = len(set(catcode_valid_vals))\n",
    "print 'The total number of unique category codes is', len(set(catcode_valid_vals))"
   ]
  },
  {
   "cell_type": "code",
   "execution_count": 42,
   "metadata": {
    "collapsed": true
   },
   "outputs": [],
   "source": [
    "catcode = pd.DataFrame.from_dict(Counter(catcode_valid_vals), orient='index').reset_index()\n",
    "catcode.columns = ['category_code', 'counts']\n",
    "catcode = catcode.sort_values('counts', ascending = False)"
   ]
  },
  {
   "cell_type": "code",
   "execution_count": 229,
   "metadata": {
    "collapsed": false
   },
   "outputs": [
    {
     "data": {
      "text/plain": [
       "10.993889450050505"
      ]
     },
     "execution_count": 229,
     "metadata": {},
     "output_type": "execute_result"
    }
   ],
   "source": [
    "catcode.counts[:3].sum()*100.0/catcode.counts.sum()"
   ]
  },
  {
   "cell_type": "markdown",
   "metadata": {},
   "source": [
    "The most popular code belongs to the '**Elementary and Secondary Schools**', followed by the '**Offices of Lawyers**' and '**Offices of Real Estate Agents and Brokers**' categories"
   ]
  },
  {
   "cell_type": "code",
   "execution_count": 278,
   "metadata": {
    "collapsed": false
   },
   "outputs": [
    {
     "data": {
      "text/html": [
       "\n",
       "\n",
       "    <div class=\"bk-root\">\n",
       "        <div class=\"bk-plotdiv\" id=\"3b740d8e-1881-4933-a50b-e5434734eb95\"></div>\n",
       "    </div>\n",
       "<script type=\"text/javascript\">\n",
       "  \n",
       "  (function(global) {\n",
       "    function now() {\n",
       "      return new Date();\n",
       "    }\n",
       "  \n",
       "    var force = false;\n",
       "  \n",
       "    if (typeof (window._bokeh_onload_callbacks) === \"undefined\" || force === true) {\n",
       "      window._bokeh_onload_callbacks = [];\n",
       "      window._bokeh_is_loading = undefined;\n",
       "    }\n",
       "  \n",
       "  \n",
       "    \n",
       "    if (typeof (window._bokeh_timeout) === \"undefined\" || force === true) {\n",
       "      window._bokeh_timeout = Date.now() + 0;\n",
       "      window._bokeh_failed_load = false;\n",
       "    }\n",
       "  \n",
       "    var NB_LOAD_WARNING = {'data': {'text/html':\n",
       "       \"<div style='background-color: #fdd'>\\n\"+\n",
       "       \"<p>\\n\"+\n",
       "       \"BokehJS does not appear to have successfully loaded. If loading BokehJS from CDN, this \\n\"+\n",
       "       \"may be due to a slow or bad network connection. Possible fixes:\\n\"+\n",
       "       \"</p>\\n\"+\n",
       "       \"<ul>\\n\"+\n",
       "       \"<li>re-rerun `output_notebook()` to attempt to load from CDN again, or</li>\\n\"+\n",
       "       \"<li>use INLINE resources instead, as so:</li>\\n\"+\n",
       "       \"</ul>\\n\"+\n",
       "       \"<code>\\n\"+\n",
       "       \"from bokeh.resources import INLINE\\n\"+\n",
       "       \"output_notebook(resources=INLINE)\\n\"+\n",
       "       \"</code>\\n\"+\n",
       "       \"</div>\"}};\n",
       "  \n",
       "    function display_loaded() {\n",
       "      if (window.Bokeh !== undefined) {\n",
       "        document.getElementById(\"3b740d8e-1881-4933-a50b-e5434734eb95\").textContent = \"BokehJS successfully loaded.\";\n",
       "      } else if (Date.now() < window._bokeh_timeout) {\n",
       "        setTimeout(display_loaded, 100)\n",
       "      }\n",
       "    }\n",
       "  \n",
       "    function run_callbacks() {\n",
       "      window._bokeh_onload_callbacks.forEach(function(callback) { callback() });\n",
       "      delete window._bokeh_onload_callbacks\n",
       "      console.info(\"Bokeh: all callbacks have finished\");\n",
       "    }\n",
       "  \n",
       "    function load_libs(js_urls, callback) {\n",
       "      window._bokeh_onload_callbacks.push(callback);\n",
       "      if (window._bokeh_is_loading > 0) {\n",
       "        console.log(\"Bokeh: BokehJS is being loaded, scheduling callback at\", now());\n",
       "        return null;\n",
       "      }\n",
       "      if (js_urls == null || js_urls.length === 0) {\n",
       "        run_callbacks();\n",
       "        return null;\n",
       "      }\n",
       "      console.log(\"Bokeh: BokehJS not loaded, scheduling load and callback at\", now());\n",
       "      window._bokeh_is_loading = js_urls.length;\n",
       "      for (var i = 0; i < js_urls.length; i++) {\n",
       "        var url = js_urls[i];\n",
       "        var s = document.createElement('script');\n",
       "        s.src = url;\n",
       "        s.async = false;\n",
       "        s.onreadystatechange = s.onload = function() {\n",
       "          window._bokeh_is_loading--;\n",
       "          if (window._bokeh_is_loading === 0) {\n",
       "            console.log(\"Bokeh: all BokehJS libraries loaded\");\n",
       "            run_callbacks()\n",
       "          }\n",
       "        };\n",
       "        s.onerror = function() {\n",
       "          console.warn(\"failed to load library \" + url);\n",
       "        };\n",
       "        console.log(\"Bokeh: injecting script tag for BokehJS library: \", url);\n",
       "        document.getElementsByTagName(\"head\")[0].appendChild(s);\n",
       "      }\n",
       "    };var element = document.getElementById(\"3b740d8e-1881-4933-a50b-e5434734eb95\");\n",
       "    if (element == null) {\n",
       "      console.log(\"Bokeh: ERROR: autoload.js configured with elementid '3b740d8e-1881-4933-a50b-e5434734eb95' but no matching script tag was found. \")\n",
       "      return false;\n",
       "    }\n",
       "  \n",
       "    var js_urls = [];\n",
       "  \n",
       "    var inline_js = [\n",
       "      function(Bokeh) {\n",
       "        (function() {\n",
       "          var fn = function() {\n",
       "            var docs_json = {\"374cf4ae-adc8-4aaf-81b0-a0b9e763bc2a\":{\"roots\":{\"references\":[{\"attributes\":{\"fill_alpha\":{\"field\":\"fill_alpha\"},\"fill_color\":{\"field\":\"color\"},\"height\":{\"field\":\"height\",\"units\":\"data\"},\"line_color\":{\"field\":\"line_color\"},\"width\":{\"field\":\"width\",\"units\":\"data\"},\"x\":{\"field\":\"x\"},\"y\":{\"field\":\"y\"}},\"id\":\"4b2d356f-ae37-4baf-ad2e-1f553b72104f\",\"type\":\"Rect\"},{\"attributes\":{\"data_source\":{\"id\":\"97bc19a7-1adc-4cdd-ac5c-5077b1cdf113\",\"type\":\"ColumnDataSource\"},\"glyph\":{\"id\":\"99b4e1ec-0a5a-4233-bc18-6f434958db66\",\"type\":\"Rect\"},\"hover_glyph\":null,\"nonselection_glyph\":null,\"selection_glyph\":null},\"id\":\"260afa72-ff20-47f0-b8de-c31122b278d1\",\"type\":\"GlyphRenderer\"},{\"attributes\":{\"fill_alpha\":{\"field\":\"fill_alpha\"},\"fill_color\":{\"field\":\"color\"},\"height\":{\"field\":\"height\",\"units\":\"data\"},\"line_color\":{\"field\":\"line_color\"},\"width\":{\"field\":\"width\",\"units\":\"data\"},\"x\":{\"field\":\"x\"},\"y\":{\"field\":\"y\"}},\"id\":\"789cbc5a-953c-49c9-a565-2f8d85a7fb5a\",\"type\":\"Rect\"},{\"attributes\":{\"label\":{\"value\":\"23820000\"},\"renderers\":[{\"id\":\"6000a0bb-adc5-4d02-af34-75ebe2c3d607\",\"type\":\"GlyphRenderer\"}]},\"id\":\"6d8e91de-64de-4789-8bcb-3e3ecaede5ac\",\"type\":\"LegendItem\"},{\"attributes\":{\"active_drag\":\"auto\",\"active_scroll\":\"auto\",\"active_tap\":\"auto\",\"tools\":[{\"id\":\"61695057-81b1-4cde-bf8c-e9bab1e4cc18\",\"type\":\"PanTool\"},{\"id\":\"1c1b4247-7677-4630-a0a8-fe6dac73904f\",\"type\":\"WheelZoomTool\"},{\"id\":\"8fd0c21d-9aef-4a6a-82bf-f484e9b9d61d\",\"type\":\"BoxZoomTool\"},{\"id\":\"44c2e46d-0014-463b-8e89-598918d4a56b\",\"type\":\"SaveTool\"},{\"id\":\"c49aefc2-425b-4658-b4b9-a4ce456573da\",\"type\":\"ResetTool\"},{\"id\":\"241214b2-0c2e-4ff7-ab00-dfdaa4e2a9e5\",\"type\":\"HelpTool\"}]},\"id\":\"713c2891-30cc-4607-bc12-05c94d1b7bd9\",\"type\":\"Toolbar\"},{\"attributes\":{\"axis_label\":\"Category Codes\",\"formatter\":{\"id\":\"fa038f59-89ac-4f67-8c45-8642b210aee8\",\"type\":\"CategoricalTickFormatter\"},\"major_label_orientation\":0.7853981633974483,\"plot\":{\"id\":\"cc09ce7d-6978-4619-b033-735b17a7b7f2\",\"subtype\":\"Chart\",\"type\":\"Plot\"},\"ticker\":{\"id\":\"8e04c337-eefb-4b76-ae44-10bca030f159\",\"type\":\"CategoricalTicker\"}},\"id\":\"a88d587e-a725-4908-8d49-3f93360c9f50\",\"type\":\"CategoricalAxis\"},{\"attributes\":{\"label\":{\"value\":\"62130000\"},\"renderers\":[{\"id\":\"260afa72-ff20-47f0-b8de-c31122b278d1\",\"type\":\"GlyphRenderer\"}]},\"id\":\"806c57db-6b09-4a43-97c5-06e044251941\",\"type\":\"LegendItem\"},{\"attributes\":{\"callback\":null,\"column_names\":[\"line_color\",\"line_alpha\",\"color\",\"fill_alpha\",\"height\",\"width\",\"y\",\"x\",\"label\"],\"data\":{\"category_code\":[\"52420000\"],\"chart_index\":[{\"category_code\":\"52420000\"}],\"color\":[\"#d62728\"],\"fill_alpha\":[0.8],\"height\":[26887.0],\"label\":[{\"category_code\":\"52420000\"}],\"line_alpha\":[1.0],\"line_color\":[\"white\"],\"width\":[0.8],\"x\":[\"52420000\"],\"y\":[13443.5]}},\"id\":\"f5c195ac-fc69-412d-a73b-d3722ba9548d\",\"type\":\"ColumnDataSource\"},{\"attributes\":{\"data_source\":{\"id\":\"82a3d56b-5a37-4b73-8dd0-578262c6ec26\",\"type\":\"ColumnDataSource\"},\"glyph\":{\"id\":\"2860f421-bf3e-4291-bea4-da84f05e443e\",\"type\":\"Rect\"},\"hover_glyph\":null,\"nonselection_glyph\":null,\"selection_glyph\":null},\"id\":\"8c2323dc-32da-414d-835b-f89031fede47\",\"type\":\"GlyphRenderer\"},{\"attributes\":{\"callback\":null,\"factors\":[\"61111000\",\"54111000\",\"53120000\",\"54000000\",\"42000000\",\"62110000\",\"54100000\",\"23000000\",\"52420000\",\"62400000\",\"23820000\",\"62000000\",\"72200000\",\"81300000\",\"54121000\",\"62130000\",\"51000000\",\"44000000\",\"23611600\",\"56000000\"]},\"id\":\"5dfeea87-2cc8-44d7-bf28-882f73ee22dd\",\"type\":\"FactorRange\"},{\"attributes\":{\"plot\":{\"id\":\"cc09ce7d-6978-4619-b033-735b17a7b7f2\",\"subtype\":\"Chart\",\"type\":\"Plot\"}},\"id\":\"61695057-81b1-4cde-bf8c-e9bab1e4cc18\",\"type\":\"PanTool\"},{\"attributes\":{\"callback\":null,\"column_names\":[\"line_color\",\"line_alpha\",\"color\",\"fill_alpha\",\"height\",\"width\",\"y\",\"x\",\"label\"],\"data\":{\"category_code\":[\"61111000\"],\"chart_index\":[{\"category_code\":\"61111000\"}],\"color\":[\"#d62728\"],\"fill_alpha\":[0.8],\"height\":[39461.0],\"label\":[{\"category_code\":\"61111000\"}],\"line_alpha\":[1.0],\"line_color\":[\"white\"],\"width\":[0.8],\"x\":[\"61111000\"],\"y\":[19730.5]}},\"id\":\"e5067439-50d0-435c-9b8e-c66dcacdb5f9\",\"type\":\"ColumnDataSource\"},{\"attributes\":{\"callback\":null,\"column_names\":[\"line_color\",\"line_alpha\",\"color\",\"fill_alpha\",\"height\",\"width\",\"y\",\"x\",\"label\"],\"data\":{\"category_code\":[\"42000000\"],\"chart_index\":[{\"category_code\":\"42000000\"}],\"color\":[\"#d62728\"],\"fill_alpha\":[0.8],\"height\":[30171.0],\"label\":[{\"category_code\":\"42000000\"}],\"line_alpha\":[1.0],\"line_color\":[\"white\"],\"width\":[0.8],\"x\":[\"42000000\"],\"y\":[15085.5]}},\"id\":\"586e2f14-3ed7-44a1-b9a7-3688efaec2a5\",\"type\":\"ColumnDataSource\"},{\"attributes\":{\"label\":{\"value\":\"51000000\"},\"renderers\":[{\"id\":\"8c2323dc-32da-414d-835b-f89031fede47\",\"type\":\"GlyphRenderer\"}]},\"id\":\"545f8d3b-78c9-4f78-8300-c514bac47511\",\"type\":\"LegendItem\"},{\"attributes\":{\"fill_alpha\":{\"field\":\"fill_alpha\"},\"fill_color\":{\"field\":\"color\"},\"height\":{\"field\":\"height\",\"units\":\"data\"},\"line_color\":{\"field\":\"line_color\"},\"width\":{\"field\":\"width\",\"units\":\"data\"},\"x\":{\"field\":\"x\"},\"y\":{\"field\":\"y\"}},\"id\":\"c77b72be-8103-4a03-b713-b8b1afe85599\",\"type\":\"Rect\"},{\"attributes\":{\"fill_alpha\":{\"field\":\"fill_alpha\"},\"fill_color\":{\"field\":\"color\"},\"height\":{\"field\":\"height\",\"units\":\"data\"},\"line_color\":{\"field\":\"line_color\"},\"width\":{\"field\":\"width\",\"units\":\"data\"},\"x\":{\"field\":\"x\"},\"y\":{\"field\":\"y\"}},\"id\":\"af3cce59-b1e2-4ae5-9750-d7d431a2bd79\",\"type\":\"Rect\"},{\"attributes\":{\"callback\":null,\"column_names\":[\"line_color\",\"line_alpha\",\"color\",\"fill_alpha\",\"height\",\"width\",\"y\",\"x\",\"label\"],\"data\":{\"category_code\":[\"62000000\"],\"chart_index\":[{\"category_code\":\"62000000\"}],\"color\":[\"#d62728\"],\"fill_alpha\":[0.8],\"height\":[19143.0],\"label\":[{\"category_code\":\"62000000\"}],\"line_alpha\":[1.0],\"line_color\":[\"white\"],\"width\":[0.8],\"x\":[\"62000000\"],\"y\":[9571.5]}},\"id\":\"08e68e19-684b-499c-9107-d71151dca214\",\"type\":\"ColumnDataSource\"},{\"attributes\":{\"data_source\":{\"id\":\"fc4baba9-3b82-4bc6-a8e9-60bb533fdab2\",\"type\":\"ColumnDataSource\"},\"glyph\":{\"id\":\"256dce3b-2c4e-41f0-becd-fbc9f4e94f29\",\"type\":\"Rect\"},\"hover_glyph\":null,\"nonselection_glyph\":null,\"selection_glyph\":null},\"id\":\"da78153c-bd43-4529-99cf-708b47d124ff\",\"type\":\"GlyphRenderer\"},{\"attributes\":{\"label\":{\"value\":\"62110000\"},\"renderers\":[{\"id\":\"e575d64f-d388-4e37-a06b-0be597a3d1d4\",\"type\":\"GlyphRenderer\"}]},\"id\":\"c0c4d571-bf69-4d14-80ee-55742386b4b9\",\"type\":\"LegendItem\"},{\"attributes\":{\"label\":{\"value\":\"53120000\"},\"renderers\":[{\"id\":\"85ece6fe-ffc1-4c1c-9104-f9cf1c794d44\",\"type\":\"GlyphRenderer\"}]},\"id\":\"e081402a-0e96-4880-ac60-e5e662e0a485\",\"type\":\"LegendItem\"},{\"attributes\":{\"axis_label\":\"Counts\",\"formatter\":{\"id\":\"4c1c26bf-c982-4c45-bd2a-e37cce107816\",\"type\":\"BasicTickFormatter\"},\"minor_tick_line_color\":{\"value\":null},\"plot\":{\"id\":\"cc09ce7d-6978-4619-b033-735b17a7b7f2\",\"subtype\":\"Chart\",\"type\":\"Plot\"},\"ticker\":{\"id\":\"6fafad47-3782-4245-ad05-4563a9bbf53f\",\"type\":\"BasicTicker\"}},\"id\":\"9dfef1f4-ddda-45c2-89d4-042199ddd19c\",\"type\":\"LinearAxis\"},{\"attributes\":{\"fill_alpha\":{\"field\":\"fill_alpha\"},\"fill_color\":{\"field\":\"color\"},\"height\":{\"field\":\"height\",\"units\":\"data\"},\"line_color\":{\"field\":\"line_color\"},\"width\":{\"field\":\"width\",\"units\":\"data\"},\"x\":{\"field\":\"x\"},\"y\":{\"field\":\"y\"}},\"id\":\"2860f421-bf3e-4291-bea4-da84f05e443e\",\"type\":\"Rect\"},{\"attributes\":{\"label\":{\"value\":\"72200000\"},\"renderers\":[{\"id\":\"31f94504-06f5-45c2-9e8e-388755539c4d\",\"type\":\"GlyphRenderer\"}]},\"id\":\"596ce724-ad52-4102-91db-23c9053bf486\",\"type\":\"LegendItem\"},{\"attributes\":{\"plot\":{\"id\":\"cc09ce7d-6978-4619-b033-735b17a7b7f2\",\"subtype\":\"Chart\",\"type\":\"Plot\"}},\"id\":\"1c1b4247-7677-4630-a0a8-fe6dac73904f\",\"type\":\"WheelZoomTool\"},{\"attributes\":{\"callback\":null,\"column_names\":[\"line_color\",\"line_alpha\",\"color\",\"fill_alpha\",\"height\",\"width\",\"y\",\"x\",\"label\"],\"data\":{\"category_code\":[\"56000000\"],\"chart_index\":[{\"category_code\":\"56000000\"}],\"color\":[\"#d62728\"],\"fill_alpha\":[0.8],\"height\":[12160.0],\"label\":[{\"category_code\":\"56000000\"}],\"line_alpha\":[1.0],\"line_color\":[\"white\"],\"width\":[0.8],\"x\":[\"56000000\"],\"y\":[6080.0]}},\"id\":\"5627bb12-93a4-4d8a-8ed9-4e0e720a074c\",\"type\":\"ColumnDataSource\"},{\"attributes\":{\"label\":{\"value\":\"54121000\"},\"renderers\":[{\"id\":\"7d54bf78-1881-40b2-9eb3-10fe3bf317f1\",\"type\":\"GlyphRenderer\"}]},\"id\":\"2f2b2700-b9bd-480f-a455-f977bf105a98\",\"type\":\"LegendItem\"},{\"attributes\":{\"fill_alpha\":{\"field\":\"fill_alpha\"},\"fill_color\":{\"field\":\"color\"},\"height\":{\"field\":\"height\",\"units\":\"data\"},\"line_color\":{\"field\":\"line_color\"},\"width\":{\"field\":\"width\",\"units\":\"data\"},\"x\":{\"field\":\"x\"},\"y\":{\"field\":\"y\"}},\"id\":\"7c397d98-d46e-41d2-b95a-252d91cb1176\",\"type\":\"Rect\"},{\"attributes\":{\"fill_alpha\":{\"field\":\"fill_alpha\"},\"fill_color\":{\"field\":\"color\"},\"height\":{\"field\":\"height\",\"units\":\"data\"},\"line_color\":{\"field\":\"line_color\"},\"width\":{\"field\":\"width\",\"units\":\"data\"},\"x\":{\"field\":\"x\"},\"y\":{\"field\":\"y\"}},\"id\":\"0d619a56-184d-416a-8e6e-0c4d1a9df809\",\"type\":\"Rect\"},{\"attributes\":{\"plot\":null,\"text\":\"Category Codes with Most Counts of Businesses from the Data Set\"},\"id\":\"092a1bd9-a145-49f5-b9a9-d25af739ac81\",\"type\":\"Title\"},{\"attributes\":{\"data_source\":{\"id\":\"781a0b4c-1ce5-4c52-a83a-e6ec7698283f\",\"type\":\"ColumnDataSource\"},\"glyph\":{\"id\":\"99af0f74-2a44-45f3-8b44-c524bac6aac2\",\"type\":\"Rect\"},\"hover_glyph\":null,\"nonselection_glyph\":null,\"selection_glyph\":null},\"id\":\"85ece6fe-ffc1-4c1c-9104-f9cf1c794d44\",\"type\":\"GlyphRenderer\"},{\"attributes\":{\"fill_alpha\":{\"field\":\"fill_alpha\"},\"fill_color\":{\"field\":\"color\"},\"height\":{\"field\":\"height\",\"units\":\"data\"},\"line_color\":{\"field\":\"line_color\"},\"width\":{\"field\":\"width\",\"units\":\"data\"},\"x\":{\"field\":\"x\"},\"y\":{\"field\":\"y\"}},\"id\":\"bcd8a066-1ed9-4297-a21f-805c536ce6a0\",\"type\":\"Rect\"},{\"attributes\":{\"plot\":{\"id\":\"cc09ce7d-6978-4619-b033-735b17a7b7f2\",\"subtype\":\"Chart\",\"type\":\"Plot\"}},\"id\":\"c49aefc2-425b-4658-b4b9-a4ce456573da\",\"type\":\"ResetTool\"},{\"attributes\":{\"label\":{\"value\":\"62000000\"},\"renderers\":[{\"id\":\"c9b24710-c25d-4e92-b8d3-5f5e933080e0\",\"type\":\"GlyphRenderer\"}]},\"id\":\"f6bcac87-e8e9-4a13-8dea-1e28beadb33c\",\"type\":\"LegendItem\"},{\"attributes\":{\"label\":{\"value\":\"44000000\"},\"renderers\":[{\"id\":\"52f2050a-8ba4-4fe2-8efa-8a6d91cd75e0\",\"type\":\"GlyphRenderer\"}]},\"id\":\"00481aa9-b54d-49bc-8043-823709d7da88\",\"type\":\"LegendItem\"},{\"attributes\":{\"fill_alpha\":{\"field\":\"fill_alpha\"},\"fill_color\":{\"field\":\"color\"},\"height\":{\"field\":\"height\",\"units\":\"data\"},\"line_color\":{\"field\":\"line_color\"},\"width\":{\"field\":\"width\",\"units\":\"data\"},\"x\":{\"field\":\"x\"},\"y\":{\"field\":\"y\"}},\"id\":\"99b4e1ec-0a5a-4233-bc18-6f434958db66\",\"type\":\"Rect\"},{\"attributes\":{\"fill_alpha\":{\"field\":\"fill_alpha\"},\"fill_color\":{\"field\":\"color\"},\"height\":{\"field\":\"height\",\"units\":\"data\"},\"line_color\":{\"field\":\"line_color\"},\"width\":{\"field\":\"width\",\"units\":\"data\"},\"x\":{\"field\":\"x\"},\"y\":{\"field\":\"y\"}},\"id\":\"314f04af-286e-42d9-b4af-9ac8de998e8d\",\"type\":\"Rect\"},{\"attributes\":{\"data_source\":{\"id\":\"08e68e19-684b-499c-9107-d71151dca214\",\"type\":\"ColumnDataSource\"},\"glyph\":{\"id\":\"0729a608-aedc-422b-9aeb-cf041c3a7481\",\"type\":\"Rect\"},\"hover_glyph\":null,\"nonselection_glyph\":null,\"selection_glyph\":null},\"id\":\"c9b24710-c25d-4e92-b8d3-5f5e933080e0\",\"type\":\"GlyphRenderer\"},{\"attributes\":{},\"id\":\"fa038f59-89ac-4f67-8c45-8642b210aee8\",\"type\":\"CategoricalTickFormatter\"},{\"attributes\":{\"label\":{\"value\":\"61111000\"},\"renderers\":[{\"id\":\"f9952496-ba48-49c8-a8f4-c66099241c25\",\"type\":\"GlyphRenderer\"}]},\"id\":\"66272477-d870-4ddf-af80-afa042c1edbd\",\"type\":\"LegendItem\"},{\"attributes\":{\"callback\":null,\"end\":41434.05},\"id\":\"a3f90867-a8b9-45eb-93b8-355600809f18\",\"type\":\"Range1d\"},{\"attributes\":{\"below\":[{\"id\":\"a88d587e-a725-4908-8d49-3f93360c9f50\",\"type\":\"CategoricalAxis\"}],\"css_classes\":null,\"left\":[{\"id\":\"9dfef1f4-ddda-45c2-89d4-042199ddd19c\",\"type\":\"LinearAxis\"}],\"plot_height\":330,\"renderers\":[{\"id\":\"e95eace2-8cfe-485a-a65a-be2f13816519\",\"type\":\"BoxAnnotation\"},{\"id\":\"f9952496-ba48-49c8-a8f4-c66099241c25\",\"type\":\"GlyphRenderer\"},{\"id\":\"f81a6c74-f528-4cb5-b61d-d6e210a082d6\",\"type\":\"GlyphRenderer\"},{\"id\":\"85ece6fe-ffc1-4c1c-9104-f9cf1c794d44\",\"type\":\"GlyphRenderer\"},{\"id\":\"fa17a5cf-af31-46cb-8255-e51516a6cded\",\"type\":\"GlyphRenderer\"},{\"id\":\"16a505eb-01a0-43ff-980e-0ea9683254fc\",\"type\":\"GlyphRenderer\"},{\"id\":\"e575d64f-d388-4e37-a06b-0be597a3d1d4\",\"type\":\"GlyphRenderer\"},{\"id\":\"5dd896a8-c0e7-4666-b2f2-407f3790489a\",\"type\":\"GlyphRenderer\"},{\"id\":\"45118d86-4097-4d9d-b806-e1f8480b0dfa\",\"type\":\"GlyphRenderer\"},{\"id\":\"eb53e741-4b79-497d-80da-038e7e07b8bc\",\"type\":\"GlyphRenderer\"},{\"id\":\"da78153c-bd43-4529-99cf-708b47d124ff\",\"type\":\"GlyphRenderer\"},{\"id\":\"6000a0bb-adc5-4d02-af34-75ebe2c3d607\",\"type\":\"GlyphRenderer\"},{\"id\":\"c9b24710-c25d-4e92-b8d3-5f5e933080e0\",\"type\":\"GlyphRenderer\"},{\"id\":\"31f94504-06f5-45c2-9e8e-388755539c4d\",\"type\":\"GlyphRenderer\"},{\"id\":\"0217388f-2340-4d08-b7ca-548e816521d4\",\"type\":\"GlyphRenderer\"},{\"id\":\"7d54bf78-1881-40b2-9eb3-10fe3bf317f1\",\"type\":\"GlyphRenderer\"},{\"id\":\"260afa72-ff20-47f0-b8de-c31122b278d1\",\"type\":\"GlyphRenderer\"},{\"id\":\"8c2323dc-32da-414d-835b-f89031fede47\",\"type\":\"GlyphRenderer\"},{\"id\":\"52f2050a-8ba4-4fe2-8efa-8a6d91cd75e0\",\"type\":\"GlyphRenderer\"},{\"id\":\"5a83a4d1-4ca0-4508-aab3-665d9ae67616\",\"type\":\"GlyphRenderer\"},{\"id\":\"aa6d5025-759e-4822-8fea-101e77f7b00d\",\"type\":\"GlyphRenderer\"},{\"id\":\"429fc2c9-670c-424b-8030-708b03906b13\",\"type\":\"Legend\"},{\"id\":\"a88d587e-a725-4908-8d49-3f93360c9f50\",\"type\":\"CategoricalAxis\"},{\"id\":\"9dfef1f4-ddda-45c2-89d4-042199ddd19c\",\"type\":\"LinearAxis\"},{\"id\":\"c38c7647-bf1b-49c3-a1f4-b6162b0aa9e9\",\"type\":\"Grid\"}],\"title\":{\"id\":\"092a1bd9-a145-49f5-b9a9-d25af739ac81\",\"type\":\"Title\"},\"tool_events\":{\"id\":\"1488cd4a-b097-4717-9a12-55f8628ba999\",\"type\":\"ToolEvents\"},\"toolbar\":{\"id\":\"713c2891-30cc-4607-bc12-05c94d1b7bd9\",\"type\":\"Toolbar\"},\"x_mapper_type\":\"auto\",\"x_range\":{\"id\":\"5dfeea87-2cc8-44d7-bf28-882f73ee22dd\",\"type\":\"FactorRange\"},\"y_mapper_type\":\"auto\",\"y_range\":{\"id\":\"a3f90867-a8b9-45eb-93b8-355600809f18\",\"type\":\"Range1d\"}},\"id\":\"cc09ce7d-6978-4619-b033-735b17a7b7f2\",\"subtype\":\"Chart\",\"type\":\"Plot\"},{\"attributes\":{\"overlay\":{\"id\":\"e95eace2-8cfe-485a-a65a-be2f13816519\",\"type\":\"BoxAnnotation\"},\"plot\":{\"id\":\"cc09ce7d-6978-4619-b033-735b17a7b7f2\",\"subtype\":\"Chart\",\"type\":\"Plot\"}},\"id\":\"8fd0c21d-9aef-4a6a-82bf-f484e9b9d61d\",\"type\":\"BoxZoomTool\"},{\"attributes\":{\"label\":{\"value\":\"23611600\"},\"renderers\":[{\"id\":\"5a83a4d1-4ca0-4508-aab3-665d9ae67616\",\"type\":\"GlyphRenderer\"}]},\"id\":\"f8b0d165-bf22-49e3-8a5e-bc26f5494658\",\"type\":\"LegendItem\"},{\"attributes\":{\"callback\":null,\"column_names\":[\"line_color\",\"line_alpha\",\"color\",\"fill_alpha\",\"height\",\"width\",\"y\",\"x\",\"label\"],\"data\":{\"category_code\":[\"54121000\"],\"chart_index\":[{\"category_code\":\"54121000\"}],\"color\":[\"#d62728\"],\"fill_alpha\":[0.8],\"height\":[16343.0],\"label\":[{\"category_code\":\"54121000\"}],\"line_alpha\":[1.0],\"line_color\":[\"white\"],\"width\":[0.8],\"x\":[\"54121000\"],\"y\":[8171.5]}},\"id\":\"7ecda48b-e75b-4363-a8e4-adaa9b0f536e\",\"type\":\"ColumnDataSource\"},{\"attributes\":{\"data_source\":{\"id\":\"36158c8b-c30f-4f5b-adea-20c4f6175f3a\",\"type\":\"ColumnDataSource\"},\"glyph\":{\"id\":\"ef7f1a34-3969-4602-bfc1-1d65958d4168\",\"type\":\"Rect\"},\"hover_glyph\":null,\"nonselection_glyph\":null,\"selection_glyph\":null},\"id\":\"31f94504-06f5-45c2-9e8e-388755539c4d\",\"type\":\"GlyphRenderer\"},{\"attributes\":{\"callback\":null,\"column_names\":[\"line_color\",\"line_alpha\",\"color\",\"fill_alpha\",\"height\",\"width\",\"y\",\"x\",\"label\"],\"data\":{\"category_code\":[\"23611600\"],\"chart_index\":[{\"category_code\":\"23611600\"}],\"color\":[\"#d62728\"],\"fill_alpha\":[0.8],\"height\":[13293.0],\"label\":[{\"category_code\":\"23611600\"}],\"line_alpha\":[1.0],\"line_color\":[\"white\"],\"width\":[0.8],\"x\":[\"23611600\"],\"y\":[6646.5]}},\"id\":\"0b98875e-012b-4730-87be-2c7b75a55733\",\"type\":\"ColumnDataSource\"},{\"attributes\":{\"fill_alpha\":{\"field\":\"fill_alpha\"},\"fill_color\":{\"field\":\"color\"},\"height\":{\"field\":\"height\",\"units\":\"data\"},\"line_color\":{\"field\":\"line_color\"},\"width\":{\"field\":\"width\",\"units\":\"data\"},\"x\":{\"field\":\"x\"},\"y\":{\"field\":\"y\"}},\"id\":\"a6586e18-849d-4c65-9018-6a20356cf10b\",\"type\":\"Rect\"},{\"attributes\":{\"fill_alpha\":{\"field\":\"fill_alpha\"},\"fill_color\":{\"field\":\"color\"},\"height\":{\"field\":\"height\",\"units\":\"data\"},\"line_color\":{\"field\":\"line_color\"},\"width\":{\"field\":\"width\",\"units\":\"data\"},\"x\":{\"field\":\"x\"},\"y\":{\"field\":\"y\"}},\"id\":\"1a6ab7e6-cf86-4211-9a4e-3072bdc009c9\",\"type\":\"Rect\"},{\"attributes\":{},\"id\":\"6fafad47-3782-4245-ad05-4563a9bbf53f\",\"type\":\"BasicTicker\"},{\"attributes\":{\"label\":{\"value\":\"54100000\"},\"renderers\":[{\"id\":\"5dd896a8-c0e7-4666-b2f2-407f3790489a\",\"type\":\"GlyphRenderer\"}]},\"id\":\"21073c9d-b0b7-40c5-acf0-9c63aacb84ef\",\"type\":\"LegendItem\"},{\"attributes\":{\"fill_alpha\":{\"field\":\"fill_alpha\"},\"fill_color\":{\"field\":\"color\"},\"height\":{\"field\":\"height\",\"units\":\"data\"},\"line_color\":{\"field\":\"line_color\"},\"width\":{\"field\":\"width\",\"units\":\"data\"},\"x\":{\"field\":\"x\"},\"y\":{\"field\":\"y\"}},\"id\":\"0729a608-aedc-422b-9aeb-cf041c3a7481\",\"type\":\"Rect\"},{\"attributes\":{\"callback\":null,\"column_names\":[\"line_color\",\"line_alpha\",\"color\",\"fill_alpha\",\"height\",\"width\",\"y\",\"x\",\"label\"],\"data\":{\"category_code\":[\"51000000\"],\"chart_index\":[{\"category_code\":\"51000000\"}],\"color\":[\"#d62728\"],\"fill_alpha\":[0.8],\"height\":[14867.0],\"label\":[{\"category_code\":\"51000000\"}],\"line_alpha\":[1.0],\"line_color\":[\"white\"],\"width\":[0.8],\"x\":[\"51000000\"],\"y\":[7433.5]}},\"id\":\"82a3d56b-5a37-4b73-8dd0-578262c6ec26\",\"type\":\"ColumnDataSource\"},{\"attributes\":{\"callback\":null,\"column_names\":[\"line_color\",\"line_alpha\",\"color\",\"fill_alpha\",\"height\",\"width\",\"y\",\"x\",\"label\"],\"data\":{\"category_code\":[\"62130000\"],\"chart_index\":[{\"category_code\":\"62130000\"}],\"color\":[\"#d62728\"],\"fill_alpha\":[0.8],\"height\":[15243.0],\"label\":[{\"category_code\":\"62130000\"}],\"line_alpha\":[1.0],\"line_color\":[\"white\"],\"width\":[0.8],\"x\":[\"62130000\"],\"y\":[7621.5]}},\"id\":\"97bc19a7-1adc-4cdd-ac5c-5077b1cdf113\",\"type\":\"ColumnDataSource\"},{\"attributes\":{\"label\":{\"value\":\"52420000\"},\"renderers\":[{\"id\":\"eb53e741-4b79-497d-80da-038e7e07b8bc\",\"type\":\"GlyphRenderer\"}]},\"id\":\"5117141c-3033-4620-9af6-1442ab1d10f8\",\"type\":\"LegendItem\"},{\"attributes\":{\"label\":{\"value\":\"62400000\"},\"renderers\":[{\"id\":\"da78153c-bd43-4529-99cf-708b47d124ff\",\"type\":\"GlyphRenderer\"}]},\"id\":\"ab3698e3-0f03-4c21-84d4-726800b028d6\",\"type\":\"LegendItem\"},{\"attributes\":{\"data_source\":{\"id\":\"e4a085fa-e1fe-4dc4-8df1-6d8c10dd2c2c\",\"type\":\"ColumnDataSource\"},\"glyph\":{\"id\":\"314f04af-286e-42d9-b4af-9ac8de998e8d\",\"type\":\"Rect\"},\"hover_glyph\":null,\"nonselection_glyph\":null,\"selection_glyph\":null},\"id\":\"e575d64f-d388-4e37-a06b-0be597a3d1d4\",\"type\":\"GlyphRenderer\"},{\"attributes\":{\"fill_alpha\":{\"field\":\"fill_alpha\"},\"fill_color\":{\"field\":\"color\"},\"height\":{\"field\":\"height\",\"units\":\"data\"},\"line_color\":{\"field\":\"line_color\"},\"width\":{\"field\":\"width\",\"units\":\"data\"},\"x\":{\"field\":\"x\"},\"y\":{\"field\":\"y\"}},\"id\":\"ef7f1a34-3969-4602-bfc1-1d65958d4168\",\"type\":\"Rect\"},{\"attributes\":{\"items\":[{\"id\":\"66272477-d870-4ddf-af80-afa042c1edbd\",\"type\":\"LegendItem\"},{\"id\":\"e8b482f9-3155-477b-87e2-ddcfa09b9498\",\"type\":\"LegendItem\"},{\"id\":\"e081402a-0e96-4880-ac60-e5e662e0a485\",\"type\":\"LegendItem\"},{\"id\":\"098e8b3a-ea1b-4049-b257-9a7f61c234f4\",\"type\":\"LegendItem\"},{\"id\":\"a7c137b0-c86a-4ac4-b2b8-e1d1d65d453f\",\"type\":\"LegendItem\"},{\"id\":\"c0c4d571-bf69-4d14-80ee-55742386b4b9\",\"type\":\"LegendItem\"},{\"id\":\"21073c9d-b0b7-40c5-acf0-9c63aacb84ef\",\"type\":\"LegendItem\"},{\"id\":\"a6007972-7225-4838-9de6-50975053c3c4\",\"type\":\"LegendItem\"},{\"id\":\"5117141c-3033-4620-9af6-1442ab1d10f8\",\"type\":\"LegendItem\"},{\"id\":\"ab3698e3-0f03-4c21-84d4-726800b028d6\",\"type\":\"LegendItem\"},{\"id\":\"6d8e91de-64de-4789-8bcb-3e3ecaede5ac\",\"type\":\"LegendItem\"},{\"id\":\"f6bcac87-e8e9-4a13-8dea-1e28beadb33c\",\"type\":\"LegendItem\"},{\"id\":\"596ce724-ad52-4102-91db-23c9053bf486\",\"type\":\"LegendItem\"},{\"id\":\"cc0f5bd3-9458-4f5a-9e02-739c721e7fb9\",\"type\":\"LegendItem\"},{\"id\":\"2f2b2700-b9bd-480f-a455-f977bf105a98\",\"type\":\"LegendItem\"},{\"id\":\"806c57db-6b09-4a43-97c5-06e044251941\",\"type\":\"LegendItem\"},{\"id\":\"545f8d3b-78c9-4f78-8300-c514bac47511\",\"type\":\"LegendItem\"},{\"id\":\"00481aa9-b54d-49bc-8043-823709d7da88\",\"type\":\"LegendItem\"},{\"id\":\"f8b0d165-bf22-49e3-8a5e-bc26f5494658\",\"type\":\"LegendItem\"},{\"id\":\"289ddb39-f8e9-489b-ab1b-eaf0906dd7e3\",\"type\":\"LegendItem\"}],\"location\":null,\"plot\":{\"id\":\"cc09ce7d-6978-4619-b033-735b17a7b7f2\",\"subtype\":\"Chart\",\"type\":\"Plot\"}},\"id\":\"429fc2c9-670c-424b-8030-708b03906b13\",\"type\":\"Legend\"},{\"attributes\":{\"callback\":null,\"column_names\":[\"line_color\",\"line_alpha\",\"color\",\"fill_alpha\",\"height\",\"width\",\"y\",\"x\",\"label\"],\"data\":{\"category_code\":[\"23820000\"],\"chart_index\":[{\"category_code\":\"23820000\"}],\"color\":[\"#d62728\"],\"fill_alpha\":[0.8],\"height\":[19235.0],\"label\":[{\"category_code\":\"23820000\"}],\"line_alpha\":[1.0],\"line_color\":[\"white\"],\"width\":[0.8],\"x\":[\"23820000\"],\"y\":[9617.5]}},\"id\":\"ad52f9c5-370f-4219-8b09-6ee133843621\",\"type\":\"ColumnDataSource\"},{\"attributes\":{\"label\":{\"value\":\"23000000\"},\"renderers\":[{\"id\":\"45118d86-4097-4d9d-b806-e1f8480b0dfa\",\"type\":\"GlyphRenderer\"}]},\"id\":\"a6007972-7225-4838-9de6-50975053c3c4\",\"type\":\"LegendItem\"},{\"attributes\":{\"label\":{\"value\":\"54111000\"},\"renderers\":[{\"id\":\"f81a6c74-f528-4cb5-b61d-d6e210a082d6\",\"type\":\"GlyphRenderer\"}]},\"id\":\"e8b482f9-3155-477b-87e2-ddcfa09b9498\",\"type\":\"LegendItem\"},{\"attributes\":{\"fill_alpha\":{\"field\":\"fill_alpha\"},\"fill_color\":{\"field\":\"color\"},\"height\":{\"field\":\"height\",\"units\":\"data\"},\"line_color\":{\"field\":\"line_color\"},\"width\":{\"field\":\"width\",\"units\":\"data\"},\"x\":{\"field\":\"x\"},\"y\":{\"field\":\"y\"}},\"id\":\"70b35d6f-32f9-4b23-b71b-effa41b12126\",\"type\":\"Rect\"},{\"attributes\":{\"label\":{\"value\":\"42000000\"},\"renderers\":[{\"id\":\"16a505eb-01a0-43ff-980e-0ea9683254fc\",\"type\":\"GlyphRenderer\"}]},\"id\":\"a7c137b0-c86a-4ac4-b2b8-e1d1d65d453f\",\"type\":\"LegendItem\"},{\"attributes\":{},\"id\":\"8e04c337-eefb-4b76-ae44-10bca030f159\",\"type\":\"CategoricalTicker\"},{\"attributes\":{\"callback\":null,\"column_names\":[\"line_color\",\"line_alpha\",\"color\",\"fill_alpha\",\"height\",\"width\",\"y\",\"x\",\"label\"],\"data\":{\"category_code\":[\"72200000\"],\"chart_index\":[{\"category_code\":\"72200000\"}],\"color\":[\"#d62728\"],\"fill_alpha\":[0.8],\"height\":[17026.0],\"label\":[{\"category_code\":\"72200000\"}],\"line_alpha\":[1.0],\"line_color\":[\"white\"],\"width\":[0.8],\"x\":[\"72200000\"],\"y\":[8513.0]}},\"id\":\"36158c8b-c30f-4f5b-adea-20c4f6175f3a\",\"type\":\"ColumnDataSource\"},{\"attributes\":{\"fill_alpha\":{\"field\":\"fill_alpha\"},\"fill_color\":{\"field\":\"color\"},\"height\":{\"field\":\"height\",\"units\":\"data\"},\"line_color\":{\"field\":\"line_color\"},\"width\":{\"field\":\"width\",\"units\":\"data\"},\"x\":{\"field\":\"x\"},\"y\":{\"field\":\"y\"}},\"id\":\"1bba3dc2-bc5e-4fa0-aa23-6cb8311fd234\",\"type\":\"Rect\"},{\"attributes\":{\"callback\":null,\"column_names\":[\"line_color\",\"line_alpha\",\"color\",\"fill_alpha\",\"height\",\"width\",\"y\",\"x\",\"label\"],\"data\":{\"category_code\":[\"54100000\"],\"chart_index\":[{\"category_code\":\"54100000\"}],\"color\":[\"#d62728\"],\"fill_alpha\":[0.8],\"height\":[28693.0],\"label\":[{\"category_code\":\"54100000\"}],\"line_alpha\":[1.0],\"line_color\":[\"white\"],\"width\":[0.8],\"x\":[\"54100000\"],\"y\":[14346.5]}},\"id\":\"6355f4b8-c08a-41ff-bc67-5fb2d8864aad\",\"type\":\"ColumnDataSource\"},{\"attributes\":{\"data_source\":{\"id\":\"e5067439-50d0-435c-9b8e-c66dcacdb5f9\",\"type\":\"ColumnDataSource\"},\"glyph\":{\"id\":\"7d37ded2-dc1d-41ae-890b-7eea477400b4\",\"type\":\"Rect\"},\"hover_glyph\":null,\"nonselection_glyph\":null,\"selection_glyph\":null},\"id\":\"f9952496-ba48-49c8-a8f4-c66099241c25\",\"type\":\"GlyphRenderer\"},{\"attributes\":{\"callback\":null,\"column_names\":[\"line_color\",\"line_alpha\",\"color\",\"fill_alpha\",\"height\",\"width\",\"y\",\"x\",\"label\"],\"data\":{\"category_code\":[\"54111000\"],\"chart_index\":[{\"category_code\":\"54111000\"}],\"color\":[\"#d62728\"],\"fill_alpha\":[0.8],\"height\":[37891.0],\"label\":[{\"category_code\":\"54111000\"}],\"line_alpha\":[1.0],\"line_color\":[\"white\"],\"width\":[0.8],\"x\":[\"54111000\"],\"y\":[18945.5]}},\"id\":\"6b5ec0b0-560f-4852-a7af-1c0865c62a83\",\"type\":\"ColumnDataSource\"},{\"attributes\":{\"data_source\":{\"id\":\"6b5ec0b0-560f-4852-a7af-1c0865c62a83\",\"type\":\"ColumnDataSource\"},\"glyph\":{\"id\":\"c77b72be-8103-4a03-b713-b8b1afe85599\",\"type\":\"Rect\"},\"hover_glyph\":null,\"nonselection_glyph\":null,\"selection_glyph\":null},\"id\":\"f81a6c74-f528-4cb5-b61d-d6e210a082d6\",\"type\":\"GlyphRenderer\"},{\"attributes\":{\"dimension\":1,\"grid_line_color\":{\"value\":null},\"plot\":{\"id\":\"cc09ce7d-6978-4619-b033-735b17a7b7f2\",\"subtype\":\"Chart\",\"type\":\"Plot\"},\"ticker\":{\"id\":\"6fafad47-3782-4245-ad05-4563a9bbf53f\",\"type\":\"BasicTicker\"}},\"id\":\"c38c7647-bf1b-49c3-a1f4-b6162b0aa9e9\",\"type\":\"Grid\"},{\"attributes\":{\"fill_alpha\":{\"field\":\"fill_alpha\"},\"fill_color\":{\"field\":\"color\"},\"height\":{\"field\":\"height\",\"units\":\"data\"},\"line_color\":{\"field\":\"line_color\"},\"width\":{\"field\":\"width\",\"units\":\"data\"},\"x\":{\"field\":\"x\"},\"y\":{\"field\":\"y\"}},\"id\":\"256dce3b-2c4e-41f0-becd-fbc9f4e94f29\",\"type\":\"Rect\"},{\"attributes\":{\"callback\":null,\"column_names\":[\"line_color\",\"line_alpha\",\"color\",\"fill_alpha\",\"height\",\"width\",\"y\",\"x\",\"label\"],\"data\":{\"category_code\":[\"62110000\"],\"chart_index\":[{\"category_code\":\"62110000\"}],\"color\":[\"#d62728\"],\"fill_alpha\":[0.8],\"height\":[29205.0],\"label\":[{\"category_code\":\"62110000\"}],\"line_alpha\":[1.0],\"line_color\":[\"white\"],\"width\":[0.8],\"x\":[\"62110000\"],\"y\":[14602.5]}},\"id\":\"e4a085fa-e1fe-4dc4-8df1-6d8c10dd2c2c\",\"type\":\"ColumnDataSource\"},{\"attributes\":{\"callback\":null,\"column_names\":[\"line_color\",\"line_alpha\",\"color\",\"fill_alpha\",\"height\",\"width\",\"y\",\"x\",\"label\"],\"data\":{\"category_code\":[\"44000000\"],\"chart_index\":[{\"category_code\":\"44000000\"}],\"color\":[\"#d62728\"],\"fill_alpha\":[0.8],\"height\":[14114.0],\"label\":[{\"category_code\":\"44000000\"}],\"line_alpha\":[1.0],\"line_color\":[\"white\"],\"width\":[0.8],\"x\":[\"44000000\"],\"y\":[7057.0]}},\"id\":\"521c4146-3a5b-4495-b1ac-4f6ddb080443\",\"type\":\"ColumnDataSource\"},{\"attributes\":{\"plot\":{\"id\":\"cc09ce7d-6978-4619-b033-735b17a7b7f2\",\"subtype\":\"Chart\",\"type\":\"Plot\"}},\"id\":\"44c2e46d-0014-463b-8e89-598918d4a56b\",\"type\":\"SaveTool\"},{\"attributes\":{\"fill_alpha\":{\"field\":\"fill_alpha\"},\"fill_color\":{\"field\":\"color\"},\"height\":{\"field\":\"height\",\"units\":\"data\"},\"line_color\":{\"field\":\"line_color\"},\"width\":{\"field\":\"width\",\"units\":\"data\"},\"x\":{\"field\":\"x\"},\"y\":{\"field\":\"y\"}},\"id\":\"7cdd110e-6e6b-4c6a-9237-aa643b8755c1\",\"type\":\"Rect\"},{\"attributes\":{\"data_source\":{\"id\":\"586e2f14-3ed7-44a1-b9a7-3688efaec2a5\",\"type\":\"ColumnDataSource\"},\"glyph\":{\"id\":\"bcd8a066-1ed9-4297-a21f-805c536ce6a0\",\"type\":\"Rect\"},\"hover_glyph\":null,\"nonselection_glyph\":null,\"selection_glyph\":null},\"id\":\"16a505eb-01a0-43ff-980e-0ea9683254fc\",\"type\":\"GlyphRenderer\"},{\"attributes\":{},\"id\":\"4c1c26bf-c982-4c45-bd2a-e37cce107816\",\"type\":\"BasicTickFormatter\"},{\"attributes\":{\"data_source\":{\"id\":\"6355f4b8-c08a-41ff-bc67-5fb2d8864aad\",\"type\":\"ColumnDataSource\"},\"glyph\":{\"id\":\"af3cce59-b1e2-4ae5-9750-d7d431a2bd79\",\"type\":\"Rect\"},\"hover_glyph\":null,\"nonselection_glyph\":null,\"selection_glyph\":null},\"id\":\"5dd896a8-c0e7-4666-b2f2-407f3790489a\",\"type\":\"GlyphRenderer\"},{\"attributes\":{\"label\":{\"value\":\"54000000\"},\"renderers\":[{\"id\":\"fa17a5cf-af31-46cb-8255-e51516a6cded\",\"type\":\"GlyphRenderer\"}]},\"id\":\"098e8b3a-ea1b-4049-b257-9a7f61c234f4\",\"type\":\"LegendItem\"},{\"attributes\":{\"callback\":null,\"column_names\":[\"line_color\",\"line_alpha\",\"color\",\"fill_alpha\",\"height\",\"width\",\"y\",\"x\",\"label\"],\"data\":{\"category_code\":[\"62400000\"],\"chart_index\":[{\"category_code\":\"62400000\"}],\"color\":[\"#d62728\"],\"fill_alpha\":[0.8],\"height\":[22004.0],\"label\":[{\"category_code\":\"62400000\"}],\"line_alpha\":[1.0],\"line_color\":[\"white\"],\"width\":[0.8],\"x\":[\"62400000\"],\"y\":[11002.0]}},\"id\":\"fc4baba9-3b82-4bc6-a8e9-60bb533fdab2\",\"type\":\"ColumnDataSource\"},{\"attributes\":{\"label\":{\"value\":\"56000000\"},\"renderers\":[{\"id\":\"aa6d5025-759e-4822-8fea-101e77f7b00d\",\"type\":\"GlyphRenderer\"}]},\"id\":\"289ddb39-f8e9-489b-ab1b-eaf0906dd7e3\",\"type\":\"LegendItem\"},{\"attributes\":{\"label\":{\"value\":\"81300000\"},\"renderers\":[{\"id\":\"0217388f-2340-4d08-b7ca-548e816521d4\",\"type\":\"GlyphRenderer\"}]},\"id\":\"cc0f5bd3-9458-4f5a-9e02-739c721e7fb9\",\"type\":\"LegendItem\"},{\"attributes\":{},\"id\":\"1488cd4a-b097-4717-9a12-55f8628ba999\",\"type\":\"ToolEvents\"},{\"attributes\":{\"data_source\":{\"id\":\"2899e945-7033-446f-899f-a7de9231fd09\",\"type\":\"ColumnDataSource\"},\"glyph\":{\"id\":\"1a6ab7e6-cf86-4211-9a4e-3072bdc009c9\",\"type\":\"Rect\"},\"hover_glyph\":null,\"nonselection_glyph\":null,\"selection_glyph\":null},\"id\":\"45118d86-4097-4d9d-b806-e1f8480b0dfa\",\"type\":\"GlyphRenderer\"},{\"attributes\":{\"plot\":{\"id\":\"cc09ce7d-6978-4619-b033-735b17a7b7f2\",\"subtype\":\"Chart\",\"type\":\"Plot\"}},\"id\":\"241214b2-0c2e-4ff7-ab00-dfdaa4e2a9e5\",\"type\":\"HelpTool\"},{\"attributes\":{\"data_source\":{\"id\":\"f10f0e28-59dc-4a99-afa9-0efc3d8e5f90\",\"type\":\"ColumnDataSource\"},\"glyph\":{\"id\":\"1bba3dc2-bc5e-4fa0-aa23-6cb8311fd234\",\"type\":\"Rect\"},\"hover_glyph\":null,\"nonselection_glyph\":null,\"selection_glyph\":null},\"id\":\"fa17a5cf-af31-46cb-8255-e51516a6cded\",\"type\":\"GlyphRenderer\"},{\"attributes\":{\"callback\":null,\"column_names\":[\"line_color\",\"line_alpha\",\"color\",\"fill_alpha\",\"height\",\"width\",\"y\",\"x\",\"label\"],\"data\":{\"category_code\":[\"81300000\"],\"chart_index\":[{\"category_code\":\"81300000\"}],\"color\":[\"#d62728\"],\"fill_alpha\":[0.8],\"height\":[16514.0],\"label\":[{\"category_code\":\"81300000\"}],\"line_alpha\":[1.0],\"line_color\":[\"white\"],\"width\":[0.8],\"x\":[\"81300000\"],\"y\":[8257.0]}},\"id\":\"22b21bc6-d676-4642-b120-fc8c85fec80b\",\"type\":\"ColumnDataSource\"},{\"attributes\":{\"callback\":null,\"column_names\":[\"line_color\",\"line_alpha\",\"color\",\"fill_alpha\",\"height\",\"width\",\"y\",\"x\",\"label\"],\"data\":{\"category_code\":[\"53120000\"],\"chart_index\":[{\"category_code\":\"53120000\"}],\"color\":[\"#d62728\"],\"fill_alpha\":[0.8],\"height\":[32577.0],\"label\":[{\"category_code\":\"53120000\"}],\"line_alpha\":[1.0],\"line_color\":[\"white\"],\"width\":[0.8],\"x\":[\"53120000\"],\"y\":[16288.5]}},\"id\":\"781a0b4c-1ce5-4c52-a83a-e6ec7698283f\",\"type\":\"ColumnDataSource\"},{\"attributes\":{\"callback\":null,\"column_names\":[\"line_color\",\"line_alpha\",\"color\",\"fill_alpha\",\"height\",\"width\",\"y\",\"x\",\"label\"],\"data\":{\"category_code\":[\"54000000\"],\"chart_index\":[{\"category_code\":\"54000000\"}],\"color\":[\"#d62728\"],\"fill_alpha\":[0.8],\"height\":[31745.0],\"label\":[{\"category_code\":\"54000000\"}],\"line_alpha\":[1.0],\"line_color\":[\"white\"],\"width\":[0.8],\"x\":[\"54000000\"],\"y\":[15872.5]}},\"id\":\"f10f0e28-59dc-4a99-afa9-0efc3d8e5f90\",\"type\":\"ColumnDataSource\"},{\"attributes\":{\"data_source\":{\"id\":\"f5c195ac-fc69-412d-a73b-d3722ba9548d\",\"type\":\"ColumnDataSource\"},\"glyph\":{\"id\":\"70b35d6f-32f9-4b23-b71b-effa41b12126\",\"type\":\"Rect\"},\"hover_glyph\":null,\"nonselection_glyph\":null,\"selection_glyph\":null},\"id\":\"eb53e741-4b79-497d-80da-038e7e07b8bc\",\"type\":\"GlyphRenderer\"},{\"attributes\":{\"callback\":null,\"column_names\":[\"line_color\",\"line_alpha\",\"color\",\"fill_alpha\",\"height\",\"width\",\"y\",\"x\",\"label\"],\"data\":{\"category_code\":[\"23000000\"],\"chart_index\":[{\"category_code\":\"23000000\"}],\"color\":[\"#d62728\"],\"fill_alpha\":[0.8],\"height\":[27538.0],\"label\":[{\"category_code\":\"23000000\"}],\"line_alpha\":[1.0],\"line_color\":[\"white\"],\"width\":[0.8],\"x\":[\"23000000\"],\"y\":[13769.0]}},\"id\":\"2899e945-7033-446f-899f-a7de9231fd09\",\"type\":\"ColumnDataSource\"},{\"attributes\":{\"data_source\":{\"id\":\"ad52f9c5-370f-4219-8b09-6ee133843621\",\"type\":\"ColumnDataSource\"},\"glyph\":{\"id\":\"7cdd110e-6e6b-4c6a-9237-aa643b8755c1\",\"type\":\"Rect\"},\"hover_glyph\":null,\"nonselection_glyph\":null,\"selection_glyph\":null},\"id\":\"6000a0bb-adc5-4d02-af34-75ebe2c3d607\",\"type\":\"GlyphRenderer\"},{\"attributes\":{\"data_source\":{\"id\":\"5627bb12-93a4-4d8a-8ed9-4e0e720a074c\",\"type\":\"ColumnDataSource\"},\"glyph\":{\"id\":\"4b2d356f-ae37-4baf-ad2e-1f553b72104f\",\"type\":\"Rect\"},\"hover_glyph\":null,\"nonselection_glyph\":null,\"selection_glyph\":null},\"id\":\"aa6d5025-759e-4822-8fea-101e77f7b00d\",\"type\":\"GlyphRenderer\"},{\"attributes\":{\"fill_alpha\":{\"field\":\"fill_alpha\"},\"fill_color\":{\"field\":\"color\"},\"height\":{\"field\":\"height\",\"units\":\"data\"},\"line_color\":{\"field\":\"line_color\"},\"width\":{\"field\":\"width\",\"units\":\"data\"},\"x\":{\"field\":\"x\"},\"y\":{\"field\":\"y\"}},\"id\":\"99af0f74-2a44-45f3-8b44-c524bac6aac2\",\"type\":\"Rect\"},{\"attributes\":{\"bottom_units\":\"screen\",\"fill_alpha\":{\"value\":0.5},\"fill_color\":{\"value\":\"lightgrey\"},\"left_units\":\"screen\",\"level\":\"overlay\",\"line_alpha\":{\"value\":1.0},\"line_color\":{\"value\":\"black\"},\"line_dash\":[4,4],\"line_width\":{\"value\":2},\"plot\":null,\"render_mode\":\"css\",\"right_units\":\"screen\",\"top_units\":\"screen\"},\"id\":\"e95eace2-8cfe-485a-a65a-be2f13816519\",\"type\":\"BoxAnnotation\"},{\"attributes\":{\"fill_alpha\":{\"field\":\"fill_alpha\"},\"fill_color\":{\"field\":\"color\"},\"height\":{\"field\":\"height\",\"units\":\"data\"},\"line_color\":{\"field\":\"line_color\"},\"width\":{\"field\":\"width\",\"units\":\"data\"},\"x\":{\"field\":\"x\"},\"y\":{\"field\":\"y\"}},\"id\":\"7d37ded2-dc1d-41ae-890b-7eea477400b4\",\"type\":\"Rect\"},{\"attributes\":{\"data_source\":{\"id\":\"22b21bc6-d676-4642-b120-fc8c85fec80b\",\"type\":\"ColumnDataSource\"},\"glyph\":{\"id\":\"0d619a56-184d-416a-8e6e-0c4d1a9df809\",\"type\":\"Rect\"},\"hover_glyph\":null,\"nonselection_glyph\":null,\"selection_glyph\":null},\"id\":\"0217388f-2340-4d08-b7ca-548e816521d4\",\"type\":\"GlyphRenderer\"},{\"attributes\":{\"data_source\":{\"id\":\"521c4146-3a5b-4495-b1ac-4f6ddb080443\",\"type\":\"ColumnDataSource\"},\"glyph\":{\"id\":\"789cbc5a-953c-49c9-a565-2f8d85a7fb5a\",\"type\":\"Rect\"},\"hover_glyph\":null,\"nonselection_glyph\":null,\"selection_glyph\":null},\"id\":\"52f2050a-8ba4-4fe2-8efa-8a6d91cd75e0\",\"type\":\"GlyphRenderer\"},{\"attributes\":{\"data_source\":{\"id\":\"0b98875e-012b-4730-87be-2c7b75a55733\",\"type\":\"ColumnDataSource\"},\"glyph\":{\"id\":\"7c397d98-d46e-41d2-b95a-252d91cb1176\",\"type\":\"Rect\"},\"hover_glyph\":null,\"nonselection_glyph\":null,\"selection_glyph\":null},\"id\":\"5a83a4d1-4ca0-4508-aab3-665d9ae67616\",\"type\":\"GlyphRenderer\"},{\"attributes\":{\"data_source\":{\"id\":\"7ecda48b-e75b-4363-a8e4-adaa9b0f536e\",\"type\":\"ColumnDataSource\"},\"glyph\":{\"id\":\"a6586e18-849d-4c65-9018-6a20356cf10b\",\"type\":\"Rect\"},\"hover_glyph\":null,\"nonselection_glyph\":null,\"selection_glyph\":null},\"id\":\"7d54bf78-1881-40b2-9eb3-10fe3bf317f1\",\"type\":\"GlyphRenderer\"}],\"root_ids\":[\"cc09ce7d-6978-4619-b033-735b17a7b7f2\"]},\"title\":\"Bokeh Application\",\"version\":\"0.12.4\"}};\n",
       "            var render_items = [{\"docid\":\"374cf4ae-adc8-4aaf-81b0-a0b9e763bc2a\",\"elementid\":\"3b740d8e-1881-4933-a50b-e5434734eb95\",\"modelid\":\"cc09ce7d-6978-4619-b033-735b17a7b7f2\"}];\n",
       "            \n",
       "            Bokeh.embed.embed_items(docs_json, render_items);\n",
       "          };\n",
       "          if (document.readyState != \"loading\") fn();\n",
       "          else document.addEventListener(\"DOMContentLoaded\", fn);\n",
       "        })();\n",
       "      },\n",
       "      function(Bokeh) {\n",
       "      }\n",
       "    ];\n",
       "  \n",
       "    function run_inline_js() {\n",
       "      \n",
       "      if ((window.Bokeh !== undefined) || (force === true)) {\n",
       "        for (var i = 0; i < inline_js.length; i++) {\n",
       "          inline_js[i](window.Bokeh);\n",
       "        }if (force === true) {\n",
       "          display_loaded();\n",
       "        }} else if (Date.now() < window._bokeh_timeout) {\n",
       "        setTimeout(run_inline_js, 100);\n",
       "      } else if (!window._bokeh_failed_load) {\n",
       "        console.log(\"Bokeh: BokehJS failed to load within specified timeout.\");\n",
       "        window._bokeh_failed_load = true;\n",
       "      } else if (force !== true) {\n",
       "        var cell = $(document.getElementById(\"3b740d8e-1881-4933-a50b-e5434734eb95\")).parents('.cell').data().cell;\n",
       "        cell.output_area.append_execute_result(NB_LOAD_WARNING)\n",
       "      }\n",
       "  \n",
       "    }\n",
       "  \n",
       "    if (window._bokeh_is_loading === 0) {\n",
       "      console.log(\"Bokeh: BokehJS loaded, going straight to plotting\");\n",
       "      run_inline_js();\n",
       "    } else {\n",
       "      load_libs(js_urls, function() {\n",
       "        console.log(\"Bokeh: BokehJS plotting callback run at\", now());\n",
       "        run_inline_js();\n",
       "      });\n",
       "    }\n",
       "  }(this));\n",
       "</script>"
      ]
     },
     "metadata": {},
     "output_type": "display_data"
    }
   ],
   "source": [
    "p = Bar(catcode[:20],  values ='counts', \n",
    "        label=CatAttr(columns=['category_code'], sort=False),\n",
    "        title=\"Category Codes with Most Counts of Businesses from the Data Set\", \n",
    "        plot_width=600, plot_height=330, color = '#d62728')\n",
    "p.ygrid.grid_line_color = None\n",
    "p.yaxis.minor_tick_line_color = None\n",
    "p.xaxis.axis_label = \"Category Codes\"\n",
    "p.yaxis.axis_label = \"Counts\"\n",
    "p.legend.location = None\n",
    "show(p)"
   ]
  },
  {
   "cell_type": "markdown",
   "metadata": {},
   "source": [
    "### II.5. Analysis of State Field"
   ]
  },
  {
   "cell_type": "code",
   "execution_count": 45,
   "metadata": {
    "collapsed": false
   },
   "outputs": [],
   "source": [
    "#Counter ( [row['state'] for row in data] ) "
   ]
  },
  {
   "cell_type": "code",
   "execution_count": 46,
   "metadata": {
    "collapsed": true
   },
   "outputs": [],
   "source": [
    "state_check = [None, 0, '', ' ', '0', 'none', 'null']"
   ]
  },
  {
   "cell_type": "code",
   "execution_count": 47,
   "metadata": {
    "collapsed": false
   },
   "outputs": [],
   "source": [
    "state_invalid_vals, state_valid_vals = true_fill_rate('state', state_check)"
   ]
  },
  {
   "cell_type": "code",
   "execution_count": 48,
   "metadata": {
    "collapsed": false
   },
   "outputs": [
    {
     "name": "stdout",
     "output_type": "stream",
     "text": [
      "\n",
      "True fill rate for the State field is 999896 (over 1000000 data point, which is 99.9896%), compared to the fill rate of 999975\n"
     ]
    }
   ],
   "source": [
    "true_fill_rate_dict['state'] = len(state_valid_vals)\n",
    "\n",
    "print '\\nTrue fill rate for the State field is {} (over {} data point, which is {}%), \\\n",
    "compared to the fill rate of {}'.\\\n",
    "format(len(state_valid_vals), size, len(state_valid_vals)*100.0/size, fill_rate_dict['state'])"
   ]
  },
  {
   "cell_type": "code",
   "execution_count": 49,
   "metadata": {
    "collapsed": false
   },
   "outputs": [
    {
     "name": "stdout",
     "output_type": "stream",
     "text": [
      "The total number of unique State codes is 53\n"
     ]
    }
   ],
   "source": [
    "unique_vals['state'] = len(set(state_valid_vals)) \n",
    "\n",
    "print 'The total number of unique State codes is', unique_vals['state']"
   ]
  },
  {
   "cell_type": "code",
   "execution_count": 50,
   "metadata": {
    "collapsed": true
   },
   "outputs": [],
   "source": [
    "state = pd.DataFrame.from_dict(Counter(state_valid_vals), orient='index').reset_index()\n",
    "state.columns = ['states', 'counts']\n",
    "state = state.sort_values('counts', ascending = False)\n",
    "state.to_csv('states.csv')"
   ]
  },
  {
   "cell_type": "code",
   "execution_count": 51,
   "metadata": {
    "collapsed": false
   },
   "outputs": [
    {
     "data": {
      "text/html": [
       "<div>\n",
       "<table border=\"1\" class=\"dataframe\">\n",
       "  <thead>\n",
       "    <tr style=\"text-align: right;\">\n",
       "      <th></th>\n",
       "      <th>25</th>\n",
       "      <th>11</th>\n",
       "      <th>6</th>\n",
       "      <th>18</th>\n",
       "      <th>29</th>\n",
       "      <th>19</th>\n",
       "      <th>40</th>\n",
       "      <th>44</th>\n",
       "      <th>14</th>\n",
       "      <th>39</th>\n",
       "      <th>...</th>\n",
       "      <th>5</th>\n",
       "      <th>52</th>\n",
       "      <th>4</th>\n",
       "      <th>28</th>\n",
       "      <th>1</th>\n",
       "      <th>13</th>\n",
       "      <th>15</th>\n",
       "      <th>7</th>\n",
       "      <th>48</th>\n",
       "      <th>24</th>\n",
       "    </tr>\n",
       "  </thead>\n",
       "  <tbody>\n",
       "    <tr>\n",
       "      <th>states</th>\n",
       "      <td>CA</td>\n",
       "      <td>TX</td>\n",
       "      <td>FL</td>\n",
       "      <td>NY</td>\n",
       "      <td>IL</td>\n",
       "      <td>PA</td>\n",
       "      <td>OH</td>\n",
       "      <td>MI</td>\n",
       "      <td>NC</td>\n",
       "      <td>MA</td>\n",
       "      <td>...</td>\n",
       "      <td>HI</td>\n",
       "      <td>SD</td>\n",
       "      <td>WV</td>\n",
       "      <td>VT</td>\n",
       "      <td>DE</td>\n",
       "      <td>AK</td>\n",
       "      <td>ND</td>\n",
       "      <td>WY</td>\n",
       "      <td>PR</td>\n",
       "      <td>VI</td>\n",
       "    </tr>\n",
       "    <tr>\n",
       "      <th>counts</th>\n",
       "      <td>122812</td>\n",
       "      <td>70301</td>\n",
       "      <td>63245</td>\n",
       "      <td>57411</td>\n",
       "      <td>44126</td>\n",
       "      <td>40609</td>\n",
       "      <td>36524</td>\n",
       "      <td>31237</td>\n",
       "      <td>30389</td>\n",
       "      <td>30014</td>\n",
       "      <td>...</td>\n",
       "      <td>3754</td>\n",
       "      <td>3306</td>\n",
       "      <td>3217</td>\n",
       "      <td>3029</td>\n",
       "      <td>2849</td>\n",
       "      <td>2515</td>\n",
       "      <td>2315</td>\n",
       "      <td>1858</td>\n",
       "      <td>2</td>\n",
       "      <td>1</td>\n",
       "    </tr>\n",
       "  </tbody>\n",
       "</table>\n",
       "<p>2 rows × 53 columns</p>\n",
       "</div>"
      ],
      "text/plain": [
       "            25     11     6      18     29     19     40     44     14     39  \\\n",
       "states      CA     TX     FL     NY     IL     PA     OH     MI     NC     MA   \n",
       "counts  122812  70301  63245  57411  44126  40609  36524  31237  30389  30014   \n",
       "\n",
       "       ...    5     52    4     28    1     13    15    7   48  24  \n",
       "states ...    HI    SD    WV    VT    DE    AK    ND    WY  PR  VI  \n",
       "counts ...  3754  3306  3217  3029  2849  2515  2315  1858   2   1  \n",
       "\n",
       "[2 rows x 53 columns]"
      ]
     },
     "execution_count": 51,
     "metadata": {},
     "output_type": "execute_result"
    }
   ],
   "source": [
    "state.T"
   ]
  },
  {
   "cell_type": "markdown",
   "metadata": {},
   "source": [
    "**Number of businesses by states**\n",
    "![math](./state.png)"
   ]
  },
  {
   "cell_type": "markdown",
   "metadata": {},
   "source": [
    "### II.6. Analysis of Zip Code"
   ]
  },
  {
   "cell_type": "code",
   "execution_count": 52,
   "metadata": {
    "collapsed": false
   },
   "outputs": [],
   "source": [
    "#Counter ( [row['zip'] for row in data] ) "
   ]
  },
  {
   "cell_type": "code",
   "execution_count": 53,
   "metadata": {
    "collapsed": true
   },
   "outputs": [],
   "source": [
    "zip_check = [None, 0, '', ' ', '0', 'none', 'null']"
   ]
  },
  {
   "cell_type": "code",
   "execution_count": 54,
   "metadata": {
    "collapsed": true
   },
   "outputs": [],
   "source": [
    "zip_invalid_vals, zip_valid_vals = true_fill_rate('zip', zip_check)"
   ]
  },
  {
   "cell_type": "code",
   "execution_count": 55,
   "metadata": {
    "collapsed": false
   },
   "outputs": [],
   "source": [
    "# if zipcode have four digits, add 0 to the begining\n",
    "zip_valid_vals = ['0'+zipcode  if len(zipcode)==4 else zipcode for zipcode in zip_valid_vals]"
   ]
  },
  {
   "cell_type": "code",
   "execution_count": 56,
   "metadata": {
    "collapsed": false
   },
   "outputs": [],
   "source": [
    "# check to make sure all zipcode are five-digit\n",
    "assert [zipcode for zipcode in zip_valid_vals if len(zipcode)!=5] == []"
   ]
  },
  {
   "cell_type": "code",
   "execution_count": 57,
   "metadata": {
    "collapsed": false
   },
   "outputs": [
    {
     "data": {
      "text/plain": [
       "Counter({None: 12,\n",
       "         0: 14,\n",
       "         u'': 19,\n",
       "         u' ': 12,\n",
       "         u'0': 16,\n",
       "         u'none': 19,\n",
       "         u'null': 18})"
      ]
     },
     "execution_count": 57,
     "metadata": {},
     "output_type": "execute_result"
    }
   ],
   "source": [
    "Counter( zip_invalid_vals )"
   ]
  },
  {
   "cell_type": "code",
   "execution_count": 58,
   "metadata": {
    "collapsed": false
   },
   "outputs": [
    {
     "name": "stdout",
     "output_type": "stream",
     "text": [
      "\n",
      "True fill rate for the Zip field is 999890 (over 1000000 data point, which is 99.989%), compared to the fill rate of 999974\n"
     ]
    }
   ],
   "source": [
    "true_fill_rate_dict['zip'] = len(zip_valid_vals)\n",
    "\n",
    "print '\\nTrue fill rate for the Zip field is {} (over {} data point, which is {}%), \\\n",
    "compared to the fill rate of {}'.\\\n",
    "format(len(zip_valid_vals), size, len(zip_valid_vals)*100.0/size, fill_rate_dict['zip'])"
   ]
  },
  {
   "cell_type": "code",
   "execution_count": 59,
   "metadata": {
    "collapsed": false
   },
   "outputs": [
    {
     "name": "stdout",
     "output_type": "stream",
     "text": [
      "The total number of unique zip codes is 24527\n"
     ]
    }
   ],
   "source": [
    "unique_vals['zip'] = len(set(zip_valid_vals))\n",
    "print 'The total number of unique zip codes is', unique_vals['zip']"
   ]
  },
  {
   "cell_type": "code",
   "execution_count": 60,
   "metadata": {
    "collapsed": true
   },
   "outputs": [],
   "source": [
    "zipcode = pd.DataFrame.from_dict(Counter(zip_valid_vals), orient='index').reset_index()\n",
    "zipcode.columns = ['zip_code', 'counts']\n",
    "zipcode = zipcode.sort_values('counts', ascending = False)\n",
    "zipcode[:1000].to_csv('zipcode.csv')"
   ]
  },
  {
   "cell_type": "code",
   "execution_count": 279,
   "metadata": {
    "collapsed": false
   },
   "outputs": [],
   "source": [
    "p1 = Bar(zipcode[:20],  values ='counts', \n",
    "        label=CatAttr(columns=['zip_code'], sort=False),\n",
    "        title=\"Zip Codes with Most Counts of Businesses\", \n",
    "        plot_width=400, plot_height=260, color = '#9467bd', toolbar_location=None)\n",
    "p1.ygrid.grid_line_color = None\n",
    "p1.yaxis.minor_tick_line_color = None\n",
    "p1.xaxis.axis_label = None\n",
    "p1.yaxis.axis_label = \"Counts\"\n",
    "p1.legend.location = None\n",
    "\n",
    "#show(p1)"
   ]
  },
  {
   "cell_type": "markdown",
   "metadata": {},
   "source": [
    "### II.7. Analysis of City"
   ]
  },
  {
   "cell_type": "code",
   "execution_count": 62,
   "metadata": {
    "collapsed": false
   },
   "outputs": [],
   "source": [
    "#Counter ( row['city'] for row in data ) "
   ]
  },
  {
   "cell_type": "code",
   "execution_count": 63,
   "metadata": {
    "collapsed": true
   },
   "outputs": [],
   "source": [
    "city_check = [None, 0, '', ' ', '0', 'none', 'null']"
   ]
  },
  {
   "cell_type": "code",
   "execution_count": 64,
   "metadata": {
    "collapsed": false
   },
   "outputs": [],
   "source": [
    "def city_true_fill_rate(check_list):\n",
    "    invalid_vals = []\n",
    "    valid_vals = []\n",
    "    for row in data:\n",
    "        if type(row['city']) != unicode or row['city'] in check_list:\n",
    "            invalid_vals.append(row['city'])\n",
    "        else:\n",
    "            try:\n",
    "                valid_vals.append(row['city'] + ' ' + row['state'])\n",
    "            except:\n",
    "                valid_vals.append(row['city'])\n",
    "    return invalid_vals, valid_vals"
   ]
  },
  {
   "cell_type": "code",
   "execution_count": 65,
   "metadata": {
    "collapsed": false
   },
   "outputs": [],
   "source": [
    "city_invalid_vals, city_valid_vals = city_true_fill_rate(city_check)"
   ]
  },
  {
   "cell_type": "code",
   "execution_count": 66,
   "metadata": {
    "collapsed": true
   },
   "outputs": [],
   "source": [
    "city_valid_vals = [city.upper() for city in city_valid_vals]"
   ]
  },
  {
   "cell_type": "code",
   "execution_count": 67,
   "metadata": {
    "collapsed": false
   },
   "outputs": [
    {
     "name": "stdout",
     "output_type": "stream",
     "text": [
      "\n",
      "True fill rate for the City field is 999895 (over 1000000 data point, which is 99.9895%), compared to the fill rate of 999969\n"
     ]
    }
   ],
   "source": [
    "true_fill_rate_dict['city'] = len(city_valid_vals)\n",
    "\n",
    "print '\\nTrue fill rate for the City field is {} (over {} data point, which is {}%), \\\n",
    "compared to the fill rate of {}'.\\\n",
    "format(len(city_valid_vals), size, len(city_valid_vals)*100.0/size, fill_rate_dict['city'])"
   ]
  },
  {
   "cell_type": "code",
   "execution_count": 68,
   "metadata": {
    "collapsed": false
   },
   "outputs": [
    {
     "name": "stdout",
     "output_type": "stream",
     "text": [
      "The total number of unique cities is 21712\n"
     ]
    }
   ],
   "source": [
    "unique_vals['city'] = len(set(city_valid_vals))\n",
    "print 'The total number of unique cities is', unique_vals['city']"
   ]
  },
  {
   "cell_type": "code",
   "execution_count": 69,
   "metadata": {
    "collapsed": true
   },
   "outputs": [],
   "source": [
    "city = pd.DataFrame.from_dict(Counter(city_valid_vals), orient='index').reset_index()\n",
    "city.columns = ['city', 'counts']\n",
    "city = city.sort_values('counts', ascending = False)"
   ]
  },
  {
   "cell_type": "code",
   "execution_count": 205,
   "metadata": {
    "collapsed": false
   },
   "outputs": [
    {
     "data": {
      "text/html": [
       "\n",
       "\n",
       "    <div class=\"bk-root\">\n",
       "        <div class=\"bk-plotdiv\" id=\"4a41c8c5-b837-4cc2-ac6f-0e092a862186\"></div>\n",
       "    </div>\n",
       "<script type=\"text/javascript\">\n",
       "  \n",
       "  (function(global) {\n",
       "    function now() {\n",
       "      return new Date();\n",
       "    }\n",
       "  \n",
       "    var force = false;\n",
       "  \n",
       "    if (typeof (window._bokeh_onload_callbacks) === \"undefined\" || force === true) {\n",
       "      window._bokeh_onload_callbacks = [];\n",
       "      window._bokeh_is_loading = undefined;\n",
       "    }\n",
       "  \n",
       "  \n",
       "    \n",
       "    if (typeof (window._bokeh_timeout) === \"undefined\" || force === true) {\n",
       "      window._bokeh_timeout = Date.now() + 0;\n",
       "      window._bokeh_failed_load = false;\n",
       "    }\n",
       "  \n",
       "    var NB_LOAD_WARNING = {'data': {'text/html':\n",
       "       \"<div style='background-color: #fdd'>\\n\"+\n",
       "       \"<p>\\n\"+\n",
       "       \"BokehJS does not appear to have successfully loaded. If loading BokehJS from CDN, this \\n\"+\n",
       "       \"may be due to a slow or bad network connection. Possible fixes:\\n\"+\n",
       "       \"</p>\\n\"+\n",
       "       \"<ul>\\n\"+\n",
       "       \"<li>re-rerun `output_notebook()` to attempt to load from CDN again, or</li>\\n\"+\n",
       "       \"<li>use INLINE resources instead, as so:</li>\\n\"+\n",
       "       \"</ul>\\n\"+\n",
       "       \"<code>\\n\"+\n",
       "       \"from bokeh.resources import INLINE\\n\"+\n",
       "       \"output_notebook(resources=INLINE)\\n\"+\n",
       "       \"</code>\\n\"+\n",
       "       \"</div>\"}};\n",
       "  \n",
       "    function display_loaded() {\n",
       "      if (window.Bokeh !== undefined) {\n",
       "        document.getElementById(\"4a41c8c5-b837-4cc2-ac6f-0e092a862186\").textContent = \"BokehJS successfully loaded.\";\n",
       "      } else if (Date.now() < window._bokeh_timeout) {\n",
       "        setTimeout(display_loaded, 100)\n",
       "      }\n",
       "    }\n",
       "  \n",
       "    function run_callbacks() {\n",
       "      window._bokeh_onload_callbacks.forEach(function(callback) { callback() });\n",
       "      delete window._bokeh_onload_callbacks\n",
       "      console.info(\"Bokeh: all callbacks have finished\");\n",
       "    }\n",
       "  \n",
       "    function load_libs(js_urls, callback) {\n",
       "      window._bokeh_onload_callbacks.push(callback);\n",
       "      if (window._bokeh_is_loading > 0) {\n",
       "        console.log(\"Bokeh: BokehJS is being loaded, scheduling callback at\", now());\n",
       "        return null;\n",
       "      }\n",
       "      if (js_urls == null || js_urls.length === 0) {\n",
       "        run_callbacks();\n",
       "        return null;\n",
       "      }\n",
       "      console.log(\"Bokeh: BokehJS not loaded, scheduling load and callback at\", now());\n",
       "      window._bokeh_is_loading = js_urls.length;\n",
       "      for (var i = 0; i < js_urls.length; i++) {\n",
       "        var url = js_urls[i];\n",
       "        var s = document.createElement('script');\n",
       "        s.src = url;\n",
       "        s.async = false;\n",
       "        s.onreadystatechange = s.onload = function() {\n",
       "          window._bokeh_is_loading--;\n",
       "          if (window._bokeh_is_loading === 0) {\n",
       "            console.log(\"Bokeh: all BokehJS libraries loaded\");\n",
       "            run_callbacks()\n",
       "          }\n",
       "        };\n",
       "        s.onerror = function() {\n",
       "          console.warn(\"failed to load library \" + url);\n",
       "        };\n",
       "        console.log(\"Bokeh: injecting script tag for BokehJS library: \", url);\n",
       "        document.getElementsByTagName(\"head\")[0].appendChild(s);\n",
       "      }\n",
       "    };var element = document.getElementById(\"4a41c8c5-b837-4cc2-ac6f-0e092a862186\");\n",
       "    if (element == null) {\n",
       "      console.log(\"Bokeh: ERROR: autoload.js configured with elementid '4a41c8c5-b837-4cc2-ac6f-0e092a862186' but no matching script tag was found. \")\n",
       "      return false;\n",
       "    }\n",
       "  \n",
       "    var js_urls = [];\n",
       "  \n",
       "    var inline_js = [\n",
       "      function(Bokeh) {\n",
       "        (function() {\n",
       "          var fn = function() {\n",
       "            var docs_json = {\"49d227bc-a7ac-412e-9378-e7109110d24f\":{\"roots\":{\"references\":[{\"attributes\":{\"data_source\":{\"id\":\"7094a80f-2f11-4825-b162-a95b64977e89\",\"type\":\"ColumnDataSource\"},\"glyph\":{\"id\":\"8b11ef3e-5ce2-44b8-b264-3cfa689a02c7\",\"type\":\"Rect\"},\"hover_glyph\":null,\"nonselection_glyph\":null,\"selection_glyph\":null},\"id\":\"bc21951d-51bf-42d7-a030-08f2c1940587\",\"type\":\"GlyphRenderer\"},{\"attributes\":{\"callback\":null,\"column_names\":[\"line_color\",\"line_alpha\",\"color\",\"fill_alpha\",\"height\",\"width\",\"y\",\"x\",\"label\"],\"data\":{\"chart_index\":[{\"zip_code\":\"10001\"}],\"color\":[\"#9467bd\"],\"fill_alpha\":[0.8],\"height\":[1151.0],\"label\":[{\"zip_code\":\"10001\"}],\"line_alpha\":[1.0],\"line_color\":[\"white\"],\"width\":[0.8],\"x\":[\"10001\"],\"y\":[575.5],\"zip_code\":[\"10001\"]}},\"id\":\"a2b3c8ca-8099-48a9-a9c2-5340b28a8ef5\",\"type\":\"ColumnDataSource\"},{\"attributes\":{\"data_source\":{\"id\":\"6f16cdf4-df99-4e23-a785-34b3edbe59c5\",\"type\":\"ColumnDataSource\"},\"glyph\":{\"id\":\"0da2e9a3-3afc-449e-ba46-d45655193d65\",\"type\":\"Rect\"},\"hover_glyph\":null,\"nonselection_glyph\":null,\"selection_glyph\":null},\"id\":\"e23a3ad3-501c-4f7d-9d25-2d5f97a5c3dd\",\"type\":\"GlyphRenderer\"},{\"attributes\":{\"callback\":null,\"column_names\":[\"line_color\",\"line_alpha\",\"color\",\"fill_alpha\",\"height\",\"width\",\"y\",\"x\",\"label\"],\"data\":{\"chart_index\":[{\"zip_code\":\"10017\"}],\"color\":[\"#9467bd\"],\"fill_alpha\":[0.8],\"height\":[840.0],\"label\":[{\"zip_code\":\"10017\"}],\"line_alpha\":[1.0],\"line_color\":[\"white\"],\"width\":[0.8],\"x\":[\"10017\"],\"y\":[420.0],\"zip_code\":[\"10017\"]}},\"id\":\"8e4a773a-8f8b-4490-940d-28db93d3ba84\",\"type\":\"ColumnDataSource\"},{\"attributes\":{\"data_source\":{\"id\":\"bc658ceb-e08a-403f-b551-2f20ded27c4f\",\"type\":\"ColumnDataSource\"},\"glyph\":{\"id\":\"a836f5db-3d47-4aa1-950c-21bed10baa6e\",\"type\":\"Rect\"},\"hover_glyph\":null,\"nonselection_glyph\":null,\"selection_glyph\":null},\"id\":\"f31e01ee-245b-47b7-ad6b-8566077ae03b\",\"type\":\"GlyphRenderer\"},{\"attributes\":{\"children\":[{\"id\":\"e35dc515-a0d2-4d48-aa17-745b2be34e71\",\"subtype\":\"Chart\",\"type\":\"Plot\"},{\"id\":\"d482d0f7-a539-41eb-9d28-8c47d0ea18cb\",\"subtype\":\"Chart\",\"type\":\"Plot\"}]},\"id\":\"19ec6b45-ea3d-4a45-af00-0d396415cd10\",\"type\":\"Row\"},{\"attributes\":{\"label\":{\"value\":\"AUSTIN TX\"},\"renderers\":[{\"id\":\"af6c6315-e26d-4aab-9f01-55870492e293\",\"type\":\"GlyphRenderer\"}]},\"id\":\"5bdbb754-44b5-46b8-96f7-f11aa9b56381\",\"type\":\"LegendItem\"},{\"attributes\":{\"fill_alpha\":{\"field\":\"fill_alpha\"},\"fill_color\":{\"field\":\"color\"},\"height\":{\"field\":\"height\",\"units\":\"data\"},\"line_color\":{\"field\":\"line_color\"},\"width\":{\"field\":\"width\",\"units\":\"data\"},\"x\":{\"field\":\"x\"},\"y\":{\"field\":\"y\"}},\"id\":\"843b4d8e-4655-4fa7-9218-6293610608a1\",\"type\":\"Rect\"},{\"attributes\":{\"label\":{\"value\":\"WASHINGTON DC\"},\"renderers\":[{\"id\":\"f31e01ee-245b-47b7-ad6b-8566077ae03b\",\"type\":\"GlyphRenderer\"}]},\"id\":\"11e72d0c-b35b-489b-93ed-9373715fb845\",\"type\":\"LegendItem\"},{\"attributes\":{\"label\":{\"value\":\"10036\"},\"renderers\":[{\"id\":\"2f4516a0-b16c-47a5-8ffd-0d39fe2e3eab\",\"type\":\"GlyphRenderer\"}]},\"id\":\"b28a476a-6712-4ecf-814e-95b243c69e25\",\"type\":\"LegendItem\"},{\"attributes\":{\"fill_alpha\":{\"field\":\"fill_alpha\"},\"fill_color\":{\"field\":\"color\"},\"height\":{\"field\":\"height\",\"units\":\"data\"},\"line_color\":{\"field\":\"line_color\"},\"width\":{\"field\":\"width\",\"units\":\"data\"},\"x\":{\"field\":\"x\"},\"y\":{\"field\":\"y\"}},\"id\":\"9f980894-e8c5-4f2e-9b66-fe0c22a0fda5\",\"type\":\"Rect\"},{\"attributes\":{\"fill_alpha\":{\"field\":\"fill_alpha\"},\"fill_color\":{\"field\":\"color\"},\"height\":{\"field\":\"height\",\"units\":\"data\"},\"line_color\":{\"field\":\"line_color\"},\"width\":{\"field\":\"width\",\"units\":\"data\"},\"x\":{\"field\":\"x\"},\"y\":{\"field\":\"y\"}},\"id\":\"ecc56ad2-6b12-42b5-a3a8-b92694c63596\",\"type\":\"Rect\"},{\"attributes\":{\"callback\":null,\"column_names\":[\"line_color\",\"line_alpha\",\"color\",\"fill_alpha\",\"height\",\"width\",\"y\",\"x\",\"label\"],\"data\":{\"chart_index\":[{\"city\":\"CHARLOTTE NC\"}],\"city\":[\"CHARLOTTE NC\"],\"color\":[\"#9467bd\"],\"fill_alpha\":[0.8],\"height\":[3764.0],\"label\":[{\"city\":\"CHARLOTTE NC\"}],\"line_alpha\":[1.0],\"line_color\":[\"white\"],\"width\":[0.8],\"x\":[\"CHARLOTTE NC\"],\"y\":[1882.0]}},\"id\":\"f737d6b4-3640-4f9b-9a86-46d69ed62a87\",\"type\":\"ColumnDataSource\"},{\"attributes\":{\"callback\":null,\"column_names\":[\"line_color\",\"line_alpha\",\"color\",\"fill_alpha\",\"height\",\"width\",\"y\",\"x\",\"label\"],\"data\":{\"chart_index\":[{\"zip_code\":\"92660\"}],\"color\":[\"#9467bd\"],\"fill_alpha\":[0.8],\"height\":[706.0],\"label\":[{\"zip_code\":\"92660\"}],\"line_alpha\":[1.0],\"line_color\":[\"white\"],\"width\":[0.8],\"x\":[\"92660\"],\"y\":[353.0],\"zip_code\":[\"92660\"]}},\"id\":\"7094a80f-2f11-4825-b162-a95b64977e89\",\"type\":\"ColumnDataSource\"},{\"attributes\":{\"label\":{\"value\":\"HOUSTON TX\"},\"renderers\":[{\"id\":\"eefae77b-10b8-48e6-adfe-9f517fee2bbf\",\"type\":\"GlyphRenderer\"}]},\"id\":\"4164b2ed-49a6-47a0-8a17-f4609739b7c7\",\"type\":\"LegendItem\"},{\"attributes\":{},\"id\":\"39fcde16-1c85-4b84-8b65-0710b4729215\",\"type\":\"CategoricalTickFormatter\"},{\"attributes\":{\"callback\":null,\"column_names\":[\"line_color\",\"line_alpha\",\"color\",\"fill_alpha\",\"height\",\"width\",\"y\",\"x\",\"label\"],\"data\":{\"chart_index\":[{\"city\":\"INDIANAPOLIS IN\"}],\"city\":[\"INDIANAPOLIS IN\"],\"color\":[\"#9467bd\"],\"fill_alpha\":[0.8],\"height\":[3883.0],\"label\":[{\"city\":\"INDIANAPOLIS IN\"}],\"line_alpha\":[1.0],\"line_color\":[\"white\"],\"width\":[0.8],\"x\":[\"INDIANAPOLIS IN\"],\"y\":[1941.5]}},\"id\":\"1f5e38bd-a4fe-443f-bcd8-8e85a3980878\",\"type\":\"ColumnDataSource\"},{\"attributes\":{\"label\":{\"value\":\"10001\"},\"renderers\":[{\"id\":\"aefdb460-e3b5-4b08-8aaf-3911839331e0\",\"type\":\"GlyphRenderer\"}]},\"id\":\"f83d0af4-4e53-4db0-9c96-58fc6f47a584\",\"type\":\"LegendItem\"},{\"attributes\":{\"items\":[{\"id\":\"9759e0d8-5d79-4012-a339-e2c49792718f\",\"type\":\"LegendItem\"},{\"id\":\"4164b2ed-49a6-47a0-8a17-f4609739b7c7\",\"type\":\"LegendItem\"},{\"id\":\"5830b947-ead0-472e-8c5f-916fe3b8ffd5\",\"type\":\"LegendItem\"},{\"id\":\"53780ec9-30e1-4a0a-b017-7cae8fef469f\",\"type\":\"LegendItem\"},{\"id\":\"cfd76c58-eb68-4fcd-80f6-bf37b60452d2\",\"type\":\"LegendItem\"},{\"id\":\"50b7a87c-d423-44df-a59a-c06d843efcf5\",\"type\":\"LegendItem\"},{\"id\":\"ed703e31-d46d-4a90-a749-31094c874a12\",\"type\":\"LegendItem\"},{\"id\":\"5bdbb754-44b5-46b8-96f7-f11aa9b56381\",\"type\":\"LegendItem\"},{\"id\":\"c36f2edb-d214-4f2b-a8a4-2305298f6920\",\"type\":\"LegendItem\"},{\"id\":\"23447299-016f-4926-a032-9b54f58b649c\",\"type\":\"LegendItem\"},{\"id\":\"3c2f45d4-0a26-4b67-9cb5-a29bfa57def1\",\"type\":\"LegendItem\"},{\"id\":\"866a38db-4ccc-4b59-bbe1-b89473fc45a0\",\"type\":\"LegendItem\"},{\"id\":\"e31325d2-a531-4d52-b00a-d63c81fc304d\",\"type\":\"LegendItem\"},{\"id\":\"661876bb-bd0d-42ba-b5b2-16d1cebe6889\",\"type\":\"LegendItem\"},{\"id\":\"11e72d0c-b35b-489b-93ed-9373715fb845\",\"type\":\"LegendItem\"},{\"id\":\"d39101f4-7aac-4d40-bdbf-bfe278c3e726\",\"type\":\"LegendItem\"},{\"id\":\"bcd57863-6424-470c-8f3e-36595c786b86\",\"type\":\"LegendItem\"},{\"id\":\"3beff311-49ac-4a45-a045-f1a48161274c\",\"type\":\"LegendItem\"},{\"id\":\"93a10cdb-4671-4132-b815-d8f89fd5739d\",\"type\":\"LegendItem\"},{\"id\":\"2ff07f96-dd17-4c71-90b3-b18a1f5f1b26\",\"type\":\"LegendItem\"}],\"location\":null,\"plot\":{\"id\":\"d482d0f7-a539-41eb-9d28-8c47d0ea18cb\",\"subtype\":\"Chart\",\"type\":\"Plot\"}},\"id\":\"f1f31fd2-c203-4491-9492-ab42949c518c\",\"type\":\"Legend\"},{\"attributes\":{\"fill_alpha\":{\"field\":\"fill_alpha\"},\"fill_color\":{\"field\":\"color\"},\"height\":{\"field\":\"height\",\"units\":\"data\"},\"line_color\":{\"field\":\"line_color\"},\"width\":{\"field\":\"width\",\"units\":\"data\"},\"x\":{\"field\":\"x\"},\"y\":{\"field\":\"y\"}},\"id\":\"f7680d0a-94d1-4785-84bf-57f3ebc88365\",\"type\":\"Rect\"},{\"attributes\":{\"label\":{\"value\":\"SAN ANTONIO TX\"},\"renderers\":[{\"id\":\"dc75d5e0-3654-4a99-8d16-784818d4b4ae\",\"type\":\"GlyphRenderer\"}]},\"id\":\"3beff311-49ac-4a45-a045-f1a48161274c\",\"type\":\"LegendItem\"},{\"attributes\":{\"label\":{\"value\":\"80202\"},\"renderers\":[{\"id\":\"0cd4bc62-baed-42bc-99fb-6b5eaf75ec73\",\"type\":\"GlyphRenderer\"}]},\"id\":\"6dc4bbb2-1642-484b-89f7-4cd5fdad2017\",\"type\":\"LegendItem\"},{\"attributes\":{\"fill_alpha\":{\"field\":\"fill_alpha\"},\"fill_color\":{\"field\":\"color\"},\"height\":{\"field\":\"height\",\"units\":\"data\"},\"line_color\":{\"field\":\"line_color\"},\"width\":{\"field\":\"width\",\"units\":\"data\"},\"x\":{\"field\":\"x\"},\"y\":{\"field\":\"y\"}},\"id\":\"6ed7ce1d-7af2-4f22-87b5-158a82a144ec\",\"type\":\"Rect\"},{\"attributes\":{\"fill_alpha\":{\"field\":\"fill_alpha\"},\"fill_color\":{\"field\":\"color\"},\"height\":{\"field\":\"height\",\"units\":\"data\"},\"line_color\":{\"field\":\"line_color\"},\"width\":{\"field\":\"width\",\"units\":\"data\"},\"x\":{\"field\":\"x\"},\"y\":{\"field\":\"y\"}},\"id\":\"d097bc26-5719-435d-910a-b83c3f6d0b57\",\"type\":\"Rect\"},{\"attributes\":{\"data_source\":{\"id\":\"35f7134c-9fce-4892-8b2a-b430741a027b\",\"type\":\"ColumnDataSource\"},\"glyph\":{\"id\":\"f1feece9-6bea-4648-ad4e-5d95fee03738\",\"type\":\"Rect\"},\"hover_glyph\":null,\"nonselection_glyph\":null,\"selection_glyph\":null},\"id\":\"ec88747f-7cb0-4fe6-a1f2-b3e752c7a9f8\",\"type\":\"GlyphRenderer\"},{\"attributes\":{\"label\":{\"value\":\"DENVER CO\"},\"renderers\":[{\"id\":\"f3fce54e-fffe-451c-979c-626734805a37\",\"type\":\"GlyphRenderer\"}]},\"id\":\"d39101f4-7aac-4d40-bdbf-bfe278c3e726\",\"type\":\"LegendItem\"},{\"attributes\":{\"fill_alpha\":{\"field\":\"fill_alpha\"},\"fill_color\":{\"field\":\"color\"},\"height\":{\"field\":\"height\",\"units\":\"data\"},\"line_color\":{\"field\":\"line_color\"},\"width\":{\"field\":\"width\",\"units\":\"data\"},\"x\":{\"field\":\"x\"},\"y\":{\"field\":\"y\"}},\"id\":\"4d6ace1b-88ad-4d2d-b5ae-d6def8b5c147\",\"type\":\"Rect\"},{\"attributes\":{\"active_drag\":\"auto\",\"active_scroll\":\"auto\",\"active_tap\":\"auto\",\"tools\":[{\"id\":\"bc27aa78-ddf0-44b1-a0c9-93fc842ebe38\",\"type\":\"PanTool\"},{\"id\":\"4d1a7d35-184a-4840-a5aa-6dbf7b566b22\",\"type\":\"WheelZoomTool\"},{\"id\":\"3b52731a-0ee4-4b7a-a400-f81987272828\",\"type\":\"BoxZoomTool\"},{\"id\":\"9b718c88-2e13-479e-b1b5-8ab9e1a882bc\",\"type\":\"SaveTool\"},{\"id\":\"ca7b8c41-5fdf-4d01-83ce-33616ca7e294\",\"type\":\"ResetTool\"},{\"id\":\"7a34e7e3-83fc-4f0e-82c8-100b7e2c4029\",\"type\":\"HelpTool\"}]},\"id\":\"8266ef65-0836-4954-835f-6ab02d925d20\",\"type\":\"Toolbar\"},{\"attributes\":{\"plot\":{\"id\":\"e35dc515-a0d2-4d48-aa17-745b2be34e71\",\"subtype\":\"Chart\",\"type\":\"Plot\"}},\"id\":\"bc27aa78-ddf0-44b1-a0c9-93fc842ebe38\",\"type\":\"PanTool\"},{\"attributes\":{\"label\":{\"value\":\"85260\"},\"renderers\":[{\"id\":\"870174ae-cfcc-44c6-bb26-f6c2e9481e0f\",\"type\":\"GlyphRenderer\"}]},\"id\":\"17e27db4-7d83-47c1-a069-0d007cfeeba0\",\"type\":\"LegendItem\"},{\"attributes\":{\"active_drag\":\"auto\",\"active_scroll\":\"auto\",\"active_tap\":\"auto\",\"tools\":[{\"id\":\"03b2b75a-ee28-400b-ad1f-ef9d5fc79128\",\"type\":\"PanTool\"},{\"id\":\"21df58db-771c-4f41-a278-8e23849a3714\",\"type\":\"WheelZoomTool\"},{\"id\":\"144cb993-70a7-4ae0-a4ff-9d3eeb178ffe\",\"type\":\"BoxZoomTool\"},{\"id\":\"0e604c1e-1677-4199-abc9-5473cfc54b3a\",\"type\":\"SaveTool\"},{\"id\":\"3ca20231-9ff4-4ad4-b06c-effb8bbb99d0\",\"type\":\"ResetTool\"},{\"id\":\"bc6be59f-18e6-4f4b-a44f-d045e1348283\",\"type\":\"HelpTool\"}]},\"id\":\"83cd3191-348e-4f0b-bce5-3de2753dae5b\",\"type\":\"Toolbar\"},{\"attributes\":{\"bottom_units\":\"screen\",\"fill_alpha\":{\"value\":0.5},\"fill_color\":{\"value\":\"lightgrey\"},\"left_units\":\"screen\",\"level\":\"overlay\",\"line_alpha\":{\"value\":1.0},\"line_color\":{\"value\":\"black\"},\"line_dash\":[4,4],\"line_width\":{\"value\":2},\"plot\":null,\"render_mode\":\"css\",\"right_units\":\"screen\",\"top_units\":\"screen\"},\"id\":\"86bc5288-df3e-41d8-9085-4d6b9199c0e1\",\"type\":\"BoxAnnotation\"},{\"attributes\":{\"overlay\":{\"id\":\"313542c7-46e7-4062-b415-db238ad44c8e\",\"type\":\"BoxAnnotation\"},\"plot\":{\"id\":\"e35dc515-a0d2-4d48-aa17-745b2be34e71\",\"subtype\":\"Chart\",\"type\":\"Plot\"}},\"id\":\"3b52731a-0ee4-4b7a-a400-f81987272828\",\"type\":\"BoxZoomTool\"},{\"attributes\":{\"callback\":null,\"column_names\":[\"line_color\",\"line_alpha\",\"color\",\"fill_alpha\",\"height\",\"width\",\"y\",\"x\",\"label\"],\"data\":{\"chart_index\":[{\"city\":\"SAN ANTONIO TX\"}],\"city\":[\"SAN ANTONIO TX\"],\"color\":[\"#9467bd\"],\"fill_alpha\":[0.8],\"height\":[3994.0],\"label\":[{\"city\":\"SAN ANTONIO TX\"}],\"line_alpha\":[1.0],\"line_color\":[\"white\"],\"width\":[0.8],\"x\":[\"SAN ANTONIO TX\"],\"y\":[1997.0]}},\"id\":\"a0eaf0b2-8933-4780-b478-fc0ff3adf7d5\",\"type\":\"ColumnDataSource\"},{\"attributes\":{\"label\":{\"value\":\"MIAMI FL\"},\"renderers\":[{\"id\":\"ffab8014-1b62-49d2-93ef-9eac820c8c41\",\"type\":\"GlyphRenderer\"}]},\"id\":\"661876bb-bd0d-42ba-b5b2-16d1cebe6889\",\"type\":\"LegendItem\"},{\"attributes\":{\"label\":{\"value\":\"SAINT LOUIS MO\"},\"renderers\":[{\"id\":\"e4b3f061-bc8d-47d2-9d74-33c33874c4d7\",\"type\":\"GlyphRenderer\"}]},\"id\":\"bcd57863-6424-470c-8f3e-36595c786b86\",\"type\":\"LegendItem\"},{\"attributes\":{\"data_source\":{\"id\":\"66918f63-6594-46cc-b886-f387d0970b7f\",\"type\":\"ColumnDataSource\"},\"glyph\":{\"id\":\"ec5bdc99-78ce-43eb-bed8-02c4d7e597f5\",\"type\":\"Rect\"},\"hover_glyph\":null,\"nonselection_glyph\":null,\"selection_glyph\":null},\"id\":\"1124bb8b-add8-46a2-bfbf-a1fbf40600f7\",\"type\":\"GlyphRenderer\"},{\"attributes\":{\"fill_alpha\":{\"field\":\"fill_alpha\"},\"fill_color\":{\"field\":\"color\"},\"height\":{\"field\":\"height\",\"units\":\"data\"},\"line_color\":{\"field\":\"line_color\"},\"width\":{\"field\":\"width\",\"units\":\"data\"},\"x\":{\"field\":\"x\"},\"y\":{\"field\":\"y\"}},\"id\":\"fe984671-f4ee-41ea-bedd-558d3414a7fe\",\"type\":\"Rect\"},{\"attributes\":{\"callback\":null,\"column_names\":[\"line_color\",\"line_alpha\",\"color\",\"fill_alpha\",\"height\",\"width\",\"y\",\"x\",\"label\"],\"data\":{\"chart_index\":[{\"zip_code\":\"10018\"}],\"color\":[\"#9467bd\"],\"fill_alpha\":[0.8],\"height\":[1067.0],\"label\":[{\"zip_code\":\"10018\"}],\"line_alpha\":[1.0],\"line_color\":[\"white\"],\"width\":[0.8],\"x\":[\"10018\"],\"y\":[533.5],\"zip_code\":[\"10018\"]}},\"id\":\"1885423a-342d-4ad2-92c5-67e8e884b731\",\"type\":\"ColumnDataSource\"},{\"attributes\":{\"callback\":null,\"column_names\":[\"line_color\",\"line_alpha\",\"color\",\"fill_alpha\",\"height\",\"width\",\"y\",\"x\",\"label\"],\"data\":{\"chart_index\":[{\"zip_code\":\"78701\"}],\"color\":[\"#9467bd\"],\"fill_alpha\":[0.8],\"height\":[673.0],\"label\":[{\"zip_code\":\"78701\"}],\"line_alpha\":[1.0],\"line_color\":[\"white\"],\"width\":[0.8],\"x\":[\"78701\"],\"y\":[336.5],\"zip_code\":[\"78701\"]}},\"id\":\"5204a792-2a3b-48be-acd9-2127a7606518\",\"type\":\"ColumnDataSource\"},{\"attributes\":{\"data_source\":{\"id\":\"ba485a25-430d-48e8-a763-4a6cb9ef33b0\",\"type\":\"ColumnDataSource\"},\"glyph\":{\"id\":\"d38404d1-10e3-4c7f-b845-cfc0cfc687ee\",\"type\":\"Rect\"},\"hover_glyph\":null,\"nonselection_glyph\":null,\"selection_glyph\":null},\"id\":\"af6c6315-e26d-4aab-9f01-55870492e293\",\"type\":\"GlyphRenderer\"},{\"attributes\":{\"label\":{\"value\":\"10017\"},\"renderers\":[{\"id\":\"41320ecb-d167-4506-a5cb-b854ecfc2e60\",\"type\":\"GlyphRenderer\"}]},\"id\":\"aa0a65ee-5de3-4b65-a59a-a3cb3e332cc8\",\"type\":\"LegendItem\"},{\"attributes\":{},\"id\":\"b732ade0-4237-46d4-afd9-a82e2c3d4268\",\"type\":\"CategoricalTickFormatter\"},{\"attributes\":{\"data_source\":{\"id\":\"1e8627f5-d7cd-486c-86cb-564393d96b7b\",\"type\":\"ColumnDataSource\"},\"glyph\":{\"id\":\"95fbdcb7-3ae7-4329-a133-b2741788fb4f\",\"type\":\"Rect\"},\"hover_glyph\":null,\"nonselection_glyph\":null,\"selection_glyph\":null},\"id\":\"30577887-d764-4db2-845e-c2bbb4d8cba4\",\"type\":\"GlyphRenderer\"},{\"attributes\":{\"label\":{\"value\":\"10018\"},\"renderers\":[{\"id\":\"a8250d24-ff6c-43b0-91cc-619189b90eca\",\"type\":\"GlyphRenderer\"}]},\"id\":\"318b05e8-5388-4b23-898c-b90bed8aea74\",\"type\":\"LegendItem\"},{\"attributes\":{\"callback\":null,\"column_names\":[\"line_color\",\"line_alpha\",\"color\",\"fill_alpha\",\"height\",\"width\",\"y\",\"x\",\"label\"],\"data\":{\"chart_index\":[{\"city\":\"WASHINGTON DC\"}],\"city\":[\"WASHINGTON DC\"],\"color\":[\"#9467bd\"],\"fill_alpha\":[0.8],\"height\":[4494.0],\"label\":[{\"city\":\"WASHINGTON DC\"}],\"line_alpha\":[1.0],\"line_color\":[\"white\"],\"width\":[0.8],\"x\":[\"WASHINGTON DC\"],\"y\":[2247.0]}},\"id\":\"bc658ceb-e08a-403f-b551-2f20ded27c4f\",\"type\":\"ColumnDataSource\"},{\"attributes\":{\"fill_alpha\":{\"field\":\"fill_alpha\"},\"fill_color\":{\"field\":\"color\"},\"height\":{\"field\":\"height\",\"units\":\"data\"},\"line_color\":{\"field\":\"line_color\"},\"width\":{\"field\":\"width\",\"units\":\"data\"},\"x\":{\"field\":\"x\"},\"y\":{\"field\":\"y\"}},\"id\":\"8911845b-1cce-4e6a-80c8-4a11745fa1ae\",\"type\":\"Rect\"},{\"attributes\":{\"fill_alpha\":{\"field\":\"fill_alpha\"},\"fill_color\":{\"field\":\"color\"},\"height\":{\"field\":\"height\",\"units\":\"data\"},\"line_color\":{\"field\":\"line_color\"},\"width\":{\"field\":\"width\",\"units\":\"data\"},\"x\":{\"field\":\"x\"},\"y\":{\"field\":\"y\"}},\"id\":\"662b743d-3ea0-439b-84a3-f030ec1ab86c\",\"type\":\"Rect\"},{\"attributes\":{\"label\":{\"value\":\"60606\"},\"renderers\":[{\"id\":\"97774266-b076-4fb1-802a-8e6591d62862\",\"type\":\"GlyphRenderer\"}]},\"id\":\"0f04ff73-0848-425e-a1e5-b238547effb0\",\"type\":\"LegendItem\"},{\"attributes\":{\"label\":{\"value\":\"20036\"},\"renderers\":[{\"id\":\"8c72c9a0-4a8f-43f9-a861-966ec99aea5e\",\"type\":\"GlyphRenderer\"}]},\"id\":\"b87aa27b-b9ac-4db0-8ca3-36c93a4f0b2d\",\"type\":\"LegendItem\"},{\"attributes\":{\"callback\":null,\"column_names\":[\"line_color\",\"line_alpha\",\"color\",\"fill_alpha\",\"height\",\"width\",\"y\",\"x\",\"label\"],\"data\":{\"chart_index\":[{\"city\":\"HOUSTON TX\"}],\"city\":[\"HOUSTON TX\"],\"color\":[\"#9467bd\"],\"fill_alpha\":[0.8],\"height\":[11033.0],\"label\":[{\"city\":\"HOUSTON TX\"}],\"line_alpha\":[1.0],\"line_color\":[\"white\"],\"width\":[0.8],\"x\":[\"HOUSTON TX\"],\"y\":[5516.5]}},\"id\":\"3fdec452-f6fb-4a7f-ad3a-53942e2889fa\",\"type\":\"ColumnDataSource\"},{\"attributes\":{\"data_source\":{\"id\":\"bef692e8-9312-4d2d-9e79-16606d9802a8\",\"type\":\"ColumnDataSource\"},\"glyph\":{\"id\":\"1923b70b-05f6-4a5d-bb74-211810439907\",\"type\":\"Rect\"},\"hover_glyph\":null,\"nonselection_glyph\":null,\"selection_glyph\":null},\"id\":\"0cd4bc62-baed-42bc-99fb-6b5eaf75ec73\",\"type\":\"GlyphRenderer\"},{\"attributes\":{\"callback\":null,\"column_names\":[\"line_color\",\"line_alpha\",\"color\",\"fill_alpha\",\"height\",\"width\",\"y\",\"x\",\"label\"],\"data\":{\"chart_index\":[{\"city\":\"SAN FRANCISCO CA\"}],\"city\":[\"SAN FRANCISCO CA\"],\"color\":[\"#9467bd\"],\"fill_alpha\":[0.8],\"height\":[4867.0],\"label\":[{\"city\":\"SAN FRANCISCO CA\"}],\"line_alpha\":[1.0],\"line_color\":[\"white\"],\"width\":[0.8],\"x\":[\"SAN FRANCISCO CA\"],\"y\":[2433.5]}},\"id\":\"88dfb290-41a3-43af-b97e-2de63835dd80\",\"type\":\"ColumnDataSource\"},{\"attributes\":{\"data_source\":{\"id\":\"2ad0a9d5-be56-4a21-805d-56da660ecb0b\",\"type\":\"ColumnDataSource\"},\"glyph\":{\"id\":\"843b4d8e-4655-4fa7-9218-6293610608a1\",\"type\":\"Rect\"},\"hover_glyph\":null,\"nonselection_glyph\":null,\"selection_glyph\":null},\"id\":\"870174ae-cfcc-44c6-bb26-f6c2e9481e0f\",\"type\":\"GlyphRenderer\"},{\"attributes\":{\"callback\":null,\"column_names\":[\"line_color\",\"line_alpha\",\"color\",\"fill_alpha\",\"height\",\"width\",\"y\",\"x\",\"label\"],\"data\":{\"chart_index\":[{\"city\":\"AUSTIN TX\"}],\"city\":[\"AUSTIN TX\"],\"color\":[\"#9467bd\"],\"fill_alpha\":[0.8],\"height\":[5505.0],\"label\":[{\"city\":\"AUSTIN TX\"}],\"line_alpha\":[1.0],\"line_color\":[\"white\"],\"width\":[0.8],\"x\":[\"AUSTIN TX\"],\"y\":[2752.5]}},\"id\":\"ba485a25-430d-48e8-a763-4a6cb9ef33b0\",\"type\":\"ColumnDataSource\"},{\"attributes\":{\"data_source\":{\"id\":\"654bd608-ac1a-4e18-8930-2132f7183a8a\",\"type\":\"ColumnDataSource\"},\"glyph\":{\"id\":\"4d6ace1b-88ad-4d2d-b5ae-d6def8b5c147\",\"type\":\"Rect\"},\"hover_glyph\":null,\"nonselection_glyph\":null,\"selection_glyph\":null},\"id\":\"f3fce54e-fffe-451c-979c-626734805a37\",\"type\":\"GlyphRenderer\"},{\"attributes\":{\"fill_alpha\":{\"field\":\"fill_alpha\"},\"fill_color\":{\"field\":\"color\"},\"height\":{\"field\":\"height\",\"units\":\"data\"},\"line_color\":{\"field\":\"line_color\"},\"width\":{\"field\":\"width\",\"units\":\"data\"},\"x\":{\"field\":\"x\"},\"y\":{\"field\":\"y\"}},\"id\":\"0da2e9a3-3afc-449e-ba46-d45655193d65\",\"type\":\"Rect\"},{\"attributes\":{\"fill_alpha\":{\"field\":\"fill_alpha\"},\"fill_color\":{\"field\":\"color\"},\"height\":{\"field\":\"height\",\"units\":\"data\"},\"line_color\":{\"field\":\"line_color\"},\"width\":{\"field\":\"width\",\"units\":\"data\"},\"x\":{\"field\":\"x\"},\"y\":{\"field\":\"y\"}},\"id\":\"aa7a3efd-a711-4df7-920a-24f54631310e\",\"type\":\"Rect\"},{\"attributes\":{\"data_source\":{\"id\":\"a0eaf0b2-8933-4780-b478-fc0ff3adf7d5\",\"type\":\"ColumnDataSource\"},\"glyph\":{\"id\":\"dc664414-d763-470f-9e0b-96e4a6b1934f\",\"type\":\"Rect\"},\"hover_glyph\":null,\"nonselection_glyph\":null,\"selection_glyph\":null},\"id\":\"dc75d5e0-3654-4a99-8d16-784818d4b4ae\",\"type\":\"GlyphRenderer\"},{\"attributes\":{\"data_source\":{\"id\":\"da0844b7-a742-4c65-b1a3-4836995b097c\",\"type\":\"ColumnDataSource\"},\"glyph\":{\"id\":\"4b89b33f-3889-476b-afbe-740207fa0076\",\"type\":\"Rect\"},\"hover_glyph\":null,\"nonselection_glyph\":null,\"selection_glyph\":null},\"id\":\"b234f6d4-8bde-4a25-a265-22dff5bc57be\",\"type\":\"GlyphRenderer\"},{\"attributes\":{\"fill_alpha\":{\"field\":\"fill_alpha\"},\"fill_color\":{\"field\":\"color\"},\"height\":{\"field\":\"height\",\"units\":\"data\"},\"line_color\":{\"field\":\"line_color\"},\"width\":{\"field\":\"width\",\"units\":\"data\"},\"x\":{\"field\":\"x\"},\"y\":{\"field\":\"y\"}},\"id\":\"4b89b33f-3889-476b-afbe-740207fa0076\",\"type\":\"Rect\"},{\"attributes\":{\"callback\":null,\"column_names\":[\"line_color\",\"line_alpha\",\"color\",\"fill_alpha\",\"height\",\"width\",\"y\",\"x\",\"label\"],\"data\":{\"chart_index\":[{\"zip_code\":\"92618\"}],\"color\":[\"#9467bd\"],\"fill_alpha\":[0.8],\"height\":[686.0],\"label\":[{\"zip_code\":\"92618\"}],\"line_alpha\":[1.0],\"line_color\":[\"white\"],\"width\":[0.8],\"x\":[\"92618\"],\"y\":[343.0],\"zip_code\":[\"92618\"]}},\"id\":\"35f7134c-9fce-4892-8b2a-b430741a027b\",\"type\":\"ColumnDataSource\"},{\"attributes\":{\"callback\":null,\"end\":14968.8},\"id\":\"2be0496f-66ec-471b-8a23-dc02107d5e4f\",\"type\":\"Range1d\"},{\"attributes\":{\"fill_alpha\":{\"field\":\"fill_alpha\"},\"fill_color\":{\"field\":\"color\"},\"height\":{\"field\":\"height\",\"units\":\"data\"},\"line_color\":{\"field\":\"line_color\"},\"width\":{\"field\":\"width\",\"units\":\"data\"},\"x\":{\"field\":\"x\"},\"y\":{\"field\":\"y\"}},\"id\":\"8b11ef3e-5ce2-44b8-b264-3cfa689a02c7\",\"type\":\"Rect\"},{\"attributes\":{},\"id\":\"c3a8ae1c-9cc7-4972-9ff7-55789b8b52c3\",\"type\":\"BasicTickFormatter\"},{\"attributes\":{\"data_source\":{\"id\":\"a2b3c8ca-8099-48a9-a9c2-5340b28a8ef5\",\"type\":\"ColumnDataSource\"},\"glyph\":{\"id\":\"aed744dc-b362-4bb3-9edf-ee82ae806c0b\",\"type\":\"Rect\"},\"hover_glyph\":null,\"nonselection_glyph\":null,\"selection_glyph\":null},\"id\":\"aefdb460-e3b5-4b08-8aaf-3911839331e0\",\"type\":\"GlyphRenderer\"},{\"attributes\":{\"plot\":{\"id\":\"d482d0f7-a539-41eb-9d28-8c47d0ea18cb\",\"subtype\":\"Chart\",\"type\":\"Plot\"}},\"id\":\"0e604c1e-1677-4199-abc9-5473cfc54b3a\",\"type\":\"SaveTool\"},{\"attributes\":{\"fill_alpha\":{\"field\":\"fill_alpha\"},\"fill_color\":{\"field\":\"color\"},\"height\":{\"field\":\"height\",\"units\":\"data\"},\"line_color\":{\"field\":\"line_color\"},\"width\":{\"field\":\"width\",\"units\":\"data\"},\"x\":{\"field\":\"x\"},\"y\":{\"field\":\"y\"}},\"id\":\"3e8014cb-0213-4a22-87b6-72b2d94be18a\",\"type\":\"Rect\"},{\"attributes\":{\"label\":{\"value\":\"ATLANTA GA\"},\"renderers\":[{\"id\":\"e4413ab5-b791-4997-a844-63c7fd11bacf\",\"type\":\"GlyphRenderer\"}]},\"id\":\"50b7a87c-d423-44df-a59a-c06d843efcf5\",\"type\":\"LegendItem\"},{\"attributes\":{\"callback\":null,\"column_names\":[\"line_color\",\"line_alpha\",\"color\",\"fill_alpha\",\"height\",\"width\",\"y\",\"x\",\"label\"],\"data\":{\"chart_index\":[{\"city\":\"PORTLAND OR\"}],\"city\":[\"PORTLAND OR\"],\"color\":[\"#9467bd\"],\"fill_alpha\":[0.8],\"height\":[4833.0],\"label\":[{\"city\":\"PORTLAND OR\"}],\"line_alpha\":[1.0],\"line_color\":[\"white\"],\"width\":[0.8],\"x\":[\"PORTLAND OR\"],\"y\":[2416.5]}},\"id\":\"387d06bb-fd7d-47b5-8735-02e4e9f87779\",\"type\":\"ColumnDataSource\"},{\"attributes\":{},\"id\":\"d53887cb-61bd-4398-885c-b77946a8abc5\",\"type\":\"BasicTicker\"},{\"attributes\":{\"callback\":null,\"column_names\":[\"line_color\",\"line_alpha\",\"color\",\"fill_alpha\",\"height\",\"width\",\"y\",\"x\",\"label\"],\"data\":{\"chart_index\":[{\"zip_code\":\"10016\"}],\"color\":[\"#9467bd\"],\"fill_alpha\":[0.8],\"height\":[1036.0],\"label\":[{\"zip_code\":\"10016\"}],\"line_alpha\":[1.0],\"line_color\":[\"white\"],\"width\":[0.8],\"x\":[\"10016\"],\"y\":[518.0],\"zip_code\":[\"10016\"]}},\"id\":\"e64136fa-e003-4812-91f4-25f1ca99f591\",\"type\":\"ColumnDataSource\"},{\"attributes\":{\"fill_alpha\":{\"field\":\"fill_alpha\"},\"fill_color\":{\"field\":\"color\"},\"height\":{\"field\":\"height\",\"units\":\"data\"},\"line_color\":{\"field\":\"line_color\"},\"width\":{\"field\":\"width\",\"units\":\"data\"},\"x\":{\"field\":\"x\"},\"y\":{\"field\":\"y\"}},\"id\":\"1923b70b-05f6-4a5d-bb74-211810439907\",\"type\":\"Rect\"},{\"attributes\":{\"axis_label\":\"Counts\",\"formatter\":{\"id\":\"a178c649-3124-4af5-8cba-5541feec6a64\",\"type\":\"BasicTickFormatter\"},\"minor_tick_line_color\":{\"value\":null},\"plot\":{\"id\":\"e35dc515-a0d2-4d48-aa17-745b2be34e71\",\"subtype\":\"Chart\",\"type\":\"Plot\"},\"ticker\":{\"id\":\"e3ece9d8-270a-4ee5-90a0-36c6ae8ba607\",\"type\":\"BasicTicker\"}},\"id\":\"46f99307-e6bd-4502-97e7-5669cf67d6b8\",\"type\":\"LinearAxis\"},{\"attributes\":{\"plot\":{\"id\":\"e35dc515-a0d2-4d48-aa17-745b2be34e71\",\"subtype\":\"Chart\",\"type\":\"Plot\"}},\"id\":\"9b718c88-2e13-479e-b1b5-8ab9e1a882bc\",\"type\":\"SaveTool\"},{\"attributes\":{},\"id\":\"e3ece9d8-270a-4ee5-90a0-36c6ae8ba607\",\"type\":\"BasicTicker\"},{\"attributes\":{\"callback\":null,\"factors\":[\"10001\",\"10022\",\"10018\",\"10016\",\"10017\",\"20036\",\"92101\",\"10019\",\"92121\",\"10036\",\"92660\",\"60606\",\"92618\",\"22314\",\"78701\",\"80202\",\"43215\",\"85260\",\"80112\",\"10011\"]},\"id\":\"f146fb20-032c-453c-b2fd-0abc7d04b24d\",\"type\":\"FactorRange\"},{\"attributes\":{\"fill_alpha\":{\"field\":\"fill_alpha\"},\"fill_color\":{\"field\":\"color\"},\"height\":{\"field\":\"height\",\"units\":\"data\"},\"line_color\":{\"field\":\"line_color\"},\"width\":{\"field\":\"width\",\"units\":\"data\"},\"x\":{\"field\":\"x\"},\"y\":{\"field\":\"y\"}},\"id\":\"ef892668-cc94-4a26-8c4d-c9f37caf218f\",\"type\":\"Rect\"},{\"attributes\":{\"data_source\":{\"id\":\"b92e1f0b-df46-4506-8e8b-dcd9b89978a2\",\"type\":\"ColumnDataSource\"},\"glyph\":{\"id\":\"f7680d0a-94d1-4785-84bf-57f3ebc88365\",\"type\":\"Rect\"},\"hover_glyph\":null,\"nonselection_glyph\":null,\"selection_glyph\":null},\"id\":\"5a26e1c1-af52-42e1-ac97-75020020d1f4\",\"type\":\"GlyphRenderer\"},{\"attributes\":{\"fill_alpha\":{\"field\":\"fill_alpha\"},\"fill_color\":{\"field\":\"color\"},\"height\":{\"field\":\"height\",\"units\":\"data\"},\"line_color\":{\"field\":\"line_color\"},\"width\":{\"field\":\"width\",\"units\":\"data\"},\"x\":{\"field\":\"x\"},\"y\":{\"field\":\"y\"}},\"id\":\"e41312c7-6fe0-43fc-9023-b404a2bc5e7b\",\"type\":\"Rect\"},{\"attributes\":{\"plot\":null,\"text\":\"Cities with Most Counts of Businesses\"},\"id\":\"cce97386-960c-4e49-9d5b-1e85582aaecc\",\"type\":\"Title\"},{\"attributes\":{\"callback\":null,\"column_names\":[\"line_color\",\"line_alpha\",\"color\",\"fill_alpha\",\"height\",\"width\",\"y\",\"x\",\"label\"],\"data\":{\"chart_index\":[{\"zip_code\":\"22314\"}],\"color\":[\"#9467bd\"],\"fill_alpha\":[0.8],\"height\":[681.0],\"label\":[{\"zip_code\":\"22314\"}],\"line_alpha\":[1.0],\"line_color\":[\"white\"],\"width\":[0.8],\"x\":[\"22314\"],\"y\":[340.5],\"zip_code\":[\"22314\"]}},\"id\":\"a6f3c338-ed13-415d-9658-0f387d933509\",\"type\":\"ColumnDataSource\"},{\"attributes\":{\"label\":{\"value\":\"SAN FRANCISCO CA\"},\"renderers\":[{\"id\":\"4cf37765-52ed-4f55-808e-77b6ce44c484\",\"type\":\"GlyphRenderer\"}]},\"id\":\"c36f2edb-d214-4f2b-a8a4-2305298f6920\",\"type\":\"LegendItem\"},{\"attributes\":{\"data_source\":{\"id\":\"0b6165c4-9064-4686-98e0-817a5e6dc11c\",\"type\":\"ColumnDataSource\"},\"glyph\":{\"id\":\"ffd97f6f-bf07-42ea-a7ae-65a8bf1ffdc7\",\"type\":\"Rect\"},\"hover_glyph\":null,\"nonselection_glyph\":null,\"selection_glyph\":null},\"id\":\"97774266-b076-4fb1-802a-8e6591d62862\",\"type\":\"GlyphRenderer\"},{\"attributes\":{\"label\":{\"value\":\"10016\"},\"renderers\":[{\"id\":\"90c3ab68-ff98-42cb-9b90-8200f7befbd2\",\"type\":\"GlyphRenderer\"}]},\"id\":\"45402aef-2a01-490f-b690-5d5694ba8096\",\"type\":\"LegendItem\"},{\"attributes\":{\"callback\":null,\"column_names\":[\"line_color\",\"line_alpha\",\"color\",\"fill_alpha\",\"height\",\"width\",\"y\",\"x\",\"label\"],\"data\":{\"chart_index\":[{\"city\":\"MIAMI FL\"}],\"city\":[\"MIAMI FL\"],\"color\":[\"#9467bd\"],\"fill_alpha\":[0.8],\"height\":[4585.0],\"label\":[{\"city\":\"MIAMI FL\"}],\"line_alpha\":[1.0],\"line_color\":[\"white\"],\"width\":[0.8],\"x\":[\"MIAMI FL\"],\"y\":[2292.5]}},\"id\":\"a520bf91-57d2-4173-b651-247160faff40\",\"type\":\"ColumnDataSource\"},{\"attributes\":{\"data_source\":{\"id\":\"8e4a773a-8f8b-4490-940d-28db93d3ba84\",\"type\":\"ColumnDataSource\"},\"glyph\":{\"id\":\"33287dee-7773-4a12-be7a-36bf13c2f8d4\",\"type\":\"Rect\"},\"hover_glyph\":null,\"nonselection_glyph\":null,\"selection_glyph\":null},\"id\":\"41320ecb-d167-4506-a5cb-b854ecfc2e60\",\"type\":\"GlyphRenderer\"},{\"attributes\":{\"data_source\":{\"id\":\"3fdec452-f6fb-4a7f-ad3a-53942e2889fa\",\"type\":\"ColumnDataSource\"},\"glyph\":{\"id\":\"33348453-4d92-40fd-b857-9d07cfe961a9\",\"type\":\"Rect\"},\"hover_glyph\":null,\"nonselection_glyph\":null,\"selection_glyph\":null},\"id\":\"eefae77b-10b8-48e6-adfe-9f517fee2bbf\",\"type\":\"GlyphRenderer\"},{\"attributes\":{\"fill_alpha\":{\"field\":\"fill_alpha\"},\"fill_color\":{\"field\":\"color\"},\"height\":{\"field\":\"height\",\"units\":\"data\"},\"line_color\":{\"field\":\"line_color\"},\"width\":{\"field\":\"width\",\"units\":\"data\"},\"x\":{\"field\":\"x\"},\"y\":{\"field\":\"y\"}},\"id\":\"dc664414-d763-470f-9e0b-96e4a6b1934f\",\"type\":\"Rect\"},{\"attributes\":{\"plot\":{\"id\":\"e35dc515-a0d2-4d48-aa17-745b2be34e71\",\"subtype\":\"Chart\",\"type\":\"Plot\"}},\"id\":\"4d1a7d35-184a-4840-a5aa-6dbf7b566b22\",\"type\":\"WheelZoomTool\"},{\"attributes\":{\"data_source\":{\"id\":\"eaa4c208-f7d7-41bb-9ecc-fe98fe8535da\",\"type\":\"ColumnDataSource\"},\"glyph\":{\"id\":\"8911845b-1cce-4e6a-80c8-4a11745fa1ae\",\"type\":\"Rect\"},\"hover_glyph\":null,\"nonselection_glyph\":null,\"selection_glyph\":null},\"id\":\"453b2e5b-c5ed-4341-9556-316fa480a9cb\",\"type\":\"GlyphRenderer\"},{\"attributes\":{\"axis_label\":null,\"formatter\":{\"id\":\"b732ade0-4237-46d4-afd9-a82e2c3d4268\",\"type\":\"CategoricalTickFormatter\"},\"major_label_orientation\":0.7853981633974483,\"plot\":{\"id\":\"e35dc515-a0d2-4d48-aa17-745b2be34e71\",\"subtype\":\"Chart\",\"type\":\"Plot\"},\"ticker\":{\"id\":\"a9b936db-ed1d-4d21-b881-31ed467fee7f\",\"type\":\"CategoricalTicker\"}},\"id\":\"9d57fab2-0637-475c-a156-d21e6ae64570\",\"type\":\"CategoricalAxis\"},{\"attributes\":{\"fill_alpha\":{\"field\":\"fill_alpha\"},\"fill_color\":{\"field\":\"color\"},\"height\":{\"field\":\"height\",\"units\":\"data\"},\"line_color\":{\"field\":\"line_color\"},\"width\":{\"field\":\"width\",\"units\":\"data\"},\"x\":{\"field\":\"x\"},\"y\":{\"field\":\"y\"}},\"id\":\"60ce6697-f03d-484b-b652-c8975e7c024c\",\"type\":\"Rect\"},{\"attributes\":{\"plot\":{\"id\":\"d482d0f7-a539-41eb-9d28-8c47d0ea18cb\",\"subtype\":\"Chart\",\"type\":\"Plot\"}},\"id\":\"bc6be59f-18e6-4f4b-a44f-d045e1348283\",\"type\":\"HelpTool\"},{\"attributes\":{\"data_source\":{\"id\":\"88dfb290-41a3-43af-b97e-2de63835dd80\",\"type\":\"ColumnDataSource\"},\"glyph\":{\"id\":\"fe984671-f4ee-41ea-bedd-558d3414a7fe\",\"type\":\"Rect\"},\"hover_glyph\":null,\"nonselection_glyph\":null,\"selection_glyph\":null},\"id\":\"4cf37765-52ed-4f55-808e-77b6ce44c484\",\"type\":\"GlyphRenderer\"},{\"attributes\":{\"fill_alpha\":{\"field\":\"fill_alpha\"},\"fill_color\":{\"field\":\"color\"},\"height\":{\"field\":\"height\",\"units\":\"data\"},\"line_color\":{\"field\":\"line_color\"},\"width\":{\"field\":\"width\",\"units\":\"data\"},\"x\":{\"field\":\"x\"},\"y\":{\"field\":\"y\"}},\"id\":\"33348453-4d92-40fd-b857-9d07cfe961a9\",\"type\":\"Rect\"},{\"attributes\":{\"fill_alpha\":{\"field\":\"fill_alpha\"},\"fill_color\":{\"field\":\"color\"},\"height\":{\"field\":\"height\",\"units\":\"data\"},\"line_color\":{\"field\":\"line_color\"},\"width\":{\"field\":\"width\",\"units\":\"data\"},\"x\":{\"field\":\"x\"},\"y\":{\"field\":\"y\"}},\"id\":\"2b1567c6-d46b-476d-8cef-fcd08c6db17f\",\"type\":\"Rect\"},{\"attributes\":{\"callback\":null,\"column_names\":[\"line_color\",\"line_alpha\",\"color\",\"fill_alpha\",\"height\",\"width\",\"y\",\"x\",\"label\"],\"data\":{\"chart_index\":[{\"city\":\"CHICAGO IL\"}],\"city\":[\"CHICAGO IL\"],\"color\":[\"#9467bd\"],\"fill_alpha\":[0.8],\"height\":[9013.0],\"label\":[{\"city\":\"CHICAGO IL\"}],\"line_alpha\":[1.0],\"line_color\":[\"white\"],\"width\":[0.8],\"x\":[\"CHICAGO IL\"],\"y\":[4506.5]}},\"id\":\"b92e1f0b-df46-4506-8e8b-dcd9b89978a2\",\"type\":\"ColumnDataSource\"},{\"attributes\":{\"data_source\":{\"id\":\"1f5e38bd-a4fe-443f-bcd8-8e85a3980878\",\"type\":\"ColumnDataSource\"},\"glyph\":{\"id\":\"241f8f11-eabf-49d7-ae5c-75aee949625e\",\"type\":\"Rect\"},\"hover_glyph\":null,\"nonselection_glyph\":null,\"selection_glyph\":null},\"id\":\"df68d32f-95ba-431b-b3fa-dab613491843\",\"type\":\"GlyphRenderer\"},{\"attributes\":{\"label\":{\"value\":\"INDIANAPOLIS IN\"},\"renderers\":[{\"id\":\"df68d32f-95ba-431b-b3fa-dab613491843\",\"type\":\"GlyphRenderer\"}]},\"id\":\"93a10cdb-4671-4132-b815-d8f89fd5739d\",\"type\":\"LegendItem\"},{\"attributes\":{\"label\":{\"value\":\"NEW YORK NY\"},\"renderers\":[{\"id\":\"29d70ace-65f9-4a79-b3fe-56931429404b\",\"type\":\"GlyphRenderer\"}]},\"id\":\"9759e0d8-5d79-4012-a339-e2c49792718f\",\"type\":\"LegendItem\"},{\"attributes\":{\"label\":{\"value\":\"CHICAGO IL\"},\"renderers\":[{\"id\":\"5a26e1c1-af52-42e1-ac97-75020020d1f4\",\"type\":\"GlyphRenderer\"}]},\"id\":\"5830b947-ead0-472e-8c5f-916fe3b8ffd5\",\"type\":\"LegendItem\"},{\"attributes\":{\"label\":{\"value\":\"92121\"},\"renderers\":[{\"id\":\"30577887-d764-4db2-845e-c2bbb4d8cba4\",\"type\":\"GlyphRenderer\"}]},\"id\":\"b2a728c0-ea5f-4477-820d-094d40336177\",\"type\":\"LegendItem\"},{\"attributes\":{\"fill_alpha\":{\"field\":\"fill_alpha\"},\"fill_color\":{\"field\":\"color\"},\"height\":{\"field\":\"height\",\"units\":\"data\"},\"line_color\":{\"field\":\"line_color\"},\"width\":{\"field\":\"width\",\"units\":\"data\"},\"x\":{\"field\":\"x\"},\"y\":{\"field\":\"y\"}},\"id\":\"b7941231-64eb-4793-bd46-423a736c8a5b\",\"type\":\"Rect\"},{\"attributes\":{\"label\":{\"value\":\"LOS ANGELES CA\"},\"renderers\":[{\"id\":\"85cd17a5-d7ce-4222-8121-a54292a568db\",\"type\":\"GlyphRenderer\"}]},\"id\":\"ed703e31-d46d-4a90-a749-31094c874a12\",\"type\":\"LegendItem\"},{\"attributes\":{\"data_source\":{\"id\":\"08844b70-5885-4231-90cb-d3f6069b6a08\",\"type\":\"ColumnDataSource\"},\"glyph\":{\"id\":\"aa7a3efd-a711-4df7-920a-24f54631310e\",\"type\":\"Rect\"},\"hover_glyph\":null,\"nonselection_glyph\":null,\"selection_glyph\":null},\"id\":\"29d70ace-65f9-4a79-b3fe-56931429404b\",\"type\":\"GlyphRenderer\"},{\"attributes\":{\"fill_alpha\":{\"field\":\"fill_alpha\"},\"fill_color\":{\"field\":\"color\"},\"height\":{\"field\":\"height\",\"units\":\"data\"},\"line_color\":{\"field\":\"line_color\"},\"width\":{\"field\":\"width\",\"units\":\"data\"},\"x\":{\"field\":\"x\"},\"y\":{\"field\":\"y\"}},\"id\":\"33287dee-7773-4a12-be7a-36bf13c2f8d4\",\"type\":\"Rect\"},{\"attributes\":{\"label\":{\"value\":\"DALLAS TX\"},\"renderers\":[{\"id\":\"0e80f575-f893-4609-955e-e1ec9007cb19\",\"type\":\"GlyphRenderer\"}]},\"id\":\"53780ec9-30e1-4a0a-b017-7cae8fef469f\",\"type\":\"LegendItem\"},{\"attributes\":{\"fill_alpha\":{\"field\":\"fill_alpha\"},\"fill_color\":{\"field\":\"color\"},\"height\":{\"field\":\"height\",\"units\":\"data\"},\"line_color\":{\"field\":\"line_color\"},\"width\":{\"field\":\"width\",\"units\":\"data\"},\"x\":{\"field\":\"x\"},\"y\":{\"field\":\"y\"}},\"id\":\"24ca870f-18b0-48a7-8110-825ac99b679a\",\"type\":\"Rect\"},{\"attributes\":{\"data_source\":{\"id\":\"9fc5ce03-5043-466b-a297-ab963cfa0ed0\",\"type\":\"ColumnDataSource\"},\"glyph\":{\"id\":\"e41312c7-6fe0-43fc-9023-b404a2bc5e7b\",\"type\":\"Rect\"},\"hover_glyph\":null,\"nonselection_glyph\":null,\"selection_glyph\":null},\"id\":\"8c72c9a0-4a8f-43f9-a861-966ec99aea5e\",\"type\":\"GlyphRenderer\"},{\"attributes\":{\"callback\":null,\"end\":1208.55},\"id\":\"09a35d5c-8e5d-40a1-a4ed-dbbaca9af7ff\",\"type\":\"Range1d\"},{\"attributes\":{\"callback\":null,\"column_names\":[\"line_color\",\"line_alpha\",\"color\",\"fill_alpha\",\"height\",\"width\",\"y\",\"x\",\"label\"],\"data\":{\"chart_index\":[{\"city\":\"SEATTLE WA\"}],\"city\":[\"SEATTLE WA\"],\"color\":[\"#9467bd\"],\"fill_alpha\":[0.8],\"height\":[4655.0],\"label\":[{\"city\":\"SEATTLE WA\"}],\"line_alpha\":[1.0],\"line_color\":[\"white\"],\"width\":[0.8],\"x\":[\"SEATTLE WA\"],\"y\":[2327.5]}},\"id\":\"eaa4c208-f7d7-41bb-9ecc-fe98fe8535da\",\"type\":\"ColumnDataSource\"},{\"attributes\":{\"items\":[{\"id\":\"f83d0af4-4e53-4db0-9c96-58fc6f47a584\",\"type\":\"LegendItem\"},{\"id\":\"841d4944-7e97-4ec6-a453-f881f0133912\",\"type\":\"LegendItem\"},{\"id\":\"318b05e8-5388-4b23-898c-b90bed8aea74\",\"type\":\"LegendItem\"},{\"id\":\"45402aef-2a01-490f-b690-5d5694ba8096\",\"type\":\"LegendItem\"},{\"id\":\"aa0a65ee-5de3-4b65-a59a-a3cb3e332cc8\",\"type\":\"LegendItem\"},{\"id\":\"b87aa27b-b9ac-4db0-8ca3-36c93a4f0b2d\",\"type\":\"LegendItem\"},{\"id\":\"129846de-1bc1-4d18-89e2-b18370b6ad12\",\"type\":\"LegendItem\"},{\"id\":\"63edbe36-ce5d-4d6b-a65b-4cf59d48b258\",\"type\":\"LegendItem\"},{\"id\":\"b2a728c0-ea5f-4477-820d-094d40336177\",\"type\":\"LegendItem\"},{\"id\":\"b28a476a-6712-4ecf-814e-95b243c69e25\",\"type\":\"LegendItem\"},{\"id\":\"6d5fff17-38c0-40dd-a4bf-085df045cfc4\",\"type\":\"LegendItem\"},{\"id\":\"0f04ff73-0848-425e-a1e5-b238547effb0\",\"type\":\"LegendItem\"},{\"id\":\"0db40422-1ae8-40bf-9506-bbb44b311267\",\"type\":\"LegendItem\"},{\"id\":\"4d39f60d-95e0-4207-8bea-34a4d2abc290\",\"type\":\"LegendItem\"},{\"id\":\"f516d3c9-2e0d-4a43-8595-545e3893139e\",\"type\":\"LegendItem\"},{\"id\":\"6dc4bbb2-1642-484b-89f7-4cd5fdad2017\",\"type\":\"LegendItem\"},{\"id\":\"ea23dc26-c08c-4323-92e1-f19b471397ba\",\"type\":\"LegendItem\"},{\"id\":\"17e27db4-7d83-47c1-a069-0d007cfeeba0\",\"type\":\"LegendItem\"},{\"id\":\"fc5ed0b9-7285-4daf-a325-54248fc2d708\",\"type\":\"LegendItem\"},{\"id\":\"bc93ef16-f4b0-4d22-8d1c-2eefd84bb481\",\"type\":\"LegendItem\"}],\"location\":null,\"plot\":{\"id\":\"e35dc515-a0d2-4d48-aa17-745b2be34e71\",\"subtype\":\"Chart\",\"type\":\"Plot\"}},\"id\":\"9ada5050-77bf-4b03-ac2d-62a19db81c05\",\"type\":\"Legend\"},{\"attributes\":{\"callback\":null,\"column_names\":[\"line_color\",\"line_alpha\",\"color\",\"fill_alpha\",\"height\",\"width\",\"y\",\"x\",\"label\"],\"data\":{\"chart_index\":[{\"city\":\"MINNEAPOLIS MN\"}],\"city\":[\"MINNEAPOLIS MN\"],\"color\":[\"#9467bd\"],\"fill_alpha\":[0.8],\"height\":[4819.0],\"label\":[{\"city\":\"MINNEAPOLIS MN\"}],\"line_alpha\":[1.0],\"line_color\":[\"white\"],\"width\":[0.8],\"x\":[\"MINNEAPOLIS MN\"],\"y\":[2409.5]}},\"id\":\"684ccbd0-d4c0-48d7-9c5d-966fc56dc861\",\"type\":\"ColumnDataSource\"},{\"attributes\":{\"fill_alpha\":{\"field\":\"fill_alpha\"},\"fill_color\":{\"field\":\"color\"},\"height\":{\"field\":\"height\",\"units\":\"data\"},\"line_color\":{\"field\":\"line_color\"},\"width\":{\"field\":\"width\",\"units\":\"data\"},\"x\":{\"field\":\"x\"},\"y\":{\"field\":\"y\"}},\"id\":\"9e717a23-7e2a-480b-89d5-56b96dd39a42\",\"type\":\"Rect\"},{\"attributes\":{\"data_source\":{\"id\":\"46482a13-c4e7-45c0-83e9-dddb54e0e202\",\"type\":\"ColumnDataSource\"},\"glyph\":{\"id\":\"3e8014cb-0213-4a22-87b6-72b2d94be18a\",\"type\":\"Rect\"},\"hover_glyph\":null,\"nonselection_glyph\":null,\"selection_glyph\":null},\"id\":\"0e80f575-f893-4609-955e-e1ec9007cb19\",\"type\":\"GlyphRenderer\"},{\"attributes\":{\"callback\":null,\"column_names\":[\"line_color\",\"line_alpha\",\"color\",\"fill_alpha\",\"height\",\"width\",\"y\",\"x\",\"label\"],\"data\":{\"chart_index\":[{\"zip_code\":\"10019\"}],\"color\":[\"#9467bd\"],\"fill_alpha\":[0.8],\"height\":[719.0],\"label\":[{\"zip_code\":\"10019\"}],\"line_alpha\":[1.0],\"line_color\":[\"white\"],\"width\":[0.8],\"x\":[\"10019\"],\"y\":[359.5],\"zip_code\":[\"10019\"]}},\"id\":\"53d474ca-3853-403d-a116-5f3c861ce051\",\"type\":\"ColumnDataSource\"},{\"attributes\":{\"label\":{\"value\":\"10022\"},\"renderers\":[{\"id\":\"39f85f0e-e00d-4a65-8205-2718f6ce4ffc\",\"type\":\"GlyphRenderer\"}]},\"id\":\"841d4944-7e97-4ec6-a453-f881f0133912\",\"type\":\"LegendItem\"},{\"attributes\":{\"data_source\":{\"id\":\"684ccbd0-d4c0-48d7-9c5d-966fc56dc861\",\"type\":\"ColumnDataSource\"},\"glyph\":{\"id\":\"70c99eb9-447b-4fb4-b019-7511bf2f24a8\",\"type\":\"Rect\"},\"hover_glyph\":null,\"nonselection_glyph\":null,\"selection_glyph\":null},\"id\":\"bf8e54fb-af0c-4b71-8c28-278d10fade62\",\"type\":\"GlyphRenderer\"},{\"attributes\":{\"plot\":{\"id\":\"e35dc515-a0d2-4d48-aa17-745b2be34e71\",\"subtype\":\"Chart\",\"type\":\"Plot\"}},\"id\":\"7a34e7e3-83fc-4f0e-82c8-100b7e2c4029\",\"type\":\"HelpTool\"},{\"attributes\":{\"dimension\":1,\"grid_line_color\":{\"value\":null},\"plot\":{\"id\":\"d482d0f7-a539-41eb-9d28-8c47d0ea18cb\",\"subtype\":\"Chart\",\"type\":\"Plot\"},\"ticker\":{\"id\":\"d53887cb-61bd-4398-885c-b77946a8abc5\",\"type\":\"BasicTicker\"}},\"id\":\"fb082540-b810-4d9e-a422-5e9ae0947790\",\"type\":\"Grid\"},{\"attributes\":{\"label\":{\"value\":\"92101\"},\"renderers\":[{\"id\":\"0511f063-fd6a-4875-80b1-b1cc0dd21ee3\",\"type\":\"GlyphRenderer\"}]},\"id\":\"129846de-1bc1-4d18-89e2-b18370b6ad12\",\"type\":\"LegendItem\"},{\"attributes\":{\"plot\":{\"id\":\"e35dc515-a0d2-4d48-aa17-745b2be34e71\",\"subtype\":\"Chart\",\"type\":\"Plot\"}},\"id\":\"ca7b8c41-5fdf-4d01-83ce-33616ca7e294\",\"type\":\"ResetTool\"},{\"attributes\":{\"callback\":null,\"column_names\":[\"line_color\",\"line_alpha\",\"color\",\"fill_alpha\",\"height\",\"width\",\"y\",\"x\",\"label\"],\"data\":{\"chart_index\":[{\"zip_code\":\"10011\"}],\"color\":[\"#9467bd\"],\"fill_alpha\":[0.8],\"height\":[591.0],\"label\":[{\"zip_code\":\"10011\"}],\"line_alpha\":[1.0],\"line_color\":[\"white\"],\"width\":[0.8],\"x\":[\"10011\"],\"y\":[295.5],\"zip_code\":[\"10011\"]}},\"id\":\"35cb86c7-b02b-4dac-bd9c-0284ec36478a\",\"type\":\"ColumnDataSource\"},{\"attributes\":{\"bottom_units\":\"screen\",\"fill_alpha\":{\"value\":0.5},\"fill_color\":{\"value\":\"lightgrey\"},\"left_units\":\"screen\",\"level\":\"overlay\",\"line_alpha\":{\"value\":1.0},\"line_color\":{\"value\":\"black\"},\"line_dash\":[4,4],\"line_width\":{\"value\":2},\"plot\":null,\"render_mode\":\"css\",\"right_units\":\"screen\",\"top_units\":\"screen\"},\"id\":\"313542c7-46e7-4062-b415-db238ad44c8e\",\"type\":\"BoxAnnotation\"},{\"attributes\":{\"label\":{\"value\":\"80112\"},\"renderers\":[{\"id\":\"1124bb8b-add8-46a2-bfbf-a1fbf40600f7\",\"type\":\"GlyphRenderer\"}]},\"id\":\"fc5ed0b9-7285-4daf-a325-54248fc2d708\",\"type\":\"LegendItem\"},{\"attributes\":{\"fill_alpha\":{\"field\":\"fill_alpha\"},\"fill_color\":{\"field\":\"color\"},\"height\":{\"field\":\"height\",\"units\":\"data\"},\"line_color\":{\"field\":\"line_color\"},\"width\":{\"field\":\"width\",\"units\":\"data\"},\"x\":{\"field\":\"x\"},\"y\":{\"field\":\"y\"}},\"id\":\"ec5bdc99-78ce-43eb-bed8-02c4d7e597f5\",\"type\":\"Rect\"},{\"attributes\":{\"data_source\":{\"id\":\"1885423a-342d-4ad2-92c5-67e8e884b731\",\"type\":\"ColumnDataSource\"},\"glyph\":{\"id\":\"24ca870f-18b0-48a7-8110-825ac99b679a\",\"type\":\"Rect\"},\"hover_glyph\":null,\"nonselection_glyph\":null,\"selection_glyph\":null},\"id\":\"a8250d24-ff6c-43b0-91cc-619189b90eca\",\"type\":\"GlyphRenderer\"},{\"attributes\":{\"label\":{\"value\":\"CHARLOTTE NC\"},\"renderers\":[{\"id\":\"257c770e-6b49-4f4d-b1fe-3798218d96ca\",\"type\":\"GlyphRenderer\"}]},\"id\":\"2ff07f96-dd17-4c71-90b3-b18a1f5f1b26\",\"type\":\"LegendItem\"},{\"attributes\":{\"callback\":null,\"column_names\":[\"line_color\",\"line_alpha\",\"color\",\"fill_alpha\",\"height\",\"width\",\"y\",\"x\",\"label\"],\"data\":{\"chart_index\":[{\"city\":\"LOS ANGELES CA\"}],\"city\":[\"LOS ANGELES CA\"],\"color\":[\"#9467bd\"],\"fill_alpha\":[0.8],\"height\":[5518.0],\"label\":[{\"city\":\"LOS ANGELES CA\"}],\"line_alpha\":[1.0],\"line_color\":[\"white\"],\"width\":[0.8],\"x\":[\"LOS ANGELES CA\"],\"y\":[2759.0]}},\"id\":\"351485c7-8469-4481-bdd9-b73087e6d21a\",\"type\":\"ColumnDataSource\"},{\"attributes\":{\"data_source\":{\"id\":\"351485c7-8469-4481-bdd9-b73087e6d21a\",\"type\":\"ColumnDataSource\"},\"glyph\":{\"id\":\"3046aef6-536a-47e9-999b-e10dc09c28e8\",\"type\":\"Rect\"},\"hover_glyph\":null,\"nonselection_glyph\":null,\"selection_glyph\":null},\"id\":\"85cd17a5-d7ce-4222-8121-a54292a568db\",\"type\":\"GlyphRenderer\"},{\"attributes\":{\"fill_alpha\":{\"field\":\"fill_alpha\"},\"fill_color\":{\"field\":\"color\"},\"height\":{\"field\":\"height\",\"units\":\"data\"},\"line_color\":{\"field\":\"line_color\"},\"width\":{\"field\":\"width\",\"units\":\"data\"},\"x\":{\"field\":\"x\"},\"y\":{\"field\":\"y\"}},\"id\":\"f1feece9-6bea-4648-ad4e-5d95fee03738\",\"type\":\"Rect\"},{\"attributes\":{\"label\":{\"value\":\"78701\"},\"renderers\":[{\"id\":\"df9b41a6-2a27-4f5f-8afc-36ae3692e921\",\"type\":\"GlyphRenderer\"}]},\"id\":\"f516d3c9-2e0d-4a43-8595-545e3893139e\",\"type\":\"LegendItem\"},{\"attributes\":{\"callback\":null,\"column_names\":[\"line_color\",\"line_alpha\",\"color\",\"fill_alpha\",\"height\",\"width\",\"y\",\"x\",\"label\"],\"data\":{\"chart_index\":[{\"city\":\"NEW YORK NY\"}],\"city\":[\"NEW YORK NY\"],\"color\":[\"#9467bd\"],\"fill_alpha\":[0.8],\"height\":[14256.0],\"label\":[{\"city\":\"NEW YORK NY\"}],\"line_alpha\":[1.0],\"line_color\":[\"white\"],\"width\":[0.8],\"x\":[\"NEW YORK NY\"],\"y\":[7128.0]}},\"id\":\"08844b70-5885-4231-90cb-d3f6069b6a08\",\"type\":\"ColumnDataSource\"},{\"attributes\":{\"label\":{\"value\":\"92618\"},\"renderers\":[{\"id\":\"ec88747f-7cb0-4fe6-a1f2-b3e752c7a9f8\",\"type\":\"GlyphRenderer\"}]},\"id\":\"0db40422-1ae8-40bf-9506-bbb44b311267\",\"type\":\"LegendItem\"},{\"attributes\":{\"fill_alpha\":{\"field\":\"fill_alpha\"},\"fill_color\":{\"field\":\"color\"},\"height\":{\"field\":\"height\",\"units\":\"data\"},\"line_color\":{\"field\":\"line_color\"},\"width\":{\"field\":\"width\",\"units\":\"data\"},\"x\":{\"field\":\"x\"},\"y\":{\"field\":\"y\"}},\"id\":\"3046aef6-536a-47e9-999b-e10dc09c28e8\",\"type\":\"Rect\"},{\"attributes\":{\"axis_label\":null,\"formatter\":{\"id\":\"39fcde16-1c85-4b84-8b65-0710b4729215\",\"type\":\"CategoricalTickFormatter\"},\"major_label_orientation\":0.7853981633974483,\"plot\":{\"id\":\"d482d0f7-a539-41eb-9d28-8c47d0ea18cb\",\"subtype\":\"Chart\",\"type\":\"Plot\"},\"ticker\":{\"id\":\"191eed6b-45fa-45e9-b16b-30b5ccef2e9b\",\"type\":\"CategoricalTicker\"}},\"id\":\"4f974435-0397-4fe8-ae36-007f1ae4f970\",\"type\":\"CategoricalAxis\"},{\"attributes\":{\"fill_alpha\":{\"field\":\"fill_alpha\"},\"fill_color\":{\"field\":\"color\"},\"height\":{\"field\":\"height\",\"units\":\"data\"},\"line_color\":{\"field\":\"line_color\"},\"width\":{\"field\":\"width\",\"units\":\"data\"},\"x\":{\"field\":\"x\"},\"y\":{\"field\":\"y\"}},\"id\":\"aed744dc-b362-4bb3-9edf-ee82ae806c0b\",\"type\":\"Rect\"},{\"attributes\":{\"fill_alpha\":{\"field\":\"fill_alpha\"},\"fill_color\":{\"field\":\"color\"},\"height\":{\"field\":\"height\",\"units\":\"data\"},\"line_color\":{\"field\":\"line_color\"},\"width\":{\"field\":\"width\",\"units\":\"data\"},\"x\":{\"field\":\"x\"},\"y\":{\"field\":\"y\"}},\"id\":\"ffd97f6f-bf07-42ea-a7ae-65a8bf1ffdc7\",\"type\":\"Rect\"},{\"attributes\":{\"label\":{\"value\":\"SAN DIEGO CA\"},\"renderers\":[{\"id\":\"e23a3ad3-501c-4f7d-9d25-2d5f97a5c3dd\",\"type\":\"GlyphRenderer\"}]},\"id\":\"cfd76c58-eb68-4fcd-80f6-bf37b60452d2\",\"type\":\"LegendItem\"},{\"attributes\":{\"label\":{\"value\":\"43215\"},\"renderers\":[{\"id\":\"f3fb0d1a-30c3-4736-b1d1-8007e63f1df2\",\"type\":\"GlyphRenderer\"}]},\"id\":\"ea23dc26-c08c-4323-92e1-f19b471397ba\",\"type\":\"LegendItem\"},{\"attributes\":{\"plot\":null,\"text\":\"Zip Codes with Most Counts of Businesses\"},\"id\":\"6b038431-1c7b-4743-9b1a-eb42b9a55c7d\",\"type\":\"Title\"},{\"attributes\":{},\"id\":\"a9b936db-ed1d-4d21-b881-31ed467fee7f\",\"type\":\"CategoricalTicker\"},{\"attributes\":{\"callback\":null,\"column_names\":[\"line_color\",\"line_alpha\",\"color\",\"fill_alpha\",\"height\",\"width\",\"y\",\"x\",\"label\"],\"data\":{\"chart_index\":[{\"zip_code\":\"92121\"}],\"color\":[\"#9467bd\"],\"fill_alpha\":[0.8],\"height\":[712.0],\"label\":[{\"zip_code\":\"92121\"}],\"line_alpha\":[1.0],\"line_color\":[\"white\"],\"width\":[0.8],\"x\":[\"92121\"],\"y\":[356.0],\"zip_code\":[\"92121\"]}},\"id\":\"1e8627f5-d7cd-486c-86cb-564393d96b7b\",\"type\":\"ColumnDataSource\"},{\"attributes\":{\"label\":{\"value\":\"10019\"},\"renderers\":[{\"id\":\"418a1207-a746-4026-b697-c51a65fca308\",\"type\":\"GlyphRenderer\"}]},\"id\":\"63edbe36-ce5d-4d6b-a65b-4cf59d48b258\",\"type\":\"LegendItem\"},{\"attributes\":{},\"id\":\"a178c649-3124-4af5-8cba-5541feec6a64\",\"type\":\"BasicTickFormatter\"},{\"attributes\":{},\"id\":\"191eed6b-45fa-45e9-b16b-30b5ccef2e9b\",\"type\":\"CategoricalTicker\"},{\"attributes\":{\"overlay\":{\"id\":\"86bc5288-df3e-41d8-9085-4d6b9199c0e1\",\"type\":\"BoxAnnotation\"},\"plot\":{\"id\":\"d482d0f7-a539-41eb-9d28-8c47d0ea18cb\",\"subtype\":\"Chart\",\"type\":\"Plot\"}},\"id\":\"144cb993-70a7-4ae0-a4ff-9d3eeb178ffe\",\"type\":\"BoxZoomTool\"},{\"attributes\":{\"axis_label\":\" \",\"formatter\":{\"id\":\"c3a8ae1c-9cc7-4972-9ff7-55789b8b52c3\",\"type\":\"BasicTickFormatter\"},\"minor_tick_line_color\":{\"value\":null},\"plot\":{\"id\":\"d482d0f7-a539-41eb-9d28-8c47d0ea18cb\",\"subtype\":\"Chart\",\"type\":\"Plot\"},\"ticker\":{\"id\":\"d53887cb-61bd-4398-885c-b77946a8abc5\",\"type\":\"BasicTicker\"}},\"id\":\"2d48720d-1a9d-45a6-aecf-2e3c577d6bdd\",\"type\":\"LinearAxis\"},{\"attributes\":{\"callback\":null,\"column_names\":[\"line_color\",\"line_alpha\",\"color\",\"fill_alpha\",\"height\",\"width\",\"y\",\"x\",\"label\"],\"data\":{\"chart_index\":[{\"zip_code\":\"92101\"}],\"color\":[\"#9467bd\"],\"fill_alpha\":[0.8],\"height\":[730.0],\"label\":[{\"zip_code\":\"92101\"}],\"line_alpha\":[1.0],\"line_color\":[\"white\"],\"width\":[0.8],\"x\":[\"92101\"],\"y\":[365.0],\"zip_code\":[\"92101\"]}},\"id\":\"a93bb3e7-a268-4e77-a1ed-0e2d6b434ee0\",\"type\":\"ColumnDataSource\"},{\"attributes\":{},\"id\":\"3cb161ee-e3c1-4580-a41e-13a0043d8e8e\",\"type\":\"ToolEvents\"},{\"attributes\":{\"data_source\":{\"id\":\"43ac3d24-c2f2-4819-886c-160e8eb4f829\",\"type\":\"ColumnDataSource\"},\"glyph\":{\"id\":\"b41e1bc4-5579-4a9e-aa22-59193ebd15f5\",\"type\":\"Rect\"},\"hover_glyph\":null,\"nonselection_glyph\":null,\"selection_glyph\":null},\"id\":\"f3fb0d1a-30c3-4736-b1d1-8007e63f1df2\",\"type\":\"GlyphRenderer\"},{\"attributes\":{\"callback\":null,\"column_names\":[\"line_color\",\"line_alpha\",\"color\",\"fill_alpha\",\"height\",\"width\",\"y\",\"x\",\"label\"],\"data\":{\"chart_index\":[{\"city\":\"DENVER CO\"}],\"city\":[\"DENVER CO\"],\"color\":[\"#9467bd\"],\"fill_alpha\":[0.8],\"height\":[4359.0],\"label\":[{\"city\":\"DENVER CO\"}],\"line_alpha\":[1.0],\"line_color\":[\"white\"],\"width\":[0.8],\"x\":[\"DENVER CO\"],\"y\":[2179.5]}},\"id\":\"654bd608-ac1a-4e18-8930-2132f7183a8a\",\"type\":\"ColumnDataSource\"},{\"attributes\":{\"fill_alpha\":{\"field\":\"fill_alpha\"},\"fill_color\":{\"field\":\"color\"},\"height\":{\"field\":\"height\",\"units\":\"data\"},\"line_color\":{\"field\":\"line_color\"},\"width\":{\"field\":\"width\",\"units\":\"data\"},\"x\":{\"field\":\"x\"},\"y\":{\"field\":\"y\"}},\"id\":\"70c99eb9-447b-4fb4-b019-7511bf2f24a8\",\"type\":\"Rect\"},{\"attributes\":{\"fill_alpha\":{\"field\":\"fill_alpha\"},\"fill_color\":{\"field\":\"color\"},\"height\":{\"field\":\"height\",\"units\":\"data\"},\"line_color\":{\"field\":\"line_color\"},\"width\":{\"field\":\"width\",\"units\":\"data\"},\"x\":{\"field\":\"x\"},\"y\":{\"field\":\"y\"}},\"id\":\"0c9a64b3-616a-4e18-8636-d568817a3a9a\",\"type\":\"Rect\"},{\"attributes\":{\"data_source\":{\"id\":\"f737d6b4-3640-4f9b-9a86-46d69ed62a87\",\"type\":\"ColumnDataSource\"},\"glyph\":{\"id\":\"ef892668-cc94-4a26-8c4d-c9f37caf218f\",\"type\":\"Rect\"},\"hover_glyph\":null,\"nonselection_glyph\":null,\"selection_glyph\":null},\"id\":\"257c770e-6b49-4f4d-b1fe-3798218d96ca\",\"type\":\"GlyphRenderer\"},{\"attributes\":{\"callback\":null,\"column_names\":[\"line_color\",\"line_alpha\",\"color\",\"fill_alpha\",\"height\",\"width\",\"y\",\"x\",\"label\"],\"data\":{\"chart_index\":[{\"zip_code\":\"80202\"}],\"color\":[\"#9467bd\"],\"fill_alpha\":[0.8],\"height\":[657.0],\"label\":[{\"zip_code\":\"80202\"}],\"line_alpha\":[1.0],\"line_color\":[\"white\"],\"width\":[0.8],\"x\":[\"80202\"],\"y\":[328.5],\"zip_code\":[\"80202\"]}},\"id\":\"bef692e8-9312-4d2d-9e79-16606d9802a8\",\"type\":\"ColumnDataSource\"},{\"attributes\":{\"label\":{\"value\":\"92660\"},\"renderers\":[{\"id\":\"bc21951d-51bf-42d7-a030-08f2c1940587\",\"type\":\"GlyphRenderer\"}]},\"id\":\"6d5fff17-38c0-40dd-a4bf-085df045cfc4\",\"type\":\"LegendItem\"},{\"attributes\":{\"data_source\":{\"id\":\"387d06bb-fd7d-47b5-8735-02e4e9f87779\",\"type\":\"ColumnDataSource\"},\"glyph\":{\"id\":\"b7941231-64eb-4793-bd46-423a736c8a5b\",\"type\":\"Rect\"},\"hover_glyph\":null,\"nonselection_glyph\":null,\"selection_glyph\":null},\"id\":\"af8ac6fa-3221-48a5-a4e8-a5811b253893\",\"type\":\"GlyphRenderer\"},{\"attributes\":{\"data_source\":{\"id\":\"a520bf91-57d2-4173-b651-247160faff40\",\"type\":\"ColumnDataSource\"},\"glyph\":{\"id\":\"49608267-86f2-483e-972c-c24dbd8ce1d0\",\"type\":\"Rect\"},\"hover_glyph\":null,\"nonselection_glyph\":null,\"selection_glyph\":null},\"id\":\"ffab8014-1b62-49d2-93ef-9eac820c8c41\",\"type\":\"GlyphRenderer\"},{\"attributes\":{\"callback\":null,\"factors\":[\"NEW YORK NY\",\"HOUSTON TX\",\"CHICAGO IL\",\"DALLAS TX\",\"SAN DIEGO CA\",\"ATLANTA GA\",\"LOS ANGELES CA\",\"AUSTIN TX\",\"SAN FRANCISCO CA\",\"PORTLAND OR\",\"PHOENIX AZ\",\"MINNEAPOLIS MN\",\"SEATTLE WA\",\"MIAMI FL\",\"WASHINGTON DC\",\"DENVER CO\",\"SAINT LOUIS MO\",\"SAN ANTONIO TX\",\"INDIANAPOLIS IN\",\"CHARLOTTE NC\"]},\"id\":\"ea6b6eb0-e5cf-48f8-9b54-6cd1d47bb620\",\"type\":\"FactorRange\"},{\"attributes\":{\"data_source\":{\"id\":\"8f0d6273-a14e-4d0e-9376-0aebe9851d2d\",\"type\":\"ColumnDataSource\"},\"glyph\":{\"id\":\"9e717a23-7e2a-480b-89d5-56b96dd39a42\",\"type\":\"Rect\"},\"hover_glyph\":null,\"nonselection_glyph\":null,\"selection_glyph\":null},\"id\":\"e4413ab5-b791-4997-a844-63c7fd11bacf\",\"type\":\"GlyphRenderer\"},{\"attributes\":{\"fill_alpha\":{\"field\":\"fill_alpha\"},\"fill_color\":{\"field\":\"color\"},\"height\":{\"field\":\"height\",\"units\":\"data\"},\"line_color\":{\"field\":\"line_color\"},\"width\":{\"field\":\"width\",\"units\":\"data\"},\"x\":{\"field\":\"x\"},\"y\":{\"field\":\"y\"}},\"id\":\"b41e1bc4-5579-4a9e-aa22-59193ebd15f5\",\"type\":\"Rect\"},{\"attributes\":{\"data_source\":{\"id\":\"a97e6740-5146-49b9-b4c6-523192a7d284\",\"type\":\"ColumnDataSource\"},\"glyph\":{\"id\":\"9f980894-e8c5-4f2e-9b66-fe0c22a0fda5\",\"type\":\"Rect\"},\"hover_glyph\":null,\"nonselection_glyph\":null,\"selection_glyph\":null},\"id\":\"39f85f0e-e00d-4a65-8205-2718f6ce4ffc\",\"type\":\"GlyphRenderer\"},{\"attributes\":{\"label\":{\"value\":\"SEATTLE WA\"},\"renderers\":[{\"id\":\"453b2e5b-c5ed-4341-9556-316fa480a9cb\",\"type\":\"GlyphRenderer\"}]},\"id\":\"e31325d2-a531-4d52-b00a-d63c81fc304d\",\"type\":\"LegendItem\"},{\"attributes\":{\"callback\":null,\"column_names\":[\"line_color\",\"line_alpha\",\"color\",\"fill_alpha\",\"height\",\"width\",\"y\",\"x\",\"label\"],\"data\":{\"chart_index\":[{\"zip_code\":\"85260\"}],\"color\":[\"#9467bd\"],\"fill_alpha\":[0.8],\"height\":[652.0],\"label\":[{\"zip_code\":\"85260\"}],\"line_alpha\":[1.0],\"line_color\":[\"white\"],\"width\":[0.8],\"x\":[\"85260\"],\"y\":[326.0],\"zip_code\":[\"85260\"]}},\"id\":\"2ad0a9d5-be56-4a21-805d-56da660ecb0b\",\"type\":\"ColumnDataSource\"},{\"attributes\":{\"data_source\":{\"id\":\"53d474ca-3853-403d-a116-5f3c861ce051\",\"type\":\"ColumnDataSource\"},\"glyph\":{\"id\":\"0c9a64b3-616a-4e18-8636-d568817a3a9a\",\"type\":\"Rect\"},\"hover_glyph\":null,\"nonselection_glyph\":null,\"selection_glyph\":null},\"id\":\"418a1207-a746-4026-b697-c51a65fca308\",\"type\":\"GlyphRenderer\"},{\"attributes\":{\"label\":{\"value\":\"MINNEAPOLIS MN\"},\"renderers\":[{\"id\":\"bf8e54fb-af0c-4b71-8c28-278d10fade62\",\"type\":\"GlyphRenderer\"}]},\"id\":\"866a38db-4ccc-4b59-bbe1-b89473fc45a0\",\"type\":\"LegendItem\"},{\"attributes\":{\"callback\":null,\"column_names\":[\"line_color\",\"line_alpha\",\"color\",\"fill_alpha\",\"height\",\"width\",\"y\",\"x\",\"label\"],\"data\":{\"chart_index\":[{\"zip_code\":\"20036\"}],\"color\":[\"#9467bd\"],\"fill_alpha\":[0.8],\"height\":[802.0],\"label\":[{\"zip_code\":\"20036\"}],\"line_alpha\":[1.0],\"line_color\":[\"white\"],\"width\":[0.8],\"x\":[\"20036\"],\"y\":[401.0],\"zip_code\":[\"20036\"]}},\"id\":\"9fc5ce03-5043-466b-a297-ab963cfa0ed0\",\"type\":\"ColumnDataSource\"},{\"attributes\":{\"plot\":{\"id\":\"d482d0f7-a539-41eb-9d28-8c47d0ea18cb\",\"subtype\":\"Chart\",\"type\":\"Plot\"}},\"id\":\"3ca20231-9ff4-4ad4-b06c-effb8bbb99d0\",\"type\":\"ResetTool\"},{\"attributes\":{\"callback\":null,\"column_names\":[\"line_color\",\"line_alpha\",\"color\",\"fill_alpha\",\"height\",\"width\",\"y\",\"x\",\"label\"],\"data\":{\"chart_index\":[{\"zip_code\":\"10036\"}],\"color\":[\"#9467bd\"],\"fill_alpha\":[0.8],\"height\":[712.0],\"label\":[{\"zip_code\":\"10036\"}],\"line_alpha\":[1.0],\"line_color\":[\"white\"],\"width\":[0.8],\"x\":[\"10036\"],\"y\":[356.0],\"zip_code\":[\"10036\"]}},\"id\":\"ba5b670e-ea3f-4011-86f3-31871996deda\",\"type\":\"ColumnDataSource\"},{\"attributes\":{\"data_source\":{\"id\":\"35cb86c7-b02b-4dac-bd9c-0284ec36478a\",\"type\":\"ColumnDataSource\"},\"glyph\":{\"id\":\"6ed7ce1d-7af2-4f22-87b5-158a82a144ec\",\"type\":\"Rect\"},\"hover_glyph\":null,\"nonselection_glyph\":null,\"selection_glyph\":null},\"id\":\"57d59b4c-9e2a-4817-a7ef-711df2f1dc10\",\"type\":\"GlyphRenderer\"},{\"attributes\":{\"fill_alpha\":{\"field\":\"fill_alpha\"},\"fill_color\":{\"field\":\"color\"},\"height\":{\"field\":\"height\",\"units\":\"data\"},\"line_color\":{\"field\":\"line_color\"},\"width\":{\"field\":\"width\",\"units\":\"data\"},\"x\":{\"field\":\"x\"},\"y\":{\"field\":\"y\"}},\"id\":\"d38404d1-10e3-4c7f-b845-cfc0cfc687ee\",\"type\":\"Rect\"},{\"attributes\":{\"data_source\":{\"id\":\"a6f3c338-ed13-415d-9658-0f387d933509\",\"type\":\"ColumnDataSource\"},\"glyph\":{\"id\":\"eed8b22d-a11e-40d3-964a-420b2b393fb9\",\"type\":\"Rect\"},\"hover_glyph\":null,\"nonselection_glyph\":null,\"selection_glyph\":null},\"id\":\"ffc30fb7-3e9d-4cc2-91cd-0d95dd88fd3d\",\"type\":\"GlyphRenderer\"},{\"attributes\":{},\"id\":\"22e037d6-a14d-4516-a055-c459ac2f2fec\",\"type\":\"ToolEvents\"},{\"attributes\":{\"label\":{\"value\":\"10011\"},\"renderers\":[{\"id\":\"57d59b4c-9e2a-4817-a7ef-711df2f1dc10\",\"type\":\"GlyphRenderer\"}]},\"id\":\"bc93ef16-f4b0-4d22-8d1c-2eefd84bb481\",\"type\":\"LegendItem\"},{\"attributes\":{\"label\":{\"value\":\"22314\"},\"renderers\":[{\"id\":\"ffc30fb7-3e9d-4cc2-91cd-0d95dd88fd3d\",\"type\":\"GlyphRenderer\"}]},\"id\":\"4d39f60d-95e0-4207-8bea-34a4d2abc290\",\"type\":\"LegendItem\"},{\"attributes\":{\"plot\":{\"id\":\"d482d0f7-a539-41eb-9d28-8c47d0ea18cb\",\"subtype\":\"Chart\",\"type\":\"Plot\"}},\"id\":\"03b2b75a-ee28-400b-ad1f-ef9d5fc79128\",\"type\":\"PanTool\"},{\"attributes\":{\"data_source\":{\"id\":\"a93bb3e7-a268-4e77-a1ed-0e2d6b434ee0\",\"type\":\"ColumnDataSource\"},\"glyph\":{\"id\":\"d097bc26-5719-435d-910a-b83c3f6d0b57\",\"type\":\"Rect\"},\"hover_glyph\":null,\"nonselection_glyph\":null,\"selection_glyph\":null},\"id\":\"0511f063-fd6a-4875-80b1-b1cc0dd21ee3\",\"type\":\"GlyphRenderer\"},{\"attributes\":{\"fill_alpha\":{\"field\":\"fill_alpha\"},\"fill_color\":{\"field\":\"color\"},\"height\":{\"field\":\"height\",\"units\":\"data\"},\"line_color\":{\"field\":\"line_color\"},\"width\":{\"field\":\"width\",\"units\":\"data\"},\"x\":{\"field\":\"x\"},\"y\":{\"field\":\"y\"}},\"id\":\"a836f5db-3d47-4aa1-950c-21bed10baa6e\",\"type\":\"Rect\"},{\"attributes\":{\"data_source\":{\"id\":\"ba5b670e-ea3f-4011-86f3-31871996deda\",\"type\":\"ColumnDataSource\"},\"glyph\":{\"id\":\"ecc56ad2-6b12-42b5-a3a8-b92694c63596\",\"type\":\"Rect\"},\"hover_glyph\":null,\"nonselection_glyph\":null,\"selection_glyph\":null},\"id\":\"2f4516a0-b16c-47a5-8ffd-0d39fe2e3eab\",\"type\":\"GlyphRenderer\"},{\"attributes\":{\"label\":{\"value\":\"PORTLAND OR\"},\"renderers\":[{\"id\":\"af8ac6fa-3221-48a5-a4e8-a5811b253893\",\"type\":\"GlyphRenderer\"}]},\"id\":\"23447299-016f-4926-a032-9b54f58b649c\",\"type\":\"LegendItem\"},{\"attributes\":{\"callback\":null,\"column_names\":[\"line_color\",\"line_alpha\",\"color\",\"fill_alpha\",\"height\",\"width\",\"y\",\"x\",\"label\"],\"data\":{\"chart_index\":[{\"city\":\"DALLAS TX\"}],\"city\":[\"DALLAS TX\"],\"color\":[\"#9467bd\"],\"fill_alpha\":[0.8],\"height\":[6049.0],\"label\":[{\"city\":\"DALLAS TX\"}],\"line_alpha\":[1.0],\"line_color\":[\"white\"],\"width\":[0.8],\"x\":[\"DALLAS TX\"],\"y\":[3024.5]}},\"id\":\"46482a13-c4e7-45c0-83e9-dddb54e0e202\",\"type\":\"ColumnDataSource\"},{\"attributes\":{\"plot\":{\"id\":\"d482d0f7-a539-41eb-9d28-8c47d0ea18cb\",\"subtype\":\"Chart\",\"type\":\"Plot\"}},\"id\":\"21df58db-771c-4f41-a278-8e23849a3714\",\"type\":\"WheelZoomTool\"},{\"attributes\":{\"data_source\":{\"id\":\"d3af2d16-3de9-41b6-b504-e272806de1b5\",\"type\":\"ColumnDataSource\"},\"glyph\":{\"id\":\"60ce6697-f03d-484b-b652-c8975e7c024c\",\"type\":\"Rect\"},\"hover_glyph\":null,\"nonselection_glyph\":null,\"selection_glyph\":null},\"id\":\"e4b3f061-bc8d-47d2-9d74-33c33874c4d7\",\"type\":\"GlyphRenderer\"},{\"attributes\":{\"fill_alpha\":{\"field\":\"fill_alpha\"},\"fill_color\":{\"field\":\"color\"},\"height\":{\"field\":\"height\",\"units\":\"data\"},\"line_color\":{\"field\":\"line_color\"},\"width\":{\"field\":\"width\",\"units\":\"data\"},\"x\":{\"field\":\"x\"},\"y\":{\"field\":\"y\"}},\"id\":\"49608267-86f2-483e-972c-c24dbd8ce1d0\",\"type\":\"Rect\"},{\"attributes\":{\"callback\":null,\"column_names\":[\"line_color\",\"line_alpha\",\"color\",\"fill_alpha\",\"height\",\"width\",\"y\",\"x\",\"label\"],\"data\":{\"chart_index\":[{\"zip_code\":\"43215\"}],\"color\":[\"#9467bd\"],\"fill_alpha\":[0.8],\"height\":[657.0],\"label\":[{\"zip_code\":\"43215\"}],\"line_alpha\":[1.0],\"line_color\":[\"white\"],\"width\":[0.8],\"x\":[\"43215\"],\"y\":[328.5],\"zip_code\":[\"43215\"]}},\"id\":\"43ac3d24-c2f2-4819-886c-160e8eb4f829\",\"type\":\"ColumnDataSource\"},{\"attributes\":{\"fill_alpha\":{\"field\":\"fill_alpha\"},\"fill_color\":{\"field\":\"color\"},\"height\":{\"field\":\"height\",\"units\":\"data\"},\"line_color\":{\"field\":\"line_color\"},\"width\":{\"field\":\"width\",\"units\":\"data\"},\"x\":{\"field\":\"x\"},\"y\":{\"field\":\"y\"}},\"id\":\"95fbdcb7-3ae7-4329-a133-b2741788fb4f\",\"type\":\"Rect\"},{\"attributes\":{\"callback\":null,\"column_names\":[\"line_color\",\"line_alpha\",\"color\",\"fill_alpha\",\"height\",\"width\",\"y\",\"x\",\"label\"],\"data\":{\"chart_index\":[{\"city\":\"PHOENIX AZ\"}],\"city\":[\"PHOENIX AZ\"],\"color\":[\"#9467bd\"],\"fill_alpha\":[0.8],\"height\":[4822.0],\"label\":[{\"city\":\"PHOENIX AZ\"}],\"line_alpha\":[1.0],\"line_color\":[\"white\"],\"width\":[0.8],\"x\":[\"PHOENIX AZ\"],\"y\":[2411.0]}},\"id\":\"da0844b7-a742-4c65-b1a3-4836995b097c\",\"type\":\"ColumnDataSource\"},{\"attributes\":{\"data_source\":{\"id\":\"e64136fa-e003-4812-91f4-25f1ca99f591\",\"type\":\"ColumnDataSource\"},\"glyph\":{\"id\":\"662b743d-3ea0-439b-84a3-f030ec1ab86c\",\"type\":\"Rect\"},\"hover_glyph\":null,\"nonselection_glyph\":null,\"selection_glyph\":null},\"id\":\"90c3ab68-ff98-42cb-9b90-8200f7befbd2\",\"type\":\"GlyphRenderer\"},{\"attributes\":{\"fill_alpha\":{\"field\":\"fill_alpha\"},\"fill_color\":{\"field\":\"color\"},\"height\":{\"field\":\"height\",\"units\":\"data\"},\"line_color\":{\"field\":\"line_color\"},\"width\":{\"field\":\"width\",\"units\":\"data\"},\"x\":{\"field\":\"x\"},\"y\":{\"field\":\"y\"}},\"id\":\"eed8b22d-a11e-40d3-964a-420b2b393fb9\",\"type\":\"Rect\"},{\"attributes\":{\"callback\":null,\"column_names\":[\"line_color\",\"line_alpha\",\"color\",\"fill_alpha\",\"height\",\"width\",\"y\",\"x\",\"label\"],\"data\":{\"chart_index\":[{\"zip_code\":\"60606\"}],\"color\":[\"#9467bd\"],\"fill_alpha\":[0.8],\"height\":[698.0],\"label\":[{\"zip_code\":\"60606\"}],\"line_alpha\":[1.0],\"line_color\":[\"white\"],\"width\":[0.8],\"x\":[\"60606\"],\"y\":[349.0],\"zip_code\":[\"60606\"]}},\"id\":\"0b6165c4-9064-4686-98e0-817a5e6dc11c\",\"type\":\"ColumnDataSource\"},{\"attributes\":{\"fill_alpha\":{\"field\":\"fill_alpha\"},\"fill_color\":{\"field\":\"color\"},\"height\":{\"field\":\"height\",\"units\":\"data\"},\"line_color\":{\"field\":\"line_color\"},\"width\":{\"field\":\"width\",\"units\":\"data\"},\"x\":{\"field\":\"x\"},\"y\":{\"field\":\"y\"}},\"id\":\"241f8f11-eabf-49d7-ae5c-75aee949625e\",\"type\":\"Rect\"},{\"attributes\":{\"label\":{\"value\":\"PHOENIX AZ\"},\"renderers\":[{\"id\":\"b234f6d4-8bde-4a25-a265-22dff5bc57be\",\"type\":\"GlyphRenderer\"}]},\"id\":\"3c2f45d4-0a26-4b67-9cb5-a29bfa57def1\",\"type\":\"LegendItem\"},{\"attributes\":{\"dimension\":1,\"grid_line_color\":{\"value\":null},\"plot\":{\"id\":\"e35dc515-a0d2-4d48-aa17-745b2be34e71\",\"subtype\":\"Chart\",\"type\":\"Plot\"},\"ticker\":{\"id\":\"e3ece9d8-270a-4ee5-90a0-36c6ae8ba607\",\"type\":\"BasicTicker\"}},\"id\":\"78ebbba8-54b6-4905-9604-58be3caf81e5\",\"type\":\"Grid\"},{\"attributes\":{\"below\":[{\"id\":\"9d57fab2-0637-475c-a156-d21e6ae64570\",\"type\":\"CategoricalAxis\"}],\"css_classes\":null,\"left\":[{\"id\":\"46f99307-e6bd-4502-97e7-5669cf67d6b8\",\"type\":\"LinearAxis\"}],\"plot_height\":300,\"plot_width\":400,\"renderers\":[{\"id\":\"313542c7-46e7-4062-b415-db238ad44c8e\",\"type\":\"BoxAnnotation\"},{\"id\":\"aefdb460-e3b5-4b08-8aaf-3911839331e0\",\"type\":\"GlyphRenderer\"},{\"id\":\"39f85f0e-e00d-4a65-8205-2718f6ce4ffc\",\"type\":\"GlyphRenderer\"},{\"id\":\"a8250d24-ff6c-43b0-91cc-619189b90eca\",\"type\":\"GlyphRenderer\"},{\"id\":\"90c3ab68-ff98-42cb-9b90-8200f7befbd2\",\"type\":\"GlyphRenderer\"},{\"id\":\"41320ecb-d167-4506-a5cb-b854ecfc2e60\",\"type\":\"GlyphRenderer\"},{\"id\":\"8c72c9a0-4a8f-43f9-a861-966ec99aea5e\",\"type\":\"GlyphRenderer\"},{\"id\":\"0511f063-fd6a-4875-80b1-b1cc0dd21ee3\",\"type\":\"GlyphRenderer\"},{\"id\":\"418a1207-a746-4026-b697-c51a65fca308\",\"type\":\"GlyphRenderer\"},{\"id\":\"30577887-d764-4db2-845e-c2bbb4d8cba4\",\"type\":\"GlyphRenderer\"},{\"id\":\"2f4516a0-b16c-47a5-8ffd-0d39fe2e3eab\",\"type\":\"GlyphRenderer\"},{\"id\":\"bc21951d-51bf-42d7-a030-08f2c1940587\",\"type\":\"GlyphRenderer\"},{\"id\":\"97774266-b076-4fb1-802a-8e6591d62862\",\"type\":\"GlyphRenderer\"},{\"id\":\"ec88747f-7cb0-4fe6-a1f2-b3e752c7a9f8\",\"type\":\"GlyphRenderer\"},{\"id\":\"ffc30fb7-3e9d-4cc2-91cd-0d95dd88fd3d\",\"type\":\"GlyphRenderer\"},{\"id\":\"df9b41a6-2a27-4f5f-8afc-36ae3692e921\",\"type\":\"GlyphRenderer\"},{\"id\":\"0cd4bc62-baed-42bc-99fb-6b5eaf75ec73\",\"type\":\"GlyphRenderer\"},{\"id\":\"f3fb0d1a-30c3-4736-b1d1-8007e63f1df2\",\"type\":\"GlyphRenderer\"},{\"id\":\"870174ae-cfcc-44c6-bb26-f6c2e9481e0f\",\"type\":\"GlyphRenderer\"},{\"id\":\"1124bb8b-add8-46a2-bfbf-a1fbf40600f7\",\"type\":\"GlyphRenderer\"},{\"id\":\"57d59b4c-9e2a-4817-a7ef-711df2f1dc10\",\"type\":\"GlyphRenderer\"},{\"id\":\"9ada5050-77bf-4b03-ac2d-62a19db81c05\",\"type\":\"Legend\"},{\"id\":\"9d57fab2-0637-475c-a156-d21e6ae64570\",\"type\":\"CategoricalAxis\"},{\"id\":\"46f99307-e6bd-4502-97e7-5669cf67d6b8\",\"type\":\"LinearAxis\"},{\"id\":\"78ebbba8-54b6-4905-9604-58be3caf81e5\",\"type\":\"Grid\"}],\"title\":{\"id\":\"6b038431-1c7b-4743-9b1a-eb42b9a55c7d\",\"type\":\"Title\"},\"tool_events\":{\"id\":\"22e037d6-a14d-4516-a055-c459ac2f2fec\",\"type\":\"ToolEvents\"},\"toolbar\":{\"id\":\"8266ef65-0836-4954-835f-6ab02d925d20\",\"type\":\"Toolbar\"},\"toolbar_location\":null,\"x_mapper_type\":\"auto\",\"x_range\":{\"id\":\"f146fb20-032c-453c-b2fd-0abc7d04b24d\",\"type\":\"FactorRange\"},\"y_mapper_type\":\"auto\",\"y_range\":{\"id\":\"09a35d5c-8e5d-40a1-a4ed-dbbaca9af7ff\",\"type\":\"Range1d\"}},\"id\":\"e35dc515-a0d2-4d48-aa17-745b2be34e71\",\"subtype\":\"Chart\",\"type\":\"Plot\"},{\"attributes\":{\"callback\":null,\"column_names\":[\"line_color\",\"line_alpha\",\"color\",\"fill_alpha\",\"height\",\"width\",\"y\",\"x\",\"label\"],\"data\":{\"chart_index\":[{\"city\":\"SAN DIEGO CA\"}],\"city\":[\"SAN DIEGO CA\"],\"color\":[\"#9467bd\"],\"fill_alpha\":[0.8],\"height\":[5987.0],\"label\":[{\"city\":\"SAN DIEGO CA\"}],\"line_alpha\":[1.0],\"line_color\":[\"white\"],\"width\":[0.8],\"x\":[\"SAN DIEGO CA\"],\"y\":[2993.5]}},\"id\":\"6f16cdf4-df99-4e23-a785-34b3edbe59c5\",\"type\":\"ColumnDataSource\"},{\"attributes\":{\"below\":[{\"id\":\"4f974435-0397-4fe8-ae36-007f1ae4f970\",\"type\":\"CategoricalAxis\"}],\"css_classes\":null,\"left\":[{\"id\":\"2d48720d-1a9d-45a6-aecf-2e3c577d6bdd\",\"type\":\"LinearAxis\"}],\"plot_height\":300,\"plot_width\":400,\"renderers\":[{\"id\":\"86bc5288-df3e-41d8-9085-4d6b9199c0e1\",\"type\":\"BoxAnnotation\"},{\"id\":\"29d70ace-65f9-4a79-b3fe-56931429404b\",\"type\":\"GlyphRenderer\"},{\"id\":\"eefae77b-10b8-48e6-adfe-9f517fee2bbf\",\"type\":\"GlyphRenderer\"},{\"id\":\"5a26e1c1-af52-42e1-ac97-75020020d1f4\",\"type\":\"GlyphRenderer\"},{\"id\":\"0e80f575-f893-4609-955e-e1ec9007cb19\",\"type\":\"GlyphRenderer\"},{\"id\":\"e23a3ad3-501c-4f7d-9d25-2d5f97a5c3dd\",\"type\":\"GlyphRenderer\"},{\"id\":\"e4413ab5-b791-4997-a844-63c7fd11bacf\",\"type\":\"GlyphRenderer\"},{\"id\":\"85cd17a5-d7ce-4222-8121-a54292a568db\",\"type\":\"GlyphRenderer\"},{\"id\":\"af6c6315-e26d-4aab-9f01-55870492e293\",\"type\":\"GlyphRenderer\"},{\"id\":\"4cf37765-52ed-4f55-808e-77b6ce44c484\",\"type\":\"GlyphRenderer\"},{\"id\":\"af8ac6fa-3221-48a5-a4e8-a5811b253893\",\"type\":\"GlyphRenderer\"},{\"id\":\"b234f6d4-8bde-4a25-a265-22dff5bc57be\",\"type\":\"GlyphRenderer\"},{\"id\":\"bf8e54fb-af0c-4b71-8c28-278d10fade62\",\"type\":\"GlyphRenderer\"},{\"id\":\"453b2e5b-c5ed-4341-9556-316fa480a9cb\",\"type\":\"GlyphRenderer\"},{\"id\":\"ffab8014-1b62-49d2-93ef-9eac820c8c41\",\"type\":\"GlyphRenderer\"},{\"id\":\"f31e01ee-245b-47b7-ad6b-8566077ae03b\",\"type\":\"GlyphRenderer\"},{\"id\":\"f3fce54e-fffe-451c-979c-626734805a37\",\"type\":\"GlyphRenderer\"},{\"id\":\"e4b3f061-bc8d-47d2-9d74-33c33874c4d7\",\"type\":\"GlyphRenderer\"},{\"id\":\"dc75d5e0-3654-4a99-8d16-784818d4b4ae\",\"type\":\"GlyphRenderer\"},{\"id\":\"df68d32f-95ba-431b-b3fa-dab613491843\",\"type\":\"GlyphRenderer\"},{\"id\":\"257c770e-6b49-4f4d-b1fe-3798218d96ca\",\"type\":\"GlyphRenderer\"},{\"id\":\"f1f31fd2-c203-4491-9492-ab42949c518c\",\"type\":\"Legend\"},{\"id\":\"4f974435-0397-4fe8-ae36-007f1ae4f970\",\"type\":\"CategoricalAxis\"},{\"id\":\"2d48720d-1a9d-45a6-aecf-2e3c577d6bdd\",\"type\":\"LinearAxis\"},{\"id\":\"fb082540-b810-4d9e-a422-5e9ae0947790\",\"type\":\"Grid\"}],\"title\":{\"id\":\"cce97386-960c-4e49-9d5b-1e85582aaecc\",\"type\":\"Title\"},\"tool_events\":{\"id\":\"3cb161ee-e3c1-4580-a41e-13a0043d8e8e\",\"type\":\"ToolEvents\"},\"toolbar\":{\"id\":\"83cd3191-348e-4f0b-bce5-3de2753dae5b\",\"type\":\"Toolbar\"},\"toolbar_location\":null,\"x_mapper_type\":\"auto\",\"x_range\":{\"id\":\"ea6b6eb0-e5cf-48f8-9b54-6cd1d47bb620\",\"type\":\"FactorRange\"},\"y_mapper_type\":\"auto\",\"y_range\":{\"id\":\"2be0496f-66ec-471b-8a23-dc02107d5e4f\",\"type\":\"Range1d\"}},\"id\":\"d482d0f7-a539-41eb-9d28-8c47d0ea18cb\",\"subtype\":\"Chart\",\"type\":\"Plot\"},{\"attributes\":{\"callback\":null,\"column_names\":[\"line_color\",\"line_alpha\",\"color\",\"fill_alpha\",\"height\",\"width\",\"y\",\"x\",\"label\"],\"data\":{\"chart_index\":[{\"city\":\"SAINT LOUIS MO\"}],\"city\":[\"SAINT LOUIS MO\"],\"color\":[\"#9467bd\"],\"fill_alpha\":[0.8],\"height\":[4326.0],\"label\":[{\"city\":\"SAINT LOUIS MO\"}],\"line_alpha\":[1.0],\"line_color\":[\"white\"],\"width\":[0.8],\"x\":[\"SAINT LOUIS MO\"],\"y\":[2163.0]}},\"id\":\"d3af2d16-3de9-41b6-b504-e272806de1b5\",\"type\":\"ColumnDataSource\"},{\"attributes\":{\"data_source\":{\"id\":\"5204a792-2a3b-48be-acd9-2127a7606518\",\"type\":\"ColumnDataSource\"},\"glyph\":{\"id\":\"2b1567c6-d46b-476d-8cef-fcd08c6db17f\",\"type\":\"Rect\"},\"hover_glyph\":null,\"nonselection_glyph\":null,\"selection_glyph\":null},\"id\":\"df9b41a6-2a27-4f5f-8afc-36ae3692e921\",\"type\":\"GlyphRenderer\"},{\"attributes\":{\"callback\":null,\"column_names\":[\"line_color\",\"line_alpha\",\"color\",\"fill_alpha\",\"height\",\"width\",\"y\",\"x\",\"label\"],\"data\":{\"chart_index\":[{\"zip_code\":\"10022\"}],\"color\":[\"#9467bd\"],\"fill_alpha\":[0.8],\"height\":[1090.0],\"label\":[{\"zip_code\":\"10022\"}],\"line_alpha\":[1.0],\"line_color\":[\"white\"],\"width\":[0.8],\"x\":[\"10022\"],\"y\":[545.0],\"zip_code\":[\"10022\"]}},\"id\":\"a97e6740-5146-49b9-b4c6-523192a7d284\",\"type\":\"ColumnDataSource\"},{\"attributes\":{\"callback\":null,\"column_names\":[\"line_color\",\"line_alpha\",\"color\",\"fill_alpha\",\"height\",\"width\",\"y\",\"x\",\"label\"],\"data\":{\"chart_index\":[{\"zip_code\":\"80112\"}],\"color\":[\"#9467bd\"],\"fill_alpha\":[0.8],\"height\":[591.0],\"label\":[{\"zip_code\":\"80112\"}],\"line_alpha\":[1.0],\"line_color\":[\"white\"],\"width\":[0.8],\"x\":[\"80112\"],\"y\":[295.5],\"zip_code\":[\"80112\"]}},\"id\":\"66918f63-6594-46cc-b886-f387d0970b7f\",\"type\":\"ColumnDataSource\"},{\"attributes\":{\"callback\":null,\"column_names\":[\"line_color\",\"line_alpha\",\"color\",\"fill_alpha\",\"height\",\"width\",\"y\",\"x\",\"label\"],\"data\":{\"chart_index\":[{\"city\":\"ATLANTA GA\"}],\"city\":[\"ATLANTA GA\"],\"color\":[\"#9467bd\"],\"fill_alpha\":[0.8],\"height\":[5763.0],\"label\":[{\"city\":\"ATLANTA GA\"}],\"line_alpha\":[1.0],\"line_color\":[\"white\"],\"width\":[0.8],\"x\":[\"ATLANTA GA\"],\"y\":[2881.5]}},\"id\":\"8f0d6273-a14e-4d0e-9376-0aebe9851d2d\",\"type\":\"ColumnDataSource\"}],\"root_ids\":[\"19ec6b45-ea3d-4a45-af00-0d396415cd10\"]},\"title\":\"Bokeh Application\",\"version\":\"0.12.4\"}};\n",
       "            var render_items = [{\"docid\":\"49d227bc-a7ac-412e-9378-e7109110d24f\",\"elementid\":\"4a41c8c5-b837-4cc2-ac6f-0e092a862186\",\"modelid\":\"19ec6b45-ea3d-4a45-af00-0d396415cd10\"}];\n",
       "            \n",
       "            Bokeh.embed.embed_items(docs_json, render_items);\n",
       "          };\n",
       "          if (document.readyState != \"loading\") fn();\n",
       "          else document.addEventListener(\"DOMContentLoaded\", fn);\n",
       "        })();\n",
       "      },\n",
       "      function(Bokeh) {\n",
       "      }\n",
       "    ];\n",
       "  \n",
       "    function run_inline_js() {\n",
       "      \n",
       "      if ((window.Bokeh !== undefined) || (force === true)) {\n",
       "        for (var i = 0; i < inline_js.length; i++) {\n",
       "          inline_js[i](window.Bokeh);\n",
       "        }if (force === true) {\n",
       "          display_loaded();\n",
       "        }} else if (Date.now() < window._bokeh_timeout) {\n",
       "        setTimeout(run_inline_js, 100);\n",
       "      } else if (!window._bokeh_failed_load) {\n",
       "        console.log(\"Bokeh: BokehJS failed to load within specified timeout.\");\n",
       "        window._bokeh_failed_load = true;\n",
       "      } else if (force !== true) {\n",
       "        var cell = $(document.getElementById(\"4a41c8c5-b837-4cc2-ac6f-0e092a862186\")).parents('.cell').data().cell;\n",
       "        cell.output_area.append_execute_result(NB_LOAD_WARNING)\n",
       "      }\n",
       "  \n",
       "    }\n",
       "  \n",
       "    if (window._bokeh_is_loading === 0) {\n",
       "      console.log(\"Bokeh: BokehJS loaded, going straight to plotting\");\n",
       "      run_inline_js();\n",
       "    } else {\n",
       "      load_libs(js_urls, function() {\n",
       "        console.log(\"Bokeh: BokehJS plotting callback run at\", now());\n",
       "        run_inline_js();\n",
       "      });\n",
       "    }\n",
       "  }(this));\n",
       "</script>"
      ]
     },
     "metadata": {},
     "output_type": "display_data"
    }
   ],
   "source": [
    "p2 = Bar(city[:20],  values ='counts', \n",
    "        label=CatAttr(columns=['city'], sort=False),\n",
    "        title=\"Cities with Most Counts of Businesses\", \n",
    "        plot_width=400, plot_height=300, color = '#9467bd', toolbar_location=None)\n",
    "p2.ygrid.grid_line_color = None\n",
    "p2.yaxis.minor_tick_line_color = None\n",
    "p2.xaxis.axis_label = None\n",
    "p2.yaxis.axis_label = ' '\n",
    "p2.legend.location = None\n",
    "\n",
    "show(row(p1, p2))"
   ]
  },
  {
   "cell_type": "markdown",
   "metadata": {},
   "source": [
    "### II.8. Analysis of Phone Number"
   ]
  },
  {
   "cell_type": "code",
   "execution_count": 71,
   "metadata": {
    "collapsed": false
   },
   "outputs": [],
   "source": [
    "#Counter ( row['phone'] for row in data )"
   ]
  },
  {
   "cell_type": "code",
   "execution_count": 72,
   "metadata": {
    "collapsed": true
   },
   "outputs": [],
   "source": [
    "phone_check = [None, 0, '', ' ', '0', 'none', 'null']"
   ]
  },
  {
   "cell_type": "code",
   "execution_count": 73,
   "metadata": {
    "collapsed": true
   },
   "outputs": [],
   "source": [
    "def phone_true_fill_rate(check_list):\n",
    "    invalid_vals = []\n",
    "    valid_vals = []\n",
    "    \n",
    "    for row in data:\n",
    "        phone = row['phone']\n",
    "        if type(phone) != unicode or phone in check_list:\n",
    "            invalid_vals.append(phone)\n",
    "        else:\n",
    "            phone = phone.replace('(','').replace(')','').replace(' ','').replace('-','').strip()\n",
    "            if len(phone) != 10:\n",
    "                invalid_vals.append(phone)\n",
    "            else:\n",
    "                valid_vals.append(phone)\n",
    "    return invalid_vals, valid_vals"
   ]
  },
  {
   "cell_type": "code",
   "execution_count": 74,
   "metadata": {
    "collapsed": true
   },
   "outputs": [],
   "source": [
    "phone_invalid_vals, phone_valid_vals = phone_true_fill_rate(phone_check)"
   ]
  },
  {
   "cell_type": "code",
   "execution_count": 75,
   "metadata": {
    "collapsed": false
   },
   "outputs": [
    {
     "data": {
      "text/plain": [
       "Counter({None: 409111,\n",
       "         0: 18,\n",
       "         u'': 12,\n",
       "         u' ': 10,\n",
       "         u'0': 18,\n",
       "         u'none': 22,\n",
       "         u'null': 11})"
      ]
     },
     "execution_count": 75,
     "metadata": {},
     "output_type": "execute_result"
    }
   ],
   "source": [
    "Counter( phone_invalid_vals )"
   ]
  },
  {
   "cell_type": "code",
   "execution_count": 76,
   "metadata": {
    "collapsed": false
   },
   "outputs": [
    {
     "name": "stdout",
     "output_type": "stream",
     "text": [
      "The total number of unique phone numbers is 575127\n"
     ]
    }
   ],
   "source": [
    "unique_vals['phone'] = len(set(phone_valid_vals))\n",
    "print 'The total number of unique phone numbers is', unique_vals['phone']"
   ]
  },
  {
   "cell_type": "code",
   "execution_count": 77,
   "metadata": {
    "collapsed": false
   },
   "outputs": [
    {
     "name": "stdout",
     "output_type": "stream",
     "text": [
      "\n",
      "True fill rate for the Phone field is 590798 (over 1000000 data point, which is 59.0798%), compared to the fill rate of 590871\n"
     ]
    }
   ],
   "source": [
    "true_fill_rate_dict['phone'] = len(phone_valid_vals)\n",
    "\n",
    "print '\\nTrue fill rate for the Phone field is {} (over {} data point, which is {}%), \\\n",
    "compared to the fill rate of {}'.\\\n",
    "format(len(phone_valid_vals), size, len(phone_valid_vals)*100.0/size, fill_rate_dict['phone'])"
   ]
  },
  {
   "cell_type": "code",
   "execution_count": 78,
   "metadata": {
    "collapsed": false
   },
   "outputs": [],
   "source": [
    "phones = pd.DataFrame.from_dict(Counter(phone_valid_vals), orient='index').reset_index()\n",
    "phones.columns = ['phone', 'counts']\n",
    "phones = phones.sort_values('counts', ascending = False)"
   ]
  },
  {
   "cell_type": "code",
   "execution_count": 80,
   "metadata": {
    "collapsed": false,
    "scrolled": true
   },
   "outputs": [
    {
     "name": "stdout",
     "output_type": "stream",
     "text": [
      "Phone numbers that are used for more than one businesses in this data set: 13237\n"
     ]
    }
   ],
   "source": [
    "duplicate_phones = phones[phones.counts > 1]\n",
    "print 'Phone numbers that are used for more than one businesses in this data set:', len( duplicate_phones)"
   ]
  },
  {
   "cell_type": "code",
   "execution_count": 81,
   "metadata": {
    "collapsed": true
   },
   "outputs": [],
   "source": [
    "df = pd.DataFrame.from_dict(data)"
   ]
  },
  {
   "cell_type": "code",
   "execution_count": 82,
   "metadata": {
    "collapsed": false
   },
   "outputs": [
    {
     "name": "stdout",
     "output_type": "stream",
     "text": [
      "address 88\n",
      "category_code 64\n",
      "city 82\n",
      "headcount 8\n",
      "name 88\n",
      "phone 1\n",
      "revenue 8\n",
      "state 30\n",
      "time_in_business 4\n",
      "zip 87\n"
     ]
    }
   ],
   "source": [
    "popular_phone = df[df.phone=='3037705531']\n",
    "for col in popular_phone.columns:\n",
    "    print col, len( popular_phone[col].unique())"
   ]
  },
  {
   "cell_type": "markdown",
   "metadata": {},
   "source": [
    "### II.9. Analysis of Address"
   ]
  },
  {
   "cell_type": "code",
   "execution_count": 83,
   "metadata": {
    "collapsed": false
   },
   "outputs": [],
   "source": [
    "#Counter ( row['address'] for row in data )"
   ]
  },
  {
   "cell_type": "code",
   "execution_count": 84,
   "metadata": {
    "collapsed": true
   },
   "outputs": [],
   "source": [
    "address_check = [None, 0, '', ' ', '0', 'none', 'null']"
   ]
  },
  {
   "cell_type": "code",
   "execution_count": 85,
   "metadata": {
    "collapsed": true
   },
   "outputs": [],
   "source": [
    "def address_true_fill_rate(check_list):\n",
    "    invalid_vals = []\n",
    "    valid_vals = []\n",
    "    for row in data:\n",
    "        if type(row['address']) != unicode or row['address'] in check_list:\n",
    "            invalid_vals.append(row['address'])\n",
    "        else:\n",
    "            try:\n",
    "                valid_vals.append(row['address'] + ', ' + row['city'] + ', ' + row['state'])\n",
    "            except:\n",
    "                valid_vals.append(row['address'])\n",
    "    return invalid_vals, valid_vals"
   ]
  },
  {
   "cell_type": "code",
   "execution_count": 86,
   "metadata": {
    "collapsed": false
   },
   "outputs": [],
   "source": [
    "address_invalid_vals, address_valid_vals = address_true_fill_rate(address_check)"
   ]
  },
  {
   "cell_type": "code",
   "execution_count": 87,
   "metadata": {
    "collapsed": true
   },
   "outputs": [],
   "source": [
    "address_valid_vals = [add.upper() for add in address_valid_vals]"
   ]
  },
  {
   "cell_type": "code",
   "execution_count": 88,
   "metadata": {
    "collapsed": false
   },
   "outputs": [
    {
     "name": "stdout",
     "output_type": "stream",
     "text": [
      "The total number of unique addresses is 921630\n"
     ]
    }
   ],
   "source": [
    "unique_vals['address'] = len(set(address_valid_vals))\n",
    "print 'The total number of unique addresses is', unique_vals['address']"
   ]
  },
  {
   "cell_type": "code",
   "execution_count": 89,
   "metadata": {
    "collapsed": false
   },
   "outputs": [
    {
     "name": "stdout",
     "output_type": "stream",
     "text": [
      "\n",
      "True fill rate for the Address field is 999898 (over 1000000 data point, which is 99.9898%), compared to the fill rate of 999973\n"
     ]
    }
   ],
   "source": [
    "true_fill_rate_dict['address'] = len(address_valid_vals)\n",
    "\n",
    "print '\\nTrue fill rate for the Address field is {} (over {} data point, which is {}%), \\\n",
    "compared to the fill rate of {}'.\\\n",
    "format(len(address_valid_vals), size, len(address_valid_vals)*100.0/size, fill_rate_dict['address'])"
   ]
  },
  {
   "cell_type": "code",
   "execution_count": 213,
   "metadata": {
    "collapsed": false
   },
   "outputs": [],
   "source": [
    "address = pd.DataFrame.from_dict(Counter(address_valid_vals), orient='index').reset_index()\n",
    "address.columns = ['address', 'counts']\n",
    "address = address.sort_values('counts', ascending = False)"
   ]
  },
  {
   "cell_type": "code",
   "execution_count": 285,
   "metadata": {
    "collapsed": false
   },
   "outputs": [
    {
     "data": {
      "text/html": [
       "<div>\n",
       "<table border=\"1\" class=\"dataframe\">\n",
       "  <thead>\n",
       "    <tr style=\"text-align: right;\">\n",
       "      <th></th>\n",
       "      <th>address</th>\n",
       "      <th>counts</th>\n",
       "    </tr>\n",
       "  </thead>\n",
       "  <tbody>\n",
       "    <tr>\n",
       "      <th>98331</th>\n",
       "      <td>1 S DEARBORN ST, CHICAGO, IL</td>\n",
       "      <td>75</td>\n",
       "    </tr>\n",
       "    <tr>\n",
       "      <th>507996</th>\n",
       "      <td>4 TIMES SQ, NEW YORK, NY</td>\n",
       "      <td>34</td>\n",
       "    </tr>\n",
       "    <tr>\n",
       "      <th>240999</th>\n",
       "      <td>1 JAMES CTR, RICHMOND, VA</td>\n",
       "      <td>27</td>\n",
       "    </tr>\n",
       "    <tr>\n",
       "      <th>358035</th>\n",
       "      <td>600 TRAVIS ST, HOUSTON, TX</td>\n",
       "      <td>25</td>\n",
       "    </tr>\n",
       "    <tr>\n",
       "      <th>334090</th>\n",
       "      <td>919 3RD AVE, NEW YORK, NY</td>\n",
       "      <td>25</td>\n",
       "    </tr>\n",
       "  </tbody>\n",
       "</table>\n",
       "</div>"
      ],
      "text/plain": [
       "                             address  counts\n",
       "98331   1 S DEARBORN ST, CHICAGO, IL      75\n",
       "507996      4 TIMES SQ, NEW YORK, NY      34\n",
       "240999     1 JAMES CTR, RICHMOND, VA      27\n",
       "358035    600 TRAVIS ST, HOUSTON, TX      25\n",
       "334090     919 3RD AVE, NEW YORK, NY      25"
      ]
     },
     "execution_count": 285,
     "metadata": {},
     "output_type": "execute_result"
    }
   ],
   "source": [
    "address.head()"
   ]
  },
  {
   "cell_type": "code",
   "execution_count": 226,
   "metadata": {
    "collapsed": false
   },
   "outputs": [
    {
     "name": "stdout",
     "output_type": "stream",
     "text": [
      "percent of businesses with unique addresses: 93.46 %\n"
     ]
    }
   ],
   "source": [
    "print 'percent of businesses with unique addresses:',\\\n",
    "round(len( address[address.counts ==1])*100.00 /len(address),2), '%'"
   ]
  },
  {
   "cell_type": "code",
   "execution_count": 281,
   "metadata": {
    "collapsed": false
   },
   "outputs": [
    {
     "data": {
      "text/html": [
       "\n",
       "\n",
       "    <div class=\"bk-root\">\n",
       "        <div class=\"bk-plotdiv\" id=\"aa8e005a-0ab6-4877-ba6e-cf5b951e8d37\"></div>\n",
       "    </div>\n",
       "<script type=\"text/javascript\">\n",
       "  \n",
       "  (function(global) {\n",
       "    function now() {\n",
       "      return new Date();\n",
       "    }\n",
       "  \n",
       "    var force = false;\n",
       "  \n",
       "    if (typeof (window._bokeh_onload_callbacks) === \"undefined\" || force === true) {\n",
       "      window._bokeh_onload_callbacks = [];\n",
       "      window._bokeh_is_loading = undefined;\n",
       "    }\n",
       "  \n",
       "  \n",
       "    \n",
       "    if (typeof (window._bokeh_timeout) === \"undefined\" || force === true) {\n",
       "      window._bokeh_timeout = Date.now() + 0;\n",
       "      window._bokeh_failed_load = false;\n",
       "    }\n",
       "  \n",
       "    var NB_LOAD_WARNING = {'data': {'text/html':\n",
       "       \"<div style='background-color: #fdd'>\\n\"+\n",
       "       \"<p>\\n\"+\n",
       "       \"BokehJS does not appear to have successfully loaded. If loading BokehJS from CDN, this \\n\"+\n",
       "       \"may be due to a slow or bad network connection. Possible fixes:\\n\"+\n",
       "       \"</p>\\n\"+\n",
       "       \"<ul>\\n\"+\n",
       "       \"<li>re-rerun `output_notebook()` to attempt to load from CDN again, or</li>\\n\"+\n",
       "       \"<li>use INLINE resources instead, as so:</li>\\n\"+\n",
       "       \"</ul>\\n\"+\n",
       "       \"<code>\\n\"+\n",
       "       \"from bokeh.resources import INLINE\\n\"+\n",
       "       \"output_notebook(resources=INLINE)\\n\"+\n",
       "       \"</code>\\n\"+\n",
       "       \"</div>\"}};\n",
       "  \n",
       "    function display_loaded() {\n",
       "      if (window.Bokeh !== undefined) {\n",
       "        document.getElementById(\"aa8e005a-0ab6-4877-ba6e-cf5b951e8d37\").textContent = \"BokehJS successfully loaded.\";\n",
       "      } else if (Date.now() < window._bokeh_timeout) {\n",
       "        setTimeout(display_loaded, 100)\n",
       "      }\n",
       "    }\n",
       "  \n",
       "    function run_callbacks() {\n",
       "      window._bokeh_onload_callbacks.forEach(function(callback) { callback() });\n",
       "      delete window._bokeh_onload_callbacks\n",
       "      console.info(\"Bokeh: all callbacks have finished\");\n",
       "    }\n",
       "  \n",
       "    function load_libs(js_urls, callback) {\n",
       "      window._bokeh_onload_callbacks.push(callback);\n",
       "      if (window._bokeh_is_loading > 0) {\n",
       "        console.log(\"Bokeh: BokehJS is being loaded, scheduling callback at\", now());\n",
       "        return null;\n",
       "      }\n",
       "      if (js_urls == null || js_urls.length === 0) {\n",
       "        run_callbacks();\n",
       "        return null;\n",
       "      }\n",
       "      console.log(\"Bokeh: BokehJS not loaded, scheduling load and callback at\", now());\n",
       "      window._bokeh_is_loading = js_urls.length;\n",
       "      for (var i = 0; i < js_urls.length; i++) {\n",
       "        var url = js_urls[i];\n",
       "        var s = document.createElement('script');\n",
       "        s.src = url;\n",
       "        s.async = false;\n",
       "        s.onreadystatechange = s.onload = function() {\n",
       "          window._bokeh_is_loading--;\n",
       "          if (window._bokeh_is_loading === 0) {\n",
       "            console.log(\"Bokeh: all BokehJS libraries loaded\");\n",
       "            run_callbacks()\n",
       "          }\n",
       "        };\n",
       "        s.onerror = function() {\n",
       "          console.warn(\"failed to load library \" + url);\n",
       "        };\n",
       "        console.log(\"Bokeh: injecting script tag for BokehJS library: \", url);\n",
       "        document.getElementsByTagName(\"head\")[0].appendChild(s);\n",
       "      }\n",
       "    };var element = document.getElementById(\"aa8e005a-0ab6-4877-ba6e-cf5b951e8d37\");\n",
       "    if (element == null) {\n",
       "      console.log(\"Bokeh: ERROR: autoload.js configured with elementid 'aa8e005a-0ab6-4877-ba6e-cf5b951e8d37' but no matching script tag was found. \")\n",
       "      return false;\n",
       "    }\n",
       "  \n",
       "    var js_urls = [];\n",
       "  \n",
       "    var inline_js = [\n",
       "      function(Bokeh) {\n",
       "        (function() {\n",
       "          var fn = function() {\n",
       "            var docs_json = {\"4f52cfc2-0ccd-4ac6-891a-4f1b8016418d\":{\"roots\":{\"references\":[{\"attributes\":{\"callback\":null,\"column_names\":[\"line_color\",\"line_alpha\",\"color\",\"fill_alpha\",\"height\",\"width\",\"y\",\"x\",\"label\"],\"data\":{\"address\":[\"75 FRANCIS ST, BOSTON, MA\"],\"chart_index\":[{\"address\":\"75 FRANCIS ST, BOSTON, MA\"}],\"color\":[\"green\"],\"fill_alpha\":[0.8],\"height\":[19.0],\"label\":[{\"address\":\"75 FRANCIS ST, BOSTON, MA\"}],\"line_alpha\":[1.0],\"line_color\":[\"white\"],\"width\":[0.8],\"x\":[\"75 FRANCIS ST, BOSTON, MA\"],\"y\":[9.5]}},\"id\":\"24181985-fb34-428b-8672-ddd7567d9e82\",\"type\":\"ColumnDataSource\"},{\"attributes\":{\"callback\":null,\"column_names\":[\"line_color\",\"line_alpha\",\"color\",\"fill_alpha\",\"height\",\"width\",\"y\",\"x\",\"label\"],\"data\":{\"address\":[\"600 TRAVIS ST, HOUSTON, TX\"],\"chart_index\":[{\"address\":\"600 TRAVIS ST, HOUSTON, TX\"}],\"color\":[\"green\"],\"fill_alpha\":[0.8],\"height\":[25.0],\"label\":[{\"address\":\"600 TRAVIS ST, HOUSTON, TX\"}],\"line_alpha\":[1.0],\"line_color\":[\"white\"],\"width\":[0.8],\"x\":[\"600 TRAVIS ST, HOUSTON, TX\"],\"y\":[12.5]}},\"id\":\"09318ba9-fdd8-463a-9738-2796805b8715\",\"type\":\"ColumnDataSource\"},{\"attributes\":{\"data_source\":{\"id\":\"8dc69d2f-c174-4fdd-a1a1-99450d3d5e6e\",\"type\":\"ColumnDataSource\"},\"glyph\":{\"id\":\"759bd5c9-ca5a-4d4b-80bf-e60f55869e68\",\"type\":\"Rect\"},\"hover_glyph\":null,\"nonselection_glyph\":null,\"selection_glyph\":null},\"id\":\"2f2280aa-92cf-4d9a-b341-cdef72ec3f8f\",\"type\":\"GlyphRenderer\"},{\"attributes\":{\"plot\":{\"id\":\"fce16b57-e403-42e1-8d38-3fe406c9c80d\",\"subtype\":\"Chart\",\"type\":\"Plot\"}},\"id\":\"124b4d77-aa65-49fc-978e-679d2a0b4c25\",\"type\":\"PanTool\"},{\"attributes\":{\"label\":{\"value\":\"190 CARONDELET PLZ, SAINT LOUIS, MO\"},\"renderers\":[{\"id\":\"0505ed0b-6834-46e9-8a4c-45aa0bd65707\",\"type\":\"GlyphRenderer\"}]},\"id\":\"06bd7bf1-891b-4d17-9b49-a59394228d8a\",\"type\":\"LegendItem\"},{\"attributes\":{\"callback\":null,\"column_names\":[\"line_color\",\"line_alpha\",\"color\",\"fill_alpha\",\"height\",\"width\",\"y\",\"x\",\"label\"],\"data\":{\"address\":[\"4 TIMES SQ, NEW YORK, NY\"],\"chart_index\":[{\"address\":\"4 TIMES SQ, NEW YORK, NY\"}],\"color\":[\"green\"],\"fill_alpha\":[0.8],\"height\":[34.0],\"label\":[{\"address\":\"4 TIMES SQ, NEW YORK, NY\"}],\"line_alpha\":[1.0],\"line_color\":[\"white\"],\"width\":[0.8],\"x\":[\"4 TIMES SQ, NEW YORK, NY\"],\"y\":[17.0]}},\"id\":\"c766c417-169c-41be-9031-d196e595b29b\",\"type\":\"ColumnDataSource\"},{\"attributes\":{\"fill_alpha\":{\"field\":\"fill_alpha\"},\"fill_color\":{\"field\":\"color\"},\"height\":{\"field\":\"height\",\"units\":\"data\"},\"line_color\":{\"field\":\"line_color\"},\"width\":{\"field\":\"width\",\"units\":\"data\"},\"x\":{\"field\":\"x\"},\"y\":{\"field\":\"y\"}},\"id\":\"a1233d48-1bae-455c-9a0f-885730a47e03\",\"type\":\"Rect\"},{\"attributes\":{\"callback\":null,\"column_names\":[\"line_color\",\"line_alpha\",\"color\",\"fill_alpha\",\"height\",\"width\",\"y\",\"x\",\"label\"],\"data\":{\"address\":[\"1301 MCKINNEY ST, HOUSTON, TX\"],\"chart_index\":[{\"address\":\"1301 MCKINNEY ST, HOUSTON, TX\"}],\"color\":[\"green\"],\"fill_alpha\":[0.8],\"height\":[21.0],\"label\":[{\"address\":\"1301 MCKINNEY ST, HOUSTON, TX\"}],\"line_alpha\":[1.0],\"line_color\":[\"white\"],\"width\":[0.8],\"x\":[\"1301 MCKINNEY ST, HOUSTON, TX\"],\"y\":[10.5]}},\"id\":\"8dc69d2f-c174-4fdd-a1a1-99450d3d5e6e\",\"type\":\"ColumnDataSource\"},{\"attributes\":{\"label\":{\"value\":\"11350 MCCORMICK RD, HUNT VALLEY, MD\"},\"renderers\":[{\"id\":\"73428aef-1d0c-4841-99b5-31c98224abe9\",\"type\":\"GlyphRenderer\"}]},\"id\":\"9f74b725-1946-4040-8c23-da44753a8587\",\"type\":\"LegendItem\"},{\"attributes\":{\"fill_alpha\":{\"field\":\"fill_alpha\"},\"fill_color\":{\"field\":\"color\"},\"height\":{\"field\":\"height\",\"units\":\"data\"},\"line_color\":{\"field\":\"line_color\"},\"width\":{\"field\":\"width\",\"units\":\"data\"},\"x\":{\"field\":\"x\"},\"y\":{\"field\":\"y\"}},\"id\":\"627fe6f1-9431-4271-adae-a419f7a65ab7\",\"type\":\"Rect\"},{\"attributes\":{\"plot\":{\"id\":\"fce16b57-e403-42e1-8d38-3fe406c9c80d\",\"subtype\":\"Chart\",\"type\":\"Plot\"}},\"id\":\"f5a04acc-868a-410e-81b1-63f34d60e6a0\",\"type\":\"ResetTool\"},{\"attributes\":{\"label\":{\"value\":\"200 PARK AVE, NEW YORK, NY\"},\"renderers\":[{\"id\":\"744bbae2-1e62-49d8-b1dd-7de9764489e5\",\"type\":\"GlyphRenderer\"}]},\"id\":\"7701482b-6538-4d7f-b603-9f15296d0004\",\"type\":\"LegendItem\"},{\"attributes\":{\"callback\":null,\"column_names\":[\"line_color\",\"line_alpha\",\"color\",\"fill_alpha\",\"height\",\"width\",\"y\",\"x\",\"label\"],\"data\":{\"address\":[\"11100 EUCLID AVE, CLEVELAND, OH\"],\"chart_index\":[{\"address\":\"11100 EUCLID AVE, CLEVELAND, OH\"}],\"color\":[\"green\"],\"fill_alpha\":[0.8],\"height\":[23.0],\"label\":[{\"address\":\"11100 EUCLID AVE, CLEVELAND, OH\"}],\"line_alpha\":[1.0],\"line_color\":[\"white\"],\"width\":[0.8],\"x\":[\"11100 EUCLID AVE, CLEVELAND, OH\"],\"y\":[11.5]}},\"id\":\"ea6cd614-a682-47b0-bc67-05b9360ff407\",\"type\":\"ColumnDataSource\"},{\"attributes\":{\"data_source\":{\"id\":\"1316360f-fdbf-4512-a5bf-901e1df722c0\",\"type\":\"ColumnDataSource\"},\"glyph\":{\"id\":\"627fe6f1-9431-4271-adae-a419f7a65ab7\",\"type\":\"Rect\"},\"hover_glyph\":null,\"nonselection_glyph\":null,\"selection_glyph\":null},\"id\":\"ea839916-0dd3-43f4-b4a9-21d52dddef1c\",\"type\":\"GlyphRenderer\"},{\"attributes\":{\"active_drag\":\"auto\",\"active_scroll\":\"auto\",\"active_tap\":\"auto\",\"tools\":[{\"id\":\"124b4d77-aa65-49fc-978e-679d2a0b4c25\",\"type\":\"PanTool\"},{\"id\":\"ae6f3673-e869-4b30-ab8e-e7c7b9746d1b\",\"type\":\"WheelZoomTool\"},{\"id\":\"9d15544e-8e94-46ad-abc5-d3bbd8ceef19\",\"type\":\"BoxZoomTool\"},{\"id\":\"283c3806-9790-4c89-be8d-0aa758db181b\",\"type\":\"SaveTool\"},{\"id\":\"f5a04acc-868a-410e-81b1-63f34d60e6a0\",\"type\":\"ResetTool\"},{\"id\":\"de53e7fb-8e79-4492-84c4-b20ac7ec8d62\",\"type\":\"HelpTool\"}]},\"id\":\"ae69028c-a207-4cce-b395-b12f9aa95538\",\"type\":\"Toolbar\"},{\"attributes\":{\"label\":{\"value\":\"55 LAKE AVE N, WORCESTER, MA\"},\"renderers\":[{\"id\":\"afa21a8f-846e-49c8-8fb2-9a12f4b5ae56\",\"type\":\"GlyphRenderer\"}]},\"id\":\"d61dc1ce-2166-44d1-8480-4fd0351e6aff\",\"type\":\"LegendItem\"},{\"attributes\":{\"label\":{\"value\":\"2050 N STEMMONS FWY, DALLAS, TX\"},\"renderers\":[{\"id\":\"0a7ab817-b19a-4b20-a149-40237f735971\",\"type\":\"GlyphRenderer\"}]},\"id\":\"c2c8a656-1e33-44d7-9961-1199ab225888\",\"type\":\"LegendItem\"},{\"attributes\":{\"callback\":null,\"column_names\":[\"line_color\",\"line_alpha\",\"color\",\"fill_alpha\",\"height\",\"width\",\"y\",\"x\",\"label\"],\"data\":{\"address\":[\"127 PUBLIC SQ, CLEVELAND, OH\"],\"chart_index\":[{\"address\":\"127 PUBLIC SQ, CLEVELAND, OH\"}],\"color\":[\"green\"],\"fill_alpha\":[0.8],\"height\":[19.0],\"label\":[{\"address\":\"127 PUBLIC SQ, CLEVELAND, OH\"}],\"line_alpha\":[1.0],\"line_color\":[\"white\"],\"width\":[0.8],\"x\":[\"127 PUBLIC SQ, CLEVELAND, OH\"],\"y\":[9.5]}},\"id\":\"2ef20cd6-2f98-4bb4-b7e9-2b4d487d7433\",\"type\":\"ColumnDataSource\"},{\"attributes\":{\"plot\":null,\"text\":\"Locations with Most Counts of Businesses from the Data Set\"},\"id\":\"c054204a-4f0a-42b6-b65c-10daedc84382\",\"type\":\"Title\"},{\"attributes\":{\"fill_alpha\":{\"field\":\"fill_alpha\"},\"fill_color\":{\"field\":\"color\"},\"height\":{\"field\":\"height\",\"units\":\"data\"},\"line_color\":{\"field\":\"line_color\"},\"width\":{\"field\":\"width\",\"units\":\"data\"},\"x\":{\"field\":\"x\"},\"y\":{\"field\":\"y\"}},\"id\":\"c9791486-533f-4ff6-84ce-8e93a1310822\",\"type\":\"Rect\"},{\"attributes\":{\"fill_alpha\":{\"field\":\"fill_alpha\"},\"fill_color\":{\"field\":\"color\"},\"height\":{\"field\":\"height\",\"units\":\"data\"},\"line_color\":{\"field\":\"line_color\"},\"width\":{\"field\":\"width\",\"units\":\"data\"},\"x\":{\"field\":\"x\"},\"y\":{\"field\":\"y\"}},\"id\":\"62bbafe8-9cd8-4cfb-9abd-d2ed8eb354fb\",\"type\":\"Rect\"},{\"attributes\":{\"data_source\":{\"id\":\"f9df659c-fe5c-4e1e-bf78-49dfd0171faa\",\"type\":\"ColumnDataSource\"},\"glyph\":{\"id\":\"55d723c5-20a1-4442-a4bf-2d9ed4616d32\",\"type\":\"Rect\"},\"hover_glyph\":null,\"nonselection_glyph\":null,\"selection_glyph\":null},\"id\":\"0505ed0b-6834-46e9-8a4c-45aa0bd65707\",\"type\":\"GlyphRenderer\"},{\"attributes\":{\"fill_alpha\":{\"field\":\"fill_alpha\"},\"fill_color\":{\"field\":\"color\"},\"height\":{\"field\":\"height\",\"units\":\"data\"},\"line_color\":{\"field\":\"line_color\"},\"width\":{\"field\":\"width\",\"units\":\"data\"},\"x\":{\"field\":\"x\"},\"y\":{\"field\":\"y\"}},\"id\":\"55d723c5-20a1-4442-a4bf-2d9ed4616d32\",\"type\":\"Rect\"},{\"attributes\":{\"axis_label\":\"Business Locations\",\"formatter\":{\"id\":\"8860ae90-18ad-4206-bfbf-fa8b4031b6eb\",\"type\":\"CategoricalTickFormatter\"},\"major_label_orientation\":1.2566370614359172,\"plot\":{\"id\":\"fce16b57-e403-42e1-8d38-3fe406c9c80d\",\"subtype\":\"Chart\",\"type\":\"Plot\"},\"ticker\":{\"id\":\"0ea84dc1-f506-4592-9bc6-d624c267cb19\",\"type\":\"CategoricalTicker\"}},\"id\":\"d34e08c2-1793-439c-a928-7439f01e3692\",\"type\":\"CategoricalAxis\"},{\"attributes\":{\"callback\":null,\"factors\":[\"1 S DEARBORN ST, CHICAGO, IL\",\"4 TIMES SQ, NEW YORK, NY\",\"1 JAMES CTR, RICHMOND, VA\",\"600 TRAVIS ST, HOUSTON, TX\",\"919 3RD AVE, NEW YORK, NY\",\"11 S MERIDIAN ST, INDIANAPOLIS, IN\",\"11100 EUCLID AVE, CLEVELAND, OH\",\"55 LAKE AVE N, WORCESTER, MA\",\"420 LEXINGTON AVE, NEW YORK, NY\",\"1301 MCKINNEY ST, HOUSTON, TX\",\"190 CARONDELET PLZ, SAINT LOUIS, MO\",\"127 PUBLIC SQ, CLEVELAND, OH\",\"75 FRANCIS ST, BOSTON, MA\",\"4400 UNIVERSITY DR, FAIRFAX, VA\",\"11350 MCCORMICK RD, HUNT VALLEY, MD\",\"1320 MAIN ST, COLUMBIA, SC\",\"450 FASHION AVE, NEW YORK, NY\",\"1 S DEARBORN ST STE 900, CHICAGO, IL\",\"200 PARK AVE, NEW YORK, NY\",\"2050 N STEMMONS FWY, DALLAS, TX\"]},\"id\":\"c15e5b55-a449-408b-8578-e52af22412dc\",\"type\":\"FactorRange\"},{\"attributes\":{\"fill_alpha\":{\"field\":\"fill_alpha\"},\"fill_color\":{\"field\":\"color\"},\"height\":{\"field\":\"height\",\"units\":\"data\"},\"line_color\":{\"field\":\"line_color\"},\"width\":{\"field\":\"width\",\"units\":\"data\"},\"x\":{\"field\":\"x\"},\"y\":{\"field\":\"y\"}},\"id\":\"c44bba21-b780-45ed-a17a-cbb9cedaf5c3\",\"type\":\"Rect\"},{\"attributes\":{\"callback\":null,\"column_names\":[\"line_color\",\"line_alpha\",\"color\",\"fill_alpha\",\"height\",\"width\",\"y\",\"x\",\"label\"],\"data\":{\"address\":[\"450 FASHION AVE, NEW YORK, NY\"],\"chart_index\":[{\"address\":\"450 FASHION AVE, NEW YORK, NY\"}],\"color\":[\"green\"],\"fill_alpha\":[0.8],\"height\":[18.0],\"label\":[{\"address\":\"450 FASHION AVE, NEW YORK, NY\"}],\"line_alpha\":[1.0],\"line_color\":[\"white\"],\"width\":[0.8],\"x\":[\"450 FASHION AVE, NEW YORK, NY\"],\"y\":[9.0]}},\"id\":\"f99fdcc8-612e-41eb-bfe0-01fc5ded669c\",\"type\":\"ColumnDataSource\"},{\"attributes\":{\"axis_label\":\"Counts\",\"formatter\":{\"id\":\"c5b882b6-4fb0-4628-a3ca-33fbd45b57d1\",\"type\":\"BasicTickFormatter\"},\"minor_tick_line_color\":{\"value\":null},\"plot\":{\"id\":\"fce16b57-e403-42e1-8d38-3fe406c9c80d\",\"subtype\":\"Chart\",\"type\":\"Plot\"},\"ticker\":{\"id\":\"6bb87868-8ff6-462f-92d2-2b1c1571c1cf\",\"type\":\"BasicTicker\"}},\"id\":\"03c12e05-7acb-4e2a-8702-34a0a924afb3\",\"type\":\"LinearAxis\"},{\"attributes\":{\"label\":{\"value\":\"1 JAMES CTR, RICHMOND, VA\"},\"renderers\":[{\"id\":\"b0bc1044-3825-4549-bf0f-701ea246ce5d\",\"type\":\"GlyphRenderer\"}]},\"id\":\"611c1906-2d94-44bc-8804-e65d4aaa8b7a\",\"type\":\"LegendItem\"},{\"attributes\":{\"data_source\":{\"id\":\"8b826087-0209-4c5b-8b34-cfd28747e950\",\"type\":\"ColumnDataSource\"},\"glyph\":{\"id\":\"c44bba21-b780-45ed-a17a-cbb9cedaf5c3\",\"type\":\"Rect\"},\"hover_glyph\":null,\"nonselection_glyph\":null,\"selection_glyph\":null},\"id\":\"54ec21f0-0cae-4cd6-a28a-7c204f46f381\",\"type\":\"GlyphRenderer\"},{\"attributes\":{\"label\":{\"value\":\"4400 UNIVERSITY DR, FAIRFAX, VA\"},\"renderers\":[{\"id\":\"ea839916-0dd3-43f4-b4a9-21d52dddef1c\",\"type\":\"GlyphRenderer\"}]},\"id\":\"96e8b656-0b68-4288-b02c-43f661243f38\",\"type\":\"LegendItem\"},{\"attributes\":{\"callback\":null,\"column_names\":[\"line_color\",\"line_alpha\",\"color\",\"fill_alpha\",\"height\",\"width\",\"y\",\"x\",\"label\"],\"data\":{\"address\":[\"1 JAMES CTR, RICHMOND, VA\"],\"chart_index\":[{\"address\":\"1 JAMES CTR, RICHMOND, VA\"}],\"color\":[\"green\"],\"fill_alpha\":[0.8],\"height\":[27.0],\"label\":[{\"address\":\"1 JAMES CTR, RICHMOND, VA\"}],\"line_alpha\":[1.0],\"line_color\":[\"white\"],\"width\":[0.8],\"x\":[\"1 JAMES CTR, RICHMOND, VA\"],\"y\":[13.5]}},\"id\":\"86962234-58b4-4482-b77a-c4e985fa566a\",\"type\":\"ColumnDataSource\"},{\"attributes\":{\"callback\":null,\"column_names\":[\"line_color\",\"line_alpha\",\"color\",\"fill_alpha\",\"height\",\"width\",\"y\",\"x\",\"label\"],\"data\":{\"address\":[\"55 LAKE AVE N, WORCESTER, MA\"],\"chart_index\":[{\"address\":\"55 LAKE AVE N, WORCESTER, MA\"}],\"color\":[\"green\"],\"fill_alpha\":[0.8],\"height\":[23.0],\"label\":[{\"address\":\"55 LAKE AVE N, WORCESTER, MA\"}],\"line_alpha\":[1.0],\"line_color\":[\"white\"],\"width\":[0.8],\"x\":[\"55 LAKE AVE N, WORCESTER, MA\"],\"y\":[11.5]}},\"id\":\"2d64c20a-8e87-44c5-a593-778f222e748f\",\"type\":\"ColumnDataSource\"},{\"attributes\":{\"fill_alpha\":{\"field\":\"fill_alpha\"},\"fill_color\":{\"field\":\"color\"},\"height\":{\"field\":\"height\",\"units\":\"data\"},\"line_color\":{\"field\":\"line_color\"},\"width\":{\"field\":\"width\",\"units\":\"data\"},\"x\":{\"field\":\"x\"},\"y\":{\"field\":\"y\"}},\"id\":\"ace26a25-6bfc-4f16-a48f-39cfd5564740\",\"type\":\"Rect\"},{\"attributes\":{\"data_source\":{\"id\":\"2ef20cd6-2f98-4bb4-b7e9-2b4d487d7433\",\"type\":\"ColumnDataSource\"},\"glyph\":{\"id\":\"d34a2ba1-9740-427b-9045-0521545fce38\",\"type\":\"Rect\"},\"hover_glyph\":null,\"nonselection_glyph\":null,\"selection_glyph\":null},\"id\":\"e7ec5e5e-2f3e-49c6-b293-34383ec80e80\",\"type\":\"GlyphRenderer\"},{\"attributes\":{\"data_source\":{\"id\":\"1653643e-994d-4cb1-a0e1-38d2750e369d\",\"type\":\"ColumnDataSource\"},\"glyph\":{\"id\":\"641529d8-5872-4693-8cb2-b83d5867aa42\",\"type\":\"Rect\"},\"hover_glyph\":null,\"nonselection_glyph\":null,\"selection_glyph\":null},\"id\":\"0a7ab817-b19a-4b20-a149-40237f735971\",\"type\":\"GlyphRenderer\"},{\"attributes\":{\"data_source\":{\"id\":\"09318ba9-fdd8-463a-9738-2796805b8715\",\"type\":\"ColumnDataSource\"},\"glyph\":{\"id\":\"8eee61b7-1fb6-422e-9d86-f6e8abb87ce0\",\"type\":\"Rect\"},\"hover_glyph\":null,\"nonselection_glyph\":null,\"selection_glyph\":null},\"id\":\"a1d804ba-ae45-41ae-a278-da8ba2af3ec8\",\"type\":\"GlyphRenderer\"},{\"attributes\":{\"label\":{\"value\":\"4 TIMES SQ, NEW YORK, NY\"},\"renderers\":[{\"id\":\"d75f36c9-b049-4765-9af5-3a84edbe7a21\",\"type\":\"GlyphRenderer\"}]},\"id\":\"b5d01408-f0ab-4126-9aab-df4e1ed38b31\",\"type\":\"LegendItem\"},{\"attributes\":{\"label\":{\"value\":\"600 TRAVIS ST, HOUSTON, TX\"},\"renderers\":[{\"id\":\"a1d804ba-ae45-41ae-a278-da8ba2af3ec8\",\"type\":\"GlyphRenderer\"}]},\"id\":\"f45b9915-deae-4d43-8a8c-1715fa69178f\",\"type\":\"LegendItem\"},{\"attributes\":{\"data_source\":{\"id\":\"048eca12-e02b-4f17-bcdb-a8e73ba51721\",\"type\":\"ColumnDataSource\"},\"glyph\":{\"id\":\"9a27c1ab-9143-4cac-8c82-5a53632677a6\",\"type\":\"Rect\"},\"hover_glyph\":null,\"nonselection_glyph\":null,\"selection_glyph\":null},\"id\":\"c9d95b62-0627-4f94-a8ff-e7ce8373291e\",\"type\":\"GlyphRenderer\"},{\"attributes\":{\"callback\":null,\"column_names\":[\"line_color\",\"line_alpha\",\"color\",\"fill_alpha\",\"height\",\"width\",\"y\",\"x\",\"label\"],\"data\":{\"address\":[\"420 LEXINGTON AVE, NEW YORK, NY\"],\"chart_index\":[{\"address\":\"420 LEXINGTON AVE, NEW YORK, NY\"}],\"color\":[\"green\"],\"fill_alpha\":[0.8],\"height\":[22.0],\"label\":[{\"address\":\"420 LEXINGTON AVE, NEW YORK, NY\"}],\"line_alpha\":[1.0],\"line_color\":[\"white\"],\"width\":[0.8],\"x\":[\"420 LEXINGTON AVE, NEW YORK, NY\"],\"y\":[11.0]}},\"id\":\"7eec4073-3834-4cea-a5de-27bb15956886\",\"type\":\"ColumnDataSource\"},{\"attributes\":{\"callback\":null,\"column_names\":[\"line_color\",\"line_alpha\",\"color\",\"fill_alpha\",\"height\",\"width\",\"y\",\"x\",\"label\"],\"data\":{\"address\":[\"200 PARK AVE, NEW YORK, NY\"],\"chart_index\":[{\"address\":\"200 PARK AVE, NEW YORK, NY\"}],\"color\":[\"green\"],\"fill_alpha\":[0.8],\"height\":[18.0],\"label\":[{\"address\":\"200 PARK AVE, NEW YORK, NY\"}],\"line_alpha\":[1.0],\"line_color\":[\"white\"],\"width\":[0.8],\"x\":[\"200 PARK AVE, NEW YORK, NY\"],\"y\":[9.0]}},\"id\":\"c4488855-f9da-4eac-9fe9-c83e7abb2acf\",\"type\":\"ColumnDataSource\"},{\"attributes\":{\"fill_alpha\":{\"field\":\"fill_alpha\"},\"fill_color\":{\"field\":\"color\"},\"height\":{\"field\":\"height\",\"units\":\"data\"},\"line_color\":{\"field\":\"line_color\"},\"width\":{\"field\":\"width\",\"units\":\"data\"},\"x\":{\"field\":\"x\"},\"y\":{\"field\":\"y\"}},\"id\":\"641529d8-5872-4693-8cb2-b83d5867aa42\",\"type\":\"Rect\"},{\"attributes\":{\"callback\":null,\"column_names\":[\"line_color\",\"line_alpha\",\"color\",\"fill_alpha\",\"height\",\"width\",\"y\",\"x\",\"label\"],\"data\":{\"address\":[\"11 S MERIDIAN ST, INDIANAPOLIS, IN\"],\"chart_index\":[{\"address\":\"11 S MERIDIAN ST, INDIANAPOLIS, IN\"}],\"color\":[\"green\"],\"fill_alpha\":[0.8],\"height\":[24.0],\"label\":[{\"address\":\"11 S MERIDIAN ST, INDIANAPOLIS, IN\"}],\"line_alpha\":[1.0],\"line_color\":[\"white\"],\"width\":[0.8],\"x\":[\"11 S MERIDIAN ST, INDIANAPOLIS, IN\"],\"y\":[12.0]}},\"id\":\"233029e5-7a8b-4a76-a115-9d377cc88722\",\"type\":\"ColumnDataSource\"},{\"attributes\":{\"label\":{\"value\":\"1301 MCKINNEY ST, HOUSTON, TX\"},\"renderers\":[{\"id\":\"2f2280aa-92cf-4d9a-b341-cdef72ec3f8f\",\"type\":\"GlyphRenderer\"}]},\"id\":\"518b2966-64db-45c0-84df-50b52d49ce6a\",\"type\":\"LegendItem\"},{\"attributes\":{\"plot\":{\"id\":\"fce16b57-e403-42e1-8d38-3fe406c9c80d\",\"subtype\":\"Chart\",\"type\":\"Plot\"}},\"id\":\"ae6f3673-e869-4b30-ab8e-e7c7b9746d1b\",\"type\":\"WheelZoomTool\"},{\"attributes\":{\"fill_alpha\":{\"field\":\"fill_alpha\"},\"fill_color\":{\"field\":\"color\"},\"height\":{\"field\":\"height\",\"units\":\"data\"},\"line_color\":{\"field\":\"line_color\"},\"width\":{\"field\":\"width\",\"units\":\"data\"},\"x\":{\"field\":\"x\"},\"y\":{\"field\":\"y\"}},\"id\":\"f400b49f-8b6f-4663-9dba-ee00648fae2d\",\"type\":\"Rect\"},{\"attributes\":{\"fill_alpha\":{\"field\":\"fill_alpha\"},\"fill_color\":{\"field\":\"color\"},\"height\":{\"field\":\"height\",\"units\":\"data\"},\"line_color\":{\"field\":\"line_color\"},\"width\":{\"field\":\"width\",\"units\":\"data\"},\"x\":{\"field\":\"x\"},\"y\":{\"field\":\"y\"}},\"id\":\"c33cc217-5f6a-4f1d-859b-805dacac402d\",\"type\":\"Rect\"},{\"attributes\":{\"fill_alpha\":{\"field\":\"fill_alpha\"},\"fill_color\":{\"field\":\"color\"},\"height\":{\"field\":\"height\",\"units\":\"data\"},\"line_color\":{\"field\":\"line_color\"},\"width\":{\"field\":\"width\",\"units\":\"data\"},\"x\":{\"field\":\"x\"},\"y\":{\"field\":\"y\"}},\"id\":\"d34a2ba1-9740-427b-9045-0521545fce38\",\"type\":\"Rect\"},{\"attributes\":{\"data_source\":{\"id\":\"c4488855-f9da-4eac-9fe9-c83e7abb2acf\",\"type\":\"ColumnDataSource\"},\"glyph\":{\"id\":\"62bbafe8-9cd8-4cfb-9abd-d2ed8eb354fb\",\"type\":\"Rect\"},\"hover_glyph\":null,\"nonselection_glyph\":null,\"selection_glyph\":null},\"id\":\"744bbae2-1e62-49d8-b1dd-7de9764489e5\",\"type\":\"GlyphRenderer\"},{\"attributes\":{\"callback\":null,\"column_names\":[\"line_color\",\"line_alpha\",\"color\",\"fill_alpha\",\"height\",\"width\",\"y\",\"x\",\"label\"],\"data\":{\"address\":[\"1320 MAIN ST, COLUMBIA, SC\"],\"chart_index\":[{\"address\":\"1320 MAIN ST, COLUMBIA, SC\"}],\"color\":[\"green\"],\"fill_alpha\":[0.8],\"height\":[18.0],\"label\":[{\"address\":\"1320 MAIN ST, COLUMBIA, SC\"}],\"line_alpha\":[1.0],\"line_color\":[\"white\"],\"width\":[0.8],\"x\":[\"1320 MAIN ST, COLUMBIA, SC\"],\"y\":[9.0]}},\"id\":\"860b14e4-a6ec-44aa-b525-afc63d0b571e\",\"type\":\"ColumnDataSource\"},{\"attributes\":{\"data_source\":{\"id\":\"f99fdcc8-612e-41eb-bfe0-01fc5ded669c\",\"type\":\"ColumnDataSource\"},\"glyph\":{\"id\":\"b1246abe-d30d-42b6-b50c-f3cc7ed7942b\",\"type\":\"Rect\"},\"hover_glyph\":null,\"nonselection_glyph\":null,\"selection_glyph\":null},\"id\":\"3c51fb83-1bda-42fc-b3ff-34d71fde1055\",\"type\":\"GlyphRenderer\"},{\"attributes\":{\"label\":{\"value\":\"11100 EUCLID AVE, CLEVELAND, OH\"},\"renderers\":[{\"id\":\"1790df6a-d7c7-4017-b8d8-bdf0940472a2\",\"type\":\"GlyphRenderer\"}]},\"id\":\"1a88ecac-68e0-4bbf-b28e-d4ac7e710fa3\",\"type\":\"LegendItem\"},{\"attributes\":{\"plot\":{\"id\":\"fce16b57-e403-42e1-8d38-3fe406c9c80d\",\"subtype\":\"Chart\",\"type\":\"Plot\"}},\"id\":\"283c3806-9790-4c89-be8d-0aa758db181b\",\"type\":\"SaveTool\"},{\"attributes\":{\"label\":{\"value\":\"420 LEXINGTON AVE, NEW YORK, NY\"},\"renderers\":[{\"id\":\"7849eb68-13c0-4841-b1e4-355b733211f8\",\"type\":\"GlyphRenderer\"}]},\"id\":\"1883a47e-8135-4937-a00e-a7024d4acd2e\",\"type\":\"LegendItem\"},{\"attributes\":{\"data_source\":{\"id\":\"7eec4073-3834-4cea-a5de-27bb15956886\",\"type\":\"ColumnDataSource\"},\"glyph\":{\"id\":\"2e867838-db7b-43a7-b880-9d202d6a1a9a\",\"type\":\"Rect\"},\"hover_glyph\":null,\"nonselection_glyph\":null,\"selection_glyph\":null},\"id\":\"7849eb68-13c0-4841-b1e4-355b733211f8\",\"type\":\"GlyphRenderer\"},{\"attributes\":{\"data_source\":{\"id\":\"ea6cd614-a682-47b0-bc67-05b9360ff407\",\"type\":\"ColumnDataSource\"},\"glyph\":{\"id\":\"75f2a5bb-0061-446f-9f91-70b452dcf70f\",\"type\":\"Rect\"},\"hover_glyph\":null,\"nonselection_glyph\":null,\"selection_glyph\":null},\"id\":\"1790df6a-d7c7-4017-b8d8-bdf0940472a2\",\"type\":\"GlyphRenderer\"},{\"attributes\":{\"fill_alpha\":{\"field\":\"fill_alpha\"},\"fill_color\":{\"field\":\"color\"},\"height\":{\"field\":\"height\",\"units\":\"data\"},\"line_color\":{\"field\":\"line_color\"},\"width\":{\"field\":\"width\",\"units\":\"data\"},\"x\":{\"field\":\"x\"},\"y\":{\"field\":\"y\"}},\"id\":\"2e867838-db7b-43a7-b880-9d202d6a1a9a\",\"type\":\"Rect\"},{\"attributes\":{\"label\":{\"value\":\"1320 MAIN ST, COLUMBIA, SC\"},\"renderers\":[{\"id\":\"0c72cf24-7763-44a8-b73a-6782c9dffa5f\",\"type\":\"GlyphRenderer\"}]},\"id\":\"4eb58a0c-3507-4e6e-8b6a-8248f2dc27f2\",\"type\":\"LegendItem\"},{\"attributes\":{},\"id\":\"6bb87868-8ff6-462f-92d2-2b1c1571c1cf\",\"type\":\"BasicTicker\"},{\"attributes\":{\"label\":{\"value\":\"75 FRANCIS ST, BOSTON, MA\"},\"renderers\":[{\"id\":\"69ace33b-b437-496e-afbe-d5715316a0ee\",\"type\":\"GlyphRenderer\"}]},\"id\":\"afd722ae-bd20-4d2e-a5cf-6d0855fd2640\",\"type\":\"LegendItem\"},{\"attributes\":{\"fill_alpha\":{\"field\":\"fill_alpha\"},\"fill_color\":{\"field\":\"color\"},\"height\":{\"field\":\"height\",\"units\":\"data\"},\"line_color\":{\"field\":\"line_color\"},\"width\":{\"field\":\"width\",\"units\":\"data\"},\"x\":{\"field\":\"x\"},\"y\":{\"field\":\"y\"}},\"id\":\"9e41f31d-4288-438d-8356-6839a1f7a680\",\"type\":\"Rect\"},{\"attributes\":{\"data_source\":{\"id\":\"860b14e4-a6ec-44aa-b525-afc63d0b571e\",\"type\":\"ColumnDataSource\"},\"glyph\":{\"id\":\"c33cc217-5f6a-4f1d-859b-805dacac402d\",\"type\":\"Rect\"},\"hover_glyph\":null,\"nonselection_glyph\":null,\"selection_glyph\":null},\"id\":\"0c72cf24-7763-44a8-b73a-6782c9dffa5f\",\"type\":\"GlyphRenderer\"},{\"attributes\":{\"items\":[{\"id\":\"20681594-c4de-4860-97e7-d8f0530d0427\",\"type\":\"LegendItem\"},{\"id\":\"b5d01408-f0ab-4126-9aab-df4e1ed38b31\",\"type\":\"LegendItem\"},{\"id\":\"611c1906-2d94-44bc-8804-e65d4aaa8b7a\",\"type\":\"LegendItem\"},{\"id\":\"f45b9915-deae-4d43-8a8c-1715fa69178f\",\"type\":\"LegendItem\"},{\"id\":\"59e56fd0-4990-4d6d-9830-dd60f1096ed3\",\"type\":\"LegendItem\"},{\"id\":\"9a56624e-3039-4c95-8585-de9dbada7133\",\"type\":\"LegendItem\"},{\"id\":\"1a88ecac-68e0-4bbf-b28e-d4ac7e710fa3\",\"type\":\"LegendItem\"},{\"id\":\"d61dc1ce-2166-44d1-8480-4fd0351e6aff\",\"type\":\"LegendItem\"},{\"id\":\"1883a47e-8135-4937-a00e-a7024d4acd2e\",\"type\":\"LegendItem\"},{\"id\":\"518b2966-64db-45c0-84df-50b52d49ce6a\",\"type\":\"LegendItem\"},{\"id\":\"06bd7bf1-891b-4d17-9b49-a59394228d8a\",\"type\":\"LegendItem\"},{\"id\":\"0b5f547f-8d16-4aae-823e-eaf04e664421\",\"type\":\"LegendItem\"},{\"id\":\"afd722ae-bd20-4d2e-a5cf-6d0855fd2640\",\"type\":\"LegendItem\"},{\"id\":\"96e8b656-0b68-4288-b02c-43f661243f38\",\"type\":\"LegendItem\"},{\"id\":\"9f74b725-1946-4040-8c23-da44753a8587\",\"type\":\"LegendItem\"},{\"id\":\"4eb58a0c-3507-4e6e-8b6a-8248f2dc27f2\",\"type\":\"LegendItem\"},{\"id\":\"5bab816d-3220-49bc-8b7f-e84cc506e244\",\"type\":\"LegendItem\"},{\"id\":\"a16815e3-709c-4ee3-84e4-67b61606d1a1\",\"type\":\"LegendItem\"},{\"id\":\"7701482b-6538-4d7f-b603-9f15296d0004\",\"type\":\"LegendItem\"},{\"id\":\"c2c8a656-1e33-44d7-9961-1199ab225888\",\"type\":\"LegendItem\"}],\"location\":null,\"plot\":{\"id\":\"fce16b57-e403-42e1-8d38-3fe406c9c80d\",\"subtype\":\"Chart\",\"type\":\"Plot\"}},\"id\":\"3e862bfb-d16b-46dd-a5de-f674ab4717f4\",\"type\":\"Legend\"},{\"attributes\":{\"callback\":null,\"column_names\":[\"line_color\",\"line_alpha\",\"color\",\"fill_alpha\",\"height\",\"width\",\"y\",\"x\",\"label\"],\"data\":{\"address\":[\"919 3RD AVE, NEW YORK, NY\"],\"chart_index\":[{\"address\":\"919 3RD AVE, NEW YORK, NY\"}],\"color\":[\"green\"],\"fill_alpha\":[0.8],\"height\":[25.0],\"label\":[{\"address\":\"919 3RD AVE, NEW YORK, NY\"}],\"line_alpha\":[1.0],\"line_color\":[\"white\"],\"width\":[0.8],\"x\":[\"919 3RD AVE, NEW YORK, NY\"],\"y\":[12.5]}},\"id\":\"048eca12-e02b-4f17-bcdb-a8e73ba51721\",\"type\":\"ColumnDataSource\"},{\"attributes\":{\"fill_alpha\":{\"field\":\"fill_alpha\"},\"fill_color\":{\"field\":\"color\"},\"height\":{\"field\":\"height\",\"units\":\"data\"},\"line_color\":{\"field\":\"line_color\"},\"width\":{\"field\":\"width\",\"units\":\"data\"},\"x\":{\"field\":\"x\"},\"y\":{\"field\":\"y\"}},\"id\":\"9ca02990-d757-4e41-b118-7d2e04df1086\",\"type\":\"Rect\"},{\"attributes\":{\"label\":{\"value\":\"1 S DEARBORN ST STE 900, CHICAGO, IL\"},\"renderers\":[{\"id\":\"0d774222-6e86-4374-bcef-f93c0e817dea\",\"type\":\"GlyphRenderer\"}]},\"id\":\"a16815e3-709c-4ee3-84e4-67b61606d1a1\",\"type\":\"LegendItem\"},{\"attributes\":{\"fill_alpha\":{\"field\":\"fill_alpha\"},\"fill_color\":{\"field\":\"color\"},\"height\":{\"field\":\"height\",\"units\":\"data\"},\"line_color\":{\"field\":\"line_color\"},\"width\":{\"field\":\"width\",\"units\":\"data\"},\"x\":{\"field\":\"x\"},\"y\":{\"field\":\"y\"}},\"id\":\"8eee61b7-1fb6-422e-9d86-f6e8abb87ce0\",\"type\":\"Rect\"},{\"attributes\":{\"data_source\":{\"id\":\"7a546715-b9e2-462c-9dd0-cd26c165cec5\",\"type\":\"ColumnDataSource\"},\"glyph\":{\"id\":\"ace26a25-6bfc-4f16-a48f-39cfd5564740\",\"type\":\"Rect\"},\"hover_glyph\":null,\"nonselection_glyph\":null,\"selection_glyph\":null},\"id\":\"73428aef-1d0c-4841-99b5-31c98224abe9\",\"type\":\"GlyphRenderer\"},{\"attributes\":{\"label\":{\"value\":\"11 S MERIDIAN ST, INDIANAPOLIS, IN\"},\"renderers\":[{\"id\":\"ff9ddd8f-d6c3-450c-b33d-86c6ce53b29a\",\"type\":\"GlyphRenderer\"}]},\"id\":\"9a56624e-3039-4c95-8585-de9dbada7133\",\"type\":\"LegendItem\"},{\"attributes\":{\"data_source\":{\"id\":\"24181985-fb34-428b-8672-ddd7567d9e82\",\"type\":\"ColumnDataSource\"},\"glyph\":{\"id\":\"9ca02990-d757-4e41-b118-7d2e04df1086\",\"type\":\"Rect\"},\"hover_glyph\":null,\"nonselection_glyph\":null,\"selection_glyph\":null},\"id\":\"69ace33b-b437-496e-afbe-d5715316a0ee\",\"type\":\"GlyphRenderer\"},{\"attributes\":{},\"id\":\"8860ae90-18ad-4206-bfbf-fa8b4031b6eb\",\"type\":\"CategoricalTickFormatter\"},{\"attributes\":{\"below\":[{\"id\":\"d34e08c2-1793-439c-a928-7439f01e3692\",\"type\":\"CategoricalAxis\"}],\"css_classes\":null,\"left\":[{\"id\":\"03c12e05-7acb-4e2a-8702-34a0a924afb3\",\"type\":\"LinearAxis\"}],\"plot_height\":500,\"plot_width\":700,\"renderers\":[{\"id\":\"2d6768ab-59da-4571-9924-672e4a0ed7b0\",\"type\":\"BoxAnnotation\"},{\"id\":\"54ec21f0-0cae-4cd6-a28a-7c204f46f381\",\"type\":\"GlyphRenderer\"},{\"id\":\"d75f36c9-b049-4765-9af5-3a84edbe7a21\",\"type\":\"GlyphRenderer\"},{\"id\":\"b0bc1044-3825-4549-bf0f-701ea246ce5d\",\"type\":\"GlyphRenderer\"},{\"id\":\"a1d804ba-ae45-41ae-a278-da8ba2af3ec8\",\"type\":\"GlyphRenderer\"},{\"id\":\"c9d95b62-0627-4f94-a8ff-e7ce8373291e\",\"type\":\"GlyphRenderer\"},{\"id\":\"ff9ddd8f-d6c3-450c-b33d-86c6ce53b29a\",\"type\":\"GlyphRenderer\"},{\"id\":\"1790df6a-d7c7-4017-b8d8-bdf0940472a2\",\"type\":\"GlyphRenderer\"},{\"id\":\"afa21a8f-846e-49c8-8fb2-9a12f4b5ae56\",\"type\":\"GlyphRenderer\"},{\"id\":\"7849eb68-13c0-4841-b1e4-355b733211f8\",\"type\":\"GlyphRenderer\"},{\"id\":\"2f2280aa-92cf-4d9a-b341-cdef72ec3f8f\",\"type\":\"GlyphRenderer\"},{\"id\":\"0505ed0b-6834-46e9-8a4c-45aa0bd65707\",\"type\":\"GlyphRenderer\"},{\"id\":\"e7ec5e5e-2f3e-49c6-b293-34383ec80e80\",\"type\":\"GlyphRenderer\"},{\"id\":\"69ace33b-b437-496e-afbe-d5715316a0ee\",\"type\":\"GlyphRenderer\"},{\"id\":\"ea839916-0dd3-43f4-b4a9-21d52dddef1c\",\"type\":\"GlyphRenderer\"},{\"id\":\"73428aef-1d0c-4841-99b5-31c98224abe9\",\"type\":\"GlyphRenderer\"},{\"id\":\"0c72cf24-7763-44a8-b73a-6782c9dffa5f\",\"type\":\"GlyphRenderer\"},{\"id\":\"3c51fb83-1bda-42fc-b3ff-34d71fde1055\",\"type\":\"GlyphRenderer\"},{\"id\":\"0d774222-6e86-4374-bcef-f93c0e817dea\",\"type\":\"GlyphRenderer\"},{\"id\":\"744bbae2-1e62-49d8-b1dd-7de9764489e5\",\"type\":\"GlyphRenderer\"},{\"id\":\"0a7ab817-b19a-4b20-a149-40237f735971\",\"type\":\"GlyphRenderer\"},{\"id\":\"3e862bfb-d16b-46dd-a5de-f674ab4717f4\",\"type\":\"Legend\"},{\"id\":\"d34e08c2-1793-439c-a928-7439f01e3692\",\"type\":\"CategoricalAxis\"},{\"id\":\"03c12e05-7acb-4e2a-8702-34a0a924afb3\",\"type\":\"LinearAxis\"},{\"id\":\"5a36d904-7c7e-4752-9687-a0a6c2677b63\",\"type\":\"Grid\"}],\"title\":{\"id\":\"c054204a-4f0a-42b6-b65c-10daedc84382\",\"type\":\"Title\"},\"tool_events\":{\"id\":\"d48bf865-7c0c-42a3-bde1-7f6335568fcd\",\"type\":\"ToolEvents\"},\"toolbar\":{\"id\":\"ae69028c-a207-4cce-b395-b12f9aa95538\",\"type\":\"Toolbar\"},\"x_mapper_type\":\"auto\",\"x_range\":{\"id\":\"c15e5b55-a449-408b-8578-e52af22412dc\",\"type\":\"FactorRange\"},\"y_mapper_type\":\"auto\",\"y_range\":{\"id\":\"8ccfcdae-ffe3-4eb3-8ad0-7fc44b628e57\",\"type\":\"Range1d\"}},\"id\":\"fce16b57-e403-42e1-8d38-3fe406c9c80d\",\"subtype\":\"Chart\",\"type\":\"Plot\"},{\"attributes\":{\"label\":{\"value\":\"919 3RD AVE, NEW YORK, NY\"},\"renderers\":[{\"id\":\"c9d95b62-0627-4f94-a8ff-e7ce8373291e\",\"type\":\"GlyphRenderer\"}]},\"id\":\"59e56fd0-4990-4d6d-9830-dd60f1096ed3\",\"type\":\"LegendItem\"},{\"attributes\":{\"data_source\":{\"id\":\"7859d709-849f-45ea-896c-d917ff2560fb\",\"type\":\"ColumnDataSource\"},\"glyph\":{\"id\":\"9e41f31d-4288-438d-8356-6839a1f7a680\",\"type\":\"Rect\"},\"hover_glyph\":null,\"nonselection_glyph\":null,\"selection_glyph\":null},\"id\":\"0d774222-6e86-4374-bcef-f93c0e817dea\",\"type\":\"GlyphRenderer\"},{\"attributes\":{\"overlay\":{\"id\":\"2d6768ab-59da-4571-9924-672e4a0ed7b0\",\"type\":\"BoxAnnotation\"},\"plot\":{\"id\":\"fce16b57-e403-42e1-8d38-3fe406c9c80d\",\"subtype\":\"Chart\",\"type\":\"Plot\"}},\"id\":\"9d15544e-8e94-46ad-abc5-d3bbd8ceef19\",\"type\":\"BoxZoomTool\"},{\"attributes\":{\"label\":{\"value\":\"127 PUBLIC SQ, CLEVELAND, OH\"},\"renderers\":[{\"id\":\"e7ec5e5e-2f3e-49c6-b293-34383ec80e80\",\"type\":\"GlyphRenderer\"}]},\"id\":\"0b5f547f-8d16-4aae-823e-eaf04e664421\",\"type\":\"LegendItem\"},{\"attributes\":{\"callback\":null,\"column_names\":[\"line_color\",\"line_alpha\",\"color\",\"fill_alpha\",\"height\",\"width\",\"y\",\"x\",\"label\"],\"data\":{\"address\":[\"2050 N STEMMONS FWY, DALLAS, TX\"],\"chart_index\":[{\"address\":\"2050 N STEMMONS FWY, DALLAS, TX\"}],\"color\":[\"green\"],\"fill_alpha\":[0.8],\"height\":[17.0],\"label\":[{\"address\":\"2050 N STEMMONS FWY, DALLAS, TX\"}],\"line_alpha\":[1.0],\"line_color\":[\"white\"],\"width\":[0.8],\"x\":[\"2050 N STEMMONS FWY, DALLAS, TX\"],\"y\":[8.5]}},\"id\":\"1653643e-994d-4cb1-a0e1-38d2750e369d\",\"type\":\"ColumnDataSource\"},{\"attributes\":{\"callback\":null,\"column_names\":[\"line_color\",\"line_alpha\",\"color\",\"fill_alpha\",\"height\",\"width\",\"y\",\"x\",\"label\"],\"data\":{\"address\":[\"1 S DEARBORN ST, CHICAGO, IL\"],\"chart_index\":[{\"address\":\"1 S DEARBORN ST, CHICAGO, IL\"}],\"color\":[\"green\"],\"fill_alpha\":[0.8],\"height\":[75.0],\"label\":[{\"address\":\"1 S DEARBORN ST, CHICAGO, IL\"}],\"line_alpha\":[1.0],\"line_color\":[\"white\"],\"width\":[0.8],\"x\":[\"1 S DEARBORN ST, CHICAGO, IL\"],\"y\":[37.5]}},\"id\":\"8b826087-0209-4c5b-8b34-cfd28747e950\",\"type\":\"ColumnDataSource\"},{\"attributes\":{\"fill_alpha\":{\"field\":\"fill_alpha\"},\"fill_color\":{\"field\":\"color\"},\"height\":{\"field\":\"height\",\"units\":\"data\"},\"line_color\":{\"field\":\"line_color\"},\"width\":{\"field\":\"width\",\"units\":\"data\"},\"x\":{\"field\":\"x\"},\"y\":{\"field\":\"y\"}},\"id\":\"9a27c1ab-9143-4cac-8c82-5a53632677a6\",\"type\":\"Rect\"},{\"attributes\":{\"callback\":null,\"column_names\":[\"line_color\",\"line_alpha\",\"color\",\"fill_alpha\",\"height\",\"width\",\"y\",\"x\",\"label\"],\"data\":{\"address\":[\"4400 UNIVERSITY DR, FAIRFAX, VA\"],\"chart_index\":[{\"address\":\"4400 UNIVERSITY DR, FAIRFAX, VA\"}],\"color\":[\"green\"],\"fill_alpha\":[0.8],\"height\":[19.0],\"label\":[{\"address\":\"4400 UNIVERSITY DR, FAIRFAX, VA\"}],\"line_alpha\":[1.0],\"line_color\":[\"white\"],\"width\":[0.8],\"x\":[\"4400 UNIVERSITY DR, FAIRFAX, VA\"],\"y\":[9.5]}},\"id\":\"1316360f-fdbf-4512-a5bf-901e1df722c0\",\"type\":\"ColumnDataSource\"},{\"attributes\":{\"label\":{\"value\":\"450 FASHION AVE, NEW YORK, NY\"},\"renderers\":[{\"id\":\"3c51fb83-1bda-42fc-b3ff-34d71fde1055\",\"type\":\"GlyphRenderer\"}]},\"id\":\"5bab816d-3220-49bc-8b7f-e84cc506e244\",\"type\":\"LegendItem\"},{\"attributes\":{\"fill_alpha\":{\"field\":\"fill_alpha\"},\"fill_color\":{\"field\":\"color\"},\"height\":{\"field\":\"height\",\"units\":\"data\"},\"line_color\":{\"field\":\"line_color\"},\"width\":{\"field\":\"width\",\"units\":\"data\"},\"x\":{\"field\":\"x\"},\"y\":{\"field\":\"y\"}},\"id\":\"b1246abe-d30d-42b6-b50c-f3cc7ed7942b\",\"type\":\"Rect\"},{\"attributes\":{\"data_source\":{\"id\":\"2d64c20a-8e87-44c5-a593-778f222e748f\",\"type\":\"ColumnDataSource\"},\"glyph\":{\"id\":\"a1233d48-1bae-455c-9a0f-885730a47e03\",\"type\":\"Rect\"},\"hover_glyph\":null,\"nonselection_glyph\":null,\"selection_glyph\":null},\"id\":\"afa21a8f-846e-49c8-8fb2-9a12f4b5ae56\",\"type\":\"GlyphRenderer\"},{\"attributes\":{\"fill_alpha\":{\"field\":\"fill_alpha\"},\"fill_color\":{\"field\":\"color\"},\"height\":{\"field\":\"height\",\"units\":\"data\"},\"line_color\":{\"field\":\"line_color\"},\"width\":{\"field\":\"width\",\"units\":\"data\"},\"x\":{\"field\":\"x\"},\"y\":{\"field\":\"y\"}},\"id\":\"b051f30a-1bb8-4172-b2cb-8fd7d7fcc286\",\"type\":\"Rect\"},{\"attributes\":{\"bottom_units\":\"screen\",\"fill_alpha\":{\"value\":0.5},\"fill_color\":{\"value\":\"lightgrey\"},\"left_units\":\"screen\",\"level\":\"overlay\",\"line_alpha\":{\"value\":1.0},\"line_color\":{\"value\":\"black\"},\"line_dash\":[4,4],\"line_width\":{\"value\":2},\"plot\":null,\"render_mode\":\"css\",\"right_units\":\"screen\",\"top_units\":\"screen\"},\"id\":\"2d6768ab-59da-4571-9924-672e4a0ed7b0\",\"type\":\"BoxAnnotation\"},{\"attributes\":{\"callback\":null,\"column_names\":[\"line_color\",\"line_alpha\",\"color\",\"fill_alpha\",\"height\",\"width\",\"y\",\"x\",\"label\"],\"data\":{\"address\":[\"190 CARONDELET PLZ, SAINT LOUIS, MO\"],\"chart_index\":[{\"address\":\"190 CARONDELET PLZ, SAINT LOUIS, MO\"}],\"color\":[\"green\"],\"fill_alpha\":[0.8],\"height\":[20.0],\"label\":[{\"address\":\"190 CARONDELET PLZ, SAINT LOUIS, MO\"}],\"line_alpha\":[1.0],\"line_color\":[\"white\"],\"width\":[0.8],\"x\":[\"190 CARONDELET PLZ, SAINT LOUIS, MO\"],\"y\":[10.0]}},\"id\":\"f9df659c-fe5c-4e1e-bf78-49dfd0171faa\",\"type\":\"ColumnDataSource\"},{\"attributes\":{},\"id\":\"0ea84dc1-f506-4592-9bc6-d624c267cb19\",\"type\":\"CategoricalTicker\"},{\"attributes\":{\"label\":{\"value\":\"1 S DEARBORN ST, CHICAGO, IL\"},\"renderers\":[{\"id\":\"54ec21f0-0cae-4cd6-a28a-7c204f46f381\",\"type\":\"GlyphRenderer\"}]},\"id\":\"20681594-c4de-4860-97e7-d8f0530d0427\",\"type\":\"LegendItem\"},{\"attributes\":{\"callback\":null,\"column_names\":[\"line_color\",\"line_alpha\",\"color\",\"fill_alpha\",\"height\",\"width\",\"y\",\"x\",\"label\"],\"data\":{\"address\":[\"11350 MCCORMICK RD, HUNT VALLEY, MD\"],\"chart_index\":[{\"address\":\"11350 MCCORMICK RD, HUNT VALLEY, MD\"}],\"color\":[\"green\"],\"fill_alpha\":[0.8],\"height\":[19.0],\"label\":[{\"address\":\"11350 MCCORMICK RD, HUNT VALLEY, MD\"}],\"line_alpha\":[1.0],\"line_color\":[\"white\"],\"width\":[0.8],\"x\":[\"11350 MCCORMICK RD, HUNT VALLEY, MD\"],\"y\":[9.5]}},\"id\":\"7a546715-b9e2-462c-9dd0-cd26c165cec5\",\"type\":\"ColumnDataSource\"},{\"attributes\":{},\"id\":\"d48bf865-7c0c-42a3-bde1-7f6335568fcd\",\"type\":\"ToolEvents\"},{\"attributes\":{\"plot\":{\"id\":\"fce16b57-e403-42e1-8d38-3fe406c9c80d\",\"subtype\":\"Chart\",\"type\":\"Plot\"}},\"id\":\"de53e7fb-8e79-4492-84c4-b20ac7ec8d62\",\"type\":\"HelpTool\"},{\"attributes\":{\"callback\":null,\"column_names\":[\"line_color\",\"line_alpha\",\"color\",\"fill_alpha\",\"height\",\"width\",\"y\",\"x\",\"label\"],\"data\":{\"address\":[\"1 S DEARBORN ST STE 900, CHICAGO, IL\"],\"chart_index\":[{\"address\":\"1 S DEARBORN ST STE 900, CHICAGO, IL\"}],\"color\":[\"green\"],\"fill_alpha\":[0.8],\"height\":[18.0],\"label\":[{\"address\":\"1 S DEARBORN ST STE 900, CHICAGO, IL\"}],\"line_alpha\":[1.0],\"line_color\":[\"white\"],\"width\":[0.8],\"x\":[\"1 S DEARBORN ST STE 900, CHICAGO, IL\"],\"y\":[9.0]}},\"id\":\"7859d709-849f-45ea-896c-d917ff2560fb\",\"type\":\"ColumnDataSource\"},{\"attributes\":{},\"id\":\"c5b882b6-4fb0-4628-a3ca-33fbd45b57d1\",\"type\":\"BasicTickFormatter\"},{\"attributes\":{\"fill_alpha\":{\"field\":\"fill_alpha\"},\"fill_color\":{\"field\":\"color\"},\"height\":{\"field\":\"height\",\"units\":\"data\"},\"line_color\":{\"field\":\"line_color\"},\"width\":{\"field\":\"width\",\"units\":\"data\"},\"x\":{\"field\":\"x\"},\"y\":{\"field\":\"y\"}},\"id\":\"759bd5c9-ca5a-4d4b-80bf-e60f55869e68\",\"type\":\"Rect\"},{\"attributes\":{\"callback\":null,\"end\":78.75},\"id\":\"8ccfcdae-ffe3-4eb3-8ad0-7fc44b628e57\",\"type\":\"Range1d\"},{\"attributes\":{\"fill_alpha\":{\"field\":\"fill_alpha\"},\"fill_color\":{\"field\":\"color\"},\"height\":{\"field\":\"height\",\"units\":\"data\"},\"line_color\":{\"field\":\"line_color\"},\"width\":{\"field\":\"width\",\"units\":\"data\"},\"x\":{\"field\":\"x\"},\"y\":{\"field\":\"y\"}},\"id\":\"75f2a5bb-0061-446f-9f91-70b452dcf70f\",\"type\":\"Rect\"},{\"attributes\":{\"data_source\":{\"id\":\"86962234-58b4-4482-b77a-c4e985fa566a\",\"type\":\"ColumnDataSource\"},\"glyph\":{\"id\":\"c9791486-533f-4ff6-84ce-8e93a1310822\",\"type\":\"Rect\"},\"hover_glyph\":null,\"nonselection_glyph\":null,\"selection_glyph\":null},\"id\":\"b0bc1044-3825-4549-bf0f-701ea246ce5d\",\"type\":\"GlyphRenderer\"},{\"attributes\":{\"data_source\":{\"id\":\"c766c417-169c-41be-9031-d196e595b29b\",\"type\":\"ColumnDataSource\"},\"glyph\":{\"id\":\"f400b49f-8b6f-4663-9dba-ee00648fae2d\",\"type\":\"Rect\"},\"hover_glyph\":null,\"nonselection_glyph\":null,\"selection_glyph\":null},\"id\":\"d75f36c9-b049-4765-9af5-3a84edbe7a21\",\"type\":\"GlyphRenderer\"},{\"attributes\":{\"dimension\":1,\"grid_line_color\":{\"value\":null},\"plot\":{\"id\":\"fce16b57-e403-42e1-8d38-3fe406c9c80d\",\"subtype\":\"Chart\",\"type\":\"Plot\"},\"ticker\":{\"id\":\"6bb87868-8ff6-462f-92d2-2b1c1571c1cf\",\"type\":\"BasicTicker\"}},\"id\":\"5a36d904-7c7e-4752-9687-a0a6c2677b63\",\"type\":\"Grid\"},{\"attributes\":{\"data_source\":{\"id\":\"233029e5-7a8b-4a76-a115-9d377cc88722\",\"type\":\"ColumnDataSource\"},\"glyph\":{\"id\":\"b051f30a-1bb8-4172-b2cb-8fd7d7fcc286\",\"type\":\"Rect\"},\"hover_glyph\":null,\"nonselection_glyph\":null,\"selection_glyph\":null},\"id\":\"ff9ddd8f-d6c3-450c-b33d-86c6ce53b29a\",\"type\":\"GlyphRenderer\"}],\"root_ids\":[\"fce16b57-e403-42e1-8d38-3fe406c9c80d\"]},\"title\":\"Bokeh Application\",\"version\":\"0.12.4\"}};\n",
       "            var render_items = [{\"docid\":\"4f52cfc2-0ccd-4ac6-891a-4f1b8016418d\",\"elementid\":\"aa8e005a-0ab6-4877-ba6e-cf5b951e8d37\",\"modelid\":\"fce16b57-e403-42e1-8d38-3fe406c9c80d\"}];\n",
       "            \n",
       "            Bokeh.embed.embed_items(docs_json, render_items);\n",
       "          };\n",
       "          if (document.readyState != \"loading\") fn();\n",
       "          else document.addEventListener(\"DOMContentLoaded\", fn);\n",
       "        })();\n",
       "      },\n",
       "      function(Bokeh) {\n",
       "      }\n",
       "    ];\n",
       "  \n",
       "    function run_inline_js() {\n",
       "      \n",
       "      if ((window.Bokeh !== undefined) || (force === true)) {\n",
       "        for (var i = 0; i < inline_js.length; i++) {\n",
       "          inline_js[i](window.Bokeh);\n",
       "        }if (force === true) {\n",
       "          display_loaded();\n",
       "        }} else if (Date.now() < window._bokeh_timeout) {\n",
       "        setTimeout(run_inline_js, 100);\n",
       "      } else if (!window._bokeh_failed_load) {\n",
       "        console.log(\"Bokeh: BokehJS failed to load within specified timeout.\");\n",
       "        window._bokeh_failed_load = true;\n",
       "      } else if (force !== true) {\n",
       "        var cell = $(document.getElementById(\"aa8e005a-0ab6-4877-ba6e-cf5b951e8d37\")).parents('.cell').data().cell;\n",
       "        cell.output_area.append_execute_result(NB_LOAD_WARNING)\n",
       "      }\n",
       "  \n",
       "    }\n",
       "  \n",
       "    if (window._bokeh_is_loading === 0) {\n",
       "      console.log(\"Bokeh: BokehJS loaded, going straight to plotting\");\n",
       "      run_inline_js();\n",
       "    } else {\n",
       "      load_libs(js_urls, function() {\n",
       "        console.log(\"Bokeh: BokehJS plotting callback run at\", now());\n",
       "        run_inline_js();\n",
       "      });\n",
       "    }\n",
       "  }(this));\n",
       "</script>"
      ]
     },
     "metadata": {},
     "output_type": "display_data"
    }
   ],
   "source": [
    "from math import pi\n",
    "p = Bar(address[:20],  values ='counts', \n",
    "        label=CatAttr(columns=['address'], sort=False),\n",
    "        title=\"Locations with Most Counts of Businesses from the Data Set\", \n",
    "        plot_width=700, plot_height=500, color = 'green')\n",
    "\n",
    "p.ygrid.grid_line_color = None\n",
    "p.yaxis.minor_tick_line_color = None\n",
    "p.xaxis.major_label_orientation = pi/2.5\n",
    "p.xaxis.axis_label = \"Business Locations\"\n",
    "p.yaxis.axis_label = \"Counts\"\n",
    "p.legend.location = None\n",
    "\n",
    "show(p)"
   ]
  },
  {
   "cell_type": "markdown",
   "metadata": {},
   "source": [
    "### II.10. Analysis of Names"
   ]
  },
  {
   "cell_type": "code",
   "execution_count": 92,
   "metadata": {
    "collapsed": false
   },
   "outputs": [],
   "source": [
    "#Counter ( row['name'] for row in data )"
   ]
  },
  {
   "cell_type": "code",
   "execution_count": 93,
   "metadata": {
    "collapsed": true
   },
   "outputs": [],
   "source": [
    "name_check = [None, 0, '', ' ', '0', 'none', 'null']"
   ]
  },
  {
   "cell_type": "code",
   "execution_count": 94,
   "metadata": {
    "collapsed": true
   },
   "outputs": [],
   "source": [
    "name_invalid_vals, name_valid_vals = true_fill_rate('name', name_check)"
   ]
  },
  {
   "cell_type": "code",
   "execution_count": 95,
   "metadata": {
    "collapsed": false
   },
   "outputs": [],
   "source": [
    "name_valid_vals = [name.lower() for name in name_valid_vals]"
   ]
  },
  {
   "cell_type": "code",
   "execution_count": 96,
   "metadata": {
    "collapsed": false
   },
   "outputs": [
    {
     "name": "stdout",
     "output_type": "stream",
     "text": [
      "The total number of unique names is 875421\n"
     ]
    }
   ],
   "source": [
    "unique_vals['name'] = len(set(name_valid_vals))\n",
    "print 'The total number of unique names is', unique_vals['name']"
   ]
  },
  {
   "cell_type": "code",
   "execution_count": 97,
   "metadata": {
    "collapsed": false
   },
   "outputs": [
    {
     "name": "stdout",
     "output_type": "stream",
     "text": [
      "\n",
      "True fill rate for the Name field is 999910 (over 1000000 data point, which is 99.991%), compared to the fill rate of 999975\n"
     ]
    }
   ],
   "source": [
    "true_fill_rate_dict['name'] = len(name_valid_vals)\n",
    "\n",
    "print '\\nTrue fill rate for the Name field is {} (over {} data point, which is {}%), \\\n",
    "compared to the fill rate of {}'.\\\n",
    "format(len(name_valid_vals), size, len(name_valid_vals)*100.0/size, fill_rate_dict['name'])"
   ]
  },
  {
   "cell_type": "code",
   "execution_count": 98,
   "metadata": {
    "collapsed": true
   },
   "outputs": [],
   "source": [
    "names = pd.DataFrame.from_dict(Counter(name_valid_vals), orient='index').reset_index()\n",
    "names.columns = ['names', 'counts']\n",
    "names = names.sort_values('counts', ascending = False)"
   ]
  },
  {
   "cell_type": "code",
   "execution_count": 286,
   "metadata": {
    "collapsed": false
   },
   "outputs": [
    {
     "data": {
      "text/plain": [
       "93.80675126596232"
      ]
     },
     "execution_count": 286,
     "metadata": {},
     "output_type": "execute_result"
    }
   ],
   "source": [
    "len ( names[names.counts==1] )*100.0/len(names)"
   ]
  },
  {
   "cell_type": "code",
   "execution_count": 283,
   "metadata": {
    "collapsed": false
   },
   "outputs": [],
   "source": [
    "from math import pi\n",
    "p = Bar(names[:25],  values ='counts', \n",
    "        label=CatAttr(columns=['names'], sort=False),\n",
    "        title=\"Businesses  with Most Occurence from the Data Set\", \n",
    "        plot_width=800, plot_height=300, color = '#ff7f0e', toolbar_location=None)\n",
    "p.ygrid.grid_line_color = None\n",
    "p.yaxis.minor_tick_line_color = None\n",
    "#p.xaxis.major_label_orientation = pi/2\n",
    "p.xaxis.axis_label = None\n",
    "p.yaxis.axis_label = \"Counts\"\n",
    "p.legend.location = None\n",
    "#show(p)"
   ]
  },
  {
   "cell_type": "markdown",
   "metadata": {},
   "source": [
    "#### Getting most common words in business names"
   ]
  },
  {
   "cell_type": "code",
   "execution_count": 100,
   "metadata": {
    "collapsed": false
   },
   "outputs": [],
   "source": [
    "from sklearn.feature_extraction.text import CountVectorizer\n",
    "from sklearn.feature_extraction import text\n",
    "stop_words = text.ENGLISH_STOP_WORDS"
   ]
  },
  {
   "cell_type": "code",
   "execution_count": 101,
   "metadata": {
    "collapsed": true
   },
   "outputs": [],
   "source": [
    "name_bag = [' '.join(name_valid_vals)]"
   ]
  },
  {
   "cell_type": "code",
   "execution_count": 102,
   "metadata": {
    "collapsed": false
   },
   "outputs": [],
   "source": [
    "# obtaining 20 most frequent words in names\n",
    "\n",
    "cnt_vec = CountVectorizer(ngram_range=(1,1), stop_words=stop_words)\n",
    "cnt_unigram = cnt_vec.fit_transform(name_bag)\n",
    "word_bags =  cnt_vec.get_feature_names()"
   ]
  },
  {
   "cell_type": "code",
   "execution_count": 103,
   "metadata": {
    "collapsed": false
   },
   "outputs": [],
   "source": [
    "import numpy as np\n",
    "word_dic = dict( zip(word_bags, np.ravel ( cnt_unigram.toarray() )) )"
   ]
  },
  {
   "cell_type": "code",
   "execution_count": 104,
   "metadata": {
    "collapsed": false
   },
   "outputs": [],
   "source": [
    "from heapq import heappush, heappop\n",
    "heap = []\n",
    "\n",
    "for w in word_dic:\n",
    "    heappush(heap, (word_dic[w], w))\n",
    "    while len(heap) > 20:\n",
    "        heappop(heap)\n",
    "        \n",
    "common_words = [heappop(heap) for ii in range(len(heap))]"
   ]
  },
  {
   "cell_type": "code",
   "execution_count": 105,
   "metadata": {
    "collapsed": false
   },
   "outputs": [],
   "source": [
    "common_word_df = pd.DataFrame(list(common_words))\n",
    "common_word_df.columns = ['occurence', 'word']\n",
    "common_word_df = common_word_df.sort_values('occurence', ascending=False)"
   ]
  },
  {
   "cell_type": "code",
   "execution_count": 106,
   "metadata": {
    "collapsed": true
   },
   "outputs": [],
   "source": [
    "# obtaining 20 most frequent bigram words in names\n",
    "\n",
    "cnt_vec2 = CountVectorizer(ngram_range=(2,2), stop_words=stop_words)\n",
    "cnt_bigram = cnt_vec2.fit_transform(name_bag)\n",
    "bigram_bags =  cnt_vec2.get_feature_names()"
   ]
  },
  {
   "cell_type": "code",
   "execution_count": 107,
   "metadata": {
    "collapsed": true
   },
   "outputs": [],
   "source": [
    "bigram_dic = dict( zip(bigram_bags, np.ravel ( cnt_bigram.toarray() )) )"
   ]
  },
  {
   "cell_type": "code",
   "execution_count": 108,
   "metadata": {
    "collapsed": true
   },
   "outputs": [],
   "source": [
    "from heapq import heappush, heappop\n",
    "bigram_heap = []\n",
    "\n",
    "for w in bigram_dic:\n",
    "    heappush(bigram_heap, (bigram_dic[w], w))\n",
    "    while len(bigram_heap) > 20:\n",
    "        heappop(bigram_heap)\n",
    "        \n",
    "common_bigram = [heappop(bigram_heap) for ii in range(len(bigram_heap))]"
   ]
  },
  {
   "cell_type": "code",
   "execution_count": 109,
   "metadata": {
    "collapsed": false
   },
   "outputs": [],
   "source": [
    "common_bigram_df = pd.DataFrame(list(common_bigram))\n",
    "common_bigram_df.columns = ['occurence', 'word']\n",
    "common_bigram_df = common_bigram_df.sort_values('occurence', ascending=False)"
   ]
  },
  {
   "cell_type": "code",
   "execution_count": 242,
   "metadata": {
    "collapsed": false
   },
   "outputs": [
    {
     "data": {
      "text/html": [
       "\n",
       "\n",
       "    <div class=\"bk-root\">\n",
       "        <div class=\"bk-plotdiv\" id=\"5515229d-2465-484c-be0f-31f773662e03\"></div>\n",
       "    </div>\n",
       "<script type=\"text/javascript\">\n",
       "  \n",
       "  (function(global) {\n",
       "    function now() {\n",
       "      return new Date();\n",
       "    }\n",
       "  \n",
       "    var force = false;\n",
       "  \n",
       "    if (typeof (window._bokeh_onload_callbacks) === \"undefined\" || force === true) {\n",
       "      window._bokeh_onload_callbacks = [];\n",
       "      window._bokeh_is_loading = undefined;\n",
       "    }\n",
       "  \n",
       "  \n",
       "    \n",
       "    if (typeof (window._bokeh_timeout) === \"undefined\" || force === true) {\n",
       "      window._bokeh_timeout = Date.now() + 0;\n",
       "      window._bokeh_failed_load = false;\n",
       "    }\n",
       "  \n",
       "    var NB_LOAD_WARNING = {'data': {'text/html':\n",
       "       \"<div style='background-color: #fdd'>\\n\"+\n",
       "       \"<p>\\n\"+\n",
       "       \"BokehJS does not appear to have successfully loaded. If loading BokehJS from CDN, this \\n\"+\n",
       "       \"may be due to a slow or bad network connection. Possible fixes:\\n\"+\n",
       "       \"</p>\\n\"+\n",
       "       \"<ul>\\n\"+\n",
       "       \"<li>re-rerun `output_notebook()` to attempt to load from CDN again, or</li>\\n\"+\n",
       "       \"<li>use INLINE resources instead, as so:</li>\\n\"+\n",
       "       \"</ul>\\n\"+\n",
       "       \"<code>\\n\"+\n",
       "       \"from bokeh.resources import INLINE\\n\"+\n",
       "       \"output_notebook(resources=INLINE)\\n\"+\n",
       "       \"</code>\\n\"+\n",
       "       \"</div>\"}};\n",
       "  \n",
       "    function display_loaded() {\n",
       "      if (window.Bokeh !== undefined) {\n",
       "        document.getElementById(\"5515229d-2465-484c-be0f-31f773662e03\").textContent = \"BokehJS successfully loaded.\";\n",
       "      } else if (Date.now() < window._bokeh_timeout) {\n",
       "        setTimeout(display_loaded, 100)\n",
       "      }\n",
       "    }\n",
       "  \n",
       "    function run_callbacks() {\n",
       "      window._bokeh_onload_callbacks.forEach(function(callback) { callback() });\n",
       "      delete window._bokeh_onload_callbacks\n",
       "      console.info(\"Bokeh: all callbacks have finished\");\n",
       "    }\n",
       "  \n",
       "    function load_libs(js_urls, callback) {\n",
       "      window._bokeh_onload_callbacks.push(callback);\n",
       "      if (window._bokeh_is_loading > 0) {\n",
       "        console.log(\"Bokeh: BokehJS is being loaded, scheduling callback at\", now());\n",
       "        return null;\n",
       "      }\n",
       "      if (js_urls == null || js_urls.length === 0) {\n",
       "        run_callbacks();\n",
       "        return null;\n",
       "      }\n",
       "      console.log(\"Bokeh: BokehJS not loaded, scheduling load and callback at\", now());\n",
       "      window._bokeh_is_loading = js_urls.length;\n",
       "      for (var i = 0; i < js_urls.length; i++) {\n",
       "        var url = js_urls[i];\n",
       "        var s = document.createElement('script');\n",
       "        s.src = url;\n",
       "        s.async = false;\n",
       "        s.onreadystatechange = s.onload = function() {\n",
       "          window._bokeh_is_loading--;\n",
       "          if (window._bokeh_is_loading === 0) {\n",
       "            console.log(\"Bokeh: all BokehJS libraries loaded\");\n",
       "            run_callbacks()\n",
       "          }\n",
       "        };\n",
       "        s.onerror = function() {\n",
       "          console.warn(\"failed to load library \" + url);\n",
       "        };\n",
       "        console.log(\"Bokeh: injecting script tag for BokehJS library: \", url);\n",
       "        document.getElementsByTagName(\"head\")[0].appendChild(s);\n",
       "      }\n",
       "    };var element = document.getElementById(\"5515229d-2465-484c-be0f-31f773662e03\");\n",
       "    if (element == null) {\n",
       "      console.log(\"Bokeh: ERROR: autoload.js configured with elementid '5515229d-2465-484c-be0f-31f773662e03' but no matching script tag was found. \")\n",
       "      return false;\n",
       "    }\n",
       "  \n",
       "    var js_urls = [];\n",
       "  \n",
       "    var inline_js = [\n",
       "      function(Bokeh) {\n",
       "        (function() {\n",
       "          var fn = function() {\n",
       "            var docs_json = {\"98f44458-185f-4d58-b915-a871c7d66c22\":{\"roots\":{\"references\":[{\"attributes\":{\"data_source\":{\"id\":\"89bb0fe0-c10a-4a04-bbd4-8c8195781f28\",\"type\":\"ColumnDataSource\"},\"glyph\":{\"id\":\"0ba21e55-4e38-40c0-8830-fa7cfa45b3ef\",\"type\":\"Rect\"},\"hover_glyph\":null,\"nonselection_glyph\":null,\"selection_glyph\":null},\"id\":\"57df4402-ea55-4e99-871a-004b432cbafd\",\"type\":\"GlyphRenderer\"},{\"attributes\":{\"data_source\":{\"id\":\"883f2360-b41f-4031-bd6b-1248aa5cc332\",\"type\":\"ColumnDataSource\"},\"glyph\":{\"id\":\"eb2510b0-004b-4514-993d-06d2ac178013\",\"type\":\"Rect\"},\"hover_glyph\":null,\"nonselection_glyph\":null,\"selection_glyph\":null},\"id\":\"22014b8e-917f-45b5-9a19-6562febba6de\",\"type\":\"GlyphRenderer\"},{\"attributes\":{\"label\":{\"value\":\"school\"},\"renderers\":[{\"id\":\"58f050e4-5d96-4baa-958b-50044fd5060b\",\"type\":\"GlyphRenderer\"}]},\"id\":\"9d0554bc-226c-4005-a561-5f25c721dfc3\",\"type\":\"LegendItem\"},{\"attributes\":{\"fill_alpha\":{\"field\":\"fill_alpha\"},\"fill_color\":{\"field\":\"color\"},\"height\":{\"field\":\"height\",\"units\":\"data\"},\"line_color\":{\"field\":\"line_color\"},\"width\":{\"field\":\"width\",\"units\":\"data\"},\"x\":{\"field\":\"x\"},\"y\":{\"field\":\"y\"}},\"id\":\"abad6324-a72f-4729-98e6-a035ce9d1b30\",\"type\":\"Rect\"},{\"attributes\":{\"fill_alpha\":{\"field\":\"fill_alpha\"},\"fill_color\":{\"field\":\"color\"},\"height\":{\"field\":\"height\",\"units\":\"data\"},\"line_color\":{\"field\":\"line_color\"},\"width\":{\"field\":\"width\",\"units\":\"data\"},\"x\":{\"field\":\"x\"},\"y\":{\"field\":\"y\"}},\"id\":\"3138c439-5a2f-4cbf-9d7e-807a0d2f612d\",\"type\":\"Rect\"},{\"attributes\":{\"fill_alpha\":{\"field\":\"fill_alpha\"},\"fill_color\":{\"field\":\"color\"},\"height\":{\"field\":\"height\",\"units\":\"data\"},\"line_color\":{\"field\":\"line_color\"},\"width\":{\"field\":\"width\",\"units\":\"data\"},\"x\":{\"field\":\"x\"},\"y\":{\"field\":\"y\"}},\"id\":\"6654f689-cea2-4ffa-83f1-29f8cfc811ac\",\"type\":\"Rect\"},{\"attributes\":{\"fill_alpha\":{\"field\":\"fill_alpha\"},\"fill_color\":{\"field\":\"color\"},\"height\":{\"field\":\"height\",\"units\":\"data\"},\"line_color\":{\"field\":\"line_color\"},\"width\":{\"field\":\"width\",\"units\":\"data\"},\"x\":{\"field\":\"x\"},\"y\":{\"field\":\"y\"}},\"id\":\"604c498d-5347-46f2-b03b-4b0508dbfcb1\",\"type\":\"Rect\"},{\"attributes\":{\"fill_alpha\":{\"field\":\"fill_alpha\"},\"fill_color\":{\"field\":\"color\"},\"height\":{\"field\":\"height\",\"units\":\"data\"},\"line_color\":{\"field\":\"line_color\"},\"width\":{\"field\":\"width\",\"units\":\"data\"},\"x\":{\"field\":\"x\"},\"y\":{\"field\":\"y\"}},\"id\":\"400bfb31-3fa0-4434-b403-ab5aa077997b\",\"type\":\"Rect\"},{\"attributes\":{\"data_source\":{\"id\":\"21193702-db96-4f61-8af0-ba5cdc216872\",\"type\":\"ColumnDataSource\"},\"glyph\":{\"id\":\"b0219c31-7797-4843-9399-489dd6d07533\",\"type\":\"Rect\"},\"hover_glyph\":null,\"nonselection_glyph\":null,\"selection_glyph\":null},\"id\":\"abd3ce5d-1600-4db5-8d14-55e8db1eefdd\",\"type\":\"GlyphRenderer\"},{\"attributes\":{\"label\":{\"value\":\"farm insurance\"},\"renderers\":[{\"id\":\"b10abc1b-cbab-48c2-a772-0cbbf41666b5\",\"type\":\"GlyphRenderer\"}]},\"id\":\"81ed0aa6-04b7-4ccd-aaf1-b5d2310bc188\",\"type\":\"LegendItem\"},{\"attributes\":{\"below\":[{\"id\":\"875306e6-8661-4ca7-a493-84a32e60e2ce\",\"type\":\"CategoricalAxis\"}],\"css_classes\":null,\"left\":[{\"id\":\"55517e51-524b-4eca-b611-dedc7b74ec8d\",\"type\":\"LinearAxis\"}],\"plot_height\":250,\"plot_width\":400,\"renderers\":[{\"id\":\"61e5f93c-6bec-4d7e-a2c1-a25cde933416\",\"type\":\"BoxAnnotation\"},{\"id\":\"f221f517-7986-4e00-8096-4a1d0f8c0700\",\"type\":\"GlyphRenderer\"},{\"id\":\"58f050e4-5d96-4baa-958b-50044fd5060b\",\"type\":\"GlyphRenderer\"},{\"id\":\"3ec919f1-ec25-4d30-8e0e-326c5047716d\",\"type\":\"GlyphRenderer\"},{\"id\":\"3dc41e4f-b7e1-4a37-a8a3-9a9743deba28\",\"type\":\"GlyphRenderer\"},{\"id\":\"80162023-db14-4e60-8f6e-26ef2d0a7f39\",\"type\":\"GlyphRenderer\"},{\"id\":\"9cb48cb5-a568-4a84-ad3a-801eeed465d6\",\"type\":\"GlyphRenderer\"},{\"id\":\"57df4402-ea55-4e99-871a-004b432cbafd\",\"type\":\"GlyphRenderer\"},{\"id\":\"15998a5e-b568-4972-ae30-2b21ce8ff672\",\"type\":\"GlyphRenderer\"},{\"id\":\"7a0c74a3-70fb-4d14-9498-7b829a3c4b9f\",\"type\":\"GlyphRenderer\"},{\"id\":\"712144f5-069e-421a-b53b-0a117f2cfd70\",\"type\":\"GlyphRenderer\"},{\"id\":\"63829172-bb2a-4e5e-b26e-c9f8b084c160\",\"type\":\"GlyphRenderer\"},{\"id\":\"abd3ce5d-1600-4db5-8d14-55e8db1eefdd\",\"type\":\"GlyphRenderer\"},{\"id\":\"4cf09026-2474-497a-8e20-e60d191a8373\",\"type\":\"GlyphRenderer\"},{\"id\":\"68a3d77b-2ad2-42c3-87b8-63dd64a55202\",\"type\":\"GlyphRenderer\"},{\"id\":\"69355aaa-1a4d-4ab9-90e7-1ae77a2f36c7\",\"type\":\"GlyphRenderer\"},{\"id\":\"965aafa8-2a7e-45a3-83fc-68a2695b910a\",\"type\":\"GlyphRenderer\"},{\"id\":\"09e4fcce-5217-4ca8-b138-c27f82805b4a\",\"type\":\"GlyphRenderer\"},{\"id\":\"22014b8e-917f-45b5-9a19-6562febba6de\",\"type\":\"GlyphRenderer\"},{\"id\":\"8c1dbc19-292e-4a84-9531-4b62c0a4f305\",\"type\":\"GlyphRenderer\"},{\"id\":\"40269b64-06ed-4b99-a8d5-9df35b4c4e80\",\"type\":\"GlyphRenderer\"},{\"id\":\"03c938cb-80c9-4ee9-aa2f-04d50221d628\",\"type\":\"Legend\"},{\"id\":\"875306e6-8661-4ca7-a493-84a32e60e2ce\",\"type\":\"CategoricalAxis\"},{\"id\":\"55517e51-524b-4eca-b611-dedc7b74ec8d\",\"type\":\"LinearAxis\"},{\"id\":\"7a204ebc-35b6-4b8f-852b-6cd566a0cb53\",\"type\":\"Grid\"}],\"title\":{\"id\":\"f5899d84-8e56-4989-a397-a3776b8eee19\",\"type\":\"Title\"},\"tool_events\":{\"id\":\"86ffd05c-5748-48bb-819e-19c851136574\",\"type\":\"ToolEvents\"},\"toolbar\":{\"id\":\"9f9449f6-b4c2-4d37-b888-066718b1e25a\",\"type\":\"Toolbar\"},\"toolbar_location\":null,\"x_mapper_type\":\"auto\",\"x_range\":{\"id\":\"0d6e4636-f110-4ef8-bf24-4654d867e7ce\",\"type\":\"FactorRange\"},\"y_mapper_type\":\"auto\",\"y_range\":{\"id\":\"bb00708e-7f44-4904-a31f-19c364d57694\",\"type\":\"Range1d\"}},\"id\":\"51a0abcc-d2a3-479f-a5e2-8d4141b667df\",\"subtype\":\"Chart\",\"type\":\"Plot\"},{\"attributes\":{},\"id\":\"a6bafb11-f301-453f-9739-1056a063a62f\",\"type\":\"CategoricalTickFormatter\"},{\"attributes\":{\"label\":{\"value\":\"ameriprise financial\"},\"renderers\":[{\"id\":\"3c488703-33ad-4321-8d17-294460b6f391\",\"type\":\"GlyphRenderer\"}]},\"id\":\"b8141ebc-a49f-4369-bb19-2d90798036c1\",\"type\":\"LegendItem\"},{\"attributes\":{\"fill_alpha\":{\"field\":\"fill_alpha\"},\"fill_color\":{\"field\":\"color\"},\"height\":{\"field\":\"height\",\"units\":\"data\"},\"line_color\":{\"field\":\"line_color\"},\"width\":{\"field\":\"width\",\"units\":\"data\"},\"x\":{\"field\":\"x\"},\"y\":{\"field\":\"y\"}},\"id\":\"c353faf8-9460-414d-8d44-2ec97677c3f0\",\"type\":\"Rect\"},{\"attributes\":{\"data_source\":{\"id\":\"0bd731b9-1948-426c-8ddf-e31045b70c24\",\"type\":\"ColumnDataSource\"},\"glyph\":{\"id\":\"8cefe08e-6eb5-46f1-b61e-3638e7e02bfd\",\"type\":\"Rect\"},\"hover_glyph\":null,\"nonselection_glyph\":null,\"selection_glyph\":null},\"id\":\"c11fadd9-1587-4beb-80c5-7a2cb9b88bc8\",\"type\":\"GlyphRenderer\"},{\"attributes\":{\"callback\":null,\"column_names\":[\"line_color\",\"line_alpha\",\"color\",\"fill_alpha\",\"height\",\"width\",\"y\",\"x\",\"label\"],\"data\":{\"chart_index\":[{\"word\":\"services\"}],\"color\":[\"#17becf\"],\"fill_alpha\":[0.8],\"height\":[24530.0],\"label\":[{\"word\":\"services\"}],\"line_alpha\":[1.0],\"line_color\":[\"white\"],\"width\":[0.8],\"word\":[\"services\"],\"x\":[\"services\"],\"y\":[12265.0]}},\"id\":\"7e416c4f-c352-467e-a827-dcef3ed3374e\",\"type\":\"ColumnDataSource\"},{\"attributes\":{},\"id\":\"69f84237-1524-4821-b1f6-3a43eb678a2c\",\"type\":\"CategoricalTickFormatter\"},{\"attributes\":{\"fill_alpha\":{\"field\":\"fill_alpha\"},\"fill_color\":{\"field\":\"color\"},\"height\":{\"field\":\"height\",\"units\":\"data\"},\"line_color\":{\"field\":\"line_color\"},\"width\":{\"field\":\"width\",\"units\":\"data\"},\"x\":{\"field\":\"x\"},\"y\":{\"field\":\"y\"}},\"id\":\"02e9c71f-4a84-4b0b-ae2f-012a082afae6\",\"type\":\"Rect\"},{\"attributes\":{},\"id\":\"35dadade-7948-45e7-b22f-64733d346ca5\",\"type\":\"BasicTickFormatter\"},{\"attributes\":{\"data_source\":{\"id\":\"30aec3ce-4517-42b7-9faf-24d1d40edbb9\",\"type\":\"ColumnDataSource\"},\"glyph\":{\"id\":\"604c498d-5347-46f2-b03b-4b0508dbfcb1\",\"type\":\"Rect\"},\"hover_glyph\":null,\"nonselection_glyph\":null,\"selection_glyph\":null},\"id\":\"8d520b8d-34b8-4763-baf1-2ba76e400766\",\"type\":\"GlyphRenderer\"},{\"attributes\":{\"fill_alpha\":{\"field\":\"fill_alpha\"},\"fill_color\":{\"field\":\"color\"},\"height\":{\"field\":\"height\",\"units\":\"data\"},\"line_color\":{\"field\":\"line_color\"},\"width\":{\"field\":\"width\",\"units\":\"data\"},\"x\":{\"field\":\"x\"},\"y\":{\"field\":\"y\"}},\"id\":\"31b9faf9-662e-4462-a9cf-98e6254e30fd\",\"type\":\"Rect\"},{\"attributes\":{\"callback\":null,\"column_names\":[\"line_color\",\"line_alpha\",\"color\",\"fill_alpha\",\"height\",\"width\",\"y\",\"x\",\"label\"],\"data\":{\"chart_index\":[{\"word\":\"associates\"}],\"color\":[\"#17becf\"],\"fill_alpha\":[0.8],\"height\":[18156.0],\"label\":[{\"word\":\"associates\"}],\"line_alpha\":[1.0],\"line_color\":[\"white\"],\"width\":[0.8],\"word\":[\"associates\"],\"x\":[\"associates\"],\"y\":[9078.0]}},\"id\":\"89bb0fe0-c10a-4a04-bbd4-8c8195781f28\",\"type\":\"ColumnDataSource\"},{\"attributes\":{\"label\":{\"value\":\"financial services\"},\"renderers\":[{\"id\":\"b413fa63-b3ef-4355-86b3-afea060d27fd\",\"type\":\"GlyphRenderer\"}]},\"id\":\"59c154c8-a775-48d1-8e14-935abb1b5248\",\"type\":\"LegendItem\"},{\"attributes\":{\"data_source\":{\"id\":\"6a32191f-bda0-4234-96c4-ba7052f8cb57\",\"type\":\"ColumnDataSource\"},\"glyph\":{\"id\":\"4033c57a-d263-492c-8915-d3b26239d849\",\"type\":\"Rect\"},\"hover_glyph\":null,\"nonselection_glyph\":null,\"selection_glyph\":null},\"id\":\"ae213c9e-e7d2-4e93-aa14-dde0dde1f631\",\"type\":\"GlyphRenderer\"},{\"attributes\":{\"fill_alpha\":{\"field\":\"fill_alpha\"},\"fill_color\":{\"field\":\"color\"},\"height\":{\"field\":\"height\",\"units\":\"data\"},\"line_color\":{\"field\":\"line_color\"},\"width\":{\"field\":\"width\",\"units\":\"data\"},\"x\":{\"field\":\"x\"},\"y\":{\"field\":\"y\"}},\"id\":\"eb2510b0-004b-4514-993d-06d2ac178013\",\"type\":\"Rect\"},{\"attributes\":{\"callback\":null,\"column_names\":[\"line_color\",\"line_alpha\",\"color\",\"fill_alpha\",\"height\",\"width\",\"y\",\"x\",\"label\"],\"data\":{\"chart_index\":[{\"word\":\"school\"}],\"color\":[\"#17becf\"],\"fill_alpha\":[0.8],\"height\":[31068.0],\"label\":[{\"word\":\"school\"}],\"line_alpha\":[1.0],\"line_color\":[\"white\"],\"width\":[0.8],\"word\":[\"school\"],\"x\":[\"school\"],\"y\":[15534.0]}},\"id\":\"68233097-c9b7-4825-a9cd-68d1b42d88df\",\"type\":\"ColumnDataSource\"},{\"attributes\":{\"data_source\":{\"id\":\"ed93f626-a13e-4785-9c8f-5f449155eacc\",\"type\":\"ColumnDataSource\"},\"glyph\":{\"id\":\"c5eedacf-1371-4a3d-8d80-66958f34f8eb\",\"type\":\"Rect\"},\"hover_glyph\":null,\"nonselection_glyph\":null,\"selection_glyph\":null},\"id\":\"d3bd848c-f714-42d4-986f-9bea1fbf117b\",\"type\":\"GlyphRenderer\"},{\"attributes\":{\"data_source\":{\"id\":\"f2fb0060-95e8-4cf7-89ef-27af4f56320d\",\"type\":\"ColumnDataSource\"},\"glyph\":{\"id\":\"8abed49d-941b-429b-bfcd-80c436f2acb3\",\"type\":\"Rect\"},\"hover_glyph\":null,\"nonselection_glyph\":null,\"selection_glyph\":null},\"id\":\"9cb48cb5-a568-4a84-ad3a-801eeed465d6\",\"type\":\"GlyphRenderer\"},{\"attributes\":{\"label\":{\"value\":\"law\"},\"renderers\":[{\"id\":\"68a3d77b-2ad2-42c3-87b8-63dd64a55202\",\"type\":\"GlyphRenderer\"}]},\"id\":\"951c5fb9-ccc3-482b-9a07-d59a828dd7d9\",\"type\":\"LegendItem\"},{\"attributes\":{\"overlay\":{\"id\":\"74b0f359-d8ce-44ed-a32a-e5d2da7dfdb6\",\"type\":\"BoxAnnotation\"},\"plot\":{\"id\":\"501b95bf-484d-4f1b-9d4c-0fc47a14c843\",\"subtype\":\"Chart\",\"type\":\"Plot\"}},\"id\":\"352d9eb6-b7db-444a-a8f5-365fce43c26e\",\"type\":\"BoxZoomTool\"},{\"attributes\":{\"fill_alpha\":{\"field\":\"fill_alpha\"},\"fill_color\":{\"field\":\"color\"},\"height\":{\"field\":\"height\",\"units\":\"data\"},\"line_color\":{\"field\":\"line_color\"},\"width\":{\"field\":\"width\",\"units\":\"data\"},\"x\":{\"field\":\"x\"},\"y\":{\"field\":\"y\"}},\"id\":\"15f60eb6-08b4-4570-9904-cdfdfc65e1b4\",\"type\":\"Rect\"},{\"attributes\":{\"label\":{\"value\":\"century 21\"},\"renderers\":[{\"id\":\"a1aedd63-6e21-4c16-abd4-d3a840e9442d\",\"type\":\"GlyphRenderer\"}]},\"id\":\"bbfd9240-4054-4115-85eb-b43302ab40cb\",\"type\":\"LegendItem\"},{\"attributes\":{\"callback\":null,\"column_names\":[\"line_color\",\"line_alpha\",\"color\",\"fill_alpha\",\"height\",\"width\",\"y\",\"x\",\"label\"],\"data\":{\"chart_index\":[{\"word\":\"services llc\"}],\"color\":[\"red\"],\"fill_alpha\":[0.8],\"height\":[1966.0],\"label\":[{\"word\":\"services llc\"}],\"line_alpha\":[1.0],\"line_color\":[\"white\"],\"width\":[0.8],\"word\":[\"services llc\"],\"x\":[\"services llc\"],\"y\":[983.0]}},\"id\":\"6c53d540-7add-45be-a97f-021e39eb41fe\",\"type\":\"ColumnDataSource\"},{\"attributes\":{\"label\":{\"value\":\"ymca\"},\"renderers\":[{\"id\":\"400e2c0b-353a-41b2-989e-1ce26a31ea13\",\"type\":\"GlyphRenderer\"}]},\"id\":\"29ef83d2-b17d-4a02-9d8a-13a5584d5dad\",\"type\":\"LegendItem\"},{\"attributes\":{\"fill_alpha\":{\"field\":\"fill_alpha\"},\"fill_color\":{\"field\":\"color\"},\"height\":{\"field\":\"height\",\"units\":\"data\"},\"line_color\":{\"field\":\"line_color\"},\"width\":{\"field\":\"width\",\"units\":\"data\"},\"x\":{\"field\":\"x\"},\"y\":{\"field\":\"y\"}},\"id\":\"4033c57a-d263-492c-8915-d3b26239d849\",\"type\":\"Rect\"},{\"attributes\":{\"fill_alpha\":{\"field\":\"fill_alpha\"},\"fill_color\":{\"field\":\"color\"},\"height\":{\"field\":\"height\",\"units\":\"data\"},\"line_color\":{\"field\":\"line_color\"},\"width\":{\"field\":\"width\",\"units\":\"data\"},\"x\":{\"field\":\"x\"},\"y\":{\"field\":\"y\"}},\"id\":\"cbff1b50-f7de-4159-bf29-e0c6b2065041\",\"type\":\"Rect\"},{\"attributes\":{\"callback\":null,\"column_names\":[\"line_color\",\"line_alpha\",\"color\",\"fill_alpha\",\"height\",\"width\",\"y\",\"x\",\"label\"],\"data\":{\"chart_index\":[{\"word\":\"group\"}],\"color\":[\"#17becf\"],\"fill_alpha\":[0.8],\"height\":[23349.0],\"label\":[{\"word\":\"group\"}],\"line_alpha\":[1.0],\"line_color\":[\"white\"],\"width\":[0.8],\"word\":[\"group\"],\"x\":[\"group\"],\"y\":[11674.5]}},\"id\":\"56a1e4e9-6350-4d2f-bf20-835a8b2ecb16\",\"type\":\"ColumnDataSource\"},{\"attributes\":{\"callback\":null,\"column_names\":[\"line_color\",\"line_alpha\",\"color\",\"fill_alpha\",\"height\",\"width\",\"y\",\"x\",\"label\"],\"data\":{\"chart_index\":[{\"word\":\"district\"}],\"color\":[\"#17becf\"],\"fill_alpha\":[0.8],\"height\":[10095.0],\"label\":[{\"word\":\"district\"}],\"line_alpha\":[1.0],\"line_color\":[\"white\"],\"width\":[0.8],\"word\":[\"district\"],\"x\":[\"district\"],\"y\":[5047.5]}},\"id\":\"7939da64-1733-4a70-9ee0-0510f0c59743\",\"type\":\"ColumnDataSource\"},{\"attributes\":{\"label\":{\"value\":\"budget blinds\"},\"renderers\":[{\"id\":\"8f828a8a-8da1-483c-a95a-3317942ebe2d\",\"type\":\"GlyphRenderer\"}]},\"id\":\"0f88b5dc-1a76-4f49-8cb3-bd99fe9ac114\",\"type\":\"LegendItem\"},{\"attributes\":{\"label\":{\"value\":\"public schools\"},\"renderers\":[{\"id\":\"aab970fe-571a-47f4-8206-692654a31d8e\",\"type\":\"GlyphRenderer\"}]},\"id\":\"dc59876c-3125-447d-bb65-3681c34c05de\",\"type\":\"LegendItem\"},{\"attributes\":{\"data_source\":{\"id\":\"cbb885c7-da80-4cc3-ab67-ab2290cd4dd8\",\"type\":\"ColumnDataSource\"},\"glyph\":{\"id\":\"95673f30-bbb7-4c3f-9467-0a9dc8087344\",\"type\":\"Rect\"},\"hover_glyph\":null,\"nonselection_glyph\":null,\"selection_glyph\":null},\"id\":\"22a02d77-87ee-46b9-b024-41f7a1574716\",\"type\":\"GlyphRenderer\"},{\"attributes\":{\"axis_label\":null,\"formatter\":{\"id\":\"dde799ac-ac3f-45af-ab5f-7791c7751fed\",\"type\":\"CategoricalTickFormatter\"},\"major_label_orientation\":0.7853981633974483,\"plot\":{\"id\":\"2599bde9-b733-4904-8c35-96c2bc8a6e29\",\"subtype\":\"Chart\",\"type\":\"Plot\"},\"ticker\":{\"id\":\"bcf0e8ce-3957-41f4-a5f0-a57befa87e17\",\"type\":\"CategoricalTicker\"}},\"id\":\"94b1e2d3-7c76-402a-883e-0b2b8a61cfa1\",\"type\":\"CategoricalAxis\"},{\"attributes\":{\"callback\":null,\"column_names\":[\"line_color\",\"line_alpha\",\"color\",\"fill_alpha\",\"height\",\"width\",\"y\",\"x\",\"label\"],\"data\":{\"chart_index\":[{\"names\":\"bb&t\"}],\"color\":[\"#ff7f0e\"],\"fill_alpha\":[0.8],\"height\":[217.0],\"label\":[{\"names\":\"bb&t\"}],\"line_alpha\":[1.0],\"line_color\":[\"white\"],\"names\":[\"bb&t\"],\"width\":[0.8],\"x\":[\"bb&t\"],\"y\":[108.5]}},\"id\":\"ae9a0c21-23d6-4079-9907-31238636176d\",\"type\":\"ColumnDataSource\"},{\"attributes\":{\"data_source\":{\"id\":\"f8972b2a-02f3-44c2-866e-75f820aa8e92\",\"type\":\"ColumnDataSource\"},\"glyph\":{\"id\":\"bc2df042-4b2b-41c8-8869-b72cf300ad22\",\"type\":\"Rect\"},\"hover_glyph\":null,\"nonselection_glyph\":null,\"selection_glyph\":null},\"id\":\"40269b64-06ed-4b99-a8d5-9df35b4c4e80\",\"type\":\"GlyphRenderer\"},{\"attributes\":{\"data_source\":{\"id\":\"ebe6a85f-38b6-498b-8680-50ed5b4776ba\",\"type\":\"ColumnDataSource\"},\"glyph\":{\"id\":\"02e9c71f-4a84-4b0b-ae2f-012a082afae6\",\"type\":\"Rect\"},\"hover_glyph\":null,\"nonselection_glyph\":null,\"selection_glyph\":null},\"id\":\"ddb41637-11e5-4f34-819a-8844792caed1\",\"type\":\"GlyphRenderer\"},{\"attributes\":{\"callback\":null,\"column_names\":[\"line_color\",\"line_alpha\",\"color\",\"fill_alpha\",\"height\",\"width\",\"y\",\"x\",\"label\"],\"data\":{\"chart_index\":[{\"names\":\"state farm insurance\"}],\"color\":[\"#ff7f0e\"],\"fill_alpha\":[0.8],\"height\":[327.0],\"label\":[{\"names\":\"state farm insurance\"}],\"line_alpha\":[1.0],\"line_color\":[\"white\"],\"names\":[\"state farm insurance\"],\"width\":[0.8],\"x\":[\"state farm insurance\"],\"y\":[163.5]}},\"id\":\"f1e08f2d-460d-40fc-80ab-c683d0d85f9a\",\"type\":\"ColumnDataSource\"},{\"attributes\":{},\"id\":\"9e544f34-069f-4eee-8ad1-2e49e73c3b7f\",\"type\":\"CategoricalTicker\"},{\"attributes\":{\"label\":{\"value\":\"corp\"},\"renderers\":[{\"id\":\"22014b8e-917f-45b5-9a19-6562febba6de\",\"type\":\"GlyphRenderer\"}]},\"id\":\"ffe94c6b-7499-4f58-88f9-954d72356629\",\"type\":\"LegendItem\"},{\"attributes\":{\"data_source\":{\"id\":\"4ac0a487-a403-49a4-a3db-025b86ec5622\",\"type\":\"ColumnDataSource\"},\"glyph\":{\"id\":\"83c6ea7d-58eb-4902-9119-46be404ca804\",\"type\":\"Rect\"},\"hover_glyph\":null,\"nonselection_glyph\":null,\"selection_glyph\":null},\"id\":\"445f857e-3c17-4299-bdc2-0419dfa978c7\",\"type\":\"GlyphRenderer\"},{\"attributes\":{\"callback\":null,\"column_names\":[\"line_color\",\"line_alpha\",\"color\",\"fill_alpha\",\"height\",\"width\",\"y\",\"x\",\"label\"],\"data\":{\"chart_index\":[{\"word\":\"construction\"}],\"color\":[\"#17becf\"],\"fill_alpha\":[0.8],\"height\":[11675.0],\"label\":[{\"word\":\"construction\"}],\"line_alpha\":[1.0],\"line_color\":[\"white\"],\"width\":[0.8],\"word\":[\"construction\"],\"x\":[\"construction\"],\"y\":[5837.5]}},\"id\":\"07aeb5d1-3c4c-4c9f-b412-e52845ea7e8b\",\"type\":\"ColumnDataSource\"},{\"attributes\":{\"callback\":null,\"column_names\":[\"line_color\",\"line_alpha\",\"color\",\"fill_alpha\",\"height\",\"width\",\"y\",\"x\",\"label\"],\"data\":{\"chart_index\":[{\"names\":\"u.s. bank\"}],\"color\":[\"#ff7f0e\"],\"fill_alpha\":[0.8],\"height\":[317.0],\"label\":[{\"names\":\"u.s. bank\"}],\"line_alpha\":[1.0],\"line_color\":[\"white\"],\"names\":[\"u.s. bank\"],\"width\":[0.8],\"x\":[\"u.s. bank\"],\"y\":[158.5]}},\"id\":\"4954d30c-f8af-43ad-8d21-b4bb30977215\",\"type\":\"ColumnDataSource\"},{\"attributes\":{\"fill_alpha\":{\"field\":\"fill_alpha\"},\"fill_color\":{\"field\":\"color\"},\"height\":{\"field\":\"height\",\"units\":\"data\"},\"line_color\":{\"field\":\"line_color\"},\"width\":{\"field\":\"width\",\"units\":\"data\"},\"x\":{\"field\":\"x\"},\"y\":{\"field\":\"y\"}},\"id\":\"3ccc22db-92d9-48e3-af56-c747e96d162a\",\"type\":\"Rect\"},{\"attributes\":{\"data_source\":{\"id\":\"1d83f9eb-70ac-488a-b9c1-bc76cc1857bb\",\"type\":\"ColumnDataSource\"},\"glyph\":{\"id\":\"4ff0e9ea-3390-4d6c-abac-c1e690c7ef5d\",\"type\":\"Rect\"},\"hover_glyph\":null,\"nonselection_glyph\":null,\"selection_glyph\":null},\"id\":\"712144f5-069e-421a-b53b-0a117f2cfd70\",\"type\":\"GlyphRenderer\"},{\"attributes\":{\"data_source\":{\"id\":\"d0db6c86-d2f8-475f-8c3b-91d000205c5b\",\"type\":\"ColumnDataSource\"},\"glyph\":{\"id\":\"829a96e9-cb30-4a03-b0eb-a36b2892a743\",\"type\":\"Rect\"},\"hover_glyph\":null,\"nonselection_glyph\":null,\"selection_glyph\":null},\"id\":\"60f0747e-a876-44a2-a04e-fb862c68566b\",\"type\":\"GlyphRenderer\"},{\"attributes\":{\"fill_alpha\":{\"field\":\"fill_alpha\"},\"fill_color\":{\"field\":\"color\"},\"height\":{\"field\":\"height\",\"units\":\"data\"},\"line_color\":{\"field\":\"line_color\"},\"width\":{\"field\":\"width\",\"units\":\"data\"},\"x\":{\"field\":\"x\"},\"y\":{\"field\":\"y\"}},\"id\":\"8a56f752-2348-4f11-8868-076638e680ab\",\"type\":\"Rect\"},{\"attributes\":{\"label\":{\"value\":\"middle school\"},\"renderers\":[{\"id\":\"ae213c9e-e7d2-4e93-aa14-dde0dde1f631\",\"type\":\"GlyphRenderer\"}]},\"id\":\"7a9f858d-b6f2-476e-9bfb-73ebba1a2efb\",\"type\":\"LegendItem\"},{\"attributes\":{\"children\":[{\"id\":\"2599bde9-b733-4904-8c35-96c2bc8a6e29\",\"subtype\":\"Chart\",\"type\":\"Plot\"},{\"id\":\"229bce3b-2879-4b2c-94ad-0f6ac80129d5\",\"type\":\"Row\"}]},\"id\":\"d6eb5a2d-934b-4537-b422-94a7accd5ebd\",\"type\":\"Column\"},{\"attributes\":{\"label\":{\"value\":\"law office\"},\"renderers\":[{\"id\":\"c0e7a184-99b0-41c3-92af-522adefa0d6b\",\"type\":\"GlyphRenderer\"}]},\"id\":\"98714434-0bd2-4a95-819d-73995339918a\",\"type\":\"LegendItem\"},{\"attributes\":{\"plot\":{\"id\":\"501b95bf-484d-4f1b-9d4c-0fc47a14c843\",\"subtype\":\"Chart\",\"type\":\"Plot\"}},\"id\":\"ed8bbbd1-ed85-4d29-9cdc-25637d976df0\",\"type\":\"WheelZoomTool\"},{\"attributes\":{\"data_source\":{\"id\":\"c76cf5bd-e518-46f8-8f78-b87244956834\",\"type\":\"ColumnDataSource\"},\"glyph\":{\"id\":\"31b9faf9-662e-4462-a9cf-98e6254e30fd\",\"type\":\"Rect\"},\"hover_glyph\":null,\"nonselection_glyph\":null,\"selection_glyph\":null},\"id\":\"7a0c74a3-70fb-4d14-9498-7b829a3c4b9f\",\"type\":\"GlyphRenderer\"},{\"attributes\":{\"dimension\":1,\"grid_line_color\":{\"value\":null},\"plot\":{\"id\":\"51a0abcc-d2a3-479f-a5e2-8d4141b667df\",\"subtype\":\"Chart\",\"type\":\"Plot\"},\"ticker\":{\"id\":\"8a4069d4-9d65-4c06-9939-188c7bd757a4\",\"type\":\"BasicTicker\"}},\"id\":\"7a204ebc-35b6-4b8f-852b-6cd566a0cb53\",\"type\":\"Grid\"},{\"attributes\":{\"fill_alpha\":{\"field\":\"fill_alpha\"},\"fill_color\":{\"field\":\"color\"},\"height\":{\"field\":\"height\",\"units\":\"data\"},\"line_color\":{\"field\":\"line_color\"},\"width\":{\"field\":\"width\",\"units\":\"data\"},\"x\":{\"field\":\"x\"},\"y\":{\"field\":\"y\"}},\"id\":\"934d14c2-16df-42a6-bdd1-a81739763e3e\",\"type\":\"Rect\"},{\"attributes\":{\"axis_label\":\" \",\"formatter\":{\"id\":\"6201cd2f-608e-47b8-a897-e89d1cf8c274\",\"type\":\"BasicTickFormatter\"},\"minor_tick_line_color\":{\"value\":null},\"plot\":{\"id\":\"501b95bf-484d-4f1b-9d4c-0fc47a14c843\",\"subtype\":\"Chart\",\"type\":\"Plot\"},\"ticker\":{\"id\":\"d6b6dbdd-a417-4d1f-8bdc-426b1c8ec55b\",\"type\":\"BasicTicker\"}},\"id\":\"97f4d1e8-a3c8-4c8d-a31a-1a0ffd75752e\",\"type\":\"LinearAxis\"},{\"attributes\":{\"plot\":{\"id\":\"51a0abcc-d2a3-479f-a5e2-8d4141b667df\",\"subtype\":\"Chart\",\"type\":\"Plot\"}},\"id\":\"9a98101c-a168-4257-9d57-95a76546c2cf\",\"type\":\"HelpTool\"},{\"attributes\":{\"fill_alpha\":{\"field\":\"fill_alpha\"},\"fill_color\":{\"field\":\"color\"},\"height\":{\"field\":\"height\",\"units\":\"data\"},\"line_color\":{\"field\":\"line_color\"},\"width\":{\"field\":\"width\",\"units\":\"data\"},\"x\":{\"field\":\"x\"},\"y\":{\"field\":\"y\"}},\"id\":\"b2fa02be-0f7c-4b56-910a-066342453c9b\",\"type\":\"Rect\"},{\"attributes\":{\"data_source\":{\"id\":\"2e81b504-3e42-4c2d-82da-a884b24b3302\",\"type\":\"ColumnDataSource\"},\"glyph\":{\"id\":\"da33686e-f969-4ea1-9e15-47b6fb1a4dbf\",\"type\":\"Rect\"},\"hover_glyph\":null,\"nonselection_glyph\":null,\"selection_glyph\":null},\"id\":\"c0e7a184-99b0-41c3-92af-522adefa0d6b\",\"type\":\"GlyphRenderer\"},{\"attributes\":{\"fill_alpha\":{\"field\":\"fill_alpha\"},\"fill_color\":{\"field\":\"color\"},\"height\":{\"field\":\"height\",\"units\":\"data\"},\"line_color\":{\"field\":\"line_color\"},\"width\":{\"field\":\"width\",\"units\":\"data\"},\"x\":{\"field\":\"x\"},\"y\":{\"field\":\"y\"}},\"id\":\"8cefe08e-6eb5-46f1-b61e-3638e7e02bfd\",\"type\":\"Rect\"},{\"attributes\":{\"axis_label\":null,\"formatter\":{\"id\":\"a6bafb11-f301-453f-9739-1056a063a62f\",\"type\":\"CategoricalTickFormatter\"},\"major_label_orientation\":0.7853981633974483,\"plot\":{\"id\":\"501b95bf-484d-4f1b-9d4c-0fc47a14c843\",\"subtype\":\"Chart\",\"type\":\"Plot\"},\"ticker\":{\"id\":\"9e544f34-069f-4eee-8ad1-2e49e73c3b7f\",\"type\":\"CategoricalTicker\"}},\"id\":\"18cd9f57-4eec-4605-80c4-262d04d715b0\",\"type\":\"CategoricalAxis\"},{\"attributes\":{\"data_source\":{\"id\":\"a7440b0f-f939-4660-aa5a-e6921546f2e0\",\"type\":\"ColumnDataSource\"},\"glyph\":{\"id\":\"501d4cc1-cdc0-4c65-8d89-32838cf2a639\",\"type\":\"Rect\"},\"hover_glyph\":null,\"nonselection_glyph\":null,\"selection_glyph\":null},\"id\":\"63e2aa71-70d7-4b6f-8352-4957b11e3263\",\"type\":\"GlyphRenderer\"},{\"attributes\":{\"label\":{\"value\":\"insurance\"},\"renderers\":[{\"id\":\"3ec919f1-ec25-4d30-8e0e-326c5047716d\",\"type\":\"GlyphRenderer\"}]},\"id\":\"90f26391-cf25-4e56-bc8e-9b2032442cc9\",\"type\":\"LegendItem\"},{\"attributes\":{\"bottom_units\":\"screen\",\"fill_alpha\":{\"value\":0.5},\"fill_color\":{\"value\":\"lightgrey\"},\"left_units\":\"screen\",\"level\":\"overlay\",\"line_alpha\":{\"value\":1.0},\"line_color\":{\"value\":\"black\"},\"line_dash\":[4,4],\"line_width\":{\"value\":2},\"plot\":null,\"render_mode\":\"css\",\"right_units\":\"screen\",\"top_units\":\"screen\"},\"id\":\"74b0f359-d8ce-44ed-a32a-e5d2da7dfdb6\",\"type\":\"BoxAnnotation\"},{\"attributes\":{\"fill_alpha\":{\"field\":\"fill_alpha\"},\"fill_color\":{\"field\":\"color\"},\"height\":{\"field\":\"height\",\"units\":\"data\"},\"line_color\":{\"field\":\"line_color\"},\"width\":{\"field\":\"width\",\"units\":\"data\"},\"x\":{\"field\":\"x\"},\"y\":{\"field\":\"y\"}},\"id\":\"b6b4c0d4-b4ba-4e71-914c-d8eb684705d3\",\"type\":\"Rect\"},{\"attributes\":{\"plot\":{\"id\":\"2599bde9-b733-4904-8c35-96c2bc8a6e29\",\"subtype\":\"Chart\",\"type\":\"Plot\"}},\"id\":\"9d4ff99e-e6c5-4668-b96d-a52e98458dcd\",\"type\":\"ResetTool\"},{\"attributes\":{\"callback\":null,\"column_names\":[\"line_color\",\"line_alpha\",\"color\",\"fill_alpha\",\"height\",\"width\",\"y\",\"x\",\"label\"],\"data\":{\"chart_index\":[{\"word\":\"center\"}],\"color\":[\"#17becf\"],\"fill_alpha\":[0.8],\"height\":[21531.0],\"label\":[{\"word\":\"center\"}],\"line_alpha\":[1.0],\"line_color\":[\"white\"],\"width\":[0.8],\"word\":[\"center\"],\"x\":[\"center\"],\"y\":[10765.5]}},\"id\":\"f2fb0060-95e8-4cf7-89ef-27af4f56320d\",\"type\":\"ColumnDataSource\"},{\"attributes\":{\"fill_alpha\":{\"field\":\"fill_alpha\"},\"fill_color\":{\"field\":\"color\"},\"height\":{\"field\":\"height\",\"units\":\"data\"},\"line_color\":{\"field\":\"line_color\"},\"width\":{\"field\":\"width\",\"units\":\"data\"},\"x\":{\"field\":\"x\"},\"y\":{\"field\":\"y\"}},\"id\":\"704a7af8-a50d-47a5-8566-bde1a4749c93\",\"type\":\"Rect\"},{\"attributes\":{\"label\":{\"value\":\"law firm\"},\"renderers\":[{\"id\":\"8eb385be-c346-4d75-b2ba-401612a3923c\",\"type\":\"GlyphRenderer\"}]},\"id\":\"6d812e2d-6746-453d-9c3e-d46ed799fd4f\",\"type\":\"LegendItem\"},{\"attributes\":{\"plot\":null,\"text\":\"Most Common Words Found In Names\"},\"id\":\"f5899d84-8e56-4989-a397-a3776b8eee19\",\"type\":\"Title\"},{\"attributes\":{\"label\":{\"value\":\"home\"},\"renderers\":[{\"id\":\"40269b64-06ed-4b99-a8d5-9df35b4c4e80\",\"type\":\"GlyphRenderer\"}]},\"id\":\"88b586eb-6a03-47b0-8f13-86eea9a98a10\",\"type\":\"LegendItem\"},{\"attributes\":{\"data_source\":{\"id\":\"13e8109f-a5c4-4f13-98fb-884e031a0e7a\",\"type\":\"ColumnDataSource\"},\"glyph\":{\"id\":\"f73645d2-b9be-417a-bf16-e706c48b9a4f\",\"type\":\"Rect\"},\"hover_glyph\":null,\"nonselection_glyph\":null,\"selection_glyph\":null},\"id\":\"9d159312-e7be-4349-816b-6e8371e2ef5b\",\"type\":\"GlyphRenderer\"},{\"attributes\":{\"data_source\":{\"id\":\"a612afd3-1f31-4604-968d-454e0e2e5024\",\"type\":\"ColumnDataSource\"},\"glyph\":{\"id\":\"4450401f-76a4-441f-9d1c-30e65d3a8d3d\",\"type\":\"Rect\"},\"hover_glyph\":null,\"nonselection_glyph\":null,\"selection_glyph\":null},\"id\":\"09e4fcce-5217-4ca8-b138-c27f82805b4a\",\"type\":\"GlyphRenderer\"},{\"attributes\":{\"label\":{\"value\":\"insurance agency\"},\"renderers\":[{\"id\":\"22a02d77-87ee-46b9-b024-41f7a1574716\",\"type\":\"GlyphRenderer\"}]},\"id\":\"6c04e563-0f21-4c05-b0e9-a53383881958\",\"type\":\"LegendItem\"},{\"attributes\":{\"items\":[{\"id\":\"1c2dab5d-bdc3-4d80-ab0c-47287e3480df\",\"type\":\"LegendItem\"},{\"id\":\"b8141ebc-a49f-4369-bb19-2d90798036c1\",\"type\":\"LegendItem\"},{\"id\":\"55fe35c7-0567-46fe-b461-0b33c7a6cfcc\",\"type\":\"LegendItem\"},{\"id\":\"bbfd9240-4054-4115-85eb-b43302ab40cb\",\"type\":\"LegendItem\"},{\"id\":\"29ef83d2-b17d-4a02-9d8a-13a5584d5dad\",\"type\":\"LegendItem\"},{\"id\":\"c090f46c-305f-4fc4-ad03-13cd67705532\",\"type\":\"LegendItem\"},{\"id\":\"80ad4e0b-2f81-4719-adc4-39532364fd5d\",\"type\":\"LegendItem\"},{\"id\":\"80896a77-6869-4438-b042-5119e0d94eb0\",\"type\":\"LegendItem\"},{\"id\":\"c9244c14-fa98-45b7-bcf5-1141fa99513f\",\"type\":\"LegendItem\"},{\"id\":\"f98eff02-3331-4f95-95f6-5f3949e97c15\",\"type\":\"LegendItem\"},{\"id\":\"204fa215-0a01-4624-85c8-a5e737f3283b\",\"type\":\"LegendItem\"},{\"id\":\"5f2ff2e0-e336-48df-8e1e-b21a335d0723\",\"type\":\"LegendItem\"},{\"id\":\"55da1c2a-80f5-44a4-b60e-a95b174b6b6d\",\"type\":\"LegendItem\"},{\"id\":\"67ee2ad6-2236-4f90-b153-5580be7d1b5c\",\"type\":\"LegendItem\"},{\"id\":\"f81fd4cc-769a-45c3-9462-47f4502d3ccd\",\"type\":\"LegendItem\"},{\"id\":\"74a73fbb-698d-4ffa-817d-6b61e402fc7e\",\"type\":\"LegendItem\"},{\"id\":\"8e87487c-64b1-40f8-b0b7-5fa96e4f1ec2\",\"type\":\"LegendItem\"},{\"id\":\"0b369ebc-b2b5-4d30-bc51-0047614d6160\",\"type\":\"LegendItem\"},{\"id\":\"3cece09d-61c4-444b-b407-9bc70c2200b4\",\"type\":\"LegendItem\"},{\"id\":\"cf830266-ba6a-4fac-aae9-9c9e1c2b8f8e\",\"type\":\"LegendItem\"},{\"id\":\"dedf2e18-2bb9-474f-885d-404a758d79e0\",\"type\":\"LegendItem\"},{\"id\":\"1f6803f5-8daf-4654-8e21-660a87f5a978\",\"type\":\"LegendItem\"},{\"id\":\"14213a39-1020-4c1b-8bb1-d492a04400df\",\"type\":\"LegendItem\"},{\"id\":\"0f88b5dc-1a76-4f49-8cb3-bd99fe9ac114\",\"type\":\"LegendItem\"},{\"id\":\"3a529137-3754-4a83-ae25-32c6e54a581f\",\"type\":\"LegendItem\"}],\"location\":null,\"plot\":{\"id\":\"2599bde9-b733-4904-8c35-96c2bc8a6e29\",\"subtype\":\"Chart\",\"type\":\"Plot\"}},\"id\":\"67d5695d-0a81-41ce-b165-36abb0f95798\",\"type\":\"Legend\"},{\"attributes\":{\"label\":{\"value\":\"llc\"},\"renderers\":[{\"id\":\"f221f517-7986-4e00-8096-4a1d0f8c0700\",\"type\":\"GlyphRenderer\"}]},\"id\":\"2c3ee82b-7394-49ee-ae5b-14a61544b0de\",\"type\":\"LegendItem\"},{\"attributes\":{\"fill_alpha\":{\"field\":\"fill_alpha\"},\"fill_color\":{\"field\":\"color\"},\"height\":{\"field\":\"height\",\"units\":\"data\"},\"line_color\":{\"field\":\"line_color\"},\"width\":{\"field\":\"width\",\"units\":\"data\"},\"x\":{\"field\":\"x\"},\"y\":{\"field\":\"y\"}},\"id\":\"b78ae430-96ef-4b27-b313-fd58148205e7\",\"type\":\"Rect\"},{\"attributes\":{\"fill_alpha\":{\"field\":\"fill_alpha\"},\"fill_color\":{\"field\":\"color\"},\"height\":{\"field\":\"height\",\"units\":\"data\"},\"line_color\":{\"field\":\"line_color\"},\"width\":{\"field\":\"width\",\"units\":\"data\"},\"x\":{\"field\":\"x\"},\"y\":{\"field\":\"y\"}},\"id\":\"95673f30-bbb7-4c3f-9467-0a9dc8087344\",\"type\":\"Rect\"},{\"attributes\":{\"label\":{\"value\":\"corporation\"},\"renderers\":[{\"id\":\"abd3ce5d-1600-4db5-8d14-55e8db1eefdd\",\"type\":\"GlyphRenderer\"}]},\"id\":\"27c68a37-d123-4418-ae2d-259d3f473668\",\"type\":\"LegendItem\"},{\"attributes\":{\"data_source\":{\"id\":\"6c53d540-7add-45be-a97f-021e39eb41fe\",\"type\":\"ColumnDataSource\"},\"glyph\":{\"id\":\"6d01f8ef-5a1c-460c-bcab-122ecb424b20\",\"type\":\"Rect\"},\"hover_glyph\":null,\"nonselection_glyph\":null,\"selection_glyph\":null},\"id\":\"d1e8d35f-29da-4eaa-8685-f263b83753c1\",\"type\":\"GlyphRenderer\"},{\"attributes\":{\"label\":{\"value\":\"systems\"},\"renderers\":[{\"id\":\"965aafa8-2a7e-45a3-83fc-68a2695b910a\",\"type\":\"GlyphRenderer\"}]},\"id\":\"f759a241-262e-44f7-8759-410da34e95cc\",\"type\":\"LegendItem\"},{\"attributes\":{\"callback\":null,\"column_names\":[\"line_color\",\"line_alpha\",\"color\",\"fill_alpha\",\"height\",\"width\",\"y\",\"x\",\"label\"],\"data\":{\"chart_index\":[{\"names\":\"liberty tax service\"}],\"color\":[\"#ff7f0e\"],\"fill_alpha\":[0.8],\"height\":[282.0],\"label\":[{\"names\":\"liberty tax service\"}],\"line_alpha\":[1.0],\"line_color\":[\"white\"],\"names\":[\"liberty tax service\"],\"width\":[0.8],\"x\":[\"liberty tax service\"],\"y\":[141.0]}},\"id\":\"d306f763-5dd2-41dd-a497-7621c5797be7\",\"type\":\"ColumnDataSource\"},{\"attributes\":{\"label\":{\"value\":\"first presbyterian church\"},\"renderers\":[{\"id\":\"1931dafe-da68-4bc5-875e-29668840e098\",\"type\":\"GlyphRenderer\"}]},\"id\":\"80ad4e0b-2f81-4719-adc4-39532364fd5d\",\"type\":\"LegendItem\"},{\"attributes\":{\"fill_alpha\":{\"field\":\"fill_alpha\"},\"fill_color\":{\"field\":\"color\"},\"height\":{\"field\":\"height\",\"units\":\"data\"},\"line_color\":{\"field\":\"line_color\"},\"width\":{\"field\":\"width\",\"units\":\"data\"},\"x\":{\"field\":\"x\"},\"y\":{\"field\":\"y\"}},\"id\":\"2c2e4011-876f-4957-886c-89dd4fe99194\",\"type\":\"Rect\"},{\"attributes\":{\"fill_alpha\":{\"field\":\"fill_alpha\"},\"fill_color\":{\"field\":\"color\"},\"height\":{\"field\":\"height\",\"units\":\"data\"},\"line_color\":{\"field\":\"line_color\"},\"width\":{\"field\":\"width\",\"units\":\"data\"},\"x\":{\"field\":\"x\"},\"y\":{\"field\":\"y\"}},\"id\":\"6d01f8ef-5a1c-460c-bcab-122ecb424b20\",\"type\":\"Rect\"},{\"attributes\":{\"callback\":null,\"column_names\":[\"line_color\",\"line_alpha\",\"color\",\"fill_alpha\",\"height\",\"width\",\"y\",\"x\",\"label\"],\"data\":{\"chart_index\":[{\"names\":\"napa auto parts\"}],\"color\":[\"#ff7f0e\"],\"fill_alpha\":[0.8],\"height\":[283.0],\"label\":[{\"names\":\"napa auto parts\"}],\"line_alpha\":[1.0],\"line_color\":[\"white\"],\"names\":[\"napa auto parts\"],\"width\":[0.8],\"x\":[\"napa auto parts\"],\"y\":[141.5]}},\"id\":\"42a5b7d0-042d-4c31-9500-c1aebb8f1964\",\"type\":\"ColumnDataSource\"},{\"attributes\":{\"callback\":null,\"column_names\":[\"line_color\",\"line_alpha\",\"color\",\"fill_alpha\",\"height\",\"width\",\"y\",\"x\",\"label\"],\"data\":{\"chart_index\":[{\"names\":\"budget blinds\"}],\"color\":[\"#ff7f0e\"],\"fill_alpha\":[0.8],\"height\":[211.0],\"label\":[{\"names\":\"budget blinds\"}],\"line_alpha\":[1.0],\"line_color\":[\"white\"],\"names\":[\"budget blinds\"],\"width\":[0.8],\"x\":[\"budget blinds\"],\"y\":[105.5]}},\"id\":\"fb3f9059-31a2-4e3e-8a44-dad6fb3670dc\",\"type\":\"ColumnDataSource\"},{\"attributes\":{\"label\":{\"value\":\"services llc\"},\"renderers\":[{\"id\":\"d1e8d35f-29da-4eaa-8685-f263b83753c1\",\"type\":\"GlyphRenderer\"}]},\"id\":\"9a45b4d2-abb4-4920-8f41-b1924bceba14\",\"type\":\"LegendItem\"},{\"attributes\":{\"label\":{\"value\":\"associates\"},\"renderers\":[{\"id\":\"57df4402-ea55-4e99-871a-004b432cbafd\",\"type\":\"GlyphRenderer\"}]},\"id\":\"95beb7a8-09bc-40c1-acdc-3270ccc4c60b\",\"type\":\"LegendItem\"},{\"attributes\":{},\"id\":\"2e01ee58-bb0f-49c0-afeb-848faf89eaa9\",\"type\":\"CategoricalTicker\"},{\"attributes\":{\"data_source\":{\"id\":\"46b1cb23-9663-4647-86e7-6d9729b546a0\",\"type\":\"ColumnDataSource\"},\"glyph\":{\"id\":\"8ec4d591-219e-4e02-9c66-9fc28bd15bd0\",\"type\":\"Rect\"},\"hover_glyph\":null,\"nonselection_glyph\":null,\"selection_glyph\":null},\"id\":\"1ab11190-119f-43d3-b727-51eb1781e9d4\",\"type\":\"GlyphRenderer\"},{\"attributes\":{\"fill_alpha\":{\"field\":\"fill_alpha\"},\"fill_color\":{\"field\":\"color\"},\"height\":{\"field\":\"height\",\"units\":\"data\"},\"line_color\":{\"field\":\"line_color\"},\"width\":{\"field\":\"width\",\"units\":\"data\"},\"x\":{\"field\":\"x\"},\"y\":{\"field\":\"y\"}},\"id\":\"f73645d2-b9be-417a-bf16-e706c48b9a4f\",\"type\":\"Rect\"},{\"attributes\":{\"fill_alpha\":{\"field\":\"fill_alpha\"},\"fill_color\":{\"field\":\"color\"},\"height\":{\"field\":\"height\",\"units\":\"data\"},\"line_color\":{\"field\":\"line_color\"},\"width\":{\"field\":\"width\",\"units\":\"data\"},\"x\":{\"field\":\"x\"},\"y\":{\"field\":\"y\"}},\"id\":\"51c93c75-a91f-4102-bdf3-2559c006f72f\",\"type\":\"Rect\"},{\"attributes\":{\"fill_alpha\":{\"field\":\"fill_alpha\"},\"fill_color\":{\"field\":\"color\"},\"height\":{\"field\":\"height\",\"units\":\"data\"},\"line_color\":{\"field\":\"line_color\"},\"width\":{\"field\":\"width\",\"units\":\"data\"},\"x\":{\"field\":\"x\"},\"y\":{\"field\":\"y\"}},\"id\":\"907717fc-8644-4176-8682-1c1b49f70c22\",\"type\":\"Rect\"},{\"attributes\":{\"data_source\":{\"id\":\"a7996f8c-fa30-4547-b5f6-015ed282a98f\",\"type\":\"ColumnDataSource\"},\"glyph\":{\"id\":\"d2657b85-f3ef-440e-92b6-736e4e069304\",\"type\":\"Rect\"},\"hover_glyph\":null,\"nonselection_glyph\":null,\"selection_glyph\":null},\"id\":\"6264c679-84e0-4da1-8d1d-8443f0273dab\",\"type\":\"GlyphRenderer\"},{\"attributes\":{\"fill_alpha\":{\"field\":\"fill_alpha\"},\"fill_color\":{\"field\":\"color\"},\"height\":{\"field\":\"height\",\"units\":\"data\"},\"line_color\":{\"field\":\"line_color\"},\"width\":{\"field\":\"width\",\"units\":\"data\"},\"x\":{\"field\":\"x\"},\"y\":{\"field\":\"y\"}},\"id\":\"15c89b72-f50a-4ca0-bda3-fbafdcb15599\",\"type\":\"Rect\"},{\"attributes\":{\"fill_alpha\":{\"field\":\"fill_alpha\"},\"fill_color\":{\"field\":\"color\"},\"height\":{\"field\":\"height\",\"units\":\"data\"},\"line_color\":{\"field\":\"line_color\"},\"width\":{\"field\":\"width\",\"units\":\"data\"},\"x\":{\"field\":\"x\"},\"y\":{\"field\":\"y\"}},\"id\":\"b5c381f5-a078-41e7-972b-b63d3bd21da3\",\"type\":\"Rect\"},{\"attributes\":{\"axis_label\":\"Occurence\",\"formatter\":{\"id\":\"afc406c8-7e58-4ff6-b661-0f804e7ea5e1\",\"type\":\"BasicTickFormatter\"},\"minor_tick_line_color\":{\"value\":null},\"plot\":{\"id\":\"51a0abcc-d2a3-479f-a5e2-8d4141b667df\",\"subtype\":\"Chart\",\"type\":\"Plot\"},\"ticker\":{\"id\":\"8a4069d4-9d65-4c06-9939-188c7bd757a4\",\"type\":\"BasicTicker\"}},\"id\":\"55517e51-524b-4eca-b611-dedc7b74ec8d\",\"type\":\"LinearAxis\"},{\"attributes\":{\"label\":{\"value\":\"insurance agent\"},\"renderers\":[{\"id\":\"14baf74f-b7a9-4f79-b618-6bd9d683f6c5\",\"type\":\"GlyphRenderer\"}]},\"id\":\"5fb8277a-17ef-454e-9680-b80a15b95f2a\",\"type\":\"LegendItem\"},{\"attributes\":{\"data_source\":{\"id\":\"aed4ecc7-80b9-4440-8e09-dbe3c72e07c0\",\"type\":\"ColumnDataSource\"},\"glyph\":{\"id\":\"1e27fdd9-ee23-48e3-b01d-12a0fac980a8\",\"type\":\"Rect\"},\"hover_glyph\":null,\"nonselection_glyph\":null,\"selection_glyph\":null},\"id\":\"9d231d91-8b4f-4485-b1fe-1d9558cf3496\",\"type\":\"GlyphRenderer\"},{\"attributes\":{\"callback\":null,\"column_names\":[\"line_color\",\"line_alpha\",\"color\",\"fill_alpha\",\"height\",\"width\",\"y\",\"x\",\"label\"],\"data\":{\"chart_index\":[{\"word\":\"school district\"}],\"color\":[\"red\"],\"fill_alpha\":[0.8],\"height\":[8526.0],\"label\":[{\"word\":\"school district\"}],\"line_alpha\":[1.0],\"line_color\":[\"white\"],\"width\":[0.8],\"word\":[\"school district\"],\"x\":[\"school district\"],\"y\":[4263.0]}},\"id\":\"85bcd084-9bf4-47d2-8960-912363f77a32\",\"type\":\"ColumnDataSource\"},{\"attributes\":{\"callback\":null,\"factors\":[\"school district\",\"real estate\",\"elementary school\",\"farmers insurance\",\"state farm\",\"farm insurance\",\"insurance agent\",\"high school\",\"insurance agency\",\"baptist church\",\"group llc\",\"law office\",\"credit union\",\"public schools\",\"law offices\",\"law firm\",\"middle school\",\"services llc\",\"financial services\",\"funeral home\"]},\"id\":\"e98c36d7-9312-4961-ad04-b9839c20d260\",\"type\":\"FactorRange\"},{\"attributes\":{\"plot\":{\"id\":\"51a0abcc-d2a3-479f-a5e2-8d4141b667df\",\"subtype\":\"Chart\",\"type\":\"Plot\"}},\"id\":\"4de3e389-9bf2-4437-8f02-60c46edf4b0d\",\"type\":\"WheelZoomTool\"},{\"attributes\":{\"data_source\":{\"id\":\"07eb5eef-7954-4eee-82cc-09dd63196014\",\"type\":\"ColumnDataSource\"},\"glyph\":{\"id\":\"6cdc8f4c-eafa-4bb7-9f97-751e86aed03d\",\"type\":\"Rect\"},\"hover_glyph\":null,\"nonselection_glyph\":null,\"selection_glyph\":null},\"id\":\"fc537caa-6fb9-478d-806d-260f520825d3\",\"type\":\"GlyphRenderer\"},{\"attributes\":{\"callback\":null,\"column_names\":[\"line_color\",\"line_alpha\",\"color\",\"fill_alpha\",\"height\",\"width\",\"y\",\"x\",\"label\"],\"data\":{\"chart_index\":[{\"word\":\"law\"}],\"color\":[\"#17becf\"],\"fill_alpha\":[0.8],\"height\":[11398.0],\"label\":[{\"word\":\"law\"}],\"line_alpha\":[1.0],\"line_color\":[\"white\"],\"width\":[0.8],\"word\":[\"law\"],\"x\":[\"law\"],\"y\":[5699.0]}},\"id\":\"723e2615-8696-422e-bd50-79b4fb75e95b\",\"type\":\"ColumnDataSource\"},{\"attributes\":{\"fill_alpha\":{\"field\":\"fill_alpha\"},\"fill_color\":{\"field\":\"color\"},\"height\":{\"field\":\"height\",\"units\":\"data\"},\"line_color\":{\"field\":\"line_color\"},\"width\":{\"field\":\"width\",\"units\":\"data\"},\"x\":{\"field\":\"x\"},\"y\":{\"field\":\"y\"}},\"id\":\"8968cba4-ee5a-431d-a8eb-86aa4e016bf3\",\"type\":\"Rect\"},{\"attributes\":{\"below\":[{\"id\":\"18cd9f57-4eec-4605-80c4-262d04d715b0\",\"type\":\"CategoricalAxis\"}],\"css_classes\":null,\"left\":[{\"id\":\"97f4d1e8-a3c8-4c8d-a31a-1a0ffd75752e\",\"type\":\"LinearAxis\"}],\"plot_height\":250,\"plot_width\":400,\"renderers\":[{\"id\":\"74b0f359-d8ce-44ed-a32a-e5d2da7dfdb6\",\"type\":\"BoxAnnotation\"},{\"id\":\"a14e8670-c360-47f0-8655-9f64e0840a1b\",\"type\":\"GlyphRenderer\"},{\"id\":\"fc537caa-6fb9-478d-806d-260f520825d3\",\"type\":\"GlyphRenderer\"},{\"id\":\"eb53338d-1613-49af-9950-049ec3349ab8\",\"type\":\"GlyphRenderer\"},{\"id\":\"460efcfc-779a-4838-868c-b8a62a94697b\",\"type\":\"GlyphRenderer\"},{\"id\":\"8d520b8d-34b8-4763-baf1-2ba76e400766\",\"type\":\"GlyphRenderer\"},{\"id\":\"b10abc1b-cbab-48c2-a772-0cbbf41666b5\",\"type\":\"GlyphRenderer\"},{\"id\":\"14baf74f-b7a9-4f79-b618-6bd9d683f6c5\",\"type\":\"GlyphRenderer\"},{\"id\":\"63e2aa71-70d7-4b6f-8352-4957b11e3263\",\"type\":\"GlyphRenderer\"},{\"id\":\"22a02d77-87ee-46b9-b024-41f7a1574716\",\"type\":\"GlyphRenderer\"},{\"id\":\"60f0747e-a876-44a2-a04e-fb862c68566b\",\"type\":\"GlyphRenderer\"},{\"id\":\"2b0179b9-dc96-4745-aac8-1dd2da1e9df1\",\"type\":\"GlyphRenderer\"},{\"id\":\"c0e7a184-99b0-41c3-92af-522adefa0d6b\",\"type\":\"GlyphRenderer\"},{\"id\":\"c11fadd9-1587-4beb-80c5-7a2cb9b88bc8\",\"type\":\"GlyphRenderer\"},{\"id\":\"aab970fe-571a-47f4-8206-692654a31d8e\",\"type\":\"GlyphRenderer\"},{\"id\":\"1ab11190-119f-43d3-b727-51eb1781e9d4\",\"type\":\"GlyphRenderer\"},{\"id\":\"8eb385be-c346-4d75-b2ba-401612a3923c\",\"type\":\"GlyphRenderer\"},{\"id\":\"ae213c9e-e7d2-4e93-aa14-dde0dde1f631\",\"type\":\"GlyphRenderer\"},{\"id\":\"d1e8d35f-29da-4eaa-8685-f263b83753c1\",\"type\":\"GlyphRenderer\"},{\"id\":\"b413fa63-b3ef-4355-86b3-afea060d27fd\",\"type\":\"GlyphRenderer\"},{\"id\":\"2e1ad3f1-8f4b-45fb-953c-16207211be1f\",\"type\":\"GlyphRenderer\"},{\"id\":\"f6fad810-0d87-42a2-86a6-9dc62357865e\",\"type\":\"Legend\"},{\"id\":\"18cd9f57-4eec-4605-80c4-262d04d715b0\",\"type\":\"CategoricalAxis\"},{\"id\":\"97f4d1e8-a3c8-4c8d-a31a-1a0ffd75752e\",\"type\":\"LinearAxis\"},{\"id\":\"396dd286-b0fd-4147-9888-806821c7d657\",\"type\":\"Grid\"}],\"title\":{\"id\":\"19192041-0984-46a0-9c5d-10e03a6a6848\",\"type\":\"Title\"},\"tool_events\":{\"id\":\"6f65e0b9-f710-44be-a0ad-2e1e86dd3d04\",\"type\":\"ToolEvents\"},\"toolbar\":{\"id\":\"c23bd57b-17bd-4c9f-82ae-8e58a289c26d\",\"type\":\"Toolbar\"},\"toolbar_location\":null,\"x_mapper_type\":\"auto\",\"x_range\":{\"id\":\"e98c36d7-9312-4961-ad04-b9839c20d260\",\"type\":\"FactorRange\"},\"y_mapper_type\":\"auto\",\"y_range\":{\"id\":\"d9da4bce-ec64-4836-a12d-95a981863601\",\"type\":\"Range1d\"}},\"id\":\"501b95bf-484d-4f1b-9d4c-0fc47a14c843\",\"subtype\":\"Chart\",\"type\":\"Plot\"},{\"attributes\":{\"plot\":{\"id\":\"51a0abcc-d2a3-479f-a5e2-8d4141b667df\",\"subtype\":\"Chart\",\"type\":\"Plot\"}},\"id\":\"53a623d1-21b7-40bd-890d-513890955c2d\",\"type\":\"ResetTool\"},{\"attributes\":{\"data_source\":{\"id\":\"c5db8bbe-cbe4-4f1e-8c5c-e8405974ce74\",\"type\":\"ColumnDataSource\"},\"glyph\":{\"id\":\"3138c439-5a2f-4cbf-9d7e-807a0d2f612d\",\"type\":\"Rect\"},\"hover_glyph\":null,\"nonselection_glyph\":null,\"selection_glyph\":null},\"id\":\"69355aaa-1a4d-4ab9-90e7-1ae77a2f36c7\",\"type\":\"GlyphRenderer\"},{\"attributes\":{\"fill_alpha\":{\"field\":\"fill_alpha\"},\"fill_color\":{\"field\":\"color\"},\"height\":{\"field\":\"height\",\"units\":\"data\"},\"line_color\":{\"field\":\"line_color\"},\"width\":{\"field\":\"width\",\"units\":\"data\"},\"x\":{\"field\":\"x\"},\"y\":{\"field\":\"y\"}},\"id\":\"1e27fdd9-ee23-48e3-b01d-12a0fac980a8\",\"type\":\"Rect\"},{\"attributes\":{\"callback\":null,\"column_names\":[\"line_color\",\"line_alpha\",\"color\",\"fill_alpha\",\"height\",\"width\",\"y\",\"x\",\"label\"],\"data\":{\"chart_index\":[{\"names\":\"century 21\"}],\"color\":[\"#ff7f0e\"],\"fill_alpha\":[0.8],\"height\":[400.0],\"label\":[{\"names\":\"century 21\"}],\"line_alpha\":[1.0],\"line_color\":[\"white\"],\"names\":[\"century 21\"],\"width\":[0.8],\"x\":[\"century 21\"],\"y\":[200.0]}},\"id\":\"0da4b0b3-f98f-402b-a1f6-d320d745856c\",\"type\":\"ColumnDataSource\"},{\"attributes\":{\"data_source\":{\"id\":\"fb3f9059-31a2-4e3e-8a44-dad6fb3670dc\",\"type\":\"ColumnDataSource\"},\"glyph\":{\"id\":\"8a56f752-2348-4f11-8868-076638e680ab\",\"type\":\"Rect\"},\"hover_glyph\":null,\"nonselection_glyph\":null,\"selection_glyph\":null},\"id\":\"8f828a8a-8da1-483c-a95a-3317942ebe2d\",\"type\":\"GlyphRenderer\"},{\"attributes\":{},\"id\":\"d6b6dbdd-a417-4d1f-8bdc-426b1c8ec55b\",\"type\":\"BasicTicker\"},{\"attributes\":{\"data_source\":{\"id\":\"07aeb5d1-3c4c-4c9f-b412-e52845ea7e8b\",\"type\":\"ColumnDataSource\"},\"glyph\":{\"id\":\"15c89b72-f50a-4ca0-bda3-fbafdcb15599\",\"type\":\"Rect\"},\"hover_glyph\":null,\"nonselection_glyph\":null,\"selection_glyph\":null},\"id\":\"4cf09026-2474-497a-8e20-e60d191a8373\",\"type\":\"GlyphRenderer\"},{\"attributes\":{\"callback\":null,\"column_names\":[\"line_color\",\"line_alpha\",\"color\",\"fill_alpha\",\"height\",\"width\",\"y\",\"x\",\"label\"],\"data\":{\"chart_index\":[{\"word\":\"funeral home\"}],\"color\":[\"red\"],\"fill_alpha\":[0.8],\"height\":[1537.0],\"label\":[{\"word\":\"funeral home\"}],\"line_alpha\":[1.0],\"line_color\":[\"white\"],\"width\":[0.8],\"word\":[\"funeral home\"],\"x\":[\"funeral home\"],\"y\":[768.5]}},\"id\":\"ee2f7955-fbda-4fdd-a846-61341fed2e35\",\"type\":\"ColumnDataSource\"},{\"attributes\":{\"callback\":null,\"column_names\":[\"line_color\",\"line_alpha\",\"color\",\"fill_alpha\",\"height\",\"width\",\"y\",\"x\",\"label\"],\"data\":{\"chart_index\":[{\"names\":\"farmers insurance\"}],\"color\":[\"#ff7f0e\"],\"fill_alpha\":[0.8],\"height\":[856.0],\"label\":[{\"names\":\"farmers insurance\"}],\"line_alpha\":[1.0],\"line_color\":[\"white\"],\"names\":[\"farmers insurance\"],\"width\":[0.8],\"x\":[\"farmers insurance\"],\"y\":[428.0]}},\"id\":\"09dd5020-84b9-4a5a-9140-fb9ae46febab\",\"type\":\"ColumnDataSource\"},{\"attributes\":{\"fill_alpha\":{\"field\":\"fill_alpha\"},\"fill_color\":{\"field\":\"color\"},\"height\":{\"field\":\"height\",\"units\":\"data\"},\"line_color\":{\"field\":\"line_color\"},\"width\":{\"field\":\"width\",\"units\":\"data\"},\"x\":{\"field\":\"x\"},\"y\":{\"field\":\"y\"}},\"id\":\"6cdc8f4c-eafa-4bb7-9f97-751e86aed03d\",\"type\":\"Rect\"},{\"attributes\":{\"callback\":null,\"column_names\":[\"line_color\",\"line_alpha\",\"color\",\"fill_alpha\",\"height\",\"width\",\"y\",\"x\",\"label\"],\"data\":{\"chart_index\":[{\"word\":\"law offices\"}],\"color\":[\"red\"],\"fill_alpha\":[0.8],\"height\":[2352.0],\"label\":[{\"word\":\"law offices\"}],\"line_alpha\":[1.0],\"line_color\":[\"white\"],\"width\":[0.8],\"word\":[\"law offices\"],\"x\":[\"law offices\"],\"y\":[1176.0]}},\"id\":\"46b1cb23-9663-4647-86e7-6d9729b546a0\",\"type\":\"ColumnDataSource\"},{\"attributes\":{\"label\":{\"value\":\"services\"},\"renderers\":[{\"id\":\"3dc41e4f-b7e1-4a37-a8a3-9a9743deba28\",\"type\":\"GlyphRenderer\"}]},\"id\":\"8ae21ff9-ef22-419f-86aa-d71b21a03aec\",\"type\":\"LegendItem\"},{\"attributes\":{\"label\":{\"value\":\"company\"},\"renderers\":[{\"id\":\"15998a5e-b568-4972-ae30-2b21ce8ff672\",\"type\":\"GlyphRenderer\"}]},\"id\":\"d1350c2a-3e24-4af8-9492-409b0e8a6676\",\"type\":\"LegendItem\"},{\"attributes\":{\"label\":{\"value\":\"church\"},\"renderers\":[{\"id\":\"7a0c74a3-70fb-4d14-9498-7b829a3c4b9f\",\"type\":\"GlyphRenderer\"}]},\"id\":\"a256b1c9-bd3d-4a34-80db-145459a5721e\",\"type\":\"LegendItem\"},{\"attributes\":{\"fill_alpha\":{\"field\":\"fill_alpha\"},\"fill_color\":{\"field\":\"color\"},\"height\":{\"field\":\"height\",\"units\":\"data\"},\"line_color\":{\"field\":\"line_color\"},\"width\":{\"field\":\"width\",\"units\":\"data\"},\"x\":{\"field\":\"x\"},\"y\":{\"field\":\"y\"}},\"id\":\"7b5bd7f4-bfec-4c4d-a328-fabe1af9e982\",\"type\":\"Rect\"},{\"attributes\":{\"fill_alpha\":{\"field\":\"fill_alpha\"},\"fill_color\":{\"field\":\"color\"},\"height\":{\"field\":\"height\",\"units\":\"data\"},\"line_color\":{\"field\":\"line_color\"},\"width\":{\"field\":\"width\",\"units\":\"data\"},\"x\":{\"field\":\"x\"},\"y\":{\"field\":\"y\"}},\"id\":\"da33686e-f969-4ea1-9e15-47b6fb1a4dbf\",\"type\":\"Rect\"},{\"attributes\":{\"label\":{\"value\":\"primerica financial services\"},\"renderers\":[{\"id\":\"10ffb7f7-6bb3-4562-af3d-15bd2d79d8fb\",\"type\":\"GlyphRenderer\"}]},\"id\":\"14213a39-1020-4c1b-8bb1-d492a04400df\",\"type\":\"LegendItem\"},{\"attributes\":{\"fill_alpha\":{\"field\":\"fill_alpha\"},\"fill_color\":{\"field\":\"color\"},\"height\":{\"field\":\"height\",\"units\":\"data\"},\"line_color\":{\"field\":\"line_color\"},\"width\":{\"field\":\"width\",\"units\":\"data\"},\"x\":{\"field\":\"x\"},\"y\":{\"field\":\"y\"}},\"id\":\"83c6ea7d-58eb-4902-9119-46be404ca804\",\"type\":\"Rect\"},{\"attributes\":{\"callback\":null,\"column_names\":[\"line_color\",\"line_alpha\",\"color\",\"fill_alpha\",\"height\",\"width\",\"y\",\"x\",\"label\"],\"data\":{\"chart_index\":[{\"word\":\"insurance\"}],\"color\":[\"#17becf\"],\"fill_alpha\":[0.8],\"height\":[24649.0],\"label\":[{\"word\":\"insurance\"}],\"line_alpha\":[1.0],\"line_color\":[\"white\"],\"width\":[0.8],\"word\":[\"insurance\"],\"x\":[\"insurance\"],\"y\":[12324.5]}},\"id\":\"87285330-a1dd-46e9-99f0-3e10a53cf863\",\"type\":\"ColumnDataSource\"},{\"attributes\":{\"plot\":null,\"text\":\"Businesses  with Most Occurence from the Data Set\"},\"id\":\"4331640d-dcd1-4395-805e-1ff6377df2d9\",\"type\":\"Title\"},{\"attributes\":{\"data_source\":{\"id\":\"ae9a0c21-23d6-4079-9907-31238636176d\",\"type\":\"ColumnDataSource\"},\"glyph\":{\"id\":\"b6b4c0d4-b4ba-4e71-914c-d8eb684705d3\",\"type\":\"Rect\"},\"hover_glyph\":null,\"nonselection_glyph\":null,\"selection_glyph\":null},\"id\":\"622d5bbf-2aa1-4155-9139-3673bfa292e9\",\"type\":\"GlyphRenderer\"},{\"attributes\":{},\"id\":\"86ffd05c-5748-48bb-819e-19c851136574\",\"type\":\"ToolEvents\"},{\"attributes\":{\"data_source\":{\"id\":\"756908da-93e8-4312-afe9-ceee984f91a3\",\"type\":\"ColumnDataSource\"},\"glyph\":{\"id\":\"3ccc22db-92d9-48e3-af56-c747e96d162a\",\"type\":\"Rect\"},\"hover_glyph\":null,\"nonselection_glyph\":null,\"selection_glyph\":null},\"id\":\"aab970fe-571a-47f4-8206-692654a31d8e\",\"type\":\"GlyphRenderer\"},{\"attributes\":{\"data_source\":{\"id\":\"91a2ece4-f3d5-46de-964c-f5731130e88b\",\"type\":\"ColumnDataSource\"},\"glyph\":{\"id\":\"51c93c75-a91f-4102-bdf3-2559c006f72f\",\"type\":\"Rect\"},\"hover_glyph\":null,\"nonselection_glyph\":null,\"selection_glyph\":null},\"id\":\"63829172-bb2a-4e5e-b26e-c9f8b084c160\",\"type\":\"GlyphRenderer\"},{\"attributes\":{\"label\":{\"value\":\"farmers insurance\"},\"renderers\":[{\"id\":\"60e09a33-3ac9-46f8-994b-cff2d4998a9b\",\"type\":\"GlyphRenderer\"}]},\"id\":\"1c2dab5d-bdc3-4d80-ab0c-47287e3480df\",\"type\":\"LegendItem\"},{\"attributes\":{\"data_source\":{\"id\":\"fe4a9416-dcca-44dd-95da-23a010373335\",\"type\":\"ColumnDataSource\"},\"glyph\":{\"id\":\"9cfc79a6-db0d-4022-844a-eed5f397c6c3\",\"type\":\"Rect\"},\"hover_glyph\":null,\"nonselection_glyph\":null,\"selection_glyph\":null},\"id\":\"9ef59eb2-b1f3-4960-bc8e-047e0938b5c6\",\"type\":\"GlyphRenderer\"},{\"attributes\":{\"fill_alpha\":{\"field\":\"fill_alpha\"},\"fill_color\":{\"field\":\"color\"},\"height\":{\"field\":\"height\",\"units\":\"data\"},\"line_color\":{\"field\":\"line_color\"},\"width\":{\"field\":\"width\",\"units\":\"data\"},\"x\":{\"field\":\"x\"},\"y\":{\"field\":\"y\"}},\"id\":\"f36f471e-98b0-476d-b3e1-8030100aeab7\",\"type\":\"Rect\"},{\"attributes\":{\"fill_alpha\":{\"field\":\"fill_alpha\"},\"fill_color\":{\"field\":\"color\"},\"height\":{\"field\":\"height\",\"units\":\"data\"},\"line_color\":{\"field\":\"line_color\"},\"width\":{\"field\":\"width\",\"units\":\"data\"},\"x\":{\"field\":\"x\"},\"y\":{\"field\":\"y\"}},\"id\":\"907d5e8d-a405-4875-ae08-680a2bdc0c51\",\"type\":\"Rect\"},{\"attributes\":{\"fill_alpha\":{\"field\":\"fill_alpha\"},\"fill_color\":{\"field\":\"color\"},\"height\":{\"field\":\"height\",\"units\":\"data\"},\"line_color\":{\"field\":\"line_color\"},\"width\":{\"field\":\"width\",\"units\":\"data\"},\"x\":{\"field\":\"x\"},\"y\":{\"field\":\"y\"}},\"id\":\"8f6113b1-5014-4478-8dfd-93b60d615b52\",\"type\":\"Rect\"},{\"attributes\":{\"fill_alpha\":{\"field\":\"fill_alpha\"},\"fill_color\":{\"field\":\"color\"},\"height\":{\"field\":\"height\",\"units\":\"data\"},\"line_color\":{\"field\":\"line_color\"},\"width\":{\"field\":\"width\",\"units\":\"data\"},\"x\":{\"field\":\"x\"},\"y\":{\"field\":\"y\"}},\"id\":\"4ff0e9ea-3390-4d6c-abac-c1e690c7ef5d\",\"type\":\"Rect\"},{\"attributes\":{\"fill_alpha\":{\"field\":\"fill_alpha\"},\"fill_color\":{\"field\":\"color\"},\"height\":{\"field\":\"height\",\"units\":\"data\"},\"line_color\":{\"field\":\"line_color\"},\"width\":{\"field\":\"width\",\"units\":\"data\"},\"x\":{\"field\":\"x\"},\"y\":{\"field\":\"y\"}},\"id\":\"e9fdcb6d-39f2-44f2-ad08-1fc6a2d0d1a1\",\"type\":\"Rect\"},{\"attributes\":{\"data_source\":{\"id\":\"be508397-478c-4705-9f16-58fc71783d88\",\"type\":\"ColumnDataSource\"},\"glyph\":{\"id\":\"9d839b46-7828-4416-a62c-d45f76245dd7\",\"type\":\"Rect\"},\"hover_glyph\":null,\"nonselection_glyph\":null,\"selection_glyph\":null},\"id\":\"10ffb7f7-6bb3-4562-af3d-15bd2d79d8fb\",\"type\":\"GlyphRenderer\"},{\"attributes\":{\"fill_alpha\":{\"field\":\"fill_alpha\"},\"fill_color\":{\"field\":\"color\"},\"height\":{\"field\":\"height\",\"units\":\"data\"},\"line_color\":{\"field\":\"line_color\"},\"width\":{\"field\":\"width\",\"units\":\"data\"},\"x\":{\"field\":\"x\"},\"y\":{\"field\":\"y\"}},\"id\":\"baf98672-f9ac-4930-ab2d-105dfd2670a2\",\"type\":\"Rect\"},{\"attributes\":{\"callback\":null,\"column_names\":[\"line_color\",\"line_alpha\",\"color\",\"fill_alpha\",\"height\",\"width\",\"y\",\"x\",\"label\"],\"data\":{\"chart_index\":[{\"names\":\"first presbyterian church\"}],\"color\":[\"#ff7f0e\"],\"fill_alpha\":[0.8],\"height\":[341.0],\"label\":[{\"names\":\"first presbyterian church\"}],\"line_alpha\":[1.0],\"line_color\":[\"white\"],\"names\":[\"first presbyterian church\"],\"width\":[0.8],\"x\":[\"first presbyterian church\"],\"y\":[170.5]}},\"id\":\"e5f63710-4d5c-4056-b86e-fccbfe560516\",\"type\":\"ColumnDataSource\"},{\"attributes\":{\"callback\":null,\"column_names\":[\"line_color\",\"line_alpha\",\"color\",\"fill_alpha\",\"height\",\"width\",\"y\",\"x\",\"label\"],\"data\":{\"chart_index\":[{\"word\":\"county\"}],\"color\":[\"#17becf\"],\"fill_alpha\":[0.8],\"height\":[10877.0],\"label\":[{\"word\":\"county\"}],\"line_alpha\":[1.0],\"line_color\":[\"white\"],\"width\":[0.8],\"word\":[\"county\"],\"x\":[\"county\"],\"y\":[5438.5]}},\"id\":\"c5db8bbe-cbe4-4f1e-8c5c-e8405974ce74\",\"type\":\"ColumnDataSource\"},{\"attributes\":{\"data_source\":{\"id\":\"2f695de6-932f-42b0-879c-e9c38178cdf9\",\"type\":\"ColumnDataSource\"},\"glyph\":{\"id\":\"e9fdcb6d-39f2-44f2-ad08-1fc6a2d0d1a1\",\"type\":\"Rect\"},\"hover_glyph\":null,\"nonselection_glyph\":null,\"selection_glyph\":null},\"id\":\"15998a5e-b568-4972-ae30-2b21ce8ff672\",\"type\":\"GlyphRenderer\"},{\"attributes\":{\"label\":{\"value\":\"coldwell banker\"},\"renderers\":[{\"id\":\"2fb58cfc-a397-402e-9679-ba4c981e8881\",\"type\":\"GlyphRenderer\"}]},\"id\":\"c090f46c-305f-4fc4-ad03-13cd67705532\",\"type\":\"LegendItem\"},{\"attributes\":{\"data_source\":{\"id\":\"86b57d6a-fea6-4489-9944-5a8c1d2389b7\",\"type\":\"ColumnDataSource\"},\"glyph\":{\"id\":\"5a9cc5c7-0f17-4199-acf6-9d042e21fbff\",\"type\":\"Rect\"},\"hover_glyph\":null,\"nonselection_glyph\":null,\"selection_glyph\":null},\"id\":\"3c488703-33ad-4321-8d17-294460b6f391\",\"type\":\"GlyphRenderer\"},{\"attributes\":{\"fill_alpha\":{\"field\":\"fill_alpha\"},\"fill_color\":{\"field\":\"color\"},\"height\":{\"field\":\"height\",\"units\":\"data\"},\"line_color\":{\"field\":\"line_color\"},\"width\":{\"field\":\"width\",\"units\":\"data\"},\"x\":{\"field\":\"x\"},\"y\":{\"field\":\"y\"}},\"id\":\"829a96e9-cb30-4a03-b0eb-a36b2892a743\",\"type\":\"Rect\"},{\"attributes\":{\"axis_label\":\"Counts\",\"formatter\":{\"id\":\"35dadade-7948-45e7-b22f-64733d346ca5\",\"type\":\"BasicTickFormatter\"},\"minor_tick_line_color\":{\"value\":null},\"plot\":{\"id\":\"2599bde9-b733-4904-8c35-96c2bc8a6e29\",\"subtype\":\"Chart\",\"type\":\"Plot\"},\"ticker\":{\"id\":\"6efd467e-32de-4dc1-bf91-edcabec717d1\",\"type\":\"BasicTicker\"}},\"id\":\"b18d08d7-127f-4363-b029-7d0187a3a2f6\",\"type\":\"LinearAxis\"},{\"attributes\":{\"plot\":{\"id\":\"501b95bf-484d-4f1b-9d4c-0fc47a14c843\",\"subtype\":\"Chart\",\"type\":\"Plot\"}},\"id\":\"779751fb-f380-4944-8f00-6413af685311\",\"type\":\"PanTool\"},{\"attributes\":{\"fill_alpha\":{\"field\":\"fill_alpha\"},\"fill_color\":{\"field\":\"color\"},\"height\":{\"field\":\"height\",\"units\":\"data\"},\"line_color\":{\"field\":\"line_color\"},\"width\":{\"field\":\"width\",\"units\":\"data\"},\"x\":{\"field\":\"x\"},\"y\":{\"field\":\"y\"}},\"id\":\"bc2df042-4b2b-41c8-8869-b72cf300ad22\",\"type\":\"Rect\"},{\"attributes\":{\"callback\":null,\"column_names\":[\"line_color\",\"line_alpha\",\"color\",\"fill_alpha\",\"height\",\"width\",\"y\",\"x\",\"label\"],\"data\":{\"chart_index\":[{\"word\":\"insurance agency\"}],\"color\":[\"red\"],\"fill_alpha\":[0.8],\"height\":[3882.0],\"label\":[{\"word\":\"insurance agency\"}],\"line_alpha\":[1.0],\"line_color\":[\"white\"],\"width\":[0.8],\"word\":[\"insurance agency\"],\"x\":[\"insurance agency\"],\"y\":[1941.0]}},\"id\":\"cbb885c7-da80-4cc3-ab67-ab2290cd4dd8\",\"type\":\"ColumnDataSource\"},{\"attributes\":{\"callback\":null,\"column_names\":[\"line_color\",\"line_alpha\",\"color\",\"fill_alpha\",\"height\",\"width\",\"y\",\"x\",\"label\"],\"data\":{\"chart_index\":[{\"names\":\"regions bank\"}],\"color\":[\"#ff7f0e\"],\"fill_alpha\":[0.8],\"height\":[224.0],\"label\":[{\"names\":\"regions bank\"}],\"line_alpha\":[1.0],\"line_color\":[\"white\"],\"names\":[\"regions bank\"],\"width\":[0.8],\"x\":[\"regions bank\"],\"y\":[112.0]}},\"id\":\"ed93f626-a13e-4785-9c8f-5f449155eacc\",\"type\":\"ColumnDataSource\"},{\"attributes\":{\"callback\":null,\"column_names\":[\"line_color\",\"line_alpha\",\"color\",\"fill_alpha\",\"height\",\"width\",\"y\",\"x\",\"label\"],\"data\":{\"chart_index\":[{\"word\":\"group llc\"}],\"color\":[\"red\"],\"fill_alpha\":[0.8],\"height\":[2830.0],\"label\":[{\"word\":\"group llc\"}],\"line_alpha\":[1.0],\"line_color\":[\"white\"],\"width\":[0.8],\"word\":[\"group llc\"],\"x\":[\"group llc\"],\"y\":[1415.0]}},\"id\":\"bed2e480-9bc0-44b5-bc39-6623a3ba13de\",\"type\":\"ColumnDataSource\"},{\"attributes\":{\"callback\":null,\"column_names\":[\"line_color\",\"line_alpha\",\"color\",\"fill_alpha\",\"height\",\"width\",\"y\",\"x\",\"label\"],\"data\":{\"chart_index\":[{\"word\":\"baptist church\"}],\"color\":[\"red\"],\"fill_alpha\":[0.8],\"height\":[3381.0],\"label\":[{\"word\":\"baptist church\"}],\"line_alpha\":[1.0],\"line_color\":[\"white\"],\"width\":[0.8],\"word\":[\"baptist church\"],\"x\":[\"baptist church\"],\"y\":[1690.5]}},\"id\":\"d0db6c86-d2f8-475f-8c3b-91d000205c5b\",\"type\":\"ColumnDataSource\"},{\"attributes\":{\"label\":{\"value\":\"state farm\"},\"renderers\":[{\"id\":\"8d520b8d-34b8-4763-baf1-2ba76e400766\",\"type\":\"GlyphRenderer\"}]},\"id\":\"896b94a2-7973-4a89-b58a-246eb8302505\",\"type\":\"LegendItem\"},{\"attributes\":{\"data_source\":{\"id\":\"7e416c4f-c352-467e-a827-dcef3ed3374e\",\"type\":\"ColumnDataSource\"},\"glyph\":{\"id\":\"6654f689-cea2-4ffa-83f1-29f8cfc811ac\",\"type\":\"Rect\"},\"hover_glyph\":null,\"nonselection_glyph\":null,\"selection_glyph\":null},\"id\":\"3dc41e4f-b7e1-4a37-a8a3-9a9743deba28\",\"type\":\"GlyphRenderer\"},{\"attributes\":{\"callback\":null,\"column_names\":[\"line_color\",\"line_alpha\",\"color\",\"fill_alpha\",\"height\",\"width\",\"y\",\"x\",\"label\"],\"data\":{\"chart_index\":[{\"names\":\"keller williams realty\"}],\"color\":[\"#ff7f0e\"],\"fill_alpha\":[0.8],\"height\":[472.0],\"label\":[{\"names\":\"keller williams realty\"}],\"line_alpha\":[1.0],\"line_color\":[\"white\"],\"names\":[\"keller williams realty\"],\"width\":[0.8],\"x\":[\"keller williams realty\"],\"y\":[236.0]}},\"id\":\"7dd25541-4d02-4dc0-8082-a1fe0f32eca6\",\"type\":\"ColumnDataSource\"},{\"attributes\":{\"callback\":null,\"column_names\":[\"line_color\",\"line_alpha\",\"color\",\"fill_alpha\",\"height\",\"width\",\"y\",\"x\",\"label\"],\"data\":{\"chart_index\":[{\"names\":\"mcdonald's\"}],\"color\":[\"#ff7f0e\"],\"fill_alpha\":[0.8],\"height\":[301.0],\"label\":[{\"names\":\"mcdonald's\"}],\"line_alpha\":[1.0],\"line_color\":[\"white\"],\"names\":[\"mcdonald's\"],\"width\":[0.8],\"x\":[\"mcdonald's\"],\"y\":[150.5]}},\"id\":\"fe4a9416-dcca-44dd-95da-23a010373335\",\"type\":\"ColumnDataSource\"},{\"attributes\":{\"label\":{\"value\":\"walgreens\"},\"renderers\":[{\"id\":\"ae413ad5-6f86-4e90-a694-c1ef8f25c7bc\",\"type\":\"GlyphRenderer\"}]},\"id\":\"55da1c2a-80f5-44a4-b60e-a95b174b6b6d\",\"type\":\"LegendItem\"},{\"attributes\":{\"bottom_units\":\"screen\",\"fill_alpha\":{\"value\":0.5},\"fill_color\":{\"value\":\"lightgrey\"},\"left_units\":\"screen\",\"level\":\"overlay\",\"line_alpha\":{\"value\":1.0},\"line_color\":{\"value\":\"black\"},\"line_dash\":[4,4],\"line_width\":{\"value\":2},\"plot\":null,\"render_mode\":\"css\",\"right_units\":\"screen\",\"top_units\":\"screen\"},\"id\":\"61e5f93c-6bec-4d7e-a2c1-a25cde933416\",\"type\":\"BoxAnnotation\"},{\"attributes\":{\"fill_alpha\":{\"field\":\"fill_alpha\"},\"fill_color\":{\"field\":\"color\"},\"height\":{\"field\":\"height\",\"units\":\"data\"},\"line_color\":{\"field\":\"line_color\"},\"width\":{\"field\":\"width\",\"units\":\"data\"},\"x\":{\"field\":\"x\"},\"y\":{\"field\":\"y\"}},\"id\":\"b0219c31-7797-4843-9399-489dd6d07533\",\"type\":\"Rect\"},{\"attributes\":{\"label\":{\"value\":\"bank of america\"},\"renderers\":[{\"id\":\"9d159312-e7be-4349-816b-6e8371e2ef5b\",\"type\":\"GlyphRenderer\"}]},\"id\":\"3a529137-3754-4a83-ae25-32c6e54a581f\",\"type\":\"LegendItem\"},{\"attributes\":{\"callback\":null,\"column_names\":[\"line_color\",\"line_alpha\",\"color\",\"fill_alpha\",\"height\",\"width\",\"y\",\"x\",\"label\"],\"data\":{\"chart_index\":[{\"word\":\"llc\"}],\"color\":[\"#17becf\"],\"fill_alpha\":[0.8],\"height\":[53526.0],\"label\":[{\"word\":\"llc\"}],\"line_alpha\":[1.0],\"line_color\":[\"white\"],\"width\":[0.8],\"word\":[\"llc\"],\"x\":[\"llc\"],\"y\":[26763.0]}},\"id\":\"abe21c2b-e11b-4e9a-a88a-cda4008c45c6\",\"type\":\"ColumnDataSource\"},{\"attributes\":{\"data_source\":{\"id\":\"09dd5020-84b9-4a5a-9140-fb9ae46febab\",\"type\":\"ColumnDataSource\"},\"glyph\":{\"id\":\"8f6113b1-5014-4478-8dfd-93b60d615b52\",\"type\":\"Rect\"},\"hover_glyph\":null,\"nonselection_glyph\":null,\"selection_glyph\":null},\"id\":\"60e09a33-3ac9-46f8-994b-cff2d4998a9b\",\"type\":\"GlyphRenderer\"},{\"attributes\":{\"callback\":null,\"column_names\":[\"line_color\",\"line_alpha\",\"color\",\"fill_alpha\",\"height\",\"width\",\"y\",\"x\",\"label\"],\"data\":{\"chart_index\":[{\"names\":\"ymca\"}],\"color\":[\"#ff7f0e\"],\"fill_alpha\":[0.8],\"height\":[364.0],\"label\":[{\"names\":\"ymca\"}],\"line_alpha\":[1.0],\"line_color\":[\"white\"],\"names\":[\"ymca\"],\"width\":[0.8],\"x\":[\"ymca\"],\"y\":[182.0]}},\"id\":\"bd3ab67b-676b-45fd-adab-d47cc21939d1\",\"type\":\"ColumnDataSource\"},{\"attributes\":{},\"id\":\"8a4069d4-9d65-4c06-9939-188c7bd757a4\",\"type\":\"BasicTicker\"},{\"attributes\":{\"callback\":null,\"factors\":[\"llc\",\"school\",\"insurance\",\"services\",\"group\",\"center\",\"associates\",\"company\",\"church\",\"service\",\"realty\",\"corporation\",\"construction\",\"law\",\"county\",\"systems\",\"solutions\",\"corp\",\"district\",\"home\"]},\"id\":\"0d6e4636-f110-4ef8-bf24-4654d867e7ce\",\"type\":\"FactorRange\"},{\"attributes\":{\"label\":{\"value\":\"mcdonald's\"},\"renderers\":[{\"id\":\"9ef59eb2-b1f3-4960-bc8e-047e0938b5c6\",\"type\":\"GlyphRenderer\"}]},\"id\":\"5f2ff2e0-e336-48df-8e1e-b21a335d0723\",\"type\":\"LegendItem\"},{\"attributes\":{\"plot\":{\"id\":\"2599bde9-b733-4904-8c35-96c2bc8a6e29\",\"subtype\":\"Chart\",\"type\":\"Plot\"}},\"id\":\"59e17629-1d34-4591-8820-9315ff5618bc\",\"type\":\"SaveTool\"},{\"attributes\":{\"label\":{\"value\":\"re/max\"},\"renderers\":[{\"id\":\"ad99bfd2-fd45-457c-96fc-6fd4c42241b6\",\"type\":\"GlyphRenderer\"}]},\"id\":\"204fa215-0a01-4624-85c8-a5e737f3283b\",\"type\":\"LegendItem\"},{\"attributes\":{\"fill_alpha\":{\"field\":\"fill_alpha\"},\"fill_color\":{\"field\":\"color\"},\"height\":{\"field\":\"height\",\"units\":\"data\"},\"line_color\":{\"field\":\"line_color\"},\"width\":{\"field\":\"width\",\"units\":\"data\"},\"x\":{\"field\":\"x\"},\"y\":{\"field\":\"y\"}},\"id\":\"a14d21a6-b0a2-4f5a-8067-ea1819dddc43\",\"type\":\"Rect\"},{\"attributes\":{\"fill_alpha\":{\"field\":\"fill_alpha\"},\"fill_color\":{\"field\":\"color\"},\"height\":{\"field\":\"height\",\"units\":\"data\"},\"line_color\":{\"field\":\"line_color\"},\"width\":{\"field\":\"width\",\"units\":\"data\"},\"x\":{\"field\":\"x\"},\"y\":{\"field\":\"y\"}},\"id\":\"bd74be0c-6adc-484e-ab5c-b9ffae2748a0\",\"type\":\"Rect\"},{\"attributes\":{\"label\":{\"value\":\"real estate\"},\"renderers\":[{\"id\":\"fc537caa-6fb9-478d-806d-260f520825d3\",\"type\":\"GlyphRenderer\"}]},\"id\":\"2ca98cd2-588d-4215-b77c-fb1d879a38d2\",\"type\":\"LegendItem\"},{\"attributes\":{\"fill_alpha\":{\"field\":\"fill_alpha\"},\"fill_color\":{\"field\":\"color\"},\"height\":{\"field\":\"height\",\"units\":\"data\"},\"line_color\":{\"field\":\"line_color\"},\"width\":{\"field\":\"width\",\"units\":\"data\"},\"x\":{\"field\":\"x\"},\"y\":{\"field\":\"y\"}},\"id\":\"c5eedacf-1371-4a3d-8d80-66958f34f8eb\",\"type\":\"Rect\"},{\"attributes\":{\"label\":{\"value\":\"mary kay cosmetics\"},\"renderers\":[{\"id\":\"445f857e-3c17-4299-bdc2-0419dfa978c7\",\"type\":\"GlyphRenderer\"}]},\"id\":\"67ee2ad6-2236-4f90-b153-5580be7d1b5c\",\"type\":\"LegendItem\"},{\"attributes\":{\"data_source\":{\"id\":\"05041af1-19fd-4f42-a1b1-9723ffcec8b6\",\"type\":\"ColumnDataSource\"},\"glyph\":{\"id\":\"733b58cb-de65-4786-b1e6-3214bfb53f00\",\"type\":\"Rect\"},\"hover_glyph\":null,\"nonselection_glyph\":null,\"selection_glyph\":null},\"id\":\"eb53338d-1613-49af-9950-049ec3349ab8\",\"type\":\"GlyphRenderer\"},{\"attributes\":{\"data_source\":{\"id\":\"76f35b80-78cd-46a8-b17f-e93c6b613322\",\"type\":\"ColumnDataSource\"},\"glyph\":{\"id\":\"2c2e4011-876f-4957-886c-89dd4fe99194\",\"type\":\"Rect\"},\"hover_glyph\":null,\"nonselection_glyph\":null,\"selection_glyph\":null},\"id\":\"965aafa8-2a7e-45a3-83fc-68a2695b910a\",\"type\":\"GlyphRenderer\"},{\"attributes\":{\"callback\":null,\"column_names\":[\"line_color\",\"line_alpha\",\"color\",\"fill_alpha\",\"height\",\"width\",\"y\",\"x\",\"label\"],\"data\":{\"chart_index\":[{\"word\":\"church\"}],\"color\":[\"#17becf\"],\"fill_alpha\":[0.8],\"height\":[15835.0],\"label\":[{\"word\":\"church\"}],\"line_alpha\":[1.0],\"line_color\":[\"white\"],\"width\":[0.8],\"word\":[\"church\"],\"x\":[\"church\"],\"y\":[7917.5]}},\"id\":\"c76cf5bd-e518-46f8-8f78-b87244956834\",\"type\":\"ColumnDataSource\"},{\"attributes\":{\"callback\":null,\"column_names\":[\"line_color\",\"line_alpha\",\"color\",\"fill_alpha\",\"height\",\"width\",\"y\",\"x\",\"label\"],\"data\":{\"chart_index\":[{\"word\":\"public schools\"}],\"color\":[\"red\"],\"fill_alpha\":[0.8],\"height\":[2465.0],\"label\":[{\"word\":\"public schools\"}],\"line_alpha\":[1.0],\"line_color\":[\"white\"],\"width\":[0.8],\"word\":[\"public schools\"],\"x\":[\"public schools\"],\"y\":[1232.5]}},\"id\":\"756908da-93e8-4312-afe9-ceee984f91a3\",\"type\":\"ColumnDataSource\"},{\"attributes\":{\"data_source\":{\"id\":\"723e2615-8696-422e-bd50-79b4fb75e95b\",\"type\":\"ColumnDataSource\"},\"glyph\":{\"id\":\"88a796d7-0215-4eef-9604-5607af0020a0\",\"type\":\"Rect\"},\"hover_glyph\":null,\"nonselection_glyph\":null,\"selection_glyph\":null},\"id\":\"68a3d77b-2ad2-42c3-87b8-63dd64a55202\",\"type\":\"GlyphRenderer\"},{\"attributes\":{\"callback\":null,\"column_names\":[\"line_color\",\"line_alpha\",\"color\",\"fill_alpha\",\"height\",\"width\",\"y\",\"x\",\"label\"],\"data\":{\"chart_index\":[{\"names\":\"walgreens\"}],\"color\":[\"#ff7f0e\"],\"fill_alpha\":[0.8],\"height\":[291.0],\"label\":[{\"names\":\"walgreens\"}],\"line_alpha\":[1.0],\"line_color\":[\"white\"],\"names\":[\"walgreens\"],\"width\":[0.8],\"x\":[\"walgreens\"],\"y\":[145.5]}},\"id\":\"eb7d38ff-63cc-4407-8c7e-e1f963e677e5\",\"type\":\"ColumnDataSource\"},{\"attributes\":{\"fill_alpha\":{\"field\":\"fill_alpha\"},\"fill_color\":{\"field\":\"color\"},\"height\":{\"field\":\"height\",\"units\":\"data\"},\"line_color\":{\"field\":\"line_color\"},\"width\":{\"field\":\"width\",\"units\":\"data\"},\"x\":{\"field\":\"x\"},\"y\":{\"field\":\"y\"}},\"id\":\"733b58cb-de65-4786-b1e6-3214bfb53f00\",\"type\":\"Rect\"},{\"attributes\":{\"below\":[{\"id\":\"94b1e2d3-7c76-402a-883e-0b2b8a61cfa1\",\"type\":\"CategoricalAxis\"}],\"css_classes\":null,\"left\":[{\"id\":\"b18d08d7-127f-4363-b029-7d0187a3a2f6\",\"type\":\"LinearAxis\"}],\"plot_height\":300,\"plot_width\":800,\"renderers\":[{\"id\":\"8b22add0-197a-4f1f-bb7a-b6f6224878a9\",\"type\":\"BoxAnnotation\"},{\"id\":\"60e09a33-3ac9-46f8-994b-cff2d4998a9b\",\"type\":\"GlyphRenderer\"},{\"id\":\"3c488703-33ad-4321-8d17-294460b6f391\",\"type\":\"GlyphRenderer\"},{\"id\":\"158a63d7-dc58-4ac9-b763-72320783bae7\",\"type\":\"GlyphRenderer\"},{\"id\":\"a1aedd63-6e21-4c16-abd4-d3a840e9442d\",\"type\":\"GlyphRenderer\"},{\"id\":\"400e2c0b-353a-41b2-989e-1ce26a31ea13\",\"type\":\"GlyphRenderer\"},{\"id\":\"2fb58cfc-a397-402e-9679-ba4c981e8881\",\"type\":\"GlyphRenderer\"},{\"id\":\"1931dafe-da68-4bc5-875e-29668840e098\",\"type\":\"GlyphRenderer\"},{\"id\":\"75e919f9-3e54-498c-ad64-fde567fae2cb\",\"type\":\"GlyphRenderer\"},{\"id\":\"c75566a2-ae28-4c39-bf95-3667c71ee95e\",\"type\":\"GlyphRenderer\"},{\"id\":\"ecdd2156-a9e5-4823-b1c9-e4d0ea2fedbf\",\"type\":\"GlyphRenderer\"},{\"id\":\"ad99bfd2-fd45-457c-96fc-6fd4c42241b6\",\"type\":\"GlyphRenderer\"},{\"id\":\"9ef59eb2-b1f3-4960-bc8e-047e0938b5c6\",\"type\":\"GlyphRenderer\"},{\"id\":\"ae413ad5-6f86-4e90-a694-c1ef8f25c7bc\",\"type\":\"GlyphRenderer\"},{\"id\":\"445f857e-3c17-4299-bdc2-0419dfa978c7\",\"type\":\"GlyphRenderer\"},{\"id\":\"4a2a4197-02ec-438b-82f8-ce9316442682\",\"type\":\"GlyphRenderer\"},{\"id\":\"a99e7cfd-b579-4fb2-883a-1f2cbbdf0b97\",\"type\":\"GlyphRenderer\"},{\"id\":\"9d231d91-8b4f-4485-b1fe-1d9558cf3496\",\"type\":\"GlyphRenderer\"},{\"id\":\"ddb41637-11e5-4f34-819a-8844792caed1\",\"type\":\"GlyphRenderer\"},{\"id\":\"d3bd848c-f714-42d4-986f-9bea1fbf117b\",\"type\":\"GlyphRenderer\"},{\"id\":\"4db6ad40-f1a3-477e-92bb-6d9b7ae3c218\",\"type\":\"GlyphRenderer\"},{\"id\":\"622d5bbf-2aa1-4155-9139-3673bfa292e9\",\"type\":\"GlyphRenderer\"},{\"id\":\"6264c679-84e0-4da1-8d1d-8443f0273dab\",\"type\":\"GlyphRenderer\"},{\"id\":\"10ffb7f7-6bb3-4562-af3d-15bd2d79d8fb\",\"type\":\"GlyphRenderer\"},{\"id\":\"8f828a8a-8da1-483c-a95a-3317942ebe2d\",\"type\":\"GlyphRenderer\"},{\"id\":\"9d159312-e7be-4349-816b-6e8371e2ef5b\",\"type\":\"GlyphRenderer\"},{\"id\":\"67d5695d-0a81-41ce-b165-36abb0f95798\",\"type\":\"Legend\"},{\"id\":\"94b1e2d3-7c76-402a-883e-0b2b8a61cfa1\",\"type\":\"CategoricalAxis\"},{\"id\":\"b18d08d7-127f-4363-b029-7d0187a3a2f6\",\"type\":\"LinearAxis\"},{\"id\":\"9a502d0a-4f3a-48a7-9639-795ffb76a4f6\",\"type\":\"Grid\"}],\"title\":{\"id\":\"4331640d-dcd1-4395-805e-1ff6377df2d9\",\"type\":\"Title\"},\"tool_events\":{\"id\":\"c9e850f9-d09b-4f77-b43d-36d51b978dbb\",\"type\":\"ToolEvents\"},\"toolbar\":{\"id\":\"53873fe6-3c6c-4a37-b7c6-dba0d01f71cb\",\"type\":\"Toolbar\"},\"toolbar_location\":null,\"x_mapper_type\":\"auto\",\"x_range\":{\"id\":\"8baf3af4-0504-444b-b006-c1cc775c26b3\",\"type\":\"FactorRange\"},\"y_mapper_type\":\"auto\",\"y_range\":{\"id\":\"c0e8c348-27b1-48e5-b8c1-ba5e707c5df9\",\"type\":\"Range1d\"}},\"id\":\"2599bde9-b733-4904-8c35-96c2bc8a6e29\",\"subtype\":\"Chart\",\"type\":\"Plot\"},{\"attributes\":{\"label\":{\"value\":\"funeral home\"},\"renderers\":[{\"id\":\"2e1ad3f1-8f4b-45fb-953c-16207211be1f\",\"type\":\"GlyphRenderer\"}]},\"id\":\"98321e79-7719-4606-8b07-625d17a35c52\",\"type\":\"LegendItem\"},{\"attributes\":{\"callback\":null,\"column_names\":[\"line_color\",\"line_alpha\",\"color\",\"fill_alpha\",\"height\",\"width\",\"y\",\"x\",\"label\"],\"data\":{\"chart_index\":[{\"names\":\"ameriprise financial\"}],\"color\":[\"#ff7f0e\"],\"fill_alpha\":[0.8],\"height\":[668.0],\"label\":[{\"names\":\"ameriprise financial\"}],\"line_alpha\":[1.0],\"line_color\":[\"white\"],\"names\":[\"ameriprise financial\"],\"width\":[0.8],\"x\":[\"ameriprise financial\"],\"y\":[334.0]}},\"id\":\"86b57d6a-fea6-4489-9944-5a8c1d2389b7\",\"type\":\"ColumnDataSource\"},{\"attributes\":{\"data_source\":{\"id\":\"4954d30c-f8af-43ad-8d21-b4bb30977215\",\"type\":\"ColumnDataSource\"},\"glyph\":{\"id\":\"934d14c2-16df-42a6-bdd1-a81739763e3e\",\"type\":\"Rect\"},\"hover_glyph\":null,\"nonselection_glyph\":null,\"selection_glyph\":null},\"id\":\"ecdd2156-a9e5-4823-b1c9-e4d0ea2fedbf\",\"type\":\"GlyphRenderer\"},{\"attributes\":{\"label\":{\"value\":\"state farm insurance\"},\"renderers\":[{\"id\":\"c75566a2-ae28-4c39-bf95-3667c71ee95e\",\"type\":\"GlyphRenderer\"}]},\"id\":\"c9244c14-fa98-45b7-bcf5-1141fa99513f\",\"type\":\"LegendItem\"},{\"attributes\":{\"label\":{\"value\":\"regions bank\"},\"renderers\":[{\"id\":\"d3bd848c-f714-42d4-986f-9bea1fbf117b\",\"type\":\"GlyphRenderer\"}]},\"id\":\"3cece09d-61c4-444b-b407-9bc70c2200b4\",\"type\":\"LegendItem\"},{\"attributes\":{\"fill_alpha\":{\"field\":\"fill_alpha\"},\"fill_color\":{\"field\":\"color\"},\"height\":{\"field\":\"height\",\"units\":\"data\"},\"line_color\":{\"field\":\"line_color\"},\"width\":{\"field\":\"width\",\"units\":\"data\"},\"x\":{\"field\":\"x\"},\"y\":{\"field\":\"y\"}},\"id\":\"44663a1b-aede-410f-be03-cbeec64d9b5c\",\"type\":\"Rect\"},{\"attributes\":{\"callback\":null,\"column_names\":[\"line_color\",\"line_alpha\",\"color\",\"fill_alpha\",\"height\",\"width\",\"y\",\"x\",\"label\"],\"data\":{\"chart_index\":[{\"word\":\"law office\"}],\"color\":[\"red\"],\"fill_alpha\":[0.8],\"height\":[2818.0],\"label\":[{\"word\":\"law office\"}],\"line_alpha\":[1.0],\"line_color\":[\"white\"],\"width\":[0.8],\"word\":[\"law office\"],\"x\":[\"law office\"],\"y\":[1409.0]}},\"id\":\"2e81b504-3e42-4c2d-82da-a884b24b3302\",\"type\":\"ColumnDataSource\"},{\"attributes\":{\"label\":{\"value\":\"district\"},\"renderers\":[{\"id\":\"8c1dbc19-292e-4a84-9531-4b62c0a4f305\",\"type\":\"GlyphRenderer\"}]},\"id\":\"7f3594a7-736c-4594-863a-622ac541c745\",\"type\":\"LegendItem\"},{\"attributes\":{\"callback\":null,\"column_names\":[\"line_color\",\"line_alpha\",\"color\",\"fill_alpha\",\"height\",\"width\",\"y\",\"x\",\"label\"],\"data\":{\"chart_index\":[{\"word\":\"high school\"}],\"color\":[\"red\"],\"fill_alpha\":[0.8],\"height\":[4002.0],\"label\":[{\"word\":\"high school\"}],\"line_alpha\":[1.0],\"line_color\":[\"white\"],\"width\":[0.8],\"word\":[\"high school\"],\"x\":[\"high school\"],\"y\":[2001.0]}},\"id\":\"a7440b0f-f939-4660-aa5a-e6921546f2e0\",\"type\":\"ColumnDataSource\"},{\"attributes\":{\"fill_alpha\":{\"field\":\"fill_alpha\"},\"fill_color\":{\"field\":\"color\"},\"height\":{\"field\":\"height\",\"units\":\"data\"},\"line_color\":{\"field\":\"line_color\"},\"width\":{\"field\":\"width\",\"units\":\"data\"},\"x\":{\"field\":\"x\"},\"y\":{\"field\":\"y\"}},\"id\":\"9d839b46-7828-4416-a62c-d45f76245dd7\",\"type\":\"Rect\"},{\"attributes\":{\"label\":{\"value\":\"elementary school\"},\"renderers\":[{\"id\":\"eb53338d-1613-49af-9950-049ec3349ab8\",\"type\":\"GlyphRenderer\"}]},\"id\":\"a4f9622f-06a1-476b-ba1a-d49706e4dab7\",\"type\":\"LegendItem\"},{\"attributes\":{\"fill_alpha\":{\"field\":\"fill_alpha\"},\"fill_color\":{\"field\":\"color\"},\"height\":{\"field\":\"height\",\"units\":\"data\"},\"line_color\":{\"field\":\"line_color\"},\"width\":{\"field\":\"width\",\"units\":\"data\"},\"x\":{\"field\":\"x\"},\"y\":{\"field\":\"y\"}},\"id\":\"c659bb88-9615-4ea1-9ea1-29dd596a44c1\",\"type\":\"Rect\"},{\"attributes\":{\"data_source\":{\"id\":\"f1e08f2d-460d-40fc-80ab-c683d0d85f9a\",\"type\":\"ColumnDataSource\"},\"glyph\":{\"id\":\"baf98672-f9ac-4930-ab2d-105dfd2670a2\",\"type\":\"Rect\"},\"hover_glyph\":null,\"nonselection_glyph\":null,\"selection_glyph\":null},\"id\":\"c75566a2-ae28-4c39-bf95-3667c71ee95e\",\"type\":\"GlyphRenderer\"},{\"attributes\":{\"label\":{\"value\":\"school district\"},\"renderers\":[{\"id\":\"a14e8670-c360-47f0-8655-9f64e0840a1b\",\"type\":\"GlyphRenderer\"}]},\"id\":\"d4ad7fc8-3a98-4332-bdb5-3ab8507c48f1\",\"type\":\"LegendItem\"},{\"attributes\":{\"overlay\":{\"id\":\"61e5f93c-6bec-4d7e-a2c1-a25cde933416\",\"type\":\"BoxAnnotation\"},\"plot\":{\"id\":\"51a0abcc-d2a3-479f-a5e2-8d4141b667df\",\"subtype\":\"Chart\",\"type\":\"Plot\"}},\"id\":\"2833bb0f-ff97-4461-9a00-87f7cb377e79\",\"type\":\"BoxZoomTool\"},{\"attributes\":{\"plot\":{\"id\":\"51a0abcc-d2a3-479f-a5e2-8d4141b667df\",\"subtype\":\"Chart\",\"type\":\"Plot\"}},\"id\":\"25f01fdf-ecbf-4119-b0f9-1355921f7d13\",\"type\":\"SaveTool\"},{\"attributes\":{\"label\":{\"value\":\"solutions\"},\"renderers\":[{\"id\":\"09e4fcce-5217-4ca8-b138-c27f82805b4a\",\"type\":\"GlyphRenderer\"}]},\"id\":\"a7d4c0b4-5fd2-4d82-9cbd-5f63e73266b6\",\"type\":\"LegendItem\"},{\"attributes\":{\"label\":{\"value\":\"first baptist church\"},\"renderers\":[{\"id\":\"75e919f9-3e54-498c-ad64-fde567fae2cb\",\"type\":\"GlyphRenderer\"}]},\"id\":\"80896a77-6869-4438-b042-5119e0d94eb0\",\"type\":\"LegendItem\"},{\"attributes\":{\"label\":{\"value\":\"farmers insurance\"},\"renderers\":[{\"id\":\"460efcfc-779a-4838-868c-b8a62a94697b\",\"type\":\"GlyphRenderer\"}]},\"id\":\"88c9cb0c-e10f-424f-aadc-ffe9d71d1cc9\",\"type\":\"LegendItem\"},{\"attributes\":{\"fill_alpha\":{\"field\":\"fill_alpha\"},\"fill_color\":{\"field\":\"color\"},\"height\":{\"field\":\"height\",\"units\":\"data\"},\"line_color\":{\"field\":\"line_color\"},\"width\":{\"field\":\"width\",\"units\":\"data\"},\"x\":{\"field\":\"x\"},\"y\":{\"field\":\"y\"}},\"id\":\"8abed49d-941b-429b-bfcd-80c436f2acb3\",\"type\":\"Rect\"},{\"attributes\":{\"label\":{\"value\":\"fastsigns\"},\"renderers\":[{\"id\":\"9d231d91-8b4f-4485-b1fe-1d9558cf3496\",\"type\":\"GlyphRenderer\"}]},\"id\":\"8e87487c-64b1-40f8-b0b7-5fa96e4f1ec2\",\"type\":\"LegendItem\"},{\"attributes\":{\"dimension\":1,\"grid_line_color\":{\"value\":null},\"plot\":{\"id\":\"501b95bf-484d-4f1b-9d4c-0fc47a14c843\",\"subtype\":\"Chart\",\"type\":\"Plot\"},\"ticker\":{\"id\":\"d6b6dbdd-a417-4d1f-8bdc-426b1c8ec55b\",\"type\":\"BasicTicker\"}},\"id\":\"396dd286-b0fd-4147-9888-806821c7d657\",\"type\":\"Grid\"},{\"attributes\":{\"data_source\":{\"id\":\"7c88e3a8-1e98-4f59-b662-9efc5bed491b\",\"type\":\"ColumnDataSource\"},\"glyph\":{\"id\":\"bd74be0c-6adc-484e-ab5c-b9ffae2748a0\",\"type\":\"Rect\"},\"hover_glyph\":null,\"nonselection_glyph\":null,\"selection_glyph\":null},\"id\":\"4db6ad40-f1a3-477e-92bb-6d9b7ae3c218\",\"type\":\"GlyphRenderer\"},{\"attributes\":{\"data_source\":{\"id\":\"34395c1a-b6bb-40ac-9a60-5aa2f857c964\",\"type\":\"ColumnDataSource\"},\"glyph\":{\"id\":\"f36f471e-98b0-476d-b3e1-8030100aeab7\",\"type\":\"Rect\"},\"hover_glyph\":null,\"nonselection_glyph\":null,\"selection_glyph\":null},\"id\":\"460efcfc-779a-4838-868c-b8a62a94697b\",\"type\":\"GlyphRenderer\"},{\"attributes\":{\"callback\":null,\"column_names\":[\"line_color\",\"line_alpha\",\"color\",\"fill_alpha\",\"height\",\"width\",\"y\",\"x\",\"label\"],\"data\":{\"chart_index\":[{\"word\":\"insurance agent\"}],\"color\":[\"red\"],\"fill_alpha\":[0.8],\"height\":[4013.0],\"label\":[{\"word\":\"insurance agent\"}],\"line_alpha\":[1.0],\"line_color\":[\"white\"],\"width\":[0.8],\"word\":[\"insurance agent\"],\"x\":[\"insurance agent\"],\"y\":[2006.5]}},\"id\":\"f9974368-43df-469b-a1d6-f30d7a6aecde\",\"type\":\"ColumnDataSource\"},{\"attributes\":{\"plot\":{\"id\":\"501b95bf-484d-4f1b-9d4c-0fc47a14c843\",\"subtype\":\"Chart\",\"type\":\"Plot\"}},\"id\":\"b90ae5ff-76fd-4c5a-b4b4-6c22b9781255\",\"type\":\"HelpTool\"},{\"attributes\":{},\"id\":\"6201cd2f-608e-47b8-a897-e89d1cf8c274\",\"type\":\"BasicTickFormatter\"},{\"attributes\":{\"fill_alpha\":{\"field\":\"fill_alpha\"},\"fill_color\":{\"field\":\"color\"},\"height\":{\"field\":\"height\",\"units\":\"data\"},\"line_color\":{\"field\":\"line_color\"},\"width\":{\"field\":\"width\",\"units\":\"data\"},\"x\":{\"field\":\"x\"},\"y\":{\"field\":\"y\"}},\"id\":\"0ba21e55-4e38-40c0-8830-fa7cfa45b3ef\",\"type\":\"Rect\"},{\"attributes\":{\"callback\":null,\"column_names\":[\"line_color\",\"line_alpha\",\"color\",\"fill_alpha\",\"height\",\"width\",\"y\",\"x\",\"label\"],\"data\":{\"chart_index\":[{\"word\":\"real estate\"}],\"color\":[\"red\"],\"fill_alpha\":[0.8],\"height\":[8068.0],\"label\":[{\"word\":\"real estate\"}],\"line_alpha\":[1.0],\"line_color\":[\"white\"],\"width\":[0.8],\"word\":[\"real estate\"],\"x\":[\"real estate\"],\"y\":[4034.0]}},\"id\":\"07eb5eef-7954-4eee-82cc-09dd63196014\",\"type\":\"ColumnDataSource\"},{\"attributes\":{\"data_source\":{\"id\":\"2314ba4e-e00f-4937-89e6-d317ec77ba21\",\"type\":\"ColumnDataSource\"},\"glyph\":{\"id\":\"c353faf8-9460-414d-8d44-2ec97677c3f0\",\"type\":\"Rect\"},\"hover_glyph\":null,\"nonselection_glyph\":null,\"selection_glyph\":null},\"id\":\"b10abc1b-cbab-48c2-a772-0cbbf41666b5\",\"type\":\"GlyphRenderer\"},{\"attributes\":{\"fill_alpha\":{\"field\":\"fill_alpha\"},\"fill_color\":{\"field\":\"color\"},\"height\":{\"field\":\"height\",\"units\":\"data\"},\"line_color\":{\"field\":\"line_color\"},\"width\":{\"field\":\"width\",\"units\":\"data\"},\"x\":{\"field\":\"x\"},\"y\":{\"field\":\"y\"}},\"id\":\"de6cd695-33a4-4e84-be8b-4ef23b15423e\",\"type\":\"Rect\"},{\"attributes\":{\"callback\":null,\"column_names\":[\"line_color\",\"line_alpha\",\"color\",\"fill_alpha\",\"height\",\"width\",\"y\",\"x\",\"label\"],\"data\":{\"chart_index\":[{\"names\":\"mary kay cosmetics\"}],\"color\":[\"#ff7f0e\"],\"fill_alpha\":[0.8],\"height\":[286.0],\"label\":[{\"names\":\"mary kay cosmetics\"}],\"line_alpha\":[1.0],\"line_color\":[\"white\"],\"names\":[\"mary kay cosmetics\"],\"width\":[0.8],\"x\":[\"mary kay cosmetics\"],\"y\":[143.0]}},\"id\":\"4ac0a487-a403-49a4-a3db-025b86ec5622\",\"type\":\"ColumnDataSource\"},{\"attributes\":{\"data_source\":{\"id\":\"ea81d896-445c-4182-a834-b777451c4032\",\"type\":\"ColumnDataSource\"},\"glyph\":{\"id\":\"7b5bd7f4-bfec-4c4d-a328-fabe1af9e982\",\"type\":\"Rect\"},\"hover_glyph\":null,\"nonselection_glyph\":null,\"selection_glyph\":null},\"id\":\"b413fa63-b3ef-4355-86b3-afea060d27fd\",\"type\":\"GlyphRenderer\"},{\"attributes\":{\"fill_alpha\":{\"field\":\"fill_alpha\"},\"fill_color\":{\"field\":\"color\"},\"height\":{\"field\":\"height\",\"units\":\"data\"},\"line_color\":{\"field\":\"line_color\"},\"width\":{\"field\":\"width\",\"units\":\"data\"},\"x\":{\"field\":\"x\"},\"y\":{\"field\":\"y\"}},\"id\":\"d403e97a-9b7e-4db3-bca7-870adea04601\",\"type\":\"Rect\"},{\"attributes\":{\"data_source\":{\"id\":\"bd3ab67b-676b-45fd-adab-d47cc21939d1\",\"type\":\"ColumnDataSource\"},\"glyph\":{\"id\":\"e66798de-c7da-4e49-8d5d-5ae599d6f72d\",\"type\":\"Rect\"},\"hover_glyph\":null,\"nonselection_glyph\":null,\"selection_glyph\":null},\"id\":\"400e2c0b-353a-41b2-989e-1ce26a31ea13\",\"type\":\"GlyphRenderer\"},{\"attributes\":{\"active_drag\":\"auto\",\"active_scroll\":\"auto\",\"active_tap\":\"auto\",\"tools\":[{\"id\":\"779751fb-f380-4944-8f00-6413af685311\",\"type\":\"PanTool\"},{\"id\":\"ed8bbbd1-ed85-4d29-9cdc-25637d976df0\",\"type\":\"WheelZoomTool\"},{\"id\":\"352d9eb6-b7db-444a-a8f5-365fce43c26e\",\"type\":\"BoxZoomTool\"},{\"id\":\"c32802bc-7353-4cd3-af63-8885fb486d21\",\"type\":\"SaveTool\"},{\"id\":\"30b4b64d-b9db-4618-892d-8c26a09a2af3\",\"type\":\"ResetTool\"},{\"id\":\"b90ae5ff-76fd-4c5a-b4b4-6c22b9781255\",\"type\":\"HelpTool\"}]},\"id\":\"c23bd57b-17bd-4c9f-82ae-8e58a289c26d\",\"type\":\"Toolbar\"},{\"attributes\":{},\"id\":\"c9e850f9-d09b-4f77-b43d-36d51b978dbb\",\"type\":\"ToolEvents\"},{\"attributes\":{\"data_source\":{\"id\":\"68233097-c9b7-4825-a9cd-68d1b42d88df\",\"type\":\"ColumnDataSource\"},\"glyph\":{\"id\":\"b2fa02be-0f7c-4b56-910a-066342453c9b\",\"type\":\"Rect\"},\"hover_glyph\":null,\"nonselection_glyph\":null,\"selection_glyph\":null},\"id\":\"58f050e4-5d96-4baa-958b-50044fd5060b\",\"type\":\"GlyphRenderer\"},{\"attributes\":{\"label\":{\"value\":\"primerica\"},\"renderers\":[{\"id\":\"4db6ad40-f1a3-477e-92bb-6d9b7ae3c218\",\"type\":\"GlyphRenderer\"}]},\"id\":\"cf830266-ba6a-4fac-aae9-9c9e1c2b8f8e\",\"type\":\"LegendItem\"},{\"attributes\":{\"callback\":null,\"column_names\":[\"line_color\",\"line_alpha\",\"color\",\"fill_alpha\",\"height\",\"width\",\"y\",\"x\",\"label\"],\"data\":{\"chart_index\":[{\"word\":\"service\"}],\"color\":[\"#17becf\"],\"fill_alpha\":[0.8],\"height\":[15284.0],\"label\":[{\"word\":\"service\"}],\"line_alpha\":[1.0],\"line_color\":[\"white\"],\"width\":[0.8],\"word\":[\"service\"],\"x\":[\"service\"],\"y\":[7642.0]}},\"id\":\"1d83f9eb-70ac-488a-b9c1-bc76cc1857bb\",\"type\":\"ColumnDataSource\"},{\"attributes\":{\"label\":{\"value\":\"baptist church\"},\"renderers\":[{\"id\":\"60f0747e-a876-44a2-a04e-fb862c68566b\",\"type\":\"GlyphRenderer\"}]},\"id\":\"b0ca4726-e048-4cfa-9976-fd979f03de22\",\"type\":\"LegendItem\"},{\"attributes\":{\"fill_alpha\":{\"field\":\"fill_alpha\"},\"fill_color\":{\"field\":\"color\"},\"height\":{\"field\":\"height\",\"units\":\"data\"},\"line_color\":{\"field\":\"line_color\"},\"width\":{\"field\":\"width\",\"units\":\"data\"},\"x\":{\"field\":\"x\"},\"y\":{\"field\":\"y\"}},\"id\":\"d2657b85-f3ef-440e-92b6-736e4e069304\",\"type\":\"Rect\"},{\"attributes\":{\"fill_alpha\":{\"field\":\"fill_alpha\"},\"fill_color\":{\"field\":\"color\"},\"height\":{\"field\":\"height\",\"units\":\"data\"},\"line_color\":{\"field\":\"line_color\"},\"width\":{\"field\":\"width\",\"units\":\"data\"},\"x\":{\"field\":\"x\"},\"y\":{\"field\":\"y\"}},\"id\":\"e66798de-c7da-4e49-8d5d-5ae599d6f72d\",\"type\":\"Rect\"},{\"attributes\":{\"plot\":{\"id\":\"2599bde9-b733-4904-8c35-96c2bc8a6e29\",\"subtype\":\"Chart\",\"type\":\"Plot\"}},\"id\":\"52ff9a4e-94a1-447f-ae3d-c05569eea9c4\",\"type\":\"HelpTool\"},{\"attributes\":{\"callback\":null,\"column_names\":[\"line_color\",\"line_alpha\",\"color\",\"fill_alpha\",\"height\",\"width\",\"y\",\"x\",\"label\"],\"data\":{\"chart_index\":[{\"word\":\"systems\"}],\"color\":[\"#17becf\"],\"fill_alpha\":[0.8],\"height\":[10821.0],\"label\":[{\"word\":\"systems\"}],\"line_alpha\":[1.0],\"line_color\":[\"white\"],\"width\":[0.8],\"word\":[\"systems\"],\"x\":[\"systems\"],\"y\":[5410.5]}},\"id\":\"76f35b80-78cd-46a8-b17f-e93c6b613322\",\"type\":\"ColumnDataSource\"},{\"attributes\":{\"items\":[{\"id\":\"2c3ee82b-7394-49ee-ae5b-14a61544b0de\",\"type\":\"LegendItem\"},{\"id\":\"9d0554bc-226c-4005-a561-5f25c721dfc3\",\"type\":\"LegendItem\"},{\"id\":\"90f26391-cf25-4e56-bc8e-9b2032442cc9\",\"type\":\"LegendItem\"},{\"id\":\"8ae21ff9-ef22-419f-86aa-d71b21a03aec\",\"type\":\"LegendItem\"},{\"id\":\"fe619758-aa07-4771-959a-67f8bce6f75f\",\"type\":\"LegendItem\"},{\"id\":\"d83964ef-f8db-4e42-840d-8ee871de7c8a\",\"type\":\"LegendItem\"},{\"id\":\"95beb7a8-09bc-40c1-acdc-3270ccc4c60b\",\"type\":\"LegendItem\"},{\"id\":\"d1350c2a-3e24-4af8-9492-409b0e8a6676\",\"type\":\"LegendItem\"},{\"id\":\"a256b1c9-bd3d-4a34-80db-145459a5721e\",\"type\":\"LegendItem\"},{\"id\":\"ab4c3972-9395-4193-89ac-01e831f2e442\",\"type\":\"LegendItem\"},{\"id\":\"a9ea105c-3ad5-4fe1-b5fc-e78732c89bb5\",\"type\":\"LegendItem\"},{\"id\":\"27c68a37-d123-4418-ae2d-259d3f473668\",\"type\":\"LegendItem\"},{\"id\":\"5cb7526c-f54c-40b8-8d58-e00e8e658396\",\"type\":\"LegendItem\"},{\"id\":\"951c5fb9-ccc3-482b-9a07-d59a828dd7d9\",\"type\":\"LegendItem\"},{\"id\":\"e49a4e10-340d-495b-b248-7077b36f6514\",\"type\":\"LegendItem\"},{\"id\":\"f759a241-262e-44f7-8759-410da34e95cc\",\"type\":\"LegendItem\"},{\"id\":\"a7d4c0b4-5fd2-4d82-9cbd-5f63e73266b6\",\"type\":\"LegendItem\"},{\"id\":\"ffe94c6b-7499-4f58-88f9-954d72356629\",\"type\":\"LegendItem\"},{\"id\":\"7f3594a7-736c-4594-863a-622ac541c745\",\"type\":\"LegendItem\"},{\"id\":\"88b586eb-6a03-47b0-8f13-86eea9a98a10\",\"type\":\"LegendItem\"}],\"location\":null,\"plot\":{\"id\":\"51a0abcc-d2a3-479f-a5e2-8d4141b667df\",\"subtype\":\"Chart\",\"type\":\"Plot\"}},\"id\":\"03c938cb-80c9-4ee9-aa2f-04d50221d628\",\"type\":\"Legend\"},{\"attributes\":{\"fill_alpha\":{\"field\":\"fill_alpha\"},\"fill_color\":{\"field\":\"color\"},\"height\":{\"field\":\"height\",\"units\":\"data\"},\"line_color\":{\"field\":\"line_color\"},\"width\":{\"field\":\"width\",\"units\":\"data\"},\"x\":{\"field\":\"x\"},\"y\":{\"field\":\"y\"}},\"id\":\"5a9cc5c7-0f17-4199-acf6-9d042e21fbff\",\"type\":\"Rect\"},{\"attributes\":{\"label\":{\"value\":\"high school\"},\"renderers\":[{\"id\":\"63e2aa71-70d7-4b6f-8352-4957b11e3263\",\"type\":\"GlyphRenderer\"}]},\"id\":\"a31b5b7e-5a07-425d-89ba-615d55d956ab\",\"type\":\"LegendItem\"},{\"attributes\":{\"data_source\":{\"id\":\"f9974368-43df-469b-a1d6-f30d7a6aecde\",\"type\":\"ColumnDataSource\"},\"glyph\":{\"id\":\"c659bb88-9615-4ea1-9ea1-29dd596a44c1\",\"type\":\"Rect\"},\"hover_glyph\":null,\"nonselection_glyph\":null,\"selection_glyph\":null},\"id\":\"14baf74f-b7a9-4f79-b618-6bd9d683f6c5\",\"type\":\"GlyphRenderer\"},{\"attributes\":{\"label\":{\"value\":\"u.s. bank\"},\"renderers\":[{\"id\":\"ecdd2156-a9e5-4823-b1c9-e4d0ea2fedbf\",\"type\":\"GlyphRenderer\"}]},\"id\":\"f98eff02-3331-4f95-95f6-5f3949e97c15\",\"type\":\"LegendItem\"},{\"attributes\":{\"callback\":null,\"column_names\":[\"line_color\",\"line_alpha\",\"color\",\"fill_alpha\",\"height\",\"width\",\"y\",\"x\",\"label\"],\"data\":{\"chart_index\":[{\"names\":\"primerica\"}],\"color\":[\"#ff7f0e\"],\"fill_alpha\":[0.8],\"height\":[222.0],\"label\":[{\"names\":\"primerica\"}],\"line_alpha\":[1.0],\"line_color\":[\"white\"],\"names\":[\"primerica\"],\"width\":[0.8],\"x\":[\"primerica\"],\"y\":[111.0]}},\"id\":\"7c88e3a8-1e98-4f59-b662-9efc5bed491b\",\"type\":\"ColumnDataSource\"},{\"attributes\":{},\"id\":\"dde799ac-ac3f-45af-ab5f-7791c7751fed\",\"type\":\"CategoricalTickFormatter\"},{\"attributes\":{\"callback\":null,\"column_names\":[\"line_color\",\"line_alpha\",\"color\",\"fill_alpha\",\"height\",\"width\",\"y\",\"x\",\"label\"],\"data\":{\"chart_index\":[{\"word\":\"credit union\"}],\"color\":[\"red\"],\"fill_alpha\":[0.8],\"height\":[2484.0],\"label\":[{\"word\":\"credit union\"}],\"line_alpha\":[1.0],\"line_color\":[\"white\"],\"width\":[0.8],\"word\":[\"credit union\"],\"x\":[\"credit union\"],\"y\":[1242.0]}},\"id\":\"0bd731b9-1948-426c-8ddf-e31045b70c24\",\"type\":\"ColumnDataSource\"},{\"attributes\":{\"label\":{\"value\":\"keller williams realty\"},\"renderers\":[{\"id\":\"158a63d7-dc58-4ac9-b763-72320783bae7\",\"type\":\"GlyphRenderer\"}]},\"id\":\"55fe35c7-0567-46fe-b461-0b33c7a6cfcc\",\"type\":\"LegendItem\"},{\"attributes\":{\"plot\":{\"id\":\"501b95bf-484d-4f1b-9d4c-0fc47a14c843\",\"subtype\":\"Chart\",\"type\":\"Plot\"}},\"id\":\"c32802bc-7353-4cd3-af63-8885fb486d21\",\"type\":\"SaveTool\"},{\"attributes\":{\"data_source\":{\"id\":\"7dd25541-4d02-4dc0-8082-a1fe0f32eca6\",\"type\":\"ColumnDataSource\"},\"glyph\":{\"id\":\"b78ae430-96ef-4b27-b313-fd58148205e7\",\"type\":\"Rect\"},\"hover_glyph\":null,\"nonselection_glyph\":null,\"selection_glyph\":null},\"id\":\"158a63d7-dc58-4ac9-b763-72320783bae7\",\"type\":\"GlyphRenderer\"},{\"attributes\":{\"label\":{\"value\":\"law offices\"},\"renderers\":[{\"id\":\"1ab11190-119f-43d3-b727-51eb1781e9d4\",\"type\":\"GlyphRenderer\"}]},\"id\":\"cba17f8a-fbf6-405b-bb75-f148238ea76f\",\"type\":\"LegendItem\"},{\"attributes\":{\"callback\":null,\"column_names\":[\"line_color\",\"line_alpha\",\"color\",\"fill_alpha\",\"height\",\"width\",\"y\",\"x\",\"label\"],\"data\":{\"chart_index\":[{\"word\":\"corp\"}],\"color\":[\"#17becf\"],\"fill_alpha\":[0.8],\"height\":[10209.0],\"label\":[{\"word\":\"corp\"}],\"line_alpha\":[1.0],\"line_color\":[\"white\"],\"width\":[0.8],\"word\":[\"corp\"],\"x\":[\"corp\"],\"y\":[5104.5]}},\"id\":\"883f2360-b41f-4031-bd6b-1248aa5cc332\",\"type\":\"ColumnDataSource\"},{\"attributes\":{},\"id\":\"6efd467e-32de-4dc1-bf91-edcabec717d1\",\"type\":\"BasicTicker\"},{\"attributes\":{\"fill_alpha\":{\"field\":\"fill_alpha\"},\"fill_color\":{\"field\":\"color\"},\"height\":{\"field\":\"height\",\"units\":\"data\"},\"line_color\":{\"field\":\"line_color\"},\"width\":{\"field\":\"width\",\"units\":\"data\"},\"x\":{\"field\":\"x\"},\"y\":{\"field\":\"y\"}},\"id\":\"88a796d7-0215-4eef-9604-5607af0020a0\",\"type\":\"Rect\"},{\"attributes\":{\"label\":{\"value\":\"credit union\"},\"renderers\":[{\"id\":\"c11fadd9-1587-4beb-80c5-7a2cb9b88bc8\",\"type\":\"GlyphRenderer\"}]},\"id\":\"3a90cba7-d712-4f2d-a902-6f2219499436\",\"type\":\"LegendItem\"},{\"attributes\":{\"callback\":null,\"end\":8952.3},\"id\":\"d9da4bce-ec64-4836-a12d-95a981863601\",\"type\":\"Range1d\"},{\"attributes\":{\"callback\":null,\"column_names\":[\"line_color\",\"line_alpha\",\"color\",\"fill_alpha\",\"height\",\"width\",\"y\",\"x\",\"label\"],\"data\":{\"chart_index\":[{\"names\":\"coldwell banker\"}],\"color\":[\"#ff7f0e\"],\"fill_alpha\":[0.8],\"height\":[346.0],\"label\":[{\"names\":\"coldwell banker\"}],\"line_alpha\":[1.0],\"line_color\":[\"white\"],\"names\":[\"coldwell banker\"],\"width\":[0.8],\"x\":[\"coldwell banker\"],\"y\":[173.0]}},\"id\":\"5b92b48d-a114-485f-8165-903100b96aec\",\"type\":\"ColumnDataSource\"},{\"attributes\":{\"fill_alpha\":{\"field\":\"fill_alpha\"},\"fill_color\":{\"field\":\"color\"},\"height\":{\"field\":\"height\",\"units\":\"data\"},\"line_color\":{\"field\":\"line_color\"},\"width\":{\"field\":\"width\",\"units\":\"data\"},\"x\":{\"field\":\"x\"},\"y\":{\"field\":\"y\"}},\"id\":\"47c15588-dbb6-46fd-bd3f-82017c606f04\",\"type\":\"Rect\"},{\"attributes\":{\"callback\":null,\"column_names\":[\"line_color\",\"line_alpha\",\"color\",\"fill_alpha\",\"height\",\"width\",\"y\",\"x\",\"label\"],\"data\":{\"chart_index\":[{\"names\":\"fastsigns\"}],\"color\":[\"#ff7f0e\"],\"fill_alpha\":[0.8],\"height\":[258.0],\"label\":[{\"names\":\"fastsigns\"}],\"line_alpha\":[1.0],\"line_color\":[\"white\"],\"names\":[\"fastsigns\"],\"width\":[0.8],\"x\":[\"fastsigns\"],\"y\":[129.0]}},\"id\":\"aed4ecc7-80b9-4440-8e09-dbe3c72e07c0\",\"type\":\"ColumnDataSource\"},{\"attributes\":{\"callback\":null,\"column_names\":[\"line_color\",\"line_alpha\",\"color\",\"fill_alpha\",\"height\",\"width\",\"y\",\"x\",\"label\"],\"data\":{\"chart_index\":[{\"word\":\"farm insurance\"}],\"color\":[\"red\"],\"fill_alpha\":[0.8],\"height\":[4391.0],\"label\":[{\"word\":\"farm insurance\"}],\"line_alpha\":[1.0],\"line_color\":[\"white\"],\"width\":[0.8],\"word\":[\"farm insurance\"],\"x\":[\"farm insurance\"],\"y\":[2195.5]}},\"id\":\"2314ba4e-e00f-4937-89e6-d317ec77ba21\",\"type\":\"ColumnDataSource\"},{\"attributes\":{\"fill_alpha\":{\"field\":\"fill_alpha\"},\"fill_color\":{\"field\":\"color\"},\"height\":{\"field\":\"height\",\"units\":\"data\"},\"line_color\":{\"field\":\"line_color\"},\"width\":{\"field\":\"width\",\"units\":\"data\"},\"x\":{\"field\":\"x\"},\"y\":{\"field\":\"y\"}},\"id\":\"2d6a519b-5cda-4ef7-b0d6-47feec27f0c5\",\"type\":\"Rect\"},{\"attributes\":{\"fill_alpha\":{\"field\":\"fill_alpha\"},\"fill_color\":{\"field\":\"color\"},\"height\":{\"field\":\"height\",\"units\":\"data\"},\"line_color\":{\"field\":\"line_color\"},\"width\":{\"field\":\"width\",\"units\":\"data\"},\"x\":{\"field\":\"x\"},\"y\":{\"field\":\"y\"}},\"id\":\"8ec4d591-219e-4e02-9c66-9fc28bd15bd0\",\"type\":\"Rect\"},{\"attributes\":{\"data_source\":{\"id\":\"ee2f7955-fbda-4fdd-a846-61341fed2e35\",\"type\":\"ColumnDataSource\"},\"glyph\":{\"id\":\"15f60eb6-08b4-4570-9904-cdfdfc65e1b4\",\"type\":\"Rect\"},\"hover_glyph\":null,\"nonselection_glyph\":null,\"selection_glyph\":null},\"id\":\"2e1ad3f1-8f4b-45fb-953c-16207211be1f\",\"type\":\"GlyphRenderer\"},{\"attributes\":{\"label\":{\"value\":\"napa auto parts\"},\"renderers\":[{\"id\":\"4a2a4197-02ec-438b-82f8-ce9316442682\",\"type\":\"GlyphRenderer\"}]},\"id\":\"f81fd4cc-769a-45c3-9462-47f4502d3ccd\",\"type\":\"LegendItem\"},{\"attributes\":{\"data_source\":{\"id\":\"bed2e480-9bc0-44b5-bc39-6623a3ba13de\",\"type\":\"ColumnDataSource\"},\"glyph\":{\"id\":\"d403e97a-9b7e-4db3-bca7-870adea04601\",\"type\":\"Rect\"},\"hover_glyph\":null,\"nonselection_glyph\":null,\"selection_glyph\":null},\"id\":\"2b0179b9-dc96-4745-aac8-1dd2da1e9df1\",\"type\":\"GlyphRenderer\"},{\"attributes\":{\"data_source\":{\"id\":\"42a5b7d0-042d-4c31-9500-c1aebb8f1964\",\"type\":\"ColumnDataSource\"},\"glyph\":{\"id\":\"44663a1b-aede-410f-be03-cbeec64d9b5c\",\"type\":\"Rect\"},\"hover_glyph\":null,\"nonselection_glyph\":null,\"selection_glyph\":null},\"id\":\"4a2a4197-02ec-438b-82f8-ce9316442682\",\"type\":\"GlyphRenderer\"},{\"attributes\":{\"data_source\":{\"id\":\"9db9bbca-2974-4f62-80a4-40eb1944b2f3\",\"type\":\"ColumnDataSource\"},\"glyph\":{\"id\":\"400bfb31-3fa0-4434-b403-ab5aa077997b\",\"type\":\"Rect\"},\"hover_glyph\":null,\"nonselection_glyph\":null,\"selection_glyph\":null},\"id\":\"ad99bfd2-fd45-457c-96fc-6fd4c42241b6\",\"type\":\"GlyphRenderer\"},{\"attributes\":{\"callback\":null,\"column_names\":[\"line_color\",\"line_alpha\",\"color\",\"fill_alpha\",\"height\",\"width\",\"y\",\"x\",\"label\"],\"data\":{\"chart_index\":[{\"word\":\"financial services\"}],\"color\":[\"red\"],\"fill_alpha\":[0.8],\"height\":[1917.0],\"label\":[{\"word\":\"financial services\"}],\"line_alpha\":[1.0],\"line_color\":[\"white\"],\"width\":[0.8],\"word\":[\"financial services\"],\"x\":[\"financial services\"],\"y\":[958.5]}},\"id\":\"ea81d896-445c-4182-a834-b777451c4032\",\"type\":\"ColumnDataSource\"},{\"attributes\":{\"data_source\":{\"id\":\"daae64e0-1257-4fde-8d1b-9d65efe0467f\",\"type\":\"ColumnDataSource\"},\"glyph\":{\"id\":\"b5c381f5-a078-41e7-972b-b63d3bd21da3\",\"type\":\"Rect\"},\"hover_glyph\":null,\"nonselection_glyph\":null,\"selection_glyph\":null},\"id\":\"8eb385be-c346-4d75-b2ba-401612a3923c\",\"type\":\"GlyphRenderer\"},{\"attributes\":{\"overlay\":{\"id\":\"8b22add0-197a-4f1f-bb7a-b6f6224878a9\",\"type\":\"BoxAnnotation\"},\"plot\":{\"id\":\"2599bde9-b733-4904-8c35-96c2bc8a6e29\",\"subtype\":\"Chart\",\"type\":\"Plot\"}},\"id\":\"3ef51890-8719-4476-8033-2a253188d9c8\",\"type\":\"BoxZoomTool\"},{\"attributes\":{\"callback\":null,\"column_names\":[\"line_color\",\"line_alpha\",\"color\",\"fill_alpha\",\"height\",\"width\",\"y\",\"x\",\"label\"],\"data\":{\"chart_index\":[{\"word\":\"home\"}],\"color\":[\"#17becf\"],\"fill_alpha\":[0.8],\"height\":[9327.0],\"label\":[{\"word\":\"home\"}],\"line_alpha\":[1.0],\"line_color\":[\"white\"],\"width\":[0.8],\"word\":[\"home\"],\"x\":[\"home\"],\"y\":[4663.5]}},\"id\":\"f8972b2a-02f3-44c2-866e-75f820aa8e92\",\"type\":\"ColumnDataSource\"},{\"attributes\":{\"callback\":null,\"column_names\":[\"line_color\",\"line_alpha\",\"color\",\"fill_alpha\",\"height\",\"width\",\"y\",\"x\",\"label\"],\"data\":{\"chart_index\":[{\"names\":\"primerica financial services\"}],\"color\":[\"#ff7f0e\"],\"fill_alpha\":[0.8],\"height\":[211.0],\"label\":[{\"names\":\"primerica financial services\"}],\"line_alpha\":[1.0],\"line_color\":[\"white\"],\"names\":[\"primerica financial services\"],\"width\":[0.8],\"x\":[\"primerica financial services\"],\"y\":[105.5]}},\"id\":\"be508397-478c-4705-9f16-58fc71783d88\",\"type\":\"ColumnDataSource\"},{\"attributes\":{\"label\":{\"value\":\"bb&t\"},\"renderers\":[{\"id\":\"622d5bbf-2aa1-4155-9139-3673bfa292e9\",\"type\":\"GlyphRenderer\"}]},\"id\":\"dedf2e18-2bb9-474f-885d-404a758d79e0\",\"type\":\"LegendItem\"},{\"attributes\":{\"callback\":null,\"factors\":[\"farmers insurance\",\"ameriprise financial\",\"keller williams realty\",\"century 21\",\"ymca\",\"coldwell banker\",\"first presbyterian church\",\"first baptist church\",\"state farm insurance\",\"u.s. bank\",\"re/max\",\"mcdonald's\",\"walgreens\",\"mary kay cosmetics\",\"napa auto parts\",\"liberty tax service\",\"fastsigns\",\"verizon wireless\",\"regions bank\",\"primerica\",\"bb&t\",\"farmers insurance group\",\"primerica financial services\",\"budget blinds\",\"bank of america\"]},\"id\":\"8baf3af4-0504-444b-b006-c1cc775c26b3\",\"type\":\"FactorRange\"},{\"attributes\":{\"fill_alpha\":{\"field\":\"fill_alpha\"},\"fill_color\":{\"field\":\"color\"},\"height\":{\"field\":\"height\",\"units\":\"data\"},\"line_color\":{\"field\":\"line_color\"},\"width\":{\"field\":\"width\",\"units\":\"data\"},\"x\":{\"field\":\"x\"},\"y\":{\"field\":\"y\"}},\"id\":\"4450401f-76a4-441f-9d1c-30e65d3a8d3d\",\"type\":\"Rect\"},{\"attributes\":{\"data_source\":{\"id\":\"5e61cb22-0856-457f-9e59-d321333d2ed7\",\"type\":\"ColumnDataSource\"},\"glyph\":{\"id\":\"abad6324-a72f-4729-98e6-a035ce9d1b30\",\"type\":\"Rect\"},\"hover_glyph\":null,\"nonselection_glyph\":null,\"selection_glyph\":null},\"id\":\"75e919f9-3e54-498c-ad64-fde567fae2cb\",\"type\":\"GlyphRenderer\"},{\"attributes\":{\"data_source\":{\"id\":\"87285330-a1dd-46e9-99f0-3e10a53cf863\",\"type\":\"ColumnDataSource\"},\"glyph\":{\"id\":\"483a0488-2691-4efd-845b-4cc499f8b553\",\"type\":\"Rect\"},\"hover_glyph\":null,\"nonselection_glyph\":null,\"selection_glyph\":null},\"id\":\"3ec919f1-ec25-4d30-8e0e-326c5047716d\",\"type\":\"GlyphRenderer\"},{\"attributes\":{\"children\":[{\"id\":\"51a0abcc-d2a3-479f-a5e2-8d4141b667df\",\"subtype\":\"Chart\",\"type\":\"Plot\"},{\"id\":\"501b95bf-484d-4f1b-9d4c-0fc47a14c843\",\"subtype\":\"Chart\",\"type\":\"Plot\"}]},\"id\":\"229bce3b-2879-4b2c-94ad-0f6ac80129d5\",\"type\":\"Row\"},{\"attributes\":{\"label\":{\"value\":\"liberty tax service\"},\"renderers\":[{\"id\":\"a99e7cfd-b579-4fb2-883a-1f2cbbdf0b97\",\"type\":\"GlyphRenderer\"}]},\"id\":\"74a73fbb-698d-4ffa-817d-6b61e402fc7e\",\"type\":\"LegendItem\"},{\"attributes\":{\"fill_alpha\":{\"field\":\"fill_alpha\"},\"fill_color\":{\"field\":\"color\"},\"height\":{\"field\":\"height\",\"units\":\"data\"},\"line_color\":{\"field\":\"line_color\"},\"width\":{\"field\":\"width\",\"units\":\"data\"},\"x\":{\"field\":\"x\"},\"y\":{\"field\":\"y\"}},\"id\":\"9cfc79a6-db0d-4022-844a-eed5f397c6c3\",\"type\":\"Rect\"},{\"attributes\":{\"data_source\":{\"id\":\"0da4b0b3-f98f-402b-a1f6-d320d745856c\",\"type\":\"ColumnDataSource\"},\"glyph\":{\"id\":\"a14d21a6-b0a2-4f5a-8067-ea1819dddc43\",\"type\":\"Rect\"},\"hover_glyph\":null,\"nonselection_glyph\":null,\"selection_glyph\":null},\"id\":\"a1aedd63-6e21-4c16-abd4-d3a840e9442d\",\"type\":\"GlyphRenderer\"},{\"attributes\":{\"callback\":null,\"column_names\":[\"line_color\",\"line_alpha\",\"color\",\"fill_alpha\",\"height\",\"width\",\"y\",\"x\",\"label\"],\"data\":{\"chart_index\":[{\"names\":\"verizon wireless\"}],\"color\":[\"#ff7f0e\"],\"fill_alpha\":[0.8],\"height\":[240.0],\"label\":[{\"names\":\"verizon wireless\"}],\"line_alpha\":[1.0],\"line_color\":[\"white\"],\"names\":[\"verizon wireless\"],\"width\":[0.8],\"x\":[\"verizon wireless\"],\"y\":[120.0]}},\"id\":\"ebe6a85f-38b6-498b-8680-50ed5b4776ba\",\"type\":\"ColumnDataSource\"},{\"attributes\":{\"axis_label\":null,\"formatter\":{\"id\":\"69f84237-1524-4821-b1f6-3a43eb678a2c\",\"type\":\"CategoricalTickFormatter\"},\"major_label_orientation\":0.7853981633974483,\"plot\":{\"id\":\"51a0abcc-d2a3-479f-a5e2-8d4141b667df\",\"subtype\":\"Chart\",\"type\":\"Plot\"},\"ticker\":{\"id\":\"2e01ee58-bb0f-49c0-afeb-848faf89eaa9\",\"type\":\"CategoricalTicker\"}},\"id\":\"875306e6-8661-4ca7-a493-84a32e60e2ce\",\"type\":\"CategoricalAxis\"},{\"attributes\":{\"data_source\":{\"id\":\"abe21c2b-e11b-4e9a-a88a-cda4008c45c6\",\"type\":\"ColumnDataSource\"},\"glyph\":{\"id\":\"de6cd695-33a4-4e84-be8b-4ef23b15423e\",\"type\":\"Rect\"},\"hover_glyph\":null,\"nonselection_glyph\":null,\"selection_glyph\":null},\"id\":\"f221f517-7986-4e00-8096-4a1d0f8c0700\",\"type\":\"GlyphRenderer\"},{\"attributes\":{\"callback\":null,\"column_names\":[\"line_color\",\"line_alpha\",\"color\",\"fill_alpha\",\"height\",\"width\",\"y\",\"x\",\"label\"],\"data\":{\"chart_index\":[{\"word\":\"solutions\"}],\"color\":[\"#17becf\"],\"fill_alpha\":[0.8],\"height\":[10605.0],\"label\":[{\"word\":\"solutions\"}],\"line_alpha\":[1.0],\"line_color\":[\"white\"],\"width\":[0.8],\"word\":[\"solutions\"],\"x\":[\"solutions\"],\"y\":[5302.5]}},\"id\":\"a612afd3-1f31-4604-968d-454e0e2e5024\",\"type\":\"ColumnDataSource\"},{\"attributes\":{\"callback\":null,\"column_names\":[\"line_color\",\"line_alpha\",\"color\",\"fill_alpha\",\"height\",\"width\",\"y\",\"x\",\"label\"],\"data\":{\"chart_index\":[{\"word\":\"law firm\"}],\"color\":[\"red\"],\"fill_alpha\":[0.8],\"height\":[2195.0],\"label\":[{\"word\":\"law firm\"}],\"line_alpha\":[1.0],\"line_color\":[\"white\"],\"width\":[0.8],\"word\":[\"law firm\"],\"x\":[\"law firm\"],\"y\":[1097.5]}},\"id\":\"daae64e0-1257-4fde-8d1b-9d65efe0467f\",\"type\":\"ColumnDataSource\"},{\"attributes\":{\"data_source\":{\"id\":\"d306f763-5dd2-41dd-a497-7621c5797be7\",\"type\":\"ColumnDataSource\"},\"glyph\":{\"id\":\"2d6a519b-5cda-4ef7-b0d6-47feec27f0c5\",\"type\":\"Rect\"},\"hover_glyph\":null,\"nonselection_glyph\":null,\"selection_glyph\":null},\"id\":\"a99e7cfd-b579-4fb2-883a-1f2cbbdf0b97\",\"type\":\"GlyphRenderer\"},{\"attributes\":{\"label\":{\"value\":\"construction\"},\"renderers\":[{\"id\":\"4cf09026-2474-497a-8e20-e60d191a8373\",\"type\":\"GlyphRenderer\"}]},\"id\":\"5cb7526c-f54c-40b8-8d58-e00e8e658396\",\"type\":\"LegendItem\"},{\"attributes\":{\"label\":{\"value\":\"farmers insurance group\"},\"renderers\":[{\"id\":\"6264c679-84e0-4da1-8d1d-8443f0273dab\",\"type\":\"GlyphRenderer\"}]},\"id\":\"1f6803f5-8daf-4654-8e21-660a87f5a978\",\"type\":\"LegendItem\"},{\"attributes\":{\"items\":[{\"id\":\"d4ad7fc8-3a98-4332-bdb5-3ab8507c48f1\",\"type\":\"LegendItem\"},{\"id\":\"2ca98cd2-588d-4215-b77c-fb1d879a38d2\",\"type\":\"LegendItem\"},{\"id\":\"a4f9622f-06a1-476b-ba1a-d49706e4dab7\",\"type\":\"LegendItem\"},{\"id\":\"88c9cb0c-e10f-424f-aadc-ffe9d71d1cc9\",\"type\":\"LegendItem\"},{\"id\":\"896b94a2-7973-4a89-b58a-246eb8302505\",\"type\":\"LegendItem\"},{\"id\":\"81ed0aa6-04b7-4ccd-aaf1-b5d2310bc188\",\"type\":\"LegendItem\"},{\"id\":\"5fb8277a-17ef-454e-9680-b80a15b95f2a\",\"type\":\"LegendItem\"},{\"id\":\"a31b5b7e-5a07-425d-89ba-615d55d956ab\",\"type\":\"LegendItem\"},{\"id\":\"6c04e563-0f21-4c05-b0e9-a53383881958\",\"type\":\"LegendItem\"},{\"id\":\"b0ca4726-e048-4cfa-9976-fd979f03de22\",\"type\":\"LegendItem\"},{\"id\":\"d3662e67-f0ed-4ade-b867-01c4a95c3284\",\"type\":\"LegendItem\"},{\"id\":\"98714434-0bd2-4a95-819d-73995339918a\",\"type\":\"LegendItem\"},{\"id\":\"3a90cba7-d712-4f2d-a902-6f2219499436\",\"type\":\"LegendItem\"},{\"id\":\"dc59876c-3125-447d-bb65-3681c34c05de\",\"type\":\"LegendItem\"},{\"id\":\"cba17f8a-fbf6-405b-bb75-f148238ea76f\",\"type\":\"LegendItem\"},{\"id\":\"6d812e2d-6746-453d-9c3e-d46ed799fd4f\",\"type\":\"LegendItem\"},{\"id\":\"7a9f858d-b6f2-476e-9bfb-73ebba1a2efb\",\"type\":\"LegendItem\"},{\"id\":\"9a45b4d2-abb4-4920-8f41-b1924bceba14\",\"type\":\"LegendItem\"},{\"id\":\"59c154c8-a775-48d1-8e14-935abb1b5248\",\"type\":\"LegendItem\"},{\"id\":\"98321e79-7719-4606-8b07-625d17a35c52\",\"type\":\"LegendItem\"}],\"location\":null,\"plot\":{\"id\":\"501b95bf-484d-4f1b-9d4c-0fc47a14c843\",\"subtype\":\"Chart\",\"type\":\"Plot\"}},\"id\":\"f6fad810-0d87-42a2-86a6-9dc62357865e\",\"type\":\"Legend\"},{\"attributes\":{\"plot\":{\"id\":\"2599bde9-b733-4904-8c35-96c2bc8a6e29\",\"subtype\":\"Chart\",\"type\":\"Plot\"}},\"id\":\"7bec9667-72fc-48b7-a8fb-7701acd80889\",\"type\":\"WheelZoomTool\"},{\"attributes\":{\"plot\":null,\"text\":\"Most Common Bigram Words Found In Names\"},\"id\":\"19192041-0984-46a0-9c5d-10e03a6a6848\",\"type\":\"Title\"},{\"attributes\":{\"label\":{\"value\":\"verizon wireless\"},\"renderers\":[{\"id\":\"ddb41637-11e5-4f34-819a-8844792caed1\",\"type\":\"GlyphRenderer\"}]},\"id\":\"0b369ebc-b2b5-4d30-bc51-0047614d6160\",\"type\":\"LegendItem\"},{\"attributes\":{\"callback\":null,\"column_names\":[\"line_color\",\"line_alpha\",\"color\",\"fill_alpha\",\"height\",\"width\",\"y\",\"x\",\"label\"],\"data\":{\"chart_index\":[{\"word\":\"elementary school\"}],\"color\":[\"red\"],\"fill_alpha\":[0.8],\"height\":[6149.0],\"label\":[{\"word\":\"elementary school\"}],\"line_alpha\":[1.0],\"line_color\":[\"white\"],\"width\":[0.8],\"word\":[\"elementary school\"],\"x\":[\"elementary school\"],\"y\":[3074.5]}},\"id\":\"05041af1-19fd-4f42-a1b1-9723ffcec8b6\",\"type\":\"ColumnDataSource\"},{\"attributes\":{\"callback\":null,\"column_names\":[\"line_color\",\"line_alpha\",\"color\",\"fill_alpha\",\"height\",\"width\",\"y\",\"x\",\"label\"],\"data\":{\"chart_index\":[{\"names\":\"first baptist church\"}],\"color\":[\"#ff7f0e\"],\"fill_alpha\":[0.8],\"height\":[333.0],\"label\":[{\"names\":\"first baptist church\"}],\"line_alpha\":[1.0],\"line_color\":[\"white\"],\"names\":[\"first baptist church\"],\"width\":[0.8],\"x\":[\"first baptist church\"],\"y\":[166.5]}},\"id\":\"5e61cb22-0856-457f-9e59-d321333d2ed7\",\"type\":\"ColumnDataSource\"},{\"attributes\":{\"data_source\":{\"id\":\"5b92b48d-a114-485f-8165-903100b96aec\",\"type\":\"ColumnDataSource\"},\"glyph\":{\"id\":\"47c15588-dbb6-46fd-bd3f-82017c606f04\",\"type\":\"Rect\"},\"hover_glyph\":null,\"nonselection_glyph\":null,\"selection_glyph\":null},\"id\":\"2fb58cfc-a397-402e-9679-ba4c981e8881\",\"type\":\"GlyphRenderer\"},{\"attributes\":{\"active_drag\":\"auto\",\"active_scroll\":\"auto\",\"active_tap\":\"auto\",\"tools\":[{\"id\":\"4b22c0dc-d3b8-470d-a2d3-da7061e17a1e\",\"type\":\"PanTool\"},{\"id\":\"7bec9667-72fc-48b7-a8fb-7701acd80889\",\"type\":\"WheelZoomTool\"},{\"id\":\"3ef51890-8719-4476-8033-2a253188d9c8\",\"type\":\"BoxZoomTool\"},{\"id\":\"59e17629-1d34-4591-8820-9315ff5618bc\",\"type\":\"SaveTool\"},{\"id\":\"9d4ff99e-e6c5-4668-b96d-a52e98458dcd\",\"type\":\"ResetTool\"},{\"id\":\"52ff9a4e-94a1-447f-ae3d-c05569eea9c4\",\"type\":\"HelpTool\"}]},\"id\":\"53873fe6-3c6c-4a37-b7c6-dba0d01f71cb\",\"type\":\"Toolbar\"},{\"attributes\":{\"label\":{\"value\":\"group\"},\"renderers\":[{\"id\":\"80162023-db14-4e60-8f6e-26ef2d0a7f39\",\"type\":\"GlyphRenderer\"}]},\"id\":\"fe619758-aa07-4771-959a-67f8bce6f75f\",\"type\":\"LegendItem\"},{\"attributes\":{\"callback\":null,\"end\":56202.3},\"id\":\"bb00708e-7f44-4904-a31f-19c364d57694\",\"type\":\"Range1d\"},{\"attributes\":{\"callback\":null,\"column_names\":[\"line_color\",\"line_alpha\",\"color\",\"fill_alpha\",\"height\",\"width\",\"y\",\"x\",\"label\"],\"data\":{\"chart_index\":[{\"word\":\"middle school\"}],\"color\":[\"red\"],\"fill_alpha\":[0.8],\"height\":[2089.0],\"label\":[{\"word\":\"middle school\"}],\"line_alpha\":[1.0],\"line_color\":[\"white\"],\"width\":[0.8],\"word\":[\"middle school\"],\"x\":[\"middle school\"],\"y\":[1044.5]}},\"id\":\"6a32191f-bda0-4234-96c4-ba7052f8cb57\",\"type\":\"ColumnDataSource\"},{\"attributes\":{\"label\":{\"value\":\"county\"},\"renderers\":[{\"id\":\"69355aaa-1a4d-4ab9-90e7-1ae77a2f36c7\",\"type\":\"GlyphRenderer\"}]},\"id\":\"e49a4e10-340d-495b-b248-7077b36f6514\",\"type\":\"LegendItem\"},{\"attributes\":{},\"id\":\"6f65e0b9-f710-44be-a0ad-2e1e86dd3d04\",\"type\":\"ToolEvents\"},{\"attributes\":{\"dimension\":1,\"grid_line_color\":{\"value\":null},\"plot\":{\"id\":\"2599bde9-b733-4904-8c35-96c2bc8a6e29\",\"subtype\":\"Chart\",\"type\":\"Plot\"},\"ticker\":{\"id\":\"6efd467e-32de-4dc1-bf91-edcabec717d1\",\"type\":\"BasicTicker\"}},\"id\":\"9a502d0a-4f3a-48a7-9639-795ffb76a4f6\",\"type\":\"Grid\"},{\"attributes\":{\"plot\":{\"id\":\"501b95bf-484d-4f1b-9d4c-0fc47a14c843\",\"subtype\":\"Chart\",\"type\":\"Plot\"}},\"id\":\"30b4b64d-b9db-4618-892d-8c26a09a2af3\",\"type\":\"ResetTool\"},{\"attributes\":{\"callback\":null,\"column_names\":[\"line_color\",\"line_alpha\",\"color\",\"fill_alpha\",\"height\",\"width\",\"y\",\"x\",\"label\"],\"data\":{\"chart_index\":[{\"names\":\"bank of america\"}],\"color\":[\"#ff7f0e\"],\"fill_alpha\":[0.8],\"height\":[206.0],\"label\":[{\"names\":\"bank of america\"}],\"line_alpha\":[1.0],\"line_color\":[\"white\"],\"names\":[\"bank of america\"],\"width\":[0.8],\"x\":[\"bank of america\"],\"y\":[103.0]}},\"id\":\"13e8109f-a5c4-4f13-98fb-884e031a0e7a\",\"type\":\"ColumnDataSource\"},{\"attributes\":{\"callback\":null,\"end\":898.8},\"id\":\"c0e8c348-27b1-48e5-b8c1-ba5e707c5df9\",\"type\":\"Range1d\"},{\"attributes\":{\"data_source\":{\"id\":\"eb7d38ff-63cc-4407-8c7e-e1f963e677e5\",\"type\":\"ColumnDataSource\"},\"glyph\":{\"id\":\"907d5e8d-a405-4875-ae08-680a2bdc0c51\",\"type\":\"Rect\"},\"hover_glyph\":null,\"nonselection_glyph\":null,\"selection_glyph\":null},\"id\":\"ae413ad5-6f86-4e90-a694-c1ef8f25c7bc\",\"type\":\"GlyphRenderer\"},{\"attributes\":{\"data_source\":{\"id\":\"e5f63710-4d5c-4056-b86e-fccbfe560516\",\"type\":\"ColumnDataSource\"},\"glyph\":{\"id\":\"704a7af8-a50d-47a5-8566-bde1a4749c93\",\"type\":\"Rect\"},\"hover_glyph\":null,\"nonselection_glyph\":null,\"selection_glyph\":null},\"id\":\"1931dafe-da68-4bc5-875e-29668840e098\",\"type\":\"GlyphRenderer\"},{\"attributes\":{\"callback\":null,\"column_names\":[\"line_color\",\"line_alpha\",\"color\",\"fill_alpha\",\"height\",\"width\",\"y\",\"x\",\"label\"],\"data\":{\"chart_index\":[{\"word\":\"realty\"}],\"color\":[\"#17becf\"],\"fill_alpha\":[0.8],\"height\":[13846.0],\"label\":[{\"word\":\"realty\"}],\"line_alpha\":[1.0],\"line_color\":[\"white\"],\"width\":[0.8],\"word\":[\"realty\"],\"x\":[\"realty\"],\"y\":[6923.0]}},\"id\":\"91a2ece4-f3d5-46de-964c-f5731130e88b\",\"type\":\"ColumnDataSource\"},{\"attributes\":{\"plot\":{\"id\":\"2599bde9-b733-4904-8c35-96c2bc8a6e29\",\"subtype\":\"Chart\",\"type\":\"Plot\"}},\"id\":\"4b22c0dc-d3b8-470d-a2d3-da7061e17a1e\",\"type\":\"PanTool\"},{\"attributes\":{\"active_drag\":\"auto\",\"active_scroll\":\"auto\",\"active_tap\":\"auto\",\"tools\":[{\"id\":\"6baded39-cd0c-4132-9744-0f178d8c66e5\",\"type\":\"PanTool\"},{\"id\":\"4de3e389-9bf2-4437-8f02-60c46edf4b0d\",\"type\":\"WheelZoomTool\"},{\"id\":\"2833bb0f-ff97-4461-9a00-87f7cb377e79\",\"type\":\"BoxZoomTool\"},{\"id\":\"25f01fdf-ecbf-4119-b0f9-1355921f7d13\",\"type\":\"SaveTool\"},{\"id\":\"53a623d1-21b7-40bd-890d-513890955c2d\",\"type\":\"ResetTool\"},{\"id\":\"9a98101c-a168-4257-9d57-95a76546c2cf\",\"type\":\"HelpTool\"}]},\"id\":\"9f9449f6-b4c2-4d37-b888-066718b1e25a\",\"type\":\"Toolbar\"},{\"attributes\":{\"callback\":null,\"column_names\":[\"line_color\",\"line_alpha\",\"color\",\"fill_alpha\",\"height\",\"width\",\"y\",\"x\",\"label\"],\"data\":{\"chart_index\":[{\"word\":\"farmers insurance\"}],\"color\":[\"red\"],\"fill_alpha\":[0.8],\"height\":[4770.0],\"label\":[{\"word\":\"farmers insurance\"}],\"line_alpha\":[1.0],\"line_color\":[\"white\"],\"width\":[0.8],\"word\":[\"farmers insurance\"],\"x\":[\"farmers insurance\"],\"y\":[2385.0]}},\"id\":\"34395c1a-b6bb-40ac-9a60-5aa2f857c964\",\"type\":\"ColumnDataSource\"},{\"attributes\":{\"label\":{\"value\":\"center\"},\"renderers\":[{\"id\":\"9cb48cb5-a568-4a84-ad3a-801eeed465d6\",\"type\":\"GlyphRenderer\"}]},\"id\":\"d83964ef-f8db-4e42-840d-8ee871de7c8a\",\"type\":\"LegendItem\"},{\"attributes\":{\"callback\":null,\"column_names\":[\"line_color\",\"line_alpha\",\"color\",\"fill_alpha\",\"height\",\"width\",\"y\",\"x\",\"label\"],\"data\":{\"chart_index\":[{\"names\":\"farmers insurance group\"}],\"color\":[\"#ff7f0e\"],\"fill_alpha\":[0.8],\"height\":[214.0],\"label\":[{\"names\":\"farmers insurance group\"}],\"line_alpha\":[1.0],\"line_color\":[\"white\"],\"names\":[\"farmers insurance group\"],\"width\":[0.8],\"x\":[\"farmers insurance group\"],\"y\":[107.0]}},\"id\":\"a7996f8c-fa30-4547-b5f6-015ed282a98f\",\"type\":\"ColumnDataSource\"},{\"attributes\":{\"data_source\":{\"id\":\"7939da64-1733-4a70-9ee0-0510f0c59743\",\"type\":\"ColumnDataSource\"},\"glyph\":{\"id\":\"8968cba4-ee5a-431d-a8eb-86aa4e016bf3\",\"type\":\"Rect\"},\"hover_glyph\":null,\"nonselection_glyph\":null,\"selection_glyph\":null},\"id\":\"8c1dbc19-292e-4a84-9531-4b62c0a4f305\",\"type\":\"GlyphRenderer\"},{\"attributes\":{\"label\":{\"value\":\"service\"},\"renderers\":[{\"id\":\"712144f5-069e-421a-b53b-0a117f2cfd70\",\"type\":\"GlyphRenderer\"}]},\"id\":\"ab4c3972-9395-4193-89ac-01e831f2e442\",\"type\":\"LegendItem\"},{\"attributes\":{\"callback\":null,\"column_names\":[\"line_color\",\"line_alpha\",\"color\",\"fill_alpha\",\"height\",\"width\",\"y\",\"x\",\"label\"],\"data\":{\"chart_index\":[{\"word\":\"state farm\"}],\"color\":[\"red\"],\"fill_alpha\":[0.8],\"height\":[4531.0],\"label\":[{\"word\":\"state farm\"}],\"line_alpha\":[1.0],\"line_color\":[\"white\"],\"width\":[0.8],\"word\":[\"state farm\"],\"x\":[\"state farm\"],\"y\":[2265.5]}},\"id\":\"30aec3ce-4517-42b7-9faf-24d1d40edbb9\",\"type\":\"ColumnDataSource\"},{\"attributes\":{\"callback\":null,\"column_names\":[\"line_color\",\"line_alpha\",\"color\",\"fill_alpha\",\"height\",\"width\",\"y\",\"x\",\"label\"],\"data\":{\"chart_index\":[{\"names\":\"re/max\"}],\"color\":[\"#ff7f0e\"],\"fill_alpha\":[0.8],\"height\":[309.0],\"label\":[{\"names\":\"re/max\"}],\"line_alpha\":[1.0],\"line_color\":[\"white\"],\"names\":[\"re/max\"],\"width\":[0.8],\"x\":[\"re/max\"],\"y\":[154.5]}},\"id\":\"9db9bbca-2974-4f62-80a4-40eb1944b2f3\",\"type\":\"ColumnDataSource\"},{\"attributes\":{\"callback\":null,\"column_names\":[\"line_color\",\"line_alpha\",\"color\",\"fill_alpha\",\"height\",\"width\",\"y\",\"x\",\"label\"],\"data\":{\"chart_index\":[{\"word\":\"corporation\"}],\"color\":[\"#17becf\"],\"fill_alpha\":[0.8],\"height\":[12733.0],\"label\":[{\"word\":\"corporation\"}],\"line_alpha\":[1.0],\"line_color\":[\"white\"],\"width\":[0.8],\"word\":[\"corporation\"],\"x\":[\"corporation\"],\"y\":[6366.5]}},\"id\":\"21193702-db96-4f61-8af0-ba5cdc216872\",\"type\":\"ColumnDataSource\"},{\"attributes\":{\"plot\":{\"id\":\"51a0abcc-d2a3-479f-a5e2-8d4141b667df\",\"subtype\":\"Chart\",\"type\":\"Plot\"}},\"id\":\"6baded39-cd0c-4132-9744-0f178d8c66e5\",\"type\":\"PanTool\"},{\"attributes\":{},\"id\":\"afc406c8-7e58-4ff6-b661-0f804e7ea5e1\",\"type\":\"BasicTickFormatter\"},{\"attributes\":{},\"id\":\"bcf0e8ce-3957-41f4-a5f0-a57befa87e17\",\"type\":\"CategoricalTicker\"},{\"attributes\":{\"callback\":null,\"column_names\":[\"line_color\",\"line_alpha\",\"color\",\"fill_alpha\",\"height\",\"width\",\"y\",\"x\",\"label\"],\"data\":{\"chart_index\":[{\"word\":\"company\"}],\"color\":[\"#17becf\"],\"fill_alpha\":[0.8],\"height\":[16953.0],\"label\":[{\"word\":\"company\"}],\"line_alpha\":[1.0],\"line_color\":[\"white\"],\"width\":[0.8],\"word\":[\"company\"],\"x\":[\"company\"],\"y\":[8476.5]}},\"id\":\"2f695de6-932f-42b0-879c-e9c38178cdf9\",\"type\":\"ColumnDataSource\"},{\"attributes\":{\"bottom_units\":\"screen\",\"fill_alpha\":{\"value\":0.5},\"fill_color\":{\"value\":\"lightgrey\"},\"left_units\":\"screen\",\"level\":\"overlay\",\"line_alpha\":{\"value\":1.0},\"line_color\":{\"value\":\"black\"},\"line_dash\":[4,4],\"line_width\":{\"value\":2},\"plot\":null,\"render_mode\":\"css\",\"right_units\":\"screen\",\"top_units\":\"screen\"},\"id\":\"8b22add0-197a-4f1f-bb7a-b6f6224878a9\",\"type\":\"BoxAnnotation\"},{\"attributes\":{\"data_source\":{\"id\":\"56a1e4e9-6350-4d2f-bf20-835a8b2ecb16\",\"type\":\"ColumnDataSource\"},\"glyph\":{\"id\":\"cbff1b50-f7de-4159-bf29-e0c6b2065041\",\"type\":\"Rect\"},\"hover_glyph\":null,\"nonselection_glyph\":null,\"selection_glyph\":null},\"id\":\"80162023-db14-4e60-8f6e-26ef2d0a7f39\",\"type\":\"GlyphRenderer\"},{\"attributes\":{\"data_source\":{\"id\":\"85bcd084-9bf4-47d2-8960-912363f77a32\",\"type\":\"ColumnDataSource\"},\"glyph\":{\"id\":\"907717fc-8644-4176-8682-1c1b49f70c22\",\"type\":\"Rect\"},\"hover_glyph\":null,\"nonselection_glyph\":null,\"selection_glyph\":null},\"id\":\"a14e8670-c360-47f0-8655-9f64e0840a1b\",\"type\":\"GlyphRenderer\"},{\"attributes\":{\"label\":{\"value\":\"realty\"},\"renderers\":[{\"id\":\"63829172-bb2a-4e5e-b26e-c9f8b084c160\",\"type\":\"GlyphRenderer\"}]},\"id\":\"a9ea105c-3ad5-4fe1-b5fc-e78732c89bb5\",\"type\":\"LegendItem\"},{\"attributes\":{\"fill_alpha\":{\"field\":\"fill_alpha\"},\"fill_color\":{\"field\":\"color\"},\"height\":{\"field\":\"height\",\"units\":\"data\"},\"line_color\":{\"field\":\"line_color\"},\"width\":{\"field\":\"width\",\"units\":\"data\"},\"x\":{\"field\":\"x\"},\"y\":{\"field\":\"y\"}},\"id\":\"483a0488-2691-4efd-845b-4cc499f8b553\",\"type\":\"Rect\"},{\"attributes\":{\"label\":{\"value\":\"group llc\"},\"renderers\":[{\"id\":\"2b0179b9-dc96-4745-aac8-1dd2da1e9df1\",\"type\":\"GlyphRenderer\"}]},\"id\":\"d3662e67-f0ed-4ade-b867-01c4a95c3284\",\"type\":\"LegendItem\"},{\"attributes\":{\"fill_alpha\":{\"field\":\"fill_alpha\"},\"fill_color\":{\"field\":\"color\"},\"height\":{\"field\":\"height\",\"units\":\"data\"},\"line_color\":{\"field\":\"line_color\"},\"width\":{\"field\":\"width\",\"units\":\"data\"},\"x\":{\"field\":\"x\"},\"y\":{\"field\":\"y\"}},\"id\":\"501d4cc1-cdc0-4c65-8d89-32838cf2a639\",\"type\":\"Rect\"}],\"root_ids\":[\"d6eb5a2d-934b-4537-b422-94a7accd5ebd\"]},\"title\":\"Bokeh Application\",\"version\":\"0.12.4\"}};\n",
       "            var render_items = [{\"docid\":\"98f44458-185f-4d58-b915-a871c7d66c22\",\"elementid\":\"5515229d-2465-484c-be0f-31f773662e03\",\"modelid\":\"d6eb5a2d-934b-4537-b422-94a7accd5ebd\"}];\n",
       "            \n",
       "            Bokeh.embed.embed_items(docs_json, render_items);\n",
       "          };\n",
       "          if (document.readyState != \"loading\") fn();\n",
       "          else document.addEventListener(\"DOMContentLoaded\", fn);\n",
       "        })();\n",
       "      },\n",
       "      function(Bokeh) {\n",
       "      }\n",
       "    ];\n",
       "  \n",
       "    function run_inline_js() {\n",
       "      \n",
       "      if ((window.Bokeh !== undefined) || (force === true)) {\n",
       "        for (var i = 0; i < inline_js.length; i++) {\n",
       "          inline_js[i](window.Bokeh);\n",
       "        }if (force === true) {\n",
       "          display_loaded();\n",
       "        }} else if (Date.now() < window._bokeh_timeout) {\n",
       "        setTimeout(run_inline_js, 100);\n",
       "      } else if (!window._bokeh_failed_load) {\n",
       "        console.log(\"Bokeh: BokehJS failed to load within specified timeout.\");\n",
       "        window._bokeh_failed_load = true;\n",
       "      } else if (force !== true) {\n",
       "        var cell = $(document.getElementById(\"5515229d-2465-484c-be0f-31f773662e03\")).parents('.cell').data().cell;\n",
       "        cell.output_area.append_execute_result(NB_LOAD_WARNING)\n",
       "      }\n",
       "  \n",
       "    }\n",
       "  \n",
       "    if (window._bokeh_is_loading === 0) {\n",
       "      console.log(\"Bokeh: BokehJS loaded, going straight to plotting\");\n",
       "      run_inline_js();\n",
       "    } else {\n",
       "      load_libs(js_urls, function() {\n",
       "        console.log(\"Bokeh: BokehJS plotting callback run at\", now());\n",
       "        run_inline_js();\n",
       "      });\n",
       "    }\n",
       "  }(this));\n",
       "</script>"
      ]
     },
     "metadata": {},
     "output_type": "display_data"
    }
   ],
   "source": [
    "from math import pi\n",
    "from bokeh.layouts import widgetbox, row, column\n",
    "\n",
    "p1 = Bar(common_word_df,  values ='occurence', \n",
    "        label=CatAttr(columns=['word'], sort=False),\n",
    "        title=\"Most Common Words Found In Names\", \n",
    "        plot_width=400, plot_height=250, color = '#17becf', toolbar_location=None)\n",
    "\n",
    "p1.ygrid.grid_line_color = None\n",
    "p1.yaxis.minor_tick_line_color = None\n",
    "#p.xaxis.major_label_orientation = pi/2\n",
    "p1.xaxis.axis_label = None\n",
    "p1.yaxis.axis_label = \"Occurence\"\n",
    "p1.legend.location = None\n",
    "\n",
    "p2 = Bar(common_bigram_df,  values ='occurence', \n",
    "        label=CatAttr(columns=['word'], sort=False),\n",
    "        title=\"Most Common Bigram Words Found In Names\", \n",
    "        plot_width=400, plot_height=250, color = 'red', toolbar_location=None)\n",
    "\n",
    "p2.ygrid.grid_line_color = None\n",
    "p2.yaxis.minor_tick_line_color = None\n",
    "#p.xaxis.major_label_orientation = pi/2\n",
    "p2.xaxis.axis_label = None\n",
    "p2.yaxis.axis_label = ' '\n",
    "p2.legend.location = None\n",
    "\n",
    "show(column(p, row(p1, p2)))"
   ]
  },
  {
   "cell_type": "code",
   "execution_count": null,
   "metadata": {
    "collapsed": true
   },
   "outputs": [],
   "source": []
  },
  {
   "cell_type": "code",
   "execution_count": 111,
   "metadata": {
    "collapsed": false
   },
   "outputs": [
    {
     "name": "stdout",
     "output_type": "stream",
     "text": [
      "Field               Fill Rate    True-Valued Fill Rate    Unique Values\n",
      "city                 999969             999895                    21712\n",
      "name                 999975             999910                   875421\n",
      "zip                  999974             999890                    24527\n",
      "category_code        999973             999910                     1178\n",
      "revenue              943077             943001                       11\n",
      "phone                590871             590798                   575127\n",
      "state                999975             999896                       53\n",
      "address              999973             999898                   921630\n",
      "headcount            962342             962273                        9\n",
      "time_in_business     916118             916048                        5\n"
     ]
    }
   ],
   "source": [
    "print '{:<16s}{:>13s}{:>25s}{:>17s}'.format('Field', 'Fill Rate', 'True-Valued Fill Rate', 'Unique Values')\n",
    "\n",
    "for key in fill_rate_dict:\n",
    "    print '{:<16s}{:>11d}{:>19d}{:>25d}'.format(key, fill_rate_dict[key], true_fill_rate_dict[key], unique_vals[key])"
   ]
  },
  {
   "cell_type": "code",
   "execution_count": 112,
   "metadata": {
    "collapsed": true
   },
   "outputs": [],
   "source": [
    "### Missing values"
   ]
  },
  {
   "cell_type": "code",
   "execution_count": 113,
   "metadata": {
    "collapsed": false
   },
   "outputs": [
    {
     "name": "stdout",
     "output_type": "stream",
     "text": [
      "city                     31                105\n",
      "name                     25                 90\n",
      "zip                      26                110\n",
      "category_code            27                 90\n",
      "revenue               56923              56999\n",
      "phone                409129             409202\n",
      "state                    25                104\n",
      "address                  27                102\n",
      "headcount             37658              37727\n",
      "time_in_business      83882              83952\n"
     ]
    }
   ],
   "source": [
    "for key in fill_rate_dict:\n",
    "    print '{:<16s}{:>11d}{:>19d}'.format(key, size-fill_rate_dict[key], size-true_fill_rate_dict[key])"
   ]
  },
  {
   "cell_type": "code",
   "execution_count": 114,
   "metadata": {
    "collapsed": false
   },
   "outputs": [
    {
     "name": "stdout",
     "output_type": "stream",
     "text": [
      "rev_invalid_vals 56999\n",
      "head_invalid_vals 37727\n",
      "city_invalid_vals 105\n",
      "name_invalid_vals 90\n",
      "zip_invalid_vals 110\n",
      "state_invalid_vals 104\n",
      "phone_invalid_vals 409202\n",
      "tib_invalid_vals 83952\n",
      "address_invalid_vals 102\n",
      "catcode_invalid_vals 90\n"
     ]
    }
   ],
   "source": [
    "for val in ['rev_invalid_vals', 'head_invalid_vals', 'city_invalid_vals', 'name_invalid_vals', 'zip_invalid_vals',\\\n",
    "    'state_invalid_vals', 'phone_invalid_vals', 'tib_invalid_vals', 'address_invalid_vals', 'catcode_invalid_vals']:\n",
    "    print str(val), len(eval(val))"
   ]
  },
  {
   "cell_type": "code",
   "execution_count": 115,
   "metadata": {
    "collapsed": false
   },
   "outputs": [],
   "source": [
    "fill_df = pd.DataFrame.from_dict(fill_rate_dict.items())\n",
    "true_fill_df = pd.DataFrame.from_dict(true_fill_rate_dict.items())\n",
    "fill_df.columns = ['field', 'missing_records']\n",
    "true_fill_df.columns = ['field', 'true_missing_records']"
   ]
  },
  {
   "cell_type": "code",
   "execution_count": 116,
   "metadata": {
    "collapsed": false
   },
   "outputs": [],
   "source": [
    "total_fill_df =  fill_df.merge(true_fill_df, on = 'field')\n",
    "total_fill_df.missing_records = size - total_fill_df.missing_records\n",
    "total_fill_df.true_missing_records = size - total_fill_df.true_missing_records\n",
    "total_fill_df.sort_values('true_missing_records', inplace=True)"
   ]
  },
  {
   "cell_type": "code",
   "execution_count": 117,
   "metadata": {
    "collapsed": false
   },
   "outputs": [
    {
     "data": {
      "text/html": [
       "<div>\n",
       "<table border=\"1\" class=\"dataframe\">\n",
       "  <thead>\n",
       "    <tr style=\"text-align: right;\">\n",
       "      <th></th>\n",
       "      <th>field</th>\n",
       "      <th>missing_records</th>\n",
       "      <th>true_missing_records</th>\n",
       "    </tr>\n",
       "  </thead>\n",
       "  <tbody>\n",
       "    <tr>\n",
       "      <th>1</th>\n",
       "      <td>name</td>\n",
       "      <td>25</td>\n",
       "      <td>90</td>\n",
       "    </tr>\n",
       "    <tr>\n",
       "      <th>3</th>\n",
       "      <td>category_code</td>\n",
       "      <td>27</td>\n",
       "      <td>90</td>\n",
       "    </tr>\n",
       "    <tr>\n",
       "      <th>7</th>\n",
       "      <td>address</td>\n",
       "      <td>27</td>\n",
       "      <td>102</td>\n",
       "    </tr>\n",
       "    <tr>\n",
       "      <th>6</th>\n",
       "      <td>state</td>\n",
       "      <td>25</td>\n",
       "      <td>104</td>\n",
       "    </tr>\n",
       "    <tr>\n",
       "      <th>0</th>\n",
       "      <td>city</td>\n",
       "      <td>31</td>\n",
       "      <td>105</td>\n",
       "    </tr>\n",
       "    <tr>\n",
       "      <th>2</th>\n",
       "      <td>zip</td>\n",
       "      <td>26</td>\n",
       "      <td>110</td>\n",
       "    </tr>\n",
       "    <tr>\n",
       "      <th>8</th>\n",
       "      <td>headcount</td>\n",
       "      <td>37658</td>\n",
       "      <td>37727</td>\n",
       "    </tr>\n",
       "    <tr>\n",
       "      <th>4</th>\n",
       "      <td>revenue</td>\n",
       "      <td>56923</td>\n",
       "      <td>56999</td>\n",
       "    </tr>\n",
       "    <tr>\n",
       "      <th>9</th>\n",
       "      <td>time_in_business</td>\n",
       "      <td>83882</td>\n",
       "      <td>83952</td>\n",
       "    </tr>\n",
       "    <tr>\n",
       "      <th>5</th>\n",
       "      <td>phone</td>\n",
       "      <td>409129</td>\n",
       "      <td>409202</td>\n",
       "    </tr>\n",
       "  </tbody>\n",
       "</table>\n",
       "</div>"
      ],
      "text/plain": [
       "              field  missing_records  true_missing_records\n",
       "1              name               25                    90\n",
       "3     category_code               27                    90\n",
       "7           address               27                   102\n",
       "6             state               25                   104\n",
       "0              city               31                   105\n",
       "2               zip               26                   110\n",
       "8         headcount            37658                 37727\n",
       "4           revenue            56923                 56999\n",
       "9  time_in_business            83882                 83952\n",
       "5             phone           409129                409202"
      ]
     },
     "execution_count": 117,
     "metadata": {},
     "output_type": "execute_result"
    }
   ],
   "source": [
    "total_fill_df"
   ]
  },
  {
   "cell_type": "code",
   "execution_count": 136,
   "metadata": {
    "collapsed": false
   },
   "outputs": [
    {
     "data": {
      "image/png": "[encoded data removed]",
      "text/plain": [
       "<matplotlib.figure.Figure at 0x1a8e77ed0>"
      ]
     },
     "metadata": {
      "image/png": {
       "height": 252,
       "width": 714
      }
     },
     "output_type": "display_data"
    }
   ],
   "source": [
    "import seaborn as sns\n",
    "import matplotlib.pyplot as plt\n",
    "%config InlineBackend.figure_format = 'retina'\n",
    "%matplotlib inline\n",
    "plt.style.use('seaborn-white')\n",
    "\n",
    "fig = plt.figure(figsize=(10,3.6))\n",
    "\n",
    "ax1 = plt.subplot(121)\n",
    "total_fill_df[:6].plot(kind ='bar', stacked=False, ax=ax1, color =['lightblue','magenta'])\n",
    "\n",
    "plt.ylabel('Counts', fontsize = 12)\n",
    "ax1.set_xticklabels( total_fill_df.field[:6], fontsize = 'medium', rotation = 30)\n",
    "ax1.legend_.remove()\n",
    "\n",
    "ax2 = plt.subplot(122)\n",
    "total_fill_df[6:].plot(kind ='bar', stacked=False, ax=ax2, color =['lightblue','magenta'])\n",
    "ax2.set_xticklabels( total_fill_df.field[6:], fontsize = 'medium', rotation = 30)\n",
    "plt.legend(['missing records','true-valued missing records'], loc='best', fontsize =11)\n",
    "\n",
    "plt.tight_layout()\n",
    "plt.savefig('testplot.png', dpi=900)\n",
    "plt.show()\n"
   ]
  },
  {
   "cell_type": "code",
   "execution_count": null,
   "metadata": {
    "collapsed": true
   },
   "outputs": [],
   "source": []
  },
  {
   "cell_type": "code",
   "execution_count": null,
   "metadata": {
    "collapsed": true
   },
   "outputs": [],
   "source": []
  },
  {
   "cell_type": "code",
   "execution_count": 284,
   "metadata": {
    "collapsed": false
   },
   "outputs": [
    {
     "data": {
      "text/html": [
       "<div>\n",
       "<table border=\"1\" class=\"dataframe\">\n",
       "  <thead>\n",
       "    <tr style=\"text-align: right;\">\n",
       "      <th></th>\n",
       "      <th>address</th>\n",
       "      <th>category_code</th>\n",
       "      <th>city</th>\n",
       "      <th>headcount</th>\n",
       "      <th>name</th>\n",
       "      <th>phone</th>\n",
       "      <th>revenue</th>\n",
       "      <th>state</th>\n",
       "      <th>time_in_business</th>\n",
       "      <th>zip</th>\n",
       "    </tr>\n",
       "  </thead>\n",
       "  <tbody>\n",
       "    <tr>\n",
       "      <th>0</th>\n",
       "      <td>10085 SCRIPPS RANCH CT STE A</td>\n",
       "      <td>44420000</td>\n",
       "      <td>SAN DIEGO</td>\n",
       "      <td>50 to 99</td>\n",
       "      <td>AMD CUSTOM</td>\n",
       "      <td>3123628000</td>\n",
       "      <td>$20 to 50 Million</td>\n",
       "      <td>CA</td>\n",
       "      <td>10+ years</td>\n",
       "      <td>92131</td>\n",
       "    </tr>\n",
       "    <tr>\n",
       "      <th>1</th>\n",
       "      <td>2566 SHALLOWFORD RD NE STE 104 # 302</td>\n",
       "      <td>31490000</td>\n",
       "      <td>ATLANTA</td>\n",
       "      <td>1 to 4</td>\n",
       "      <td>Real Hope Real Estate Inc</td>\n",
       "      <td>None</td>\n",
       "      <td>Less Than $500,000</td>\n",
       "      <td>GA</td>\n",
       "      <td>10+ years</td>\n",
       "      <td>30345</td>\n",
       "    </tr>\n",
       "  </tbody>\n",
       "</table>\n",
       "</div>"
      ],
      "text/plain": [
       "                                address category_code       city headcount  \\\n",
       "0          10085 SCRIPPS RANCH CT STE A      44420000  SAN DIEGO  50 to 99   \n",
       "1  2566 SHALLOWFORD RD NE STE 104 # 302      31490000    ATLANTA    1 to 4   \n",
       "\n",
       "                        name       phone             revenue state  \\\n",
       "0                 AMD CUSTOM  3123628000   $20 to 50 Million    CA   \n",
       "1  Real Hope Real Estate Inc        None  Less Than $500,000    GA   \n",
       "\n",
       "  time_in_business    zip  \n",
       "0        10+ years  92131  \n",
       "1        10+ years  30345  "
      ]
     },
     "execution_count": 284,
     "metadata": {},
     "output_type": "execute_result"
    }
   ],
   "source": [
    "df.head(2)"
   ]
  },
  {
   "cell_type": "code",
   "execution_count": 248,
   "metadata": {
    "collapsed": false
   },
   "outputs": [
    {
     "data": {
      "text/plain": [
       "array([u'$20 to 50 Million', u'Less Than $500,000',\n",
       "       u'$500,000 to $1 Million', u'$2.5 to 5 Million',\n",
       "       u'$1 to 2.5 Million', None, u'$5 to 10 Million',\n",
       "       u'$10 to 20 Million', u'$50 to 100 Million', u'$100 to 500 Million',\n",
       "       u'Over $1 Billion', u'Over $500 Million', u'none', u'null', u'0', 0,\n",
       "       u'', u' '], dtype=object)"
      ]
     },
     "execution_count": 248,
     "metadata": {},
     "output_type": "execute_result"
    }
   ],
   "source": [
    "df.revenue.unique()"
   ]
  },
  {
   "cell_type": "code",
   "execution_count": 262,
   "metadata": {
    "collapsed": false
   },
   "outputs": [
    {
     "data": {
      "text/plain": [
       "array([u'10+ years', u'6-10 years', None, u'1-2 years', u'3-5 years',\n",
       "       u'null', u'0', u'Less than a year', u' ', u'', u'none', 0], dtype=object)"
      ]
     },
     "execution_count": 262,
     "metadata": {},
     "output_type": "execute_result"
    }
   ],
   "source": [
    "df.time_in_business.unique()"
   ]
  },
  {
   "cell_type": "code",
   "execution_count": 255,
   "metadata": {
    "collapsed": false
   },
   "outputs": [
    {
     "data": {
      "text/plain": [
       "Counter({None: 12265,\n",
       "         0: 3,\n",
       "         u'': 1,\n",
       "         u' ': 8,\n",
       "         u'0': 3,\n",
       "         u'1 to 4': 118413,\n",
       "         u'10 to 19': 49889,\n",
       "         u'100 to 249': 12061,\n",
       "         u'20 to 49': 40057,\n",
       "         u'250 to 499': 3689,\n",
       "         u'5 to 9': 69714,\n",
       "         u'50 to 99': 20020,\n",
       "         u'500 to 999': 1671,\n",
       "         u'Over 1,000': 1826,\n",
       "         u'none': 7,\n",
       "         u'null': 8})"
      ]
     },
     "execution_count": 255,
     "metadata": {},
     "output_type": "execute_result"
    }
   ],
   "source": [
    "Counter( df[df.revenue=='Less Than $500,000'].headcount )"
   ]
  },
  {
   "cell_type": "code",
   "execution_count": 259,
   "metadata": {
    "collapsed": false
   },
   "outputs": [
    {
     "data": {
      "text/plain": [
       "Counter({None: 55,\n",
       "         u'1 to 4': 655,\n",
       "         u'10 to 19': 239,\n",
       "         u'100 to 249': 63,\n",
       "         u'20 to 49': 245,\n",
       "         u'250 to 499': 16,\n",
       "         u'5 to 9': 389,\n",
       "         u'50 to 99': 87,\n",
       "         u'500 to 999': 9,\n",
       "         u'Over 1,000': 11})"
      ]
     },
     "execution_count": 259,
     "metadata": {},
     "output_type": "execute_result"
    }
   ],
   "source": [
    "Counter( df[df.revenue=='Over $1 Billion'].headcount)"
   ]
  },
  {
   "cell_type": "code",
   "execution_count": null,
   "metadata": {
    "collapsed": true
   },
   "outputs": [],
   "source": []
  }
 ],
 "metadata": {
  "kernelspec": {
   "display_name": "Python 2",
   "language": "python",
   "name": "python2"
  },
  "language_info": {
   "codemirror_mode": {
    "name": "ipython",
    "version": 2
   },
   "file_extension": ".py",
   "mimetype": "text/x-python",
   "name": "python",
   "nbconvert_exporter": "python",
   "pygments_lexer": "ipython2",
   "version": "2.7.13"
  }
 },
 "nbformat": 4,
 "nbformat_minor": 2
}
